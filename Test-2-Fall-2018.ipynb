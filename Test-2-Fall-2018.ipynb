{
 "cells": [
  {
   "cell_type": "markdown",
   "metadata": {},
   "source": [
    "## PHYS 2820\n",
    "# Test 2"
   ]
  },
  {
   "cell_type": "markdown",
   "metadata": {},
   "source": [
    "### Name: \n",
    "### Student ID:"
   ]
  },
  {
   "cell_type": "markdown",
   "metadata": {
    "cell_style": "split"
   },
   "source": [
    "### Instructions\n",
    "1. The exam is for 80 minutes starting at 2:00pm.\n",
    "2. Your completed Jupyter notebook (.ipynb file) should be submitted via D2L dropbox. \n",
    "3. The exam is open book and you may use lecture notes, the labs, your assignments, assigned readings, and Internet access is permitted.\n",
    "4. Electronic communication with another student or any other person is not allowed during the test.\n",
    "5. Scrap paper is available upon request.\n",
    "6. The test is out for 40 points in total.\n",
    "7. **Read carefully and answer the questions exactly as asked**"
   ]
  },
  {
   "cell_type": "code",
   "execution_count": null,
   "metadata": {
    "collapsed": true
   },
   "outputs": [],
   "source": [
    "BLANK = 0 ## Anywhere there is a BLANK indicates something for you to fill in."
   ]
  },
  {
   "cell_type": "code",
   "execution_count": null,
   "metadata": {
    "collapsed": true
   },
   "outputs": [],
   "source": [
    "%matplotlib inline\n",
    "import numpy as np\n",
    "import matplotlib.pyplot as plt\n",
    "from scipy import optimize"
   ]
  },
  {
   "cell_type": "markdown",
   "metadata": {},
   "source": [
    "## Question 1: "
   ]
  },
  {
   "cell_type": "markdown",
   "metadata": {
    "cell_style": "center"
   },
   "source": [
    "Download the file called `test2_velocity.dat` from D2L (Data Files). It should already be available on phys2820.munroelab.ca. It contains two columns of data. The first gives a list of evenly spaced times (in seconds) and the second gives corresponding velocities (in metres/second)."
   ]
  },
  {
   "cell_type": "markdown",
   "metadata": {
    "cell_style": "center"
   },
   "source": [
    "### 1A. [5 pts]\n",
    "Import the data and plot it nicely with axes labels."
   ]
  },
  {
   "cell_type": "code",
   "execution_count": null,
   "metadata": {},
   "outputs": [],
   "source": [
    "# load the data here\n",
    "\n",
    "\n",
    "# plot the data nicely with axes labels\n",
    "\n"
   ]
  },
  {
   "cell_type": "markdown",
   "metadata": {},
   "source": [
    "### 1B. [5 pts]\n",
    "\n",
    "Use the **Trapezoid rule** to find the displacement as function of time. Plot your result. **What is the displacement after 7 s?**"
   ]
  },
  {
   "cell_type": "code",
   "execution_count": null,
   "metadata": {},
   "outputs": [],
   "source": [
    "# calculate displacement here\n",
    "    \n",
    "    \n",
    "plt.plot(BLANK, BLANK , '.')\n",
    "plt.ylabel(BLANK)\n",
    "plt.xlabel(BLANK)\n",
    "plt.title('Displacement using Trapezoid Rule')"
   ]
  },
  {
   "cell_type": "code",
   "execution_count": null,
   "metadata": {},
   "outputs": [],
   "source": [
    "print('Displacement after {:.1f} s is {:.4f} m'.format(BLANK, BLANK))"
   ]
  },
  {
   "cell_type": "markdown",
   "metadata": {
    "cell_style": "split"
   },
   "source": [
    "### 1C. [5 pts]\n",
    "\n",
    "Use a backward difference approximation to find the acceleration as function of time.  Plot your result."
   ]
  },
  {
   "cell_type": "code",
   "execution_count": null,
   "metadata": {
    "cell_style": "center"
   },
   "outputs": [],
   "source": [
    "# calculate acceleration here\n",
    "\n",
    "\n",
    "plt.plot(BLANK, BLANK, '.')\n",
    "plt.ylabel(BLANK)\n",
    "plt.xlabel(BLANK)\n",
    "plt.title('Acceleration using Backward Difference')"
   ]
  },
  {
   "cell_type": "markdown",
   "metadata": {},
   "source": [
    "### 1D. [5 pts]\n",
    "\n",
    "Your plot from part (c) should suggest that the acceleration might be approximated with the mathematical function\n",
    "of the form\n",
    "\n",
    "$$ a(t) = A + Bt + C \\cos\\left(D t + E\\right) $$\n",
    "\n",
    "where $A$, $B$, $C$, $D$ and $E$ are unknown coefficients to be determined. Using the the `scipy` function `optimize.curve_fit` to estimate those coefficients for this *non-linear* function that minimize the least squares error as much as you can.\n",
    "\n",
    "Plot your best fit curve on top of the values for acceleration.\n",
    "\n",
    "(*If you are having difficulty in doing this question with the non-linear fitting function given above, you may alternatively use `np.polyfit` to fit the linear function $a(t) = A + B t$ to the data instead for partial marks up to 3 pts.*)"
   ]
  },
  {
   "cell_type": "code",
   "execution_count": null,
   "metadata": {},
   "outputs": [],
   "source": [
    "def fitfunc(t, A, B, C, D, E):\n",
    "    return BLANK\n",
    "\n",
    "# determine best fit curve here\n",
    "\n",
    "\n",
    "plt.plot(BLANK, BLANK, '.')\n",
    "plt.plot(BLANK, BLANK, '-')\n",
    "plt.ylabel(BLANK)\n",
    "plt.xlabel(BLANK)\n",
    "plt.title('Best curve fit for acceleration')"
   ]
  },
  {
   "cell_type": "markdown",
   "metadata": {},
   "source": [
    "## Question 2:"
   ]
  },
  {
   "cell_type": "markdown",
   "metadata": {},
   "source": [
    "The motion of a forced pendulum is governed by the following equation\n",
    "\n",
    "$$ \\frac{d^2x}{dt^2} + 2 \\sin(x) = \\cos(3 t),\\, x'(0) = 0\\ \\mathrm{and}\\  x(0) = 4$$"
   ]
  },
  {
   "cell_type": "markdown",
   "metadata": {},
   "source": [
    "### 2A. [5 pts]\n",
    "\n",
    "By writing this second order ODE as two first-order equations and using the `scipy` solver `integrate.odeint` to solve them simultaneously, find the angle $x$ as a function of time for the first 100 s.  Plot your result."
   ]
  },
  {
   "cell_type": "code",
   "execution_count": null,
   "metadata": {},
   "outputs": [],
   "source": [
    "import scipy.integrate as integrate\n",
    "\n",
    "# 'right hand side' functions:\n",
    "def fv(x, v, t):\n",
    "    dvdt = BLANK\n",
    "    return dvdt\n",
    "\n",
    "def fx(x, v, t):\n",
    "    dxdt = BLANK\n",
    "    return dxdt\n",
    "\n",
    "def pendulum(q, t):\n",
    "    x, v = q\n",
    "    return [fx(x,v,t), fv(x, v, t)]\n",
    "\n",
    "# define the correct initial conditions\n",
    "q0 = [BLANK, BLANK]\n",
    "\n",
    "# call the solver\n",
    "t = np.arange(0, BLANK, BLANK)\n",
    "P = integrate.odeint(BLANK, BLANK, t)\n",
    "xe, ve = P.T\n",
    "\n",
    "# plot the solution\n",
    "plt.plot(BLANK, BLANK)\n",
    "\n",
    "plt.xlabel('t')\n",
    "plt.ylabel('x')\n",
    "plt.title('x(t) solved using integrate.odeint')"
   ]
  },
  {
   "cell_type": "markdown",
   "metadata": {},
   "source": [
    "### 2B. [10 pts]\n",
    "\n",
    "A PHYS2820 student attempts to write a 4th order Runge-Kutta solver to find $x(t)$ but encounters some difficulities and asks you to help.  Fix the solution below so that RK4 is correctly implemented.\n",
    "\n",
    "\n",
    "(*HINT: All of the errors to find are within the `for` loop. There are 10 lines that neet to be changed. Please do **not** copy and paste in another version of RK4--you must find the errors.*)"
   ]
  },
  {
   "cell_type": "code",
   "execution_count": null,
   "metadata": {},
   "outputs": [],
   "source": [
    "dt = 0.1\n",
    "tmax = 100\n",
    "N = round(tmax / dt)\n",
    "\n",
    "t = np.zeros(N)\n",
    "x = np.zeros(N)\n",
    "v = np.zeros(N)\n",
    "\n",
    "x[0] = 4\n",
    "v[0] = 0\n",
    "t[0] = 0\n",
    "\n",
    "# 4th order Runge-Kutta scheme for v and x\n",
    "for n in range(N-1):\n",
    "    t[n + 1] = t[n] + dt\n",
    "    s1x = fx(x[n], v[n], t[n])\n",
    "    s1v = fv(x[n], v[n], t[n])\n",
    "    xtmp = dt / 2 * s1x + x[n]\n",
    "    vtmp = dt / 2 * s1v + v[n]\n",
    "    s2x = fx(xtmp, vtmp, t[n])\n",
    "    s2v = fv(xtmp, vtmp, t[n])\n",
    "    xtmp = dt / 2 * s2x + x[n]\n",
    "    vtmp = dt / 2 * s2v + v[n]\n",
    "    s3x = fv(xtmp, vtmp, t[n])\n",
    "    s3v = fx(xtmp, vtmp, t[n])\n",
    "    xtmp = dt * s3v + x[n]\n",
    "    vtmp = dt * s3x + v[n]\n",
    "    s4x = fx(xtmp, vtmp, t[n])\n",
    "    s4v = fv(xtmp, vtmp, t[n])\n",
    "    x[n + 1] = s4x*dt + x[n]\n",
    "    v[n + 1] = s4v*dt + v[n]\n",
    "    \n",
    "# plot the solution\n",
    "plt.plot(t, x)\n",
    "plt.xlabel('t')\n",
    "plt.ylabel('x')\n",
    "plt.title('My RK4 Solution')"
   ]
  },
  {
   "cell_type": "markdown",
   "metadata": {},
   "source": [
    "## 2C. [3 pts]\n",
    "Plot the difference between your (corrected) solution using RK4 and the solution obtained using `integrate.odeint`."
   ]
  },
  {
   "cell_type": "code",
   "execution_count": null,
   "metadata": {},
   "outputs": [],
   "source": [
    "plt.plot(BLANK, BLANK)\n",
    "plt.xlabel('t')\n",
    "plt.ylabel('error')\n",
    "plt.title('Difference in solution from different solvers')"
   ]
  },
  {
   "cell_type": "markdown",
   "metadata": {},
   "source": [
    "### 4D. [2 pts]\n",
    "Assuming you kept the time step the same (`dt=0.1`) you should notice that your RK4 solution still diverges from the solution given by `integrate.odeint` after about $t$ = 60.  Why is this happening?\n",
    "\n",
    "(*Hint: temporarily change the initial condition from $x(0)=4$ to $x(0) = 4.01$ and notice how the solution changes*)"
   ]
  },
  {
   "cell_type": "markdown",
   "metadata": {},
   "source": []
  },
  {
   "cell_type": "markdown",
   "metadata": {},
   "source": [
    "   \n",
    " "
   ]
  }
 ],
 "metadata": {
  "anaconda-cloud": {},
  "kernelspec": {
   "display_name": "Python 3",
   "language": "python",
   "name": "python3"
  },
  "language_info": {
   "codemirror_mode": {
    "name": "ipython",
    "version": 3
   },
   "file_extension": ".py",
   "mimetype": "text/x-python",
   "name": "python",
   "nbconvert_exporter": "python",
   "pygments_lexer": "ipython3",
   "version": "3.6.4"
  }
 },
 "nbformat": 4,
 "nbformat_minor": 2
}
