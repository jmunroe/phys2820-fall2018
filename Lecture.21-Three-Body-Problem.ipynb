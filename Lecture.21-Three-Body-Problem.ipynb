{
 "cells": [
  {
   "cell_type": "code",
   "execution_count": 1,
   "metadata": {},
   "outputs": [],
   "source": [
    "%matplotlib inline\n",
    "import numpy as np\n",
    "import matplotlib.pyplot as plt\n",
    "plt.style.use('default')"
   ]
  },
  {
   "cell_type": "markdown",
   "metadata": {},
   "source": [
    "# The Three-Body Problem\n",
    "## Lecture 21"
   ]
  },
  {
   "cell_type": "markdown",
   "metadata": {},
   "source": [
    "**Follows Giordano 4.4: The Three-Body Problem and the Effect of Jupiter on Earth**"
   ]
  },
  {
   "cell_type": "markdown",
   "metadata": {},
   "source": [
    "Up to this point, we have only considered two-body solar systems.  The real solar system has multiple planets and this makes the an analytical theory much more difficult.\n",
    "\n",
    "Numerically, we can tackle the problem by explicitly calculating the pairwise forces of gravity in a multiple planet solar system.  For concreteness, let's start with the three-body problem of an Sun-Earth-Jupiter system.  "
   ]
  },
  {
   "cell_type": "markdown",
   "metadata": {},
   "source": [
    "Let's start by reproducing the simulation of the orbit of single planet around the sun.  This code solve for the orbit of a single planet (this time ignoring the effects of general relativity).  This is the same code as given in the previous lecture with the RK4 scheme set up more compactly."
   ]
  },
  {
   "cell_type": "code",
   "execution_count": 2,
   "metadata": {},
   "outputs": [],
   "source": [
    "π = np.pi\n",
    "\n",
    "def orbit1(tmax = 1.0, dt = 0.001, v0 = 2*π, x0 = 1):\n",
    "    \"\"\"\n",
    "    Calculate the orbit of planet\n",
    "    \"\"\"\n",
    "\n",
    "    # number of timesteps\n",
    "    N = round(tmax/dt)\n",
    "\n",
    "    # allocate arrays\n",
    "    x = np.zeros(N)\n",
    "    y = np.zeros(N)\n",
    "    vx = np.zeros(N)\n",
    "    vy = np.zeros(N)\n",
    "    t = np.zeros(N)\n",
    "    \n",
    "    # initialise position of planet in AU\n",
    "    x[0] = x0\n",
    "    y[0] = 0\n",
    "\n",
    "    # initialise velocity of planet in AU/yr\n",
    "    vx[0] = 0\n",
    "    vy[0] = v0\n",
    "\n",
    "    def F(q):\n",
    "        x, y, vx, vy = q\n",
    "        r = np.sqrt(x**2+y**2)\n",
    "        dxdt = vx\n",
    "        dydt = vy\n",
    "        dvxdt = - (4*π**2*x)/(r**3)\n",
    "        dvydt = - (4*π**2*y)/(r**3)\n",
    "        \n",
    "        dqdt = np.array([dxdt, dydt, dvxdt, dvydt])\n",
    "        return dqdt\n",
    "        \n",
    "    # loop over the timesteps\n",
    "    for i in range(N-1):\n",
    "        t[i+1] = t[i] + dt\n",
    "        \n",
    "        # 4th order Runge-Kutta\n",
    "        q0 = np.array([x[i], y[i], vx[i], vy[i]])\n",
    "        s1 = F(q0)\n",
    "        q1 = q0 + s1*dt/2\n",
    "        s2 = F(q1)\n",
    "        q2 = q0 + s2*dt/2\n",
    "        s3 = F(q2)\n",
    "        q3 = q0 + s3*dt\n",
    "        s4 = F(q3)\n",
    "        q4 = q0 + (s1 + 2*s2 + 2*s3 + s4)/6 * dt\n",
    "        \n",
    "        x[i+1], y[i+1], vx[i+1], vy[i+1] = q4\n",
    "              \n",
    "    return x, y, vx, vy, t"
   ]
  },
  {
   "cell_type": "markdown",
   "metadata": {},
   "source": [
    "Our plotting tool to show the orbit"
   ]
  },
  {
   "cell_type": "code",
   "execution_count": 3,
   "metadata": {},
   "outputs": [],
   "source": [
    "def plot_orbit(x, y, t, t0=None):\n",
    "    \"Make a plot of planet showing the Sun\"\n",
    "    \n",
    "    # Plot the Sun at the origin\n",
    "    plt.plot(0, 0, '.',color=\"yellow\", markersize=20, markeredgecolor='black')\n",
    "  \n",
    "    plt.plot(x, y, 'k-', linewidth=0.5)\n",
    "  \n",
    "    # Plot the planet at a specific position\n",
    "    if t0 is None:\n",
    "        i = -1\n",
    "    else:\n",
    "        i = int(t0/t[-1]*len(t))\n",
    "        if i >= len(t):\n",
    "            i = len(t)-1\n",
    "    plt.plot(x[i], y[i], '.', color= 'k', markersize=15)\n",
    "\n",
    "    plt.xlabel('x (AU)')\n",
    "    plt.ylabel('y (AU)')\n",
    "    plt.axis('equal')"
   ]
  },
  {
   "cell_type": "markdown",
   "metadata": {},
   "source": [
    "And the planetary data:"
   ]
  },
  {
   "cell_type": "code",
   "execution_count": 5,
   "metadata": {},
   "outputs": [],
   "source": [
    "data = { 'Mercury' : {'name': 'Mercury', 'm':2.4e23, 'a':0.39,  'e':0.206},\n",
    "         'Venus'   : {'name': 'Venus',   'm':4.9e24, 'a':0.72,  'e':0.007},   \n",
    "         'Earth'   : {'name': 'Earth',   'm':6.0e24, 'a':1.00,  'e':0.017},  \n",
    "         'Mars'    : {'name': 'Mars',    'm':6.6e23, 'a':1.52,  'e':0.093},\n",
    "         'Jupiter' : {'name': 'Jupiter', 'm':1.9e27, 'a':5.20,  'e':0.048},\n",
    "         'Saturn'  : {'name': 'Saturn',  'm':5.7e26, 'a':9.54,  'e':0.056},\n",
    "         'Uranus'  : {'name': 'Uranus',  'm':8.8e25, 'a':19.19, 'e':0.046},\n",
    "         'Neptune' : {'name': 'Neptune', 'm':1.03e26,'a':30.06, 'e':0.010},\n",
    "         'Pluto'   : {'name': 'Pluto',   'm':1.3e22, 'a':39.53, 'e':0.248},\n",
    "        }"
   ]
  },
  {
   "cell_type": "markdown",
   "metadata": {},
   "source": [
    "## Example: Earth's orbit (two-body problem)"
   ]
  },
  {
   "cell_type": "markdown",
   "metadata": {},
   "source": [
    "From conservation of energy and conservation of angular momentum, we can show that the initial velocity can be calculated as\n",
    "\n",
    "$$ v_0 = \\sqrt{G M_S \\frac{1}{a} \\frac{(1 - e)}{(1+e)} } $$"
   ]
  },
  {
   "cell_type": "code",
   "execution_count": 7,
   "metadata": {},
   "outputs": [
    {
     "data": {
      "image/png": "[encoded data removed]",
      "text/plain": [
       "<Figure size 432x288 with 1 Axes>"
      ]
     },
     "metadata": {},
     "output_type": "display_data"
    }
   ],
   "source": [
    "fig, axes = plt.subplots(figsize=(6, 4))\n",
    "p = data['Earth']\n",
    "\n",
    "x0 = (1+p['e'])*p['a']\n",
    "\n",
    "## See equation (4.16) of Giordano, from conservation of energy and angular momentum\n",
    "v0 = 2*π*np.sqrt(1/p['a']*(1-p['e'])/(1+p['e']))\n",
    "\n",
    "x, y, vx, vy, t = orbit1(v0=v0, tmax = 1, x0 = x0)\n",
    "plot_orbit(x,y,t)\n",
    "plt.title('Earth orbit around the Sun')\n",
    "plt.show()"
   ]
  },
  {
   "cell_type": "markdown",
   "metadata": {},
   "source": [
    "## Extend to Three-Bodies"
   ]
  },
  {
   "cell_type": "markdown",
   "metadata": {},
   "source": [
    "Our first goal will be to rewrite the above routines to that they support multiple planets.  In terms of forces we need to add in the additional force between, say, Earth and Jupiter\n",
    "\n",
    "$$ F_{EJ} = \\frac{G M_J M_E}{r_{EJ}^2} $$\n",
    "\n",
    "Assuming the orbits are all coplanar, the components in the $xy$-plane are \n",
    "\n",
    "\\begin{align}\n",
    "F_{EJ,x} &= - \\frac{G M_J M_E}{r_{EJ}^2} \\cos \\theta_{EJ} = - \\frac{G M_J M_E( x_e - x_j)}{r_{EJ}^3} \\\\\n",
    "F_{EJ,y} &= - \\frac{G M_J M_E}{r_{EJ}^2} \\sin \\theta_{EJ} = - \\frac{G M_J M_E( y_e - y_j)}{r_{EJ}^3} \\\\\n",
    "\\end{align}"
   ]
  },
  {
   "cell_type": "markdown",
   "metadata": {},
   "source": [
    "The total force on Earth in the $x$-direction is the sum of the forces of gravity from the Sun and Jupiter. The equation of motion is of the form:\n",
    "\n",
    "$$ \\frac{d v_{x,e} }{dt} = - \\frac{G M_S x_e}{r^3} - \\frac{G M_J ( x_e - x_j)}{r_{EJ}^3}$$"
   ]
  },
  {
   "cell_type": "markdown",
   "metadata": {},
   "source": [
    "Recall that we are using AU and yr as are units for distance and time, respectively.  In that system,  we have\n",
    "\n",
    "$$ G M_S = 4 \\pi^2\\; \\mathrm{AU}^3/\\mathrm{yr}^2 $$"
   ]
  },
  {
   "cell_type": "markdown",
   "metadata": {},
   "source": [
    "So we can calculate $G M_J$ as follows\n",
    "\n",
    "$$ G M_J = G M_S \\frac{M_J}{M_S} = 4\\pi^2 \\frac{M_J}{M_S} $$"
   ]
  },
  {
   "cell_type": "markdown",
   "metadata": {},
   "source": [
    "\n",
    "### Many more variables"
   ]
  },
  {
   "cell_type": "markdown",
   "metadata": {},
   "source": [
    "As soon as we start to deal with more than one planet, we will need many more variables to keep track of the entire system.  One approach is just to extend our code and use the arrays \n",
    "\n",
    "    x_E, y_E, vx_E, vy_E, x_J, y_J, vx_J, vy_J\n",
    "    \n",
    "where we track the position and velocity for both the Earth and Jupiter.  But this quickly will become cumbersome. With more than two planets, we would need even more variables.  \n",
    "\n",
    "Let's create a new data structure that holds all of the information about each planet.\n",
    "\n"
   ]
  },
  {
   "cell_type": "code",
   "execution_count": 8,
   "metadata": {},
   "outputs": [],
   "source": [
    "class Planet():\n",
    "    def __init__(self, data, N):\n",
    "        \n",
    "        # initialize with given planetary data\n",
    "        self.name = data['name']\n",
    "        self.m = data['m'] ## mass\n",
    "        self.e = data['e'] ## eccentricity\n",
    "        self.a = data['a'] ## semimajor axis length\n",
    "                \n",
    "        # arrays for storage of \n",
    "        self.x = np.zeros(N)\n",
    "        self.y = np.zeros(N)\n",
    "        self.vx = np.zeros(N)\n",
    "        self.vy = np.zeros(N)\n",
    "\n",
    "        # calculate initial position and velocity\n",
    "        self.x[0] = (1 + self.e)*self.a\n",
    "        if self.a > 0:\n",
    "            self.vy[0] = 2*π * np.sqrt(1/self.a * (1-self.e)/(1+self.e))\n",
    "        else:\n",
    "            self.vy[0] = 0\n",
    "        "
   ]
  },
  {
   "cell_type": "markdown",
   "metadata": {},
   "source": [
    "Here is how our `orbit()` function changes when written with this new data structure."
   ]
  },
  {
   "cell_type": "code",
   "execution_count": 9,
   "metadata": {},
   "outputs": [],
   "source": [
    "#Mass of the Sun in kg\n",
    "M_s = 2e30\n",
    "\n",
    "def orbit2(tmax = 1.0, dt = 0.001, planets=[]):\n",
    "    \"\"\"\n",
    "    Calculate the orbit of a planet\n",
    "    \"\"\"\n",
    "\n",
    "    # number of timesteps\n",
    "    N = round(tmax/dt)\n",
    "    t = np.zeros(N)\n",
    "\n",
    "    # allocate planets\n",
    "    p1 = Planet(planets[0], N)\n",
    "    p2 = Planet(planets[1], N)\n",
    "\n",
    "    def F(q):\n",
    "        x1, y1, vx1, vy1, x2, y2, vx2, vy2 = q\n",
    "        r1 = np.sqrt(x1**2+y1**2)\n",
    "        r2 = np.sqrt(x2**2+y2**2)\n",
    "        r12 = np.sqrt((x1-x2)**2+(y1-y2)**2)\n",
    "        \n",
    "        dxdt1 = vx1\n",
    "        dydt1 = vy1\n",
    "        dvxdt1 = - 4*π**2*x1/(r1**3) - 4*π**2*(p2.m/M_s)*(x1-x2)/(r12**3)\n",
    "        dvydt1 = - 4*π**2*y1/(r1**3) - 4*π**2*(p2.m/M_s)*(y1-y2)/(r12**3)\n",
    "        \n",
    "        dxdt2 = vx2\n",
    "        dydt2 = vy2\n",
    "        dvxdt2 = - 4*π**2*x2/(r2**3) - 4*π**2*(p1.m/M_s)*(x2-x1)/(r12**3)\n",
    "        dvydt2 = - 4*π**2*y2/(r2**3) - 4*π**2*(p1.m/M_s)*(y2-y1)/(r12**3)\n",
    "        \n",
    "        dqdt = np.array([dxdt1, dydt1, dvxdt1, dvydt1,\n",
    "                         dxdt2, dydt2, dvxdt2, dvydt2])\n",
    "                                          \n",
    "        return dqdt\n",
    "        \n",
    "    # loop over the timesteps\n",
    "    for i in range(N-1):\n",
    "        t[i+1] = t[i] + dt\n",
    "        \n",
    "        q0 = np.array([p1.x[i], p1.y[i], p1.vx[i], p1.vy[i],\n",
    "                       p2.x[i], p2.y[i], p2.vx[i], p2.vy[i]] )\n",
    "        \n",
    "        s1 = F(q0)\n",
    "        q1 = q0 + s1*dt/2\n",
    "        s2 = F(q1)\n",
    "        q2 = q0 + s2*dt/2\n",
    "        s3 = F(q2)\n",
    "        q3 = q0 + s3*dt\n",
    "        s4 = F(q3)\n",
    "        q4 = q0 + (s1 + 2*s2 + 2*s3 + s4)/6 * dt\n",
    "        \n",
    "        (p1.x[i+1], p1.y[i+1], p1.vx[i+1], p1.vy[i+1], \n",
    "         p2.x[i+1], p2.y[i+1], p2.vx[i+1], p2.vy[i+1]) = q4\n",
    "        \n",
    "    return p1, p2, t"
   ]
  },
  {
   "cell_type": "markdown",
   "metadata": {},
   "source": [
    "Notice that the Runge-Kutta scheme remains basically unchanged.  But our 'state space' now has 8 variables."
   ]
  },
  {
   "cell_type": "markdown",
   "metadata": {},
   "source": [
    "## Example with Earth-Jupiter-Sun system"
   ]
  },
  {
   "cell_type": "code",
   "execution_count": 10,
   "metadata": {},
   "outputs": [
    {
     "data": {
      "image/png": "[encoded data removed]",
      "text/plain": [
       "<Figure size 432x288 with 1 Axes>"
      ]
     },
     "metadata": {},
     "output_type": "display_data"
    }
   ],
   "source": [
    "fig, axes = plt.subplots(figsize=(6, 4))\n",
    "\n",
    "p1, p2, t = orbit2(tmax=5, \n",
    "                  planets=[data['Earth'], data['Jupiter']])\n",
    "\n",
    "plot_orbit(p1.x, p1.y, t)\n",
    "plot_orbit(p2.x, p2.y, t)\n",
    "plt.axis('equal')\n",
    "\n",
    "plt.title('Earth, Jupiter orbit around the Sun')\n",
    "plt.show()"
   ]
  },
  {
   "cell_type": "markdown",
   "metadata": {},
   "source": [
    "## Another option for animation"
   ]
  },
  {
   "cell_type": "markdown",
   "metadata": {},
   "source": [
    "Let's build a little widget to explore how Earth and Jupiter move relative to each other."
   ]
  },
  {
   "cell_type": "code",
   "execution_count": 11,
   "metadata": {},
   "outputs": [],
   "source": [
    "from ipywidgets import interact"
   ]
  },
  {
   "cell_type": "code",
   "execution_count": 12,
   "metadata": {},
   "outputs": [
    {
     "data": {
      "application/vnd.jupyter.widget-view+json": {
       "model_id": "ebd3003b15084dfaa00b826dc0db2047",
       "version_major": 2,
       "version_minor": 0
      },
      "text/plain": [
       "interactive(children=(FloatSlider(value=0.0, description='t0', max=12.0), Output()), _dom_classes=('widget-int…"
      ]
     },
     "metadata": {},
     "output_type": "display_data"
    }
   ],
   "source": [
    "tmax = 12.0\n",
    "\n",
    "p1, p2, t = orbit2(tmax=tmax,\n",
    "                  planets=[data['Earth'], data['Jupiter']])\n",
    "\n",
    "@interact(t0=(0, tmax))\n",
    "def investigate_orbit(t0=0):\n",
    "    plot_orbit(p1.x,p1.y, t, t0=t0)\n",
    "    plot_orbit(p2.x,p2.y, t, t0=t0)\n",
    "    plt.title('Earth, Jupiter orbit around the Sun')"
   ]
  },
  {
   "cell_type": "markdown",
   "metadata": {},
   "source": [
    "### Precession of Earth's Orbit due to a very large Jupiter"
   ]
  },
  {
   "cell_type": "markdown",
   "metadata": {},
   "source": [
    "Now observe what happen if we increase the mass of Jupiter to 300 $M_J$"
   ]
  },
  {
   "cell_type": "code",
   "execution_count": 13,
   "metadata": {},
   "outputs": [
    {
     "data": {
      "application/vnd.jupyter.widget-view+json": {
       "model_id": "7ed14a85949842d59a3446970a992577",
       "version_major": 2,
       "version_minor": 0
      },
      "text/plain": [
       "interactive(children=(FloatSlider(value=0.0, description='t0', max=4.0), Output()), _dom_classes=('widget-inte…"
      ]
     },
     "metadata": {},
     "output_type": "display_data"
    }
   ],
   "source": [
    "scale = 300\n",
    "tmax = 4.0\n",
    "\n",
    "jupiter = data['Jupiter']\n",
    "big_jupiter = jupiter.copy()\n",
    "big_jupiter['m'] = jupiter['m'] * scale\n",
    "\n",
    "p1, p2, t = orbit2(tmax=tmax,\n",
    "                  planets=[data['Earth'], big_jupiter])\n",
    "    \n",
    "@interact(t0=(0, tmax))\n",
    "def investigate_orbit(t0=0):\n",
    "    \n",
    "    plot_orbit(p1.x,p1.y, t, t0=t0)\n",
    "    plot_orbit(p2.x,p2.y, t, t0=t0)\n",
    "            \n",
    "    plt.suptitle(\"Effect of a very large Jupiter on Earth's orbit\")"
   ]
  },
  {
   "cell_type": "markdown",
   "metadata": {},
   "source": [
    "You should notice that the orbit is now precessing. \n",
    "\n",
    "We can explore how the mass of Jupiter changes the rate of the precession."
   ]
  },
  {
   "cell_type": "code",
   "execution_count": 14,
   "metadata": {},
   "outputs": [
    {
     "data": {
      "application/vnd.jupyter.widget-view+json": {
       "model_id": "543e552a1a524a6f94611f7ed6de4c0e",
       "version_major": 2,
       "version_minor": 0
      },
      "text/plain": [
       "interactive(children=(IntSlider(value=0, description='scale', max=1000, step=50), Output()), _dom_classes=('wi…"
      ]
     },
     "metadata": {},
     "output_type": "display_data"
    }
   ],
   "source": [
    "tmax = 5.0\n",
    "\n",
    "@interact(scale=(0, 1000, 50))\n",
    "def investigate_precession(scale=0):\n",
    "    \n",
    "    # solve for the orbits of Earth and a large Jupiter\n",
    "    jupiter = data['Jupiter']\n",
    "    big_jupiter = jupiter.copy()\n",
    "    big_jupiter['m'] = jupiter['m'] * scale\n",
    "\n",
    "    p1, p2, t = orbit2(tmax=tmax,\n",
    "                  planets=[data['Earth'], big_jupiter])\n",
    "    \n",
    "\n",
    "    plot_orbit(p1.x, p1.y, t)\n",
    "    plot_orbit(p2.x, p2.y, t)\n",
    "    \n",
    "    \n",
    "    plt.suptitle(\"Effect of a large Jupiter on Earth's orbit\")"
   ]
  },
  {
   "cell_type": "markdown",
   "metadata": {},
   "source": [
    "Notice that for very large Jupiters, the Earth's orbit is unstable.  At a mass of 1000 $M_J$, the Earth is actually ejected from the solar system. "
   ]
  },
  {
   "cell_type": "markdown",
   "metadata": {},
   "source": [
    "Note that, here, we are ignoring that fact that the Sun itself should really be moving, too.  "
   ]
  },
  {
   "cell_type": "markdown",
   "metadata": {},
   "source": [
    "But first, let's see if we can get all of the planets into one simulation.  "
   ]
  },
  {
   "cell_type": "code",
   "execution_count": 15,
   "metadata": {},
   "outputs": [],
   "source": [
    "#Mass of the Sun in kg\n",
    "M_s = 2e30\n",
    "\n",
    "def orbit3(tmax = 1.0, dt = 0.001, planets=[]):\n",
    "    \"\"\"\n",
    "    Calculate the orbit of many planets\n",
    "    \"\"\"\n",
    "\n",
    "    # number of timesteps\n",
    "    N = round(tmax/dt)\n",
    "    t = np.zeros(N)\n",
    "\n",
    "    # allocate planets\n",
    "    all_p = [Planet(data, N) for data in planets]\n",
    "    # this creates a list of all the planets\n",
    "    \n",
    "    def F(q):\n",
    "        dqdt = np.zeros(len(q))\n",
    "        \n",
    "        # for each planet\n",
    "        for i in range(len(q)//4):\n",
    "            x1, y1, vx1, vy1 = q[4*i:4*i+4]\n",
    "            r1 = np.sqrt(x1**2+y1**2)\n",
    "            dxdt = vx1\n",
    "            dydt = vy1\n",
    "            dvxdt = - 4*π**2*x1/(r1**3)\n",
    "            dvydt = - 4*π**2*y1/(r1**3)\n",
    "            \n",
    "            # for each other planet\n",
    "            for j in range(len(q)//4):\n",
    "                if i==j:\n",
    "                    continue\n",
    "                x2, y2, vx2, vy2 = q[4*j:4*j+4]\n",
    "                r12 = np.sqrt((x1-x2)**2+(y1-y2)**2)\n",
    "\n",
    "                dvxdt += - 4*π**2*(all_p[j].m/M_s)*(x1-x2)/(r12**3)\n",
    "                dvydt += - 4*π**2*(all_p[j].m/M_s)*(y1-y2)/(r12**3)\n",
    "            \n",
    "            dqdt[4*i:4*i+4] = [dxdt, dydt, dvxdt, dvydt]\n",
    "                         \n",
    "        return dqdt\n",
    "        \n",
    "    # loop over the timesteps\n",
    "    for i in range(N-1):\n",
    "        t[i+1] = t[i] + dt\n",
    "        \n",
    "        q0 = []\n",
    "        for p in all_p:\n",
    "            q0 += [p.x[i], p.y[i], p.vx[i], p.vy[i]]\n",
    "        q0 = np.array(q0)\n",
    "                    \n",
    "        s1 = F(q0)\n",
    "        q1 = q0 + s1*dt/2\n",
    "        s2 = F(q1)\n",
    "        q2 = q0 + s2*dt/2\n",
    "        s3 = F(q2)\n",
    "        q3 = q0 + s3*dt\n",
    "        s4 = F(q3)\n",
    "        q4 = q0 + (s1 + 2*s2 + 2*s3 + s4)/6 * dt\n",
    "        \n",
    "        for n, p in enumerate(all_p):\n",
    "            p.x[i+1], p.y[i+1], p.vx[i+1], p.vy[i+1] = q4[4*n:4*n+4]\n",
    "        \n",
    "    return all_p, t"
   ]
  },
  {
   "cell_type": "code",
   "execution_count": 25,
   "metadata": {},
   "outputs": [],
   "source": [
    "tmax = 6.0\n",
    "\n",
    "p, t = orbit3(tmax=tmax,\n",
    "            # planets=[data['Earth'], data['Jupiter'], data['Mars']]\n",
    "            # planets=[data['Earth'], big_jupiter, data['Mars']]\n",
    "            # planets=[p for p in data.values()]\n",
    "             planets=[p for p in data.values() if p['a'] < 8]\n",
    "             )"
   ]
  },
  {
   "cell_type": "code",
   "execution_count": 26,
   "metadata": {
    "scrolled": false
   },
   "outputs": [
    {
     "data": {
      "application/vnd.jupyter.widget-view+json": {
       "model_id": "6f88b19814964e9bad0546ba1cd62546",
       "version_major": 2,
       "version_minor": 0
      },
      "text/plain": [
       "interactive(children=(FloatSlider(value=0.0, description='t0', max=6.0), Output()), _dom_classes=('widget-inte…"
      ]
     },
     "metadata": {},
     "output_type": "display_data"
    }
   ],
   "source": [
    "@interact(t0=(0, tmax, 0.1))\n",
    "def investigate_orbit(t0=0):\n",
    "    for p1 in p:\n",
    "        plot_orbit(p1.x,p1.y, t, t0=t0)\n",
    "    \n",
    "    plt.title('Solar System')"
   ]
  },
  {
   "cell_type": "markdown",
   "metadata": {},
   "source": [
    "## Three-Body Problem"
   ]
  },
  {
   "cell_type": "markdown",
   "metadata": {},
   "source": [
    "In the most general case, the Sun itself would move do to the gravitational forces from the other planets.  Since the Sun is so much more massive than the other planets, it is reasonable to assume that the Sun does not itself move."
   ]
  },
  {
   "cell_type": "markdown",
   "metadata": {},
   "source": [
    "However, suppose we had a binary star system with two stars and a planet. Then all three bodies would be in motion. Let's rewrite our last route so that the Sun is no longer special but also interacts with all the other bodies in the solar system."
   ]
  },
  {
   "cell_type": "code",
   "execution_count": 27,
   "metadata": {},
   "outputs": [],
   "source": [
    "#Mass of the Sun in kg\n",
    "M_s = 2e30\n",
    "\n",
    "def orbit4(tmax = 1.0, dt = 0.001, bodies=[]):\n",
    "    \"\"\"\n",
    "    Calculate the orbit of many planets\n",
    "    \"\"\"\n",
    "\n",
    "    # number of timesteps\n",
    "    N = round(tmax/dt)\n",
    "    t = np.zeros(N)\n",
    "\n",
    "    # allocate planets\n",
    "    all_p = [Planet(data, N) for data in bodies]\n",
    "    # this creates a list of all the planets\n",
    "    \n",
    "    def F(q):\n",
    "        dqdt = np.zeros(len(q))\n",
    "        \n",
    "        # for each body in the system\n",
    "        for i in range(len(q)//4):\n",
    "            x1, y1, vx1, vy1 = q[4*i:4*i+4]\n",
    "            r1 = np.sqrt(x1**2+y1**2)\n",
    "            dxdt = vx1\n",
    "            dydt = vy1\n",
    "            dvxdt = 0\n",
    "            dvydt = 0\n",
    "            \n",
    "            # for each other body\n",
    "            for j in range(len(q)//4):\n",
    "                if i==j:\n",
    "                    continue\n",
    "                x2, y2, vx2, vy2 = q[4*j:4*j+4]\n",
    "                r12 = np.sqrt((x1-x2)**2+(y1-y2)**2)\n",
    "\n",
    "                dvxdt += - 4*π**2*(all_p[j].m/M_s)*(x1-x2)/(r12**3)\n",
    "                dvydt += - 4*π**2*(all_p[j].m/M_s)*(y1-y2)/(r12**3)\n",
    "            \n",
    "            dqdt[4*i:4*i+4] = [dxdt, dydt, dvxdt, dvydt]\n",
    "                         \n",
    "        return dqdt\n",
    "        \n",
    "    # loop over the timesteps\n",
    "    for i in range(N-1):\n",
    "        t[i+1] = t[i] + dt\n",
    "        \n",
    "        q0 = []\n",
    "        for p in all_p:\n",
    "            q0 += [p.x[i], p.y[i], p.vx[i], p.vy[i]]\n",
    "        q0 = np.array(q0)\n",
    "                    \n",
    "        s1 = F(q0)\n",
    "        q1 = q0 + s1*dt/2\n",
    "        s2 = F(q1)\n",
    "        q2 = q0 + s2*dt/2\n",
    "        s3 = F(q2)\n",
    "        q3 = q0 + s3*dt\n",
    "        s4 = F(q3)\n",
    "        q4 = q0 + (s1 + 2*s2 + 2*s3 + s4)/6 * dt\n",
    "        \n",
    "        for n, p in enumerate(all_p):\n",
    "            p.x[i+1], p.y[i+1], p.vx[i+1], p.vy[i+1] = q4[4*n:4*n+4]\n",
    "        \n",
    "    return all_p, t"
   ]
  },
  {
   "cell_type": "markdown",
   "metadata": {},
   "source": [
    "Add the Sun as an explicit member of the solar system."
   ]
  },
  {
   "cell_type": "code",
   "execution_count": 28,
   "metadata": {},
   "outputs": [],
   "source": [
    "data['Sun'] = { 'name' : 'Sun', 'm' : 2e30, 'a' : 0, 'e' : 0}\n",
    "data['BigJupiter'] = { 'name' : 'BigJupiter', 'm' : 1.9e+27*200, 'a' : 5.2, 'e' : 0.048}\n"
   ]
  },
  {
   "cell_type": "code",
   "execution_count": 33,
   "metadata": {},
   "outputs": [],
   "source": [
    "tmax = 2.0\n",
    "\n",
    "p, t = orbit4(tmax=tmax,\n",
    "              bodies=[data['Sun'], \n",
    "                      #data['Jupiter'],\n",
    "                      data['BigJupiter'],  \n",
    "                      data['Earth']\n",
    "                     ]\n",
    "             )"
   ]
  },
  {
   "cell_type": "code",
   "execution_count": 34,
   "metadata": {},
   "outputs": [
    {
     "data": {
      "application/vnd.jupyter.widget-view+json": {
       "model_id": "908759f789ef4f7a9ddfe9ff9809ab20",
       "version_major": 2,
       "version_minor": 0
      },
      "text/plain": [
       "interactive(children=(FloatSlider(value=0.0, description='t0', max=2.0), Output()), _dom_classes=('widget-inte…"
      ]
     },
     "metadata": {},
     "output_type": "display_data"
    }
   ],
   "source": [
    "@interact(t0=(0, tmax, 0.1))\n",
    "def investigate_orbit(t0=0):\n",
    "    for p1 in p:\n",
    "        plot_orbit(p1.x,p1.y, t, t0=t0)\n",
    "    \n",
    "    plt.title('Solar System')"
   ]
  },
  {
   "cell_type": "code",
   "execution_count": null,
   "metadata": {},
   "outputs": [],
   "source": []
  }
 ],
 "metadata": {
  "anaconda-cloud": {},
  "kernelspec": {
   "display_name": "Python 3",
   "language": "python",
   "name": "python3"
  },
  "language_info": {
   "codemirror_mode": {
    "name": "ipython",
    "version": 3
   },
   "file_extension": ".py",
   "mimetype": "text/x-python",
   "name": "python",
   "nbconvert_exporter": "python",
   "pygments_lexer": "ipython3",
   "version": "3.6.4"
  },
  "widgets": {
   "state": {
    "138d8a5ff419441d9090e1fb1d52e934": {
     "views": [
      {
       "cell_index": 32
      }
     ]
    },
    "7b81ea171a7e48779c55c15018aca96b": {
     "views": [
      {
       "cell_index": 45
      }
     ]
    },
    "7c8cf3e5d0664257b9af7a7a64504a04": {
     "views": [
      {
       "cell_index": 29
      }
     ]
    },
    "b0fc71b2ceb44e858c121a91647d3876": {
     "views": [
      {
       "cell_index": 34
      }
     ]
    }
   },
   "version": "1.2.0"
  }
 },
 "nbformat": 4,
 "nbformat_minor": 2
}
