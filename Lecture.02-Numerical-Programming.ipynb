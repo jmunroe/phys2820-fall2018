{
 "cells": [
  {
   "cell_type": "markdown",
   "metadata": {},
   "source": [
    "<!--NAVIGATION-->\n",
    "< [Solving Problems Numerically](Lecture.01-Solving-Problems-Numerically.ipynb) | [Contents](Index.ipynb) | [Bicycle Racing: The Effect of Air Resistance](Lecture.03-Bicyle-Racing.ipynb) >"
   ]
  },
  {
   "cell_type": "markdown",
   "metadata": {
    "slideshow": {
     "slide_type": "slide"
    }
   },
   "source": [
    "# Numerical Programming\n",
    "## Lecture 2"
   ]
  },
  {
   "cell_type": "markdown",
   "metadata": {
    "slideshow": {
     "slide_type": "slide"
    }
   },
   "source": [
    "Let's begin with our radioactive decay process and its numerical solution. Run the following code block and think careful about the various steps.\n",
    "\n",
    "* Are there any lines of code that you have questions about?\n",
    "\n",
    "* Does the code and plot work on your computer?\n",
    "\n",
    "* What lines are the code for the algorithm at the heart of this numerical problem?\n",
    "(pressing the 'l' key will toggle line numbers on and off in Jupyter)\n",
    "\n",
    "After about 5-10 minutes when you've had time to study the code yourself, we will discuss it as a class."
   ]
  },
  {
   "cell_type": "code",
   "execution_count": null,
   "metadata": {
    "slideshow": {
     "slide_type": "skip"
    }
   },
   "outputs": [],
   "source": [
    "# 1D radioactive decay\n",
    "\n",
    "import numpy as np\n",
    "import matplotlib.pyplot as plt\n",
    "plt.style.use('default')\n",
    "\n",
    "# initial number of uranium atoms\n",
    "N_uranium_initial = 1000\n",
    "\n",
    "# decay constant of 238 U (expressed as 'per year')\n",
    "k = 4.916e-18*365*24*60*60\n",
    "\n",
    "# simulation to maximum number of years\n",
    "tmax = 10.0e9\n",
    "\n",
    "# time step in years\n",
    "dt = 100e6\n",
    "\n",
    "# calculate an array for all times\n",
    "t = np.arange(0, tmax, dt)\n",
    "\n",
    "# determine total number of timesteps needed\n",
    "M = len(t)\n",
    "\n",
    "# initializes N_uranium, an array of dimension M of all zeros\n",
    "N_uranium = np.zeros(M)\n",
    "\n",
    "# the initial condition, first entry in the array N_uranium is N_uranium_initial\n",
    "N_uranium[0] = N_uranium_initial\n",
    "\n",
    "# loop over the timesteps and calculate the numerical solution\n",
    "for i in range(1, M):\n",
    "    N_uranium[i] = N_uranium[i-1] - (k * N_uranium[i-1])*dt\n",
    "\n",
    "# For comparison, calculate the analytical solution\n",
    "N_analytical = N_uranium_initial * np.exp(-k * t)\n",
    "\n",
    "# create a new figure and axes for plotting\n",
    "fig, axes = plt.subplots()\n",
    "\n",
    "# Plot the numerical solution in red circles\n",
    "plt.plot(t, N_uranium, 'r-', label = 'Numerical'); \n",
    "# Plot the numerical solution with blue line\n",
    "plt.plot(t, N_analytical, 'b-', label = 'Analytical'); \n",
    "# label axes\n",
    "plt.xlabel('Time in years')\n",
    "plt.ylabel('Number of atoms')\n",
    "\n",
    "# axes scales\n",
    "plt.xlim(0, tmax)\n",
    "plt.ylim(100, 1000)\n",
    "plt.legend()\n",
    "\n",
    "plt.show()"
   ]
  },
  {
   "cell_type": "markdown",
   "metadata": {
    "slideshow": {
     "slide_type": "fragment"
    }
   },
   "source": [
    "## Questions, Comments?\n",
    "\n"
   ]
  },
  {
   "cell_type": "markdown",
   "metadata": {
    "slideshow": {
     "slide_type": "slide"
    }
   },
   "source": [
    "## Good programming style\n",
    "\n",
    "*Giordano 1.6*\n",
    "\n",
    "You can think of a program of a sequence of steps that you are telling the computer to complete.  While programming is necessarily personal and individual, there are are general guidelines to keep in mind. "
   ]
  },
  {
   "cell_type": "markdown",
   "metadata": {
    "slideshow": {
     "slide_type": "fragment"
    }
   },
   "source": [
    "1\\. **Program structure**.  Use subroutines or functions to organize the major taks and make the program readable and understandable.  Use these functions to perform any taks that take more than a few lines of code, or that are required repeatedly. Often, a *main* function is used to provide an outline of the program. "
   ]
  },
  {
   "cell_type": "markdown",
   "metadata": {
    "slideshow": {
     "slide_type": "subslide"
    }
   },
   "source": [
    "2\\. **Use descriptive names**.  Choose the names of variables and functions according to the problem at hand. Descriptive names make a program easier to understand, as they act as built-in comment statements."
   ]
  },
  {
   "cell_type": "markdown",
   "metadata": {
    "slideshow": {
     "slide_type": "subslide"
    }
   },
   "source": [
    "3\\. **Use comment statements**.  Include comment statements to explain program logic and describe variables.  A short function that uses descriptive variables names should not need a large number of comment statements."
   ]
  },
  {
   "cell_type": "markdown",
   "metadata": {
    "slideshow": {
     "slide_type": "subslide"
    }
   },
   "source": [
    "4\\. **Sacrifice everything for clarity**. This is a bit overstated, but not much! It is often tempting to write a critical piece of code in a very compact or terse manner in the beliefe that this will make the program run faster. This compactness always comes at the prices of clairity and readability.  It is always better to take a few more lines, or a few more variables to a job, if it makes the more understandable.  Execution speed is rarely a critical issue especially in the context of the time and effort to write and read code by a human!"
   ]
  },
  {
   "cell_type": "markdown",
   "metadata": {
    "slideshow": {
     "slide_type": "subslide"
    }
   },
   "source": [
    "5\\. **Take the time to make the graphics presentable**. In almost all cases, numerical results should be presented graphically. The axes should be labeled clearly (including units, where appropriate) and parameter values given directly on the graph."
   ]
  },
  {
   "cell_type": "markdown",
   "metadata": {
    "slideshow": {
     "slide_type": "slide"
    }
   },
   "source": [
    "### Python functions\n",
    "\n",
    "The radioactive decay code above follows most of the advice given above except the rules about **Program structure**.  To be able to do this we need to introduce the idea of a subroutine in a programming language. Subroutines in Python are called **functions** which are similar, but not quite the same, as mathematical functions.\n",
    "\n",
    "Functions are made using the **def** keyword."
   ]
  },
  {
   "cell_type": "code",
   "execution_count": null,
   "metadata": {
    "slideshow": {
     "slide_type": "fragment"
    }
   },
   "outputs": [],
   "source": [
    "# define a function\n",
    "def forty_two():\n",
    "    return 42"
   ]
  },
  {
   "cell_type": "code",
   "execution_count": null,
   "metadata": {
    "slideshow": {
     "slide_type": "fragment"
    }
   },
   "outputs": [],
   "source": [
    "# call a function\n",
    "forty_two()"
   ]
  },
  {
   "cell_type": "code",
   "execution_count": null,
   "metadata": {
    "slideshow": {
     "slide_type": "subslide"
    }
   },
   "outputs": [],
   "source": [
    "# call the function, and print the result\n",
    "print(forty_two())"
   ]
  },
  {
   "cell_type": "code",
   "execution_count": null,
   "metadata": {
    "slideshow": {
     "slide_type": "fragment"
    }
   },
   "outputs": [],
   "source": [
    "# call the function, assign the result \n",
    "# to x, and print x\n",
    "x = forty_two()\n",
    "print(x)"
   ]
  },
  {
   "cell_type": "markdown",
   "metadata": {
    "slideshow": {
     "slide_type": "subslide"
    }
   },
   "source": [
    "#### Function arguments\n",
    "\n",
    "Functions can take inputs (known as arguments) and **return** output."
   ]
  },
  {
   "cell_type": "code",
   "execution_count": null,
   "metadata": {
    "slideshow": {
     "slide_type": "fragment"
    }
   },
   "outputs": [],
   "source": [
    "# functions can take both positional and keyword arguments\n",
    "def line(x, a=1, b=0):\n",
    "    return a * x + b"
   ]
  },
  {
   "cell_type": "code",
   "execution_count": null,
   "metadata": {
    "slideshow": {
     "slide_type": "fragment"
    }
   },
   "outputs": [],
   "source": [
    "line(42)            # no keyword args, returns 1*42 + 0"
   ]
  },
  {
   "cell_type": "code",
   "execution_count": null,
   "metadata": {
    "slideshow": {
     "slide_type": "subslide"
    }
   },
   "outputs": [],
   "source": [
    "line(42, 2)         # a=2, returns 84"
   ]
  },
  {
   "cell_type": "code",
   "execution_count": null,
   "metadata": {
    "slideshow": {
     "slide_type": "fragment"
    }
   },
   "outputs": [],
   "source": [
    "line(42, b=10)      # a=1, b=10, returns 52"
   ]
  },
  {
   "cell_type": "code",
   "execution_count": null,
   "metadata": {
    "slideshow": {
     "slide_type": "fragment"
    }
   },
   "outputs": [],
   "source": [
    "line(42, b=10, a=2) # returns 94"
   ]
  },
  {
   "cell_type": "markdown",
   "metadata": {
    "slideshow": {
     "slide_type": "subslide"
    }
   },
   "source": [
    "#### Multiple return values\n",
    "\n",
    "Sometimes we want a Python function to return more than one value. The way to do this is use a *tuple*.  A tuple is a immutable sequence of items separated by commas and surrounded by parentheses. In Python it is common to use tuples (a generalized way of saying double, triples, quadruples) to pass data in and out of functions."
   ]
  },
  {
   "cell_type": "code",
   "execution_count": null,
   "metadata": {
    "slideshow": {
     "slide_type": "fragment"
    }
   },
   "outputs": [],
   "source": [
    "def momentum_energy(m, v):\n",
    "    p = m * v\n",
    "    e = 0.5 * m * v**2\n",
    "    return (p, e)"
   ]
  },
  {
   "cell_type": "code",
   "execution_count": null,
   "metadata": {
    "slideshow": {
     "slide_type": "fragment"
    }
   },
   "outputs": [],
   "source": [
    "# returns a tuple\n",
    "p_e = momentum_energy(42.0, 65.0)\n",
    "print(p_e)"
   ]
  },
  {
   "cell_type": "code",
   "execution_count": null,
   "metadata": {
    "slideshow": {
     "slide_type": "subslide"
    }
   },
   "outputs": [],
   "source": [
    "# unpacks the tuple\n",
    "mom, eng = momentum_energy(42.0, 65.0)\n",
    "print(mom)"
   ]
  },
  {
   "cell_type": "code",
   "execution_count": null,
   "metadata": {
    "slideshow": {
     "slide_type": "fragment"
    }
   },
   "outputs": [],
   "source": [
    "def calc_powers(n):\n",
    "    return (n**1, n**2, n**3, n**4, n**5)\n",
    "\n",
    "calc_powers(2)"
   ]
  },
  {
   "cell_type": "markdown",
   "metadata": {
    "slideshow": {
     "slide_type": "subslide"
    }
   },
   "source": [
    "#### Scope\n",
    "\n",
    "Variables are not explicitly declared in Python but there are different levels of scope with a program.  The idea of *scope* is the names of variables that are accessible at a particular point in a program.  Have some variables in the *global scope* can be useful for defining program wide parameters and constants. Hopefully, a few examples are sufficient to get the idea across."
   ]
  },
  {
   "cell_type": "code",
   "execution_count": null,
   "metadata": {
    "slideshow": {
     "slide_type": "fragment"
    }
   },
   "outputs": [],
   "source": [
    "# global scope\n",
    "a = 6\n",
    "b = 42\n",
    "\n",
    "def func(x, y):\n",
    "    # local scope\n",
    "    z = 16\n",
    "    return a*x + b*y + z\n",
    "\n",
    "# global scope\n",
    "c = func(1, 5)"
   ]
  },
  {
   "cell_type": "code",
   "execution_count": null,
   "metadata": {
    "slideshow": {
     "slide_type": "subslide"
    }
   },
   "outputs": [],
   "source": [
    "a = 6\n",
    "\n",
    "def a_global():\n",
    "    print(a)\n",
    "\n",
    "def a_local():\n",
    "    a = 42\n",
    "    print(a)\n",
    "\n",
    "a_global()\n",
    "a_local()\n",
    "print(a)"
   ]
  },
  {
   "cell_type": "markdown",
   "metadata": {
    "slideshow": {
     "slide_type": "fragment"
    }
   },
   "source": [
    "*Advice:* In general don't worry too much about scope. Instead, try to ensure that you don't use the same variable name both as a global variable and a local variable.  Things may get confusing."
   ]
  },
  {
   "cell_type": "markdown",
   "metadata": {
    "slideshow": {
     "slide_type": "slide"
    }
   },
   "source": [
    "## Program structure\n",
    "\n",
    "Now that we know how to use functions, here is the code rewritten with better program structure."
   ]
  },
  {
   "cell_type": "code",
   "execution_count": null,
   "metadata": {
    "slideshow": {
     "slide_type": "fragment"
    }
   },
   "outputs": [],
   "source": [
    "# 1D radioactive decay\n",
    "\n",
    "import numpy as np\n",
    "import matplotlib.pyplot as plt\n",
    "plt.style.use('default')\n",
    "\n",
    "# initial number of uranium atoms\n",
    "N_uranium_initial = 1000\n",
    "\n",
    "# decay constant of 238 U \n",
    "k_per_s = 4.916e-18\n",
    "# expressed as 'per year'\n",
    "k = k_per_s * 365*24*60*60"
   ]
  },
  {
   "cell_type": "code",
   "execution_count": null,
   "metadata": {
    "slideshow": {
     "slide_type": "subslide"
    }
   },
   "outputs": [],
   "source": [
    "def solve(dt=100e6, tmax=10.0e9):\n",
    "    # Given a time step dt, integrate a one decay process equation\n",
    "    # up to a maximum time value of tmax.  \n",
    "    # Returns arrays for time and number of atoms.\n",
    "    \n",
    "    # calculate an array for all times\n",
    "    t = np.arange(0, tmax, dt)\n",
    "\n",
    "    # determine total number of timesteps needed\n",
    "    M = len(t)\n",
    "\n",
    "    # initializes N_uranium, an array of dimension M to being all zeros\n",
    "    N_uranium = np.zeros(M)\n",
    "\n",
    "    # the initial condition, first entry in the array N_uranium is N_uranium_initial\n",
    "    N_uranium[0] = N_uranium_initial\n",
    "\n",
    "    # loop over the timesteps and calculate the numerical solution\n",
    "    for i in range(1, M):\n",
    "        N_uranium[i] = N_uranium[i-1] - (k * N_uranium[i-1])*dt\n",
    "\n",
    "    return t, N_uranium"
   ]
  },
  {
   "cell_type": "code",
   "execution_count": null,
   "metadata": {
    "slideshow": {
     "slide_type": "subslide"
    }
   },
   "outputs": [],
   "source": [
    "def plot(t, N_uranium, style='', label=''):\n",
    "\n",
    "    # Plot the solution \n",
    "    plt.plot(t, N_uranium, style, label=label); \n",
    "    \n",
    "    # label axes\n",
    "    plt.xlabel('Time in years')\n",
    "    plt.ylabel('Number of atoms')\n",
    "\n",
    "    # axes scales\n",
    "    plt.xlim(0, max(t))\n",
    "    plt.ylim(0, N_uranium_initial)\n",
    "    plt.legend()"
   ]
  },
  {
   "cell_type": "code",
   "execution_count": null,
   "metadata": {
    "slideshow": {
     "slide_type": "subslide"
    }
   },
   "outputs": [],
   "source": [
    "# create a new empty figure for plots\n",
    "fig, axes = plt.subplots()\n",
    "    \n",
    "# numerically solve and plot\n",
    "dt = 100e6\n",
    "t, N_uranium = solve(dt=dt)\n",
    "plot(t, N_uranium, style='b-', label='Numerical')\n",
    "    \n",
    "# For comparison, calculate and plot the analytical solution\n",
    "N_analytical = N_uranium_initial * np.exp(-k * t)\n",
    "plot(t, N_analytical, style='r-', label='Analytical')\n",
    "\n",
    "plt.show()"
   ]
  },
  {
   "cell_type": "markdown",
   "metadata": {
    "slideshow": {
     "slide_type": "subslide"
    }
   },
   "source": [
    "* What are the functions defined in this program?\n",
    "\n",
    "* Trace the order of execution.\n",
    "\n",
    "* What variables are passed as arguments?\n",
    "\n",
    "* What are the global variables (variables in the global scope)?"
   ]
  },
  {
   "cell_type": "markdown",
   "metadata": {
    "slideshow": {
     "slide_type": "slide"
    }
   },
   "source": [
    "## Better graphics\n",
    "\n",
    "Let's also consider the final piece of advice given above:\n",
    "\n",
    "5\\. **Take the time to make the graphics presentable**. In almost all cases, numerical results should be presented graphically. The axes should be labeled clearly (including units, where appropriate) and parameter values given directly on the graph.\n",
    "\n",
    "We can do even a better job at following this advice by including the parameters directly on the plot. \n",
    "\n",
    "\n"
   ]
  },
  {
   "cell_type": "code",
   "execution_count": null,
   "metadata": {
    "slideshow": {
     "slide_type": "subslide"
    }
   },
   "outputs": [],
   "source": [
    "# create a string with k and dt embedded\n",
    "parameters = 'Decay constant {:.2e}\\nTime step {:.2e}'.format(k, dt)\n",
    "\n",
    "# add this text to the axes of the plot\n",
    "axes.text(0.1e10, 200, parameters, fontsize=12)\n",
    "\n",
    "# show the same figure again in this cell\n",
    "fig"
   ]
  },
  {
   "cell_type": "markdown",
   "metadata": {
    "slideshow": {
     "slide_type": "slide"
    }
   },
   "source": [
    "## Testing\n",
    "\n",
    "*Giordano 1.4*\n",
    "\n",
    "Creating a working program is more than just getting the code to run without any syntax errors.  We also need to be concerned about whether the output is correct!  Checking a program is not always a trivial task but here are some guidelines:"
   ]
  },
  {
   "cell_type": "markdown",
   "metadata": {
    "slideshow": {
     "slide_type": "fragment"
    }
   },
   "source": [
    "1\\. **Does the output look reasonable?** Before you perform any calculation you should always have at least a rough idea of what the result should be. The first thing you should do when considering the results from any program is ask whether or not they are consistent with your intuition and instincts. This exercise can also improve your overall understanding of the problem. When you show your result to someone else, you should always be able to convice them that it makes sense."
   ]
  },
  {
   "cell_type": "markdown",
   "metadata": {
    "slideshow": {
     "slide_type": "subslide"
    }
   },
   "source": [
    "2\\. **Does the program agree with any exact results that are available?**  Since we knew the analytical solution for our radioactive decay problem, we were able to compare our numerical values with the exact result. While such a comparison will not be possible for most of the numerical calculations you will encounter, exact results are sometime available in certain limits, that is, for special values of the paramters. You should always run your program in those limits to check that it gives the correct answer. This is a necessary (but not sufficient) test that a program is correct in the general case."
   ]
  },
  {
   "cell_type": "markdown",
   "metadata": {
    "slideshow": {
     "slide_type": "subslide"
    }
   },
   "source": [
    "3\\. **Always check that your program gives the same answer for different *step sizes*.** Our decay program involved a time-step variable, `dt`, and most other numerical calculation involve similar step- or grid-size parameters. Your final answer should be independent of the values of such parameters. This is another necessary (but not sufficient) test of a program's accuracy."
   ]
  },
  {
   "cell_type": "markdown",
   "metadata": {
    "slideshow": {
     "slide_type": "fragment"
    }
   },
   "source": [
    "Checking a program should not be viewed as a trivial, last minute job. It is not unreasonable to spend as much time checking a program as it takes writing it. A result is not much good if you don't trust it to be correct."
   ]
  },
  {
   "cell_type": "markdown",
   "metadata": {
    "slideshow": {
     "slide_type": "subslide"
    }
   },
   "source": [
    "### Changing the step size\n",
    "\n",
    "*Giordano section 1.5*\n",
    "\n",
    "You may be asking why we went to the effort of writting the code to have separate functions for the solving and the plotting. Were we not done with this problem with the version of the code we started with in the lecture?\n",
    "\n",
    "We can use this added level of program structure to quickly investigate the impact of step size. Without this program structure, we might find ourselves copying and pasting large sections of our program.  It is good programming style to DRY (*Do not Repeat Yourself*)."
   ]
  },
  {
   "cell_type": "markdown",
   "metadata": {
    "slideshow": {
     "slide_type": "subslide"
    }
   },
   "source": [
    "Consider the following code:"
   ]
  },
  {
   "cell_type": "code",
   "execution_count": null,
   "metadata": {
    "slideshow": {
     "slide_type": "fragment"
    }
   },
   "outputs": [],
   "source": [
    "fig, axes = plt.subplots()\n",
    "\n",
    "t, N_uranium = solve(dt=1e6)\n",
    "plot(t, N_uranium, label='dt = 50e6', style=':')\n",
    "\n",
    "t, N_uranium = solve(dt=100e6)\n",
    "plot(t, N_uranium, label='dt = 100e6', style='-')\n",
    "\n",
    "t, N_uranium = solve(dt=500e6)\n",
    "plot(t, N_uranium, label='dt = 500e6', style='o-')\n",
    "    \n",
    "t, N_uranium = solve(dt=3000e6)\n",
    "plot(t, N_uranium, label='dt = 3000e6', style='o-')\n",
    "\n",
    "plt.title('Numerical error with different step sizes')\n",
    "plt.show()"
   ]
  },
  {
   "cell_type": "markdown",
   "metadata": {
    "slideshow": {
     "slide_type": "subslide"
    }
   },
   "source": [
    "The solution depends on the value of step size, `dt`, we chose. For large values of dt the numerical solution under estimates the number of uranium atoms.  With successively smaller values of dt the numerical solution appears to be converging to solution.  You should always check the effect of time step on our numerical solutions.\n",
    "\n",
    "Numerical errors are an unavoidable aspect of computational physics.  We will investigate the mathematics of how numerical errors arise briefly later on this course. In advanced courses on numerical analysis and scientific computation, you learn more about the numerical properities of algorithms."
   ]
  },
  {
   "cell_type": "markdown",
   "metadata": {
    "slideshow": {
     "slide_type": "slide"
    }
   },
   "source": [
    "#  Next steps\n",
    "\n",
    "1. Distribute chapter 2 of Giordano and Nakanishi.  Lectures 3 - 6 are based on this chapter.  Please read at least before the start of Lab 2 next week.\n",
    "2. Discuss Assignment 1."
   ]
  },
  {
   "cell_type": "markdown",
   "metadata": {},
   "source": [
    "<!--NAVIGATION-->\n",
    "< [Solving Problems Numerically](Lecture.01-Solving-Problems-Numerically.ipynb) | [Contents](Index.ipynb) | [Bicycle Racing: The Effect of Air Resistance](Lecture.03-Bicyle-Racing.ipynb) >"
   ]
  }
 ],
 "metadata": {
  "anaconda-cloud": {},
  "kernelspec": {
   "display_name": "Python 3",
   "language": "python",
   "name": "python3"
  },
  "language_info": {
   "codemirror_mode": {
    "name": "ipython",
    "version": 3
   },
   "file_extension": ".py",
   "mimetype": "text/x-python",
   "name": "python",
   "nbconvert_exporter": "python",
   "pygments_lexer": "ipython3",
   "version": "3.6.3"
  }
 },
 "nbformat": 4,
 "nbformat_minor": 1
}
