{
 "cells": [
  {
   "cell_type": "code",
   "execution_count": null,
   "metadata": {
    "slideshow": {
     "slide_type": "skip"
    }
   },
   "outputs": [],
   "source": [
    "%matplotlib inline\n",
    "import numpy as np\n",
    "import matplotlib.pyplot as plt"
   ]
  },
  {
   "cell_type": "markdown",
   "metadata": {
    "slideshow": {
     "slide_type": "slide"
    }
   },
   "source": [
    "# Baseball\n",
    "## Motion of Batted and Pitched Balls\n",
    "\n",
    "## Lecture 5"
   ]
  },
  {
   "cell_type": "markdown",
   "metadata": {
    "slideshow": {
     "slide_type": "slide"
    }
   },
   "source": [
    "Let's move on from cannon shells to a more friendly game of baseball.  If we want to understand the dynamics of a ball that is hit by a batter or thrown by a pitcher, the approach is still use projectile motion like we did in the previous lecture."
   ]
  },
  {
   "cell_type": "markdown",
   "metadata": {
    "slideshow": {
     "slide_type": "fragment"
    }
   },
   "source": [
    "The air drag turns out to be again critically important for correctly predicting the trajectory and range of baseball.  Air drag depends on speed in two ways.  The first is directly, as in\n",
    "\n",
    "$$ F_{drag} = \\frac{1}{2} \\rho C A v^2 $$\n",
    "\n",
    "where the drag force is proportional to the square of the velocity (as well as the cross-sectional area $A$ and air density $\\rho$.  "
   ]
  },
  {
   "cell_type": "markdown",
   "metadata": {
    "slideshow": {
     "slide_type": "slide"
    }
   },
   "source": [
    "### Velocity dependent drag\n",
    "\n",
    "The second is that the coefficient $C$ itself is also a function of $v$.\n",
    "\n",
    "![Drag Coefficient for Baseball](http://farside.ph.utexas.edu/teaching/329/lectures/img362.png)"
   ]
  },
  {
   "cell_type": "markdown",
   "metadata": {
    "slideshow": {
     "slide_type": "slide"
    }
   },
   "source": [
    "This plot is taken from a book called *The Physics of Baseball* and appears to be based on experimental data.  The drop in drag coefficient is due to a transition from a laminar flow around the ball to a turbulent flow around the ball.\n",
    "\n",
    "\n",
    "The textbook by Giordano offers the following approximation for the drag of of a normal baseball (in SI units):\n",
    "\n",
    "$$ \\frac{B_2}{m} = 0.0039 + \\frac{0.0058}{1+\\exp[(v-v_d)/\\Delta]}$$\n",
    "\n",
    "where $v_d$ = 35 m/s and $\\Delta$ = 5 m/s. We call this kind of approximate formula a *parametrization*.  Note that the details of factors such as air density, mass, cross-sectional area and so on are all contained with in this value $B_2/m$."
   ]
  },
  {
   "cell_type": "markdown",
   "metadata": {
    "slideshow": {
     "slide_type": "slide"
    }
   },
   "source": [
    "To use it a numerical model, we can define a new function that calculates this formula for us with `v` being passed in as an argument."
   ]
  },
  {
   "cell_type": "code",
   "execution_count": null,
   "metadata": {
    "slideshow": {
     "slide_type": "fragment"
    }
   },
   "outputs": [],
   "source": [
    "def Bm(v):\n",
    "    vd = 35 # m/s\n",
    "    Δ = 5 # m/s\n",
    "    Bm = 0.0039 + 0.0058 / (1 + np.exp(v-vd) / Δ)\n",
    "    return Bm"
   ]
  },
  {
   "cell_type": "markdown",
   "metadata": {},
   "source": [
    "Python code can be written using Unicode (not just ASCII letters and numbers).  The capital delta, $\\Delta$, could also be replaced with the word `Delta` (and it often is in other programming languages).\n",
    "\n",
    "To type this character (assuming you do not have a Greek keyboard) Jupyter has a neat feature that if you type\n",
    "    \n",
    "`\\Delta<TAB>`\n",
    "\n",
    "in a code cell, it is automatically turned into a Δ symbol. "
   ]
  },
  {
   "cell_type": "markdown",
   "metadata": {
    "slideshow": {
     "slide_type": "subslide"
    }
   },
   "source": [
    "A wonderful property of using numpy functions like `np.exp` is that it can handle both individual numbers,"
   ]
  },
  {
   "cell_type": "code",
   "execution_count": null,
   "metadata": {
    "slideshow": {
     "slide_type": "fragment"
    }
   },
   "outputs": [],
   "source": [
    "print(Bm(30))"
   ]
  },
  {
   "cell_type": "markdown",
   "metadata": {
    "slideshow": {
     "slide_type": "fragment"
    }
   },
   "source": [
    "or evaluate an entire array in with one function call"
   ]
  },
  {
   "cell_type": "code",
   "execution_count": null,
   "metadata": {
    "slideshow": {
     "slide_type": "fragment"
    }
   },
   "outputs": [],
   "source": [
    "v = np.arange(20, 60, 10)\n",
    "print(Bm(v))"
   ]
  },
  {
   "cell_type": "markdown",
   "metadata": {
    "slideshow": {
     "slide_type": "slide"
    }
   },
   "source": [
    "Let's decrease the stepsize for `v` and plot $B_2/m$ vs $v$."
   ]
  },
  {
   "cell_type": "code",
   "execution_count": null,
   "metadata": {
    "slideshow": {
     "slide_type": "fragment"
    }
   },
   "outputs": [],
   "source": [
    "v = np.arange(20, 60, 1)\n",
    "fig, axes = plt.subplots()\n",
    "plt.plot(v, Bm(v))\n",
    "plt.xlabel(\"$v$ (m/s)\")\n",
    "plt.ylabel(\"$B_2 / m$ (m$^{-1}$)\")\n",
    "plt.show()"
   ]
  },
  {
   "cell_type": "markdown",
   "metadata": {
    "slideshow": {
     "slide_type": "subslide"
    }
   },
   "source": [
    "Going forward instead of using a constant variable called `Bm` that will represent the $B_2/m$ factor, we will calculate `Bm(v)` as a function of the velocity as needed."
   ]
  },
  {
   "cell_type": "markdown",
   "metadata": {
    "slideshow": {
     "slide_type": "slide"
    }
   },
   "source": [
    "### Wind and Relative Velocity"
   ]
  },
  {
   "cell_type": "markdown",
   "metadata": {
    "slideshow": {
     "slide_type": "fragment"
    }
   },
   "source": [
    "Another variation we can include is to account for the effects of a tail or head wind. Let's assume that the wind is only blowing horizontally and has a constant magnitude and direction during the flight of the ball.\n",
    "\n",
    "The components of the drag force become\n",
    "\n",
    "\n",
    "\\begin{align}\n",
    "F_{drag,x} &= - B_2 \\left| \\vec{v} - \\vec{v}_{wind} \\right| (v_x - v_{wind} )\\\\\n",
    "F_{drag,y} &= - B_2 \\left| \\vec{v} - \\vec{v}_{wind} \\right| v_y\n",
    "\\end{align}\n",
    "\n",
    "This because air drag is due the *relative velocity* of the ball with repect to the air.\n"
   ]
  },
  {
   "cell_type": "markdown",
   "metadata": {
    "slideshow": {
     "slide_type": "slide"
    }
   },
   "source": [
    "### Numerical Solution"
   ]
  },
  {
   "cell_type": "markdown",
   "metadata": {
    "slideshow": {
     "slide_type": "fragment"
    }
   },
   "source": [
    "Now let's use Euler's method to determine the path of projectile with an initial velocity.  While now we are modeling baseballs instead of cannon shells, the numerical code is basically the same as it was from last lecture with the addition of the new `Bm(v)` function and the effect of the wind."
   ]
  },
  {
   "cell_type": "markdown",
   "metadata": {
    "slideshow": {
     "slide_type": "slide"
    }
   },
   "source": [
    "#### Initialization"
   ]
  },
  {
   "cell_type": "code",
   "execution_count": null,
   "metadata": {
    "slideshow": {
     "slide_type": "fragment"
    }
   },
   "outputs": [],
   "source": [
    "# acceleration due to gravity, m/s^2\n",
    "g = 9.81\n",
    "\n",
    "# time step, s\n",
    "dt = 0.01\n",
    "\n",
    "# max time, s\n",
    "tmax = 200"
   ]
  },
  {
   "cell_type": "markdown",
   "metadata": {
    "slideshow": {
     "slide_type": "slide"
    }
   },
   "source": [
    "#### Computation"
   ]
  },
  {
   "cell_type": "code",
   "execution_count": null,
   "metadata": {
    "slideshow": {
     "slide_type": "fragment"
    }
   },
   "outputs": [],
   "source": [
    "def update(i, x, y, vx, vy, v_wind=0):\n",
    "    \n",
    "    # update positions\n",
    "    x[i+1] = x[i] + vx*dt\n",
    "    y[i+1] = y[i] + vy*dt\n",
    "        \n",
    "    # calculate relative velocity magnitude\n",
    "    v = np.sqrt((vx - v_wind)**2 + vy**2)\n",
    "        \n",
    "    # compute air drag\n",
    "    Fdrag_x = -(Bm(v))*v*(vx-v_wind)\n",
    "    Fdrag_y = -(Bm(v))*v*vy\n",
    "        \n",
    "    # update velocities\n",
    "    vx_new = vx + Fdrag_x * dt\n",
    "    vy_new = vy + (-g + Fdrag_y) * dt\n",
    "    \n",
    "    return vx_new, vy_new"
   ]
  },
  {
   "cell_type": "code",
   "execution_count": null,
   "metadata": {
    "slideshow": {
     "slide_type": "slide"
    }
   },
   "outputs": [],
   "source": [
    "def solve(theta=45, v0=70, y0=0, v_wind=0):\n",
    "    \"\"\"\n",
    "    Given \n",
    "        theta, initial angle (degrees)\n",
    "        v0, initial speed (m/s)\n",
    "        y0, initial height above the ground (m)\n",
    "        v_wind, wind (horizontal) velocity (m/s)\n",
    "    Returns\n",
    "        x,y trajectory of a projectile\n",
    "    \"\"\"\n",
    "    \n",
    "    # Allocate memory for arrays and set to zero\n",
    "    N = round(tmax / dt)\n",
    "    x = np.zeros(N)\n",
    "    y = np.zeros(N)\n",
    "    \n",
    "    # Initial values\n",
    "    x[0] = 0\n",
    "    y[0] = y0\n",
    "    vx = v0*np.cos(np.deg2rad(theta))\n",
    "    vy = v0*np.sin(np.deg2rad(theta))\n",
    "\n",
    "    # Calculate the solution\n",
    "    for i in range(N-1):\n",
    "        vx, vy = update(i, x, y, vx, vy, v_wind)\n",
    "        \n",
    "        # stop when y <= 0\n",
    "        if y[i+1] <= 0:\n",
    "            break\n",
    "\n",
    "    # truncate arrays to when projectile has hit the ground (y<=0)\n",
    "    N = i+2\n",
    "    x = x[:N]\n",
    "    y = y[:N]\n",
    "\n",
    "    # interpolate final position if projectile is below ground level\n",
    "    if y[i+1] < 0:\n",
    "        r = -y[i]/y[i+1]\n",
    "        x[i+1]=(x[i]+r*x[i+1])/(r+1)\n",
    "        y[i+1]=0 \n",
    "\n",
    "    return x, y"
   ]
  },
  {
   "cell_type": "markdown",
   "metadata": {
    "slideshow": {
     "slide_type": "slide"
    }
   },
   "source": [
    "#### Plotting"
   ]
  },
  {
   "cell_type": "code",
   "execution_count": null,
   "metadata": {
    "slideshow": {
     "slide_type": "fragment"
    }
   },
   "outputs": [],
   "source": [
    "def plot(x, y, label='', style='-'):\n",
    "    plt.title('Trajectory of a baseball')\n",
    "\n",
    "    plt.plot(x, y, style, label=label)\n",
    "    plt.xlabel('x (m)')\n",
    "    plt.ylabel('y (m)')"
   ]
  },
  {
   "cell_type": "markdown",
   "metadata": {
    "slideshow": {
     "slide_type": "slide"
    }
   },
   "source": [
    "#### Driver"
   ]
  },
  {
   "cell_type": "code",
   "execution_count": null,
   "metadata": {
    "slideshow": {
     "slide_type": "subslide"
    }
   },
   "outputs": [],
   "source": [
    "theta = 35 # degrees\n",
    "v0 = 50 # m/s (about 110 mph)\n",
    "y0 = 2 # m\n",
    "\n",
    "fig, axes = plt.subplots()\n",
    "for v_wind in [-5, 0, 5]:\n",
    "    x, y = solve(theta=theta, \n",
    "                 v0=v0, y0=y0, \n",
    "                 v_wind=v_wind)\n",
    "    plot(x,y, label='v_wind = {}'.format(v_wind)) \n",
    "    \n",
    "plt.legend()\n",
    "plt.show()"
   ]
  },
  {
   "cell_type": "markdown",
   "metadata": {
    "slideshow": {
     "slide_type": "slide"
    }
   },
   "source": [
    "### Exercise\n",
    "> 1. Go back and review the code in detail. Any questions?\n",
    "> 2. Try using `fig, axes = plt.subplots(figsize=(10,4))` and see what happens\n",
    "> 3. Add the line `plt.axis('equal')` to the driver code just before the `plt.show()` function and rerun."
   ]
  },
  {
   "cell_type": "markdown",
   "metadata": {
    "slideshow": {
     "slide_type": "slide"
    }
   },
   "source": [
    "## Effects of spin"
   ]
  },
  {
   "cell_type": "markdown",
   "metadata": {
    "slideshow": {
     "slide_type": "fragment"
    }
   },
   "source": [
    "We've seen air drag can considerable change the range of a projectile - for both cannon shells and baseballs. In addition, it turns out that *spin* can radically affect the trajectory of projectile. This is called the Magnus effect or Magnus Force.\n",
    "\n"
   ]
  },
  {
   "cell_type": "markdown",
   "metadata": {
    "slideshow": {
     "slide_type": "slide"
    }
   },
   "source": [
    "### Magnus Force\n",
    "\n",
    "* [What Is The Magnus Force?](https://www.youtube.com/watch?v=23f1jvGUWJs)"
   ]
  },
  {
   "cell_type": "markdown",
   "metadata": {
    "slideshow": {
     "slide_type": "fragment"
    }
   },
   "source": [
    "Let's model this so-called Magnus force and add it in to our computational model for projectile motion.  Consider the drag acting on either side of a spinning ball rotating at a angular velocity $\\omega$.\n",
    "\n",
    "See figure 2.8 in Giordano\n",
    "\n",
    "We know that $F_{drag}$ depends on the relative velocity of the ball with the air.  When the ball is spinning, one side is moving faster and one side is moving slower relative to the air. Hence, the drag forces on each side are not the same."
   ]
  },
  {
   "cell_type": "markdown",
   "metadata": {
    "slideshow": {
     "slide_type": "slide"
    }
   },
   "source": [
    "The details of calculating the Magnus force directly is beyond the scope of this course (requires Fluid Dynamics) but we can understand the functional form of the Magnus force.\n",
    "\n",
    "The drag force is proportional to the square of the relative velocity. On the one side this is  $(v + r \\omega))^2$ while on the other it is $(v - r\\omega$)^2.  The Magnus force is proportional to the difference between these two terms:\n",
    "\n",
    "$$ F_m \\propto (v+r\\omega)^2 - (v-r\\omega)^2 \\sim v r \\omega\\;.$$"
   ]
  },
  {
   "cell_type": "markdown",
   "metadata": {
    "slideshow": {
     "slide_type": "slide"
    }
   },
   "source": [
    "So the next spin-dependent force should have a functional form like\n",
    "\n",
    "$$ F_M = S_0 \\omega v_x $$\n",
    "\n",
    "For a pitched baseball, we can assume that the velocity is predominantly in the $x$-direction. so the Magnus force will act in direction perpendicular to both the $x$-direction and the axis of rotation.   \n",
    "\n",
    "In the fully general case, we would need to consider a cross-product like \n",
    "\n",
    "$$\\vec{F}_M = S_0 \\vec{\\omega} \\times \\vec{v}$$\n",
    "\n",
    "for the Magnus effect."
   ]
  },
  {
   "cell_type": "markdown",
   "metadata": {
    "slideshow": {
     "slide_type": "slide"
    }
   },
   "source": [
    "The coefficient $S_0$ is an experimentally determined parameter.  For a $m=149$ g baseball, *Adair (1990)* quotes a value of $S_0 / m \\approx 4.1 \\times 10^{-4}$. "
   ]
  },
  {
   "cell_type": "markdown",
   "metadata": {
    "slideshow": {
     "slide_type": "slide"
    }
   },
   "source": [
    "To add the effect of the Magnus force into our numerical solution to investigate the dynamics of a curve ball we need to think about our trajectory in all three dimensions.  The equations of motion are\n",
    "\n",
    "\n",
    "\\begin{align}\n",
    "\\frac{d x}{dt} &= v_x \\\\\n",
    "\\frac{d v_x}{dt} &= - \\frac{B_2}{m} v v_x \\\\\n",
    "\\frac{d y}{dt} &= v_y \\\\\n",
    "\\frac{d v_y}{dt} &= -g \\\\ \n",
    "\\frac{d z}{dt} &= v_z \\\\\n",
    "\\frac{d v_z}{dt} &= - \\frac{S_0}{m} v_x \\omega\n",
    "\\end{align}\n",
    "\n",
    "Since the velocity of a pitched ball is primarily in the $x$-direction, the drag is applied in that direction.   We are assuming here that the drag forces in the $y$- and $z-$ direction are not significant. The axis of rotation is parallel to the $y$-axis (perpendicular to the ground). This is how the textbook sets up the equations.  We could always include more forces if we wanted.\n",
    "\n"
   ]
  },
  {
   "cell_type": "markdown",
   "metadata": {
    "slideshow": {
     "slide_type": "slide"
    }
   },
   "source": [
    "## Code with rotation\n",
    "\n",
    "Using Euler's method once again gives us the following modified code. Here, I have included the drag forces and the Magnus forces in all three directions for completeness."
   ]
  },
  {
   "cell_type": "code",
   "execution_count": null,
   "metadata": {
    "slideshow": {
     "slide_type": "slide"
    }
   },
   "outputs": [],
   "source": [
    "def update(i, \n",
    "           rx, ry, rz, \n",
    "           vx, vy, vz, \n",
    "           ωx, ωy, ωz):\n",
    "    \"\"\"\n",
    "    Update (in-place) the position arrays at time step i+1\n",
    "    \n",
    "    rx, ry, rz are arrays given the position r at all time steps\n",
    "    vx, vy, vz are the velocity components from the i'th time step\n",
    "    ωx, ωy, ωz are components of the angular velocity vector\n",
    "    \n",
    "    Returns the velocity components for time step i+1\n",
    "    \"\"\"\n",
    "\n",
    "    # update positions\n",
    "    rx[i+1] = rx[i] + vx*dt\n",
    "    ry[i+1] = ry[i] + vy*dt\n",
    "    rz[i+1] = rz[i] + vz*dt\n",
    "        \n",
    "    # calculate relative velocity magnitude\n",
    "    v_mag = np.sqrt(vx**2 + vy**2 + vz**2)\n",
    "        \n",
    "    # compute air drag\n",
    "    Fdrag_x = -(Bm(v_mag))*v_mag*vx*0\n",
    "    Fdrag_y = -(Bm(v_mag))*v_mag*vy*0\n",
    "    Fdrag_z = -(Bm(v_mag))*v_mag*vz*0\n",
    "    \n",
    "    # Magnus force parameter\n",
    "    Sm = 4.1e-4\n",
    "    \n",
    "    # compute Magnus force Fmagnus = S0/m ω x v\n",
    "    Fmagnus_x = Sm * (ωy*vz - ωz*vy)\n",
    "    Fmagnus_y = Sm * (ωz*vx - ωx*vz)\n",
    "    Fmagnus_z = Sm * (ωx*vy - ωy*vx)\n",
    "        \n",
    "    # update velocities\n",
    "    vx_new = vx + (     Fdrag_x + Fmagnus_x) * dt\n",
    "    vy_new = vy + (-g + Fdrag_y + Fmagnus_y) * dt\n",
    "    vz_new = vz + (     Fdrag_z + Fmagnus_z) * dt\n",
    "    \n",
    "    return vx_new, vy_new, vz_new"
   ]
  },
  {
   "cell_type": "code",
   "execution_count": null,
   "metadata": {
    "slideshow": {
     "slide_type": "slide"
    }
   },
   "outputs": [],
   "source": [
    "def solve(theta=45, v0=70, y0=0, xmax = 15, ωy=0):\n",
    "    \"\"\"\n",
    "    Given \n",
    "        theta, initial angle (degrees)\n",
    "        v0, initial speed (m/s)\n",
    "        y0, initial height above the ground (m)\n",
    "        ωy, angular velocity (rotation axis vertically aligned)\n",
    "        xmax, distance from pitcher to home plate\n",
    "        \n",
    "    Returns\n",
    "        x,y,z trajectory of a projectile\n",
    "    \"\"\"\n",
    "    \n",
    "    # Allocate memory for arrays and set to zero\n",
    "    N = round(tmax / dt)\n",
    "    x = np.zeros(N)\n",
    "    y = np.zeros(N)\n",
    "    z = np.zeros(N)\n",
    "    \n",
    "    # Initial values\n",
    "    x[0] = 0\n",
    "    y[0] = y0\n",
    "    z[0] = 0\n",
    "    vx = v0*np.cos(np.deg2rad(theta))\n",
    "    vy = v0*np.sin(np.deg2rad(theta))\n",
    "    vz = 0\n",
    "\n",
    "    # Calculate the solution\n",
    "    for i in range(N-1):\n",
    "        vx, vy, vz = update(i, \n",
    "                            x, y, z,\n",
    "                            vx, vy, vz,\n",
    "                            0, ωy, 0)\n",
    "        \n",
    "        # stop when the ball crosses home plate\n",
    "        if x[i+1] >= xmax:\n",
    "            break\n",
    "\n",
    "    # truncate arrays to when projectile has stopped\n",
    "    N = i+2\n",
    "    x = x[:N]\n",
    "    y = y[:N]\n",
    "    z = z[:N]\n",
    "    \n",
    "    return x, y, z"
   ]
  },
  {
   "cell_type": "code",
   "execution_count": null,
   "metadata": {
    "scrolled": false,
    "slideshow": {
     "slide_type": "slide"
    }
   },
   "outputs": [],
   "source": [
    "theta = 0 # degrees\n",
    "v0 = 50 # m/s (about 110 mph)\n",
    "y0 = 1 # m\n",
    "ωy = 180 # rad/s (about 30 rev/s)\n",
    "xmax = 30 # m\n",
    "\n",
    "fig, axes = plt.subplots(figsize=(6,6))\n",
    "\n",
    "x, y, z = solve(theta=theta, v0=v0, y0=y0, ωy=ωy,\n",
    "                xmax=xmax)\n",
    "\n",
    "plot(x, y, label='vertical position (y)')\n",
    "plot(x, z, label='horizontal position (z)')\n",
    "plt.xlim(-5, 35)\n",
    "plt.ylim(-1.2, 1.2)\n",
    "plt.legend(loc='lower left')\n",
    "plt.ylabel('y or z (m)')\n",
    "plt.axvline(0, linestyle=':', color='k')\n",
    "plt.axvline(xmax, linestyle=':', color='k')\n",
    "plt.text(0, 0, 'pitcher', rotation=90, \n",
    "         horizontalalignment='right',\n",
    "         verticalalignment='center')\n",
    "plt.text(xmax, 0, 'home plate', rotation=90, \n",
    "         horizontalalignment='left',\n",
    "         verticalalignment='center')\n",
    "plt.show()"
   ]
  },
  {
   "cell_type": "markdown",
   "metadata": {
    "slideshow": {
     "slide_type": "slide"
    }
   },
   "source": [
    "YouTube video:\n",
    "\n",
    "* [Surprising Applications of the Magnus Effect](https://www.youtube.com/watch?v=2OSrvzNW9FE )\n",
    "\n",
    "    \n",
    "\n",
    "    "
   ]
  }
 ],
 "metadata": {
  "anaconda-cloud": {},
  "kernelspec": {
   "display_name": "Python 3",
   "language": "python",
   "name": "python3"
  },
  "language_info": {
   "codemirror_mode": {
    "name": "ipython",
    "version": 3
   },
   "file_extension": ".py",
   "mimetype": "text/x-python",
   "name": "python",
   "nbconvert_exporter": "python",
   "pygments_lexer": "ipython3",
   "version": "3.6.4"
  }
 },
 "nbformat": 4,
 "nbformat_minor": 1
}
