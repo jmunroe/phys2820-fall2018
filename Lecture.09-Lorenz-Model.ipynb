{
 "cells": [
  {
   "cell_type": "code",
   "execution_count": null,
   "metadata": {
    "slideshow": {
     "slide_type": "skip"
    }
   },
   "outputs": [],
   "source": [
    "%matplotlib inline\n",
    "import numpy as np\n",
    "import matplotlib.pyplot as plt\n",
    "plt.style.use('default')"
   ]
  },
  {
   "cell_type": "markdown",
   "metadata": {
    "slideshow": {
     "slide_type": "slide"
    }
   },
   "source": [
    "# Lorenz Model and the Butterfly Effect\n",
    "## Lecture 9"
   ]
  },
  {
   "cell_type": "markdown",
   "metadata": {
    "slideshow": {
     "slide_type": "skip"
    }
   },
   "source": [
    "*Material adapted from [Chapter 1](http://www.math.harvard.edu/~knill/teaching/mathe320_2014/blog/ChaosGleick.pdf) of James Gleick, *Chaos*, Penguin Books, 1987.* "
   ]
  },
  {
   "cell_type": "markdown",
   "metadata": {
    "slideshow": {
     "slide_type": "slide"
    }
   },
   "source": [
    "> *Physicists like to think that all you have to do is say,\n",
    "> these are the conditions, now what happens next?*\n",
    ">\n",
    "Richard P. Feynman"
   ]
  },
  {
   "cell_type": "markdown",
   "metadata": {
    "slideshow": {
     "slide_type": "slide"
    }
   },
   "source": [
    "<img src=\"http://www.azquotes.com/picture-quotes/quote-when-a-butterfly-flutters-its-wings-in-one-part-of-the-world-it-can-eventually-cause-edward-norton-lorenz-107-79-51.jpg\" style=\"margin: 0 auto;\" >"
   ]
  },
  {
   "cell_type": "markdown",
   "metadata": {
    "slideshow": {
     "slide_type": "slide"
    }
   },
   "source": [
    "### Edward Lorenz - MIT, 1960\n",
    "\n",
    "> THE SUN BEAT DOWN through a sky that had never seen clouds. The winds swept across an earth as smooth as glass. Night never came, and autumn never gave way to winter. It never rained. The simulated weather in Edward Lorenz's new electronic computer changed slowly but certainly, drifting through a permanent dry midday midseason, as if the world had turned into Camelot, or some particularly bland version of southern California.\n"
   ]
  },
  {
   "cell_type": "markdown",
   "metadata": {
    "slideshow": {
     "slide_type": "slide"
    }
   },
   "source": [
    "### Simulated Weather Model\n",
    "\n",
    "- no clouds\n",
    "- no oceans\n",
    "- limited memory and speed\n",
    "- not realistic, just a *toy* model\n",
    "- output displayed as in print-outs, no fancy graphics\n",
    "\n",
    "<img src=\"https://upload.wikimedia.org/wikipedia/commons/thumb/f/fa/LGP-30_Manhattan_College.rjf.jpg/1280px-LGP-30_Manhattan_College.rjf.jpg\" width=\"40%\" style=\"margin: 0 auto;\" alt=\"LGP-30\">"
   ]
  },
  {
   "cell_type": "markdown",
   "metadata": {
    "slideshow": {
     "slide_type": "slide"
    }
   },
   "source": [
    "### Real variability\n",
    "\n",
    "> Every minute the machine marked the passing of a day by printing a row of numbers across a page. \n",
    "\n",
    "> If you knew how to read the printouts, you would see a prevailing westerly wind swing now to the north, now to the south, now back to the north. Digitized cyclones spun slowly around an idealized globe. \n",
    "\n",
    ">As word spread through the department, the other meteorologists would gather around with the graduate students,\n",
    "making bets on what Lorenz's weather would do next. \n",
    "\n",
    ">Somehow, nothing ever happened the same way twice."
   ]
  },
  {
   "cell_type": "markdown",
   "metadata": {
    "slideshow": {
     "slide_type": "slide"
    }
   },
   "source": [
    "# Weather vs Climate\n",
    "\n",
    "- Weather: variation, patterns\n",
    "- Climate: averages, statistics\n",
    "\n",
    "> Weather had a flavor that could not be expressed by talking about averages. The daily high temperature in Cambridge, Massachusetts, averages 75 degrees in June. \n",
    "\n",
    "Lorenz captured the essence of the way the patterns in the atmosphere changed over time.\n"
   ]
  },
  {
   "cell_type": "markdown",
   "metadata": {
    "slideshow": {
     "slide_type": "slide"
    }
   },
   "source": [
    "### 'Laws of Nature'\n",
    "\n",
    "Lorenz's simulated weather model\n",
    "- 12 numerical rules\n",
    "- Relationships between temperature and pressure, pressure and wind speed\n",
    "- Conservation laws of energy, mass, and momentum\n",
    "\n",
    "Newtonian approach: Determinism of physical laws\n",
    "\n",
    ">Those who made such models took for granted that, from present to future, the laws of motion provide a bridge of mathematical certainty. Understand the laws and you understand the universe. That , was the philosophy behind modeling weather on a computer. "
   ]
  },
  {
   "cell_type": "markdown",
   "metadata": {
    "slideshow": {
     "slide_type": "slide"
    }
   },
   "source": [
    "### Edward Lorenz, early life history\n",
    "\n",
    "- always interested in weather\n",
    "- strong affinity for mathematics\n",
    "- WWII weather forecaster for the Army Air Corps\n",
    "- made a career in meteorology\n",
    "- worked on general theory of atmospheric circulation\n",
    "- kept on thinking about weather forecasting"
   ]
  },
  {
   "cell_type": "markdown",
   "metadata": {
    "slideshow": {
     "slide_type": "slide"
    }
   },
   "source": [
    "### Weather Forecasting\n",
    "\n",
    "- To most serious meteorologists, forecasting was less than science. \n",
    "- Mostly guesswork, done by technicians.\n",
    "- The *science* of meteorology favours problems that had solutions.\n",
    "\n",
    "- Computers were not (yet) seen as an essential tool for theoretical science.\n",
    "    - *souped-up calculators*\n",
    "- But the speed of computers was increasing\n",
    "    - time was right to make the weather **predictable**"
   ]
  },
  {
   "cell_type": "markdown",
   "metadata": {
    "slideshow": {
     "slide_type": "slide"
    }
   },
   "source": [
    "### Comparison to astronomy\n",
    "\n",
    "- Newton's Laws allowed precise prediction of planets, comets, and tides.\n",
    "- Deterministic rules that make mechanics predictable\n",
    "- Motion of air and water as well described as motion for planets\n",
    "    - all the physics is there in the equations\n",
    "- Astronomers never made *perfect* predictions\n",
    "    - never could: effects of gravity by all planets, moons, and asteroids\n",
    "    \n",
    "Prediction:\n",
    "> Comet Halley will be back this way in seven-six years\n",
    "\n",
    "If it worked for comets, spacecraft, and missiles, why not winds and clouds?"
   ]
  },
  {
   "cell_type": "markdown",
   "metadata": {
    "slideshow": {
     "slide_type": "slide"
    }
   },
   "source": [
    "### Laplace's Demon\n",
    "\n",
    "- Weather was complicated, but governed by the laws of Newtonian mechanics\n",
    "- Shouldn't the weather be predictable?\n",
    ">Laplace, the eighteenth-century philosopher-mathematician who caught the Newtonian fever like no one else: \"Such an intelligence,\" Laplace wrote, \"would embrace in the same formula the movements of the greatest bodies of the universe and those of the lightest atom; for it, nothing would be uncertain and the future, as the past, would be present to its eyes.\" \n",
    "\n",
    "- Notwithstanding advances such as Einstein's relativity and Heisenberg's uncertainty, much of modern science has pursued his dream. \n",
    "-  Describe the \"universe\" (in whatever discipline biologists, neurologist, economists) into the simplest concepts that will obey scientific rules.\n",
    "> This view of Newtonian determinism has been intermingled with computing ever since John von Neumann designed his first machines at the Institute for Advanced Study in Princeton, New Jersey, in the 1950s. Von Neumann recognized that weather modeling could be an ideal task for a computer."
   ]
  },
  {
   "cell_type": "markdown",
   "metadata": {
    "slideshow": {
     "slide_type": "slide"
    }
   },
   "source": [
    "### A *small* compromise\n",
    "\n",
    "- Measurements are never perfect\n",
    "- Assumption: Given an approximate knowledge of a system's initial conditions and an understanding of natural law, one can calculate the approximate behavior of the system.\n",
    "> \"The basic idea of Western science is that you don't have to take into account the falling of a leaf on some planet in another galaxy when you're trying to account for the motion of a billiard ball on a pool table on earth. Very small influences can be neglected. There's a convergence in the way things work, and arbitrarily small influences don't blow up to have arbitrarily large effects.\" \n",
    "\n",
    "- Example: A tiny error in fixing the position of Comet Halley in 1910 would only cause a tiny error in predicting its arrival in 1986, and the error would stay small for millions of years to come. \n",
    "- Example: Computers guiding spacecraft: approximately accurate input gives approximately accurate output. \n",
    "\n",
    "- Early pioneers in global weather forecasting assumed small errors would not be important."
   ]
  },
  {
   "cell_type": "markdown",
   "metadata": {
    "slideshow": {
     "slide_type": "slide"
    }
   },
   "source": [
    "### Lorenz's weather model\n",
    "\n",
    "- Using a primitive, Lorenz computed weather down to the barest skeleton\n",
    "- The essence was there\n",
    "    -  winds and temperatures in Lorenz's printouts seemed to behave in a recognizable earthly way. \n",
    "    - matched intuition about the weather, that is repeats itself, displaying familiar patterns over time, pressure rising and falling,\n",
    "    \n",
    "    \n",
    "- Lorenz: When a line went from high to low without a bump, a double bump would come next\n",
    "    - possible kind of rule a forecaster could use\n",
    "    - pattern with disturbances\n",
    "    - an orderly disorder"
   ]
  },
  {
   "cell_type": "markdown",
   "metadata": {
    "slideshow": {
     "slide_type": "slide"
    }
   },
   "source": [
    "### Lorenz takes a shortcut\n",
    "\n",
    ">One day in the winter of 1961, wanting to examine one sequence at greater length, Lorenz took a shortcut. Instead of starting the whole run over, he started midway through. To give the machine its initial conditions, he typed the numbers straight from the earlier printout. Then he walked down the hall to get\n",
    "away from the noise and drink a cup of coffee. When he returned an hour later, he saw something unexpected, something that planted a seed for a new science."
   ]
  },
  {
   "cell_type": "markdown",
   "metadata": {
    "slideshow": {
     "slide_type": "slide"
    }
   },
   "source": [
    "### Comparison of two *identical* simluations\n",
    "<img src=\"http://www.stsci.edu/~lbradley/seminar/images/lorenz.gif\" width=\"50%\" style=\"margin: 0 auto;\" alt=\"\">"
   ]
  },
  {
   "cell_type": "markdown",
   "metadata": {
    "slideshow": {
     "slide_type": "slide"
    }
   },
   "source": [
    ">THIS NEW RUN should have exactly duplicated the old. Lorenz had copied the numbers into the machine himself. The program had not changed. Yet as he stared at the new printout, Lorenz saw his weather diverging so rapidly from the pattern of the last run that, within just a few months, all resemblance had disappeared. He looked at one set of numbers, then back at the other. He might as well have chosen two random weathers out of a hat. His first thought was that another vacuum tube had gone bad."
   ]
  },
  {
   "cell_type": "markdown",
   "metadata": {
    "slideshow": {
     "slide_type": "slide"
    }
   },
   "source": [
    "### Realization of the truth\n",
    ">Suddenly he realized the truth. There had been no malfunction. The problem lay in the numbers he had typed. In the computer's memory, six decimal places were stored: .506127. On the printout, to save space, just three appeared: .506. Lorenz had entered the shorter, rounded-off numbers, assuming that the difference—one part in a thousand—was inconsequential.\n",
    "\n",
    "It was a reasonable assumption: \n",
    "- purely deterministic system of equations\n",
    "- slightly different starting point, the weather should unfold in a slightly different way\n",
    "- a small numerical error was like a small puff of wind—surely the small puffs faded or canceled each other out"
   ]
  },
  {
   "cell_type": "markdown",
   "metadata": {
    "slideshow": {
     "slide_type": "slide"
    }
   },
   "source": [
    "### Implications of discovery\n",
    "\n",
    "- Lorenz could have assumed something was wrong with his particular machine or his particular mode\n",
    "    - probably *should* have assumed. \n",
    "    \n",
    "    \n",
    "- His equations were gross parodies of the earth's weather, \n",
    "    - but he had a faith that they captured the essence of the real atmosphere\n",
    "   \n",
    "   \n",
    "- Conclusion: long-range weather forecasting must be doomed"
   ]
  },
  {
   "cell_type": "markdown",
   "metadata": {
    "slideshow": {
     "slide_type": "slide"
    }
   },
   "source": [
    "### Fifties and Sixties\n",
    "- Decades of unreal optimism about weather forecasting\n",
    "- Newspapers and magazines were filled with hope for weather science\n",
    "    - prediction\n",
    "    - modification and control\n",
    "    \n",
    "    \n",
    "- Global Atmosphere Research Program\n",
    "    - human society would free itself from weather's turmoil and become its master \n",
    "    - geodesic domes would cover cornfields\n",
    "    - airplanes would seed the clouds\n",
    "    - scientists would learn how to make rain and how to stop it. "
   ]
  },
  {
   "cell_type": "markdown",
   "metadata": {
    "slideshow": {
     "slide_type": "slide"
    }
   },
   "source": [
    "### John Von Neumann\n",
    "\n",
    "- Built his first computer with the precise intention of controlling the weather\n",
    "- He surrounded himself with meteorologists and gave breathtaking talks about his plans to the general physics community. \n",
    "- He recognized that a complicated dynamical system could have points of instability—critical\n",
    "points where a small push can have large consequences, as with a ball balanced at the top of a hill. \n",
    "-With the computer up and running, Von Neumann imagined that scientists would calculate the equations of fluid motion for the next few days. \n",
    "- Then a central committee of meteorologists would send up airplanes to lay down smoke screens or seed clouds to push the weather into the desired mode.\n",
    "- But Von Neumann had overlooked the possibility of chaos, with instability at every point."
   ]
  },
  {
   "cell_type": "markdown",
   "metadata": {
    "slideshow": {
     "slide_type": "slide"
    }
   },
   "source": [
    "### Weather forecasting in the 1980s\n",
    "\n",
    "- Vast and expensive bureaucracy devoted itself to carrying out Von Neumann's mission (the prediction part)\n",
    "\n",
    "- Supercomputers ran a model that resembled Lorenz's only in its fundamental spirit. \n",
    "\n",
    "- Improvement from sixty multiplication per second (Lorenz) to million of floating point operations per seconds\n",
    "\n",
    "- Lorenz had been happy with twelve equations, the modern global model calculated systems of 500,000 equations. \n",
    "\n",
    "\n"
   ]
  },
  {
   "cell_type": "markdown",
   "metadata": {
    "slideshow": {
     "slide_type": "slide"
    }
   },
   "source": [
    "### Big money on numerical weather prediction\n",
    "\n",
    "- Computer modeling succeeded in changing the weather business from an art to a science. \n",
    "- Some successes on short-term predictions that were statistically better than nothing\n",
    "\n",
    "\n",
    "- Aside: hurricane forecast\n",
    "\n",
    "\n",
    "- But beyond two or three days the world's best forecasts were speculative, and beyond six or seven they were worthless. Why?"
   ]
  },
  {
   "cell_type": "markdown",
   "metadata": {
    "slideshow": {
     "slide_type": "slide"
    }
   },
   "source": [
    "## The Butterfly Effect\n",
    "\n",
    "- For small pieces of weather—and to a global forecaster, small can mean thunderstorms and blizzards—any prediction deteriorates rapidly. \n",
    "- Errors and uncertainties multiply, cascading upward through a chain of turbulent features, from dust devils and squalls up to continent-size eddies that only satellites can see.\n",
    "- Weather model are limited but imperfect data to initialize the model.\n",
    "\n"
   ]
  },
  {
   "cell_type": "markdown",
   "metadata": {
    "slideshow": {
     "slide_type": "slide"
    }
   },
   "source": [
    "- Suppose the earth could be covered with sensors spaced one foot apart, rising at one-foot intervals all the way to the top of the atmosphere. Suppose every sensor gives perfectly accurate readings of temperature, pressure, humidity, and any other quantity a meteorologist would want. \n",
    "\n",
    "- Precisely at noon an infinitely powerful computer takes all the data and calculates what will happen at each point at 12:01, then 12:02, then 12:03 . . .\n",
    "\n",
    ">The computer will still be unable to predict whether Princeton, New Jersey, will have sun or rain on a day one month away. At noon the spaces between the sensors will hide fluctuations that the computer will not know about, tiny deviations from the average. By 12:01, those fluctuations will already have created small errors one foot away. Soon the errors will have multiplied to the ten-foot scale, and so on up to the size of the globe."
   ]
  },
  {
   "cell_type": "markdown",
   "metadata": {
    "slideshow": {
     "slide_type": "slide"
    }
   },
   "source": [
    "### What does this mean?\n",
    "\n",
    "> Even for experienced meteorologists, all this runs against intuition. One of Lorenz's oldest friends was Robert White, a fellow meteorologist at M.I.T. who later became head of the National Oceanic and Atmospheric Administration. Lorenz told him about the Butterfly Effect and what he felt it meant for long- range prediction. White gave Von Neumann's answer. \"Prediction, nothing,\" he said. \"This is weather control.\" His thought was that small modifications, well within human capability, could cause desired large-scale changes."
   ]
  },
  {
   "cell_type": "markdown",
   "metadata": {
    "slideshow": {
     "slide_type": "slide"
    }
   },
   "source": [
    "<img src=\"http://wanna-joke.com/wp-content/uploads/2014/05/funny-picture-butterfly-effect-tornado-comic.jpg\" width=\"50%\" style=\"margin: 0 auto;\">"
   ]
  },
  {
   "cell_type": "markdown",
   "metadata": {
    "slideshow": {
     "slide_type": "slide"
    }
   },
   "source": [
    "### What does this mean?\n",
    "\n",
    "> Lorenz saw it differently. Yes, you could change the weather. You could make it do something different from what it would otherwise have done. But if you did, then you would never know what it would otherwise have done. It would be like giving an extra shuffle to an already well-shuffled pack of cards. You know it will change your luck, but you don't know whether for better or worse."
   ]
  },
  {
   "cell_type": "markdown",
   "metadata": {
    "slideshow": {
     "slide_type": "slide"
    }
   },
   "source": [
    "### Real programmers (?)\n",
    "\n",
    "<img src=\"http://imgs.xkcd.com/comics/real_programmers.png\" width=\"60%\" style=\"margin: 0 auto;\">"
   ]
  },
  {
   "cell_type": "markdown",
   "metadata": {
    "slideshow": {
     "slide_type": "slide"
    }
   },
   "source": [
    "### Lorenz's Discovery\n",
    "\n",
    "- The discovery was bigger than just that numerical weather prediction was unpredictable\n",
    "- He had stumbled onto a link between aperiodicity and and unpredictability\n",
    "- Nature is full of many other examples\n",
    "    - animal populations that rise and fall almost regularly\n",
    "    - epidemics that come and go on tantalizingly near-regularly\n",
    "    - repeating patterns but never truly periodic"
   ]
  },
  {
   "cell_type": "markdown",
   "metadata": {
    "slideshow": {
     "slide_type": "slide"
    }
   },
   "source": [
    "The Butterfly Effect acquired a technical name: sensitive dependence on initial conditions. And sensitive dependence on initial conditions was not an altogether new notion. It had a place in folklore:\n",
    "\n",
    ">\"For want of a nail, the shoe was lost; \n",
    "\n",
    "> For want of a shoe, the horse was lost; \n",
    "\n",
    "> For want of a horse, the rider was lost; \n",
    "\n",
    "> For want of a rider, the battle was lost; \n",
    "\n",
    "> For want of a battle, the kingdom was lost!\""
   ]
  },
  {
   "cell_type": "markdown",
   "metadata": {
    "slideshow": {
     "slide_type": "slide"
    }
   },
   "source": [
    "> In science as in life, it is well known that a chain of events can have a point of crisis that could magnify small changes. But chaos meant that such points were everywhere. They were pervasive. In systems like the weather, sensitive dependence on initial conditions was an inescapable consequence of the way small scales intertwined with large."
   ]
  },
  {
   "cell_type": "markdown",
   "metadata": {
    "slideshow": {
     "slide_type": "slide"
    }
   },
   "source": [
    "## Lorenz Model\n",
    "\n",
    "- Simpler way to produce complex behaviour observed\n",
    "- System of three non-linear equations\n",
    "- Inspired by physics involved in fluid convection\n"
   ]
  },
  {
   "cell_type": "markdown",
   "metadata": {
    "slideshow": {
     "slide_type": "slide"
    }
   },
   "source": [
    "Lorenz took a set of equations for convection and stripped it to the bone, throwing out everything that could possibly be extraneous, making it unrealistically simple. Almost nothing remained of the original model, but he did leave the nonlinearity. To the eye of a physicist, the equations looked easy. You would glance at them—many scientists did, in years to come—and say, *I could solve that*.\n",
    "\n",
    "#### Equations in Lorenz Model\n",
    "\n",
    "$$ \\frac{\\mathrm{d}x}{\\mathrm{d}t} = \\sigma (y-x) $$\n",
    "\n",
    "$$ \\frac{\\mathrm{d}y}{\\mathrm{d}t} = -xz + rx-y $$\n",
    "\n",
    "$$ \\frac{\\mathrm{d}z}{\\mathrm{d}t} = xy -bz $$"
   ]
  },
  {
   "cell_type": "markdown",
   "metadata": {
    "slideshow": {
     "slide_type": "slide"
    }
   },
   "source": [
    "### Lorenzian Waterwheel\n",
    "\n",
    "The first, famous chaotic system discovered by Edward Lorenz corresponds exactly to a mechanical device: a water-wheel. This simple device proves capable of surprisingly complicated\n",
    "behavior.\n",
    "\n",
    "![](https://www.cg.tuwien.ac.at/studentwork/VisSem97/Lorenz97/image/wwheel1.gif)\n",
    "\n",
    "\n",
    "\n",
    "https://www.youtube.com/watch?v=HH2jPq9g6CI"
   ]
  },
  {
   "cell_type": "markdown",
   "metadata": {
    "slideshow": {
     "slide_type": "slide"
    }
   },
   "source": [
    "### Lorenzian Waterwheel\n",
    "Water pours in from the top at a steady rate. If the flow of water in the waterwheel is slow, the top bucket never fills up enough to overcome friction, and the wheel never starts turning. (Similarly, in a fluid, if the heat is too low to overcome viscosity, it will not set the fluid in motion.)\n",
    "\n",
    "If the flow is faster, the weight of the top bucket sets the wheel in motion (left). The waterwheel can settle into a rotation that continues at a steady rate (center).\n",
    "But if the flow is faster still (right), the spin can become chaotic, because of nonlinear effects built into the system. As buckets pass under the flowing water, how much they fill depends on the speed of spin. If the wheel is spinning rapidly, the buckets have little time to fill up. (Similarly, fluid in a fast-turning convection roll has little time to absorb heat.) Also, if the wheel is spinning rapidly, buckets can start up the other side before they have time to empty. As a result, heavy buckets on the side moving upward can cause the spin to slow down and then reverse.\n",
    "\n",
    "Over long periods, the spin can reverse itself many times, never settling down to a steady rate and never repeating itself in any predictable pattern."
   ]
  },
  {
   "cell_type": "markdown",
   "metadata": {
    "slideshow": {
     "slide_type": "slide"
    }
   },
   "source": [
    "### Phase Plot for the Lorenz Model\n",
    "\n",
    "<img src=\"http://www.node99.org/tutorials/ar/lorenz.png\" style=\"margin: 0 auto;\">"
   ]
  },
  {
   "cell_type": "markdown",
   "metadata": {
    "slideshow": {
     "slide_type": "slide"
    }
   },
   "source": [
    "### Significance of Lorenz's work\n",
    "\n",
    ">YEARS LATER, PHYSICISTS would give wistful looks when they talked about Lorenz's paper on those equations—\"that beautiful marvel of a paper.\" By then it was talked about as if it were an ancient scroll, preserving secrets of eternity. In the thousands of articles that made up the technical literature of chaos, few were cited more often than \"Deterministic Nonperiodic Flow.\" For years, no single object would inspire more illustrations, even motion pictures, than the mysterious curve depicted at the end, the double\n",
    "spiral that became known as the Lorenz attractor. For the first time, Lorenz's pictures had shown what it meant to say, \"This is complicated.\" All the richness of chaos was there."
   ]
  },
  {
   "cell_type": "markdown",
   "metadata": {
    "slideshow": {
     "slide_type": "slide"
    }
   },
   "source": [
    ">Few laymen realized how tightly compartmentalized the scientific community had become, a battleship with bulkheads sealed against leaks. Biologists had enough to read without keeping up with the mathematics literature—for that matter, molecular biologists had enough to read without keeping up with population biology. Physicists had better ways to spend their time than sifting through the meteorology journals. Some mathematicians would have been excited to see Lorenz's discovery; within a decade, physicists, astronomers, and biologists were seeking something just like it, and sometimes rediscovering it for themselves. But Lorenz was a meteorologist, and no one thought to look for chaos on page 130 of volume 20 of the Journal of the Atmospheric Sciences."
   ]
  },
  {
   "cell_type": "markdown",
   "metadata": {
    "slideshow": {
     "slide_type": "slide"
    }
   },
   "source": [
    "[Lorenz, Deterministic Nonperiodic Flow, J. Atmos. Sci., 1963](http://eaps4.mit.edu/research/Lorenz/Deterministic_63.pdf)\n",
    "\n",
    "Cited by > 15000 making it into the top 100 science papers ranked by citations of all time."
   ]
  },
  {
   "cell_type": "markdown",
   "metadata": {
    "slideshow": {
     "slide_type": "slide"
    }
   },
   "source": [
    "### Solving Lorenz's model numerically\n",
    "\n",
    "$$ \\frac{\\mathrm{d}x}{\\mathrm{d}t} = \\sigma (y-x) $$\n",
    "\n",
    "$$ \\frac{\\mathrm{d}y}{\\mathrm{d}t} = -xz + rx-y $$\n",
    "\n",
    "$$ \\frac{\\mathrm{d}z}{\\mathrm{d}t} = xy -bz $$\n",
    "\n",
    "Numerically we can solve this model as follows:\n",
    "$$ x_{i+1}  = x_i + \\sigma (y_i-x_i) \\Delta t $$\n",
    " \n",
    "$$ y_{i+1} = y_i + (-x_i z_i + r x_i - y_i) \\Delta t $$\n",
    " \n",
    "$$ z_{i+1} = z_i + ( x_i y_i - b z_i) \\Delta t $$\n",
    " \n"
   ]
  },
  {
   "cell_type": "code",
   "execution_count": null,
   "metadata": {
    "slideshow": {
     "slide_type": "slide"
    }
   },
   "outputs": [],
   "source": [
    "b = 8/3\n",
    "r = 25\n",
    "σ = 10\n",
    "# Discretize time\n",
    "N = 500000 \n",
    "# Time step in seconds\n",
    "dt = 0.0001 \n",
    "#Initialize x,y,z,t to all zeros\n",
    "x = np.zeros(N)\n",
    "y = np.zeros(N)\n",
    "z = np.zeros(N)\n",
    "t = np.zeros(N)\n",
    "\n",
    "#initial conditions\n",
    "x[0] = 1\n",
    "\n",
    "for i in range(N-1):\n",
    "    #loop over the timesteps and solve the difference equations \n",
    "    x[i+1] = x[i] + σ*(y[i]-x[i])*dt\n",
    "    y[i+1] = y[i] + (-x[i]*z[i]+r*x[i]-y[i])*dt\n",
    "    z[i+1] = z[i] + (x[i]*y[i]-b*z[i])*dt\n",
    "    #Update time array\n",
    "    t[i+1] = t[i] + dt"
   ]
  },
  {
   "cell_type": "code",
   "execution_count": null,
   "metadata": {
    "slideshow": {
     "slide_type": "slide"
    }
   },
   "outputs": [],
   "source": [
    "fig, axes = plt.subplots(figsize=(8,6))\n",
    "plt.plot(t,x,'b-') \n",
    "plt.xlim(0, 50) \n",
    "plt.ylim(-40, 40) \n",
    "plt.xlabel('time') \n",
    "plt.ylabel('z') \n",
    "plt.title('Variation of z as a function of time')\n",
    "plt.show()"
   ]
  },
  {
   "cell_type": "code",
   "execution_count": null,
   "metadata": {
    "slideshow": {
     "slide_type": "slide"
    }
   },
   "outputs": [],
   "source": [
    "fig, axes = plt.subplots(figsize=(8,6))\n",
    "plt.plot(x, z, 'g-')\n",
    "plt.xlim(-20, 20)\n",
    "plt.ylim(0, 50)\n",
    "plt.xlabel('x')\n",
    "plt.ylabel('z')\n",
    "plt.title('Strange attractor for Lorenz Oscillator')\n",
    "plt.show()"
   ]
  },
  {
   "cell_type": "markdown",
   "metadata": {
    "slideshow": {
     "slide_type": "slide"
    }
   },
   "source": [
    "#### Exercise\n",
    "> Extend the numerical model of Lorenz above to explicitly show that even if the initial conditions are very similar, two solutions will diverge apart."
   ]
  }
 ],
 "metadata": {
  "anaconda-cloud": {},
  "celltoolbar": "Slideshow",
  "kernelspec": {
   "display_name": "Python 3",
   "language": "python",
   "name": "python3"
  },
  "language_info": {
   "codemirror_mode": {
    "name": "ipython",
    "version": 3
   },
   "file_extension": ".py",
   "mimetype": "text/x-python",
   "name": "python",
   "nbconvert_exporter": "python",
   "pygments_lexer": "ipython3",
   "version": "3.6.4"
  }
 },
 "nbformat": 4,
 "nbformat_minor": 2
}
