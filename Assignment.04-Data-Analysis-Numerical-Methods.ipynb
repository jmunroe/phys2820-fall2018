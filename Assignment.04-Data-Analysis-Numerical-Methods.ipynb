{
 "cells": [
  {
   "cell_type": "code",
   "execution_count": null,
   "metadata": {
    "collapsed": true
   },
   "outputs": [],
   "source": [
    "%matplotlib inline\n",
    "import numpy as np\n",
    "import matplotlib.pyplot as plt"
   ]
  },
  {
   "cell_type": "markdown",
   "metadata": {},
   "source": [
    "# Data Analysis and Numerical Methods\n",
    "## Assignment 4"
   ]
  },
  {
   "cell_type": "markdown",
   "metadata": {},
   "source": [
    "### Name:\n",
    "### Student ID:"
   ]
  },
  {
   "cell_type": "markdown",
   "metadata": {},
   "source": [
    "## 1. Data Analysis\n",
    "\n",
    "**[20 points]**\n",
    "\n",
    "A group of martian students are out on a field trip to the planet Bortax and want to measure the gravitational constant $g$ near their landing site.  To do this they shoot a projectile up into the air and measure its velocity with a radar gun.  Their results are in a file called `martian_vel.dat`."
   ]
  },
  {
   "cell_type": "markdown",
   "metadata": {},
   "source": [
    "**a)** Download this file from D2L and plot the velocity data.  The first column is time in seconds, the second column is velocity in m/s.  Positive is up.  Label your axes."
   ]
  },
  {
   "cell_type": "code",
   "execution_count": null,
   "metadata": {},
   "outputs": [],
   "source": []
  },
  {
   "cell_type": "markdown",
   "metadata": {},
   "source": [
    "**b)**  Write a function that uses the forward difference scheme to calculate the time derivative at a given data point in a list of data, assuming as we have here that the first column is time.  Use this function to calculate the acceleration of the projectile at all times that you can.  Plot the acceleration as a function of time."
   ]
  },
  {
   "cell_type": "code",
   "execution_count": null,
   "metadata": {},
   "outputs": [],
   "source": []
  },
  {
   "cell_type": "markdown",
   "metadata": {},
   "source": [
    "**c)**  In order to be able to extract $g$, the students decide to model the projectile motion by including two forces: 1) gravity $F_g = -m g$, and 2) viscous drag $F_d = - b v$.  They use Newton's 2nd Law to write $m a = -m g - b v$, i.e. \"m a\" plotted as a function of velocity should be a straight line the slope and intercept of which are determined by $m$, $g$ and the drag coefficient $b$.  Plot the force (\"m a\") as a function of velocity.  The mass of the projectile is 0.5 kg."
   ]
  },
  {
   "cell_type": "code",
   "execution_count": null,
   "metadata": {},
   "outputs": [],
   "source": []
  },
  {
   "cell_type": "markdown",
   "metadata": {},
   "source": [
    "**d)** Use linear fitting function to find the slope and coefficient of the line of best fit through your plot in c).  Determine $g$ (in m/s/s) and $b$ (in kg/s)."
   ]
  },
  {
   "cell_type": "code",
   "execution_count": null,
   "metadata": {},
   "outputs": [],
   "source": []
  },
  {
   "cell_type": "markdown",
   "metadata": {},
   "source": [
    "**e)**  One of the students argues that taking the derivative introduces noise and therefore it would be better to fit the original velocity data, using a nonlinear fitting procedure and an analytic expression for the velocity as a function of time.  To do this, first solve the force equation analytically, leaving $g$ and $b$ as unknown coefficients.  The students are pretty sure the initial velocity should be 20 m/s."
   ]
  },
  {
   "cell_type": "code",
   "execution_count": null,
   "metadata": {},
   "outputs": [],
   "source": []
  },
  {
   "cell_type": "markdown",
   "metadata": {},
   "source": [
    "## 2. Predictor-corrector Method\n"
   ]
  },
  {
   "cell_type": "markdown",
   "metadata": {},
   "source": [
    "### a)\n",
    "Solve the following ODE using the **midpoint scheme** from $t$=0 to 3, using a step size of $\\Delta t$ = 0.01.  Make a plot of your numerical solution.\n",
    "\n",
    "$$y'(t)=-y^2+\\cos(y t),\\quad y(0)=1$$"
   ]
  },
  {
   "cell_type": "markdown",
   "metadata": {},
   "source": [
    "#### Answer [10 points]"
   ]
  },
  {
   "cell_type": "code",
   "execution_count": null,
   "metadata": {},
   "outputs": [],
   "source": []
  },
  {
   "cell_type": "markdown",
   "metadata": {},
   "source": [
    "### b)\n",
    "Repeat part (a), except implement the Predictor-Corrector algorithm given below.  You should get a similar result to part (a).\n",
    "\n",
    "for an ODE $y'(t) = f(y, t)$\n",
    "\n",
    "$$ y^* = y_n + \\Delta t f(y_n, t) $$\n",
    "$$ y_{n+1} = y_n + \\frac{1}{2} \\Delta t [ f(y^*, t_{n+1}) + f( y_n, t_n) ] $$"
   ]
  },
  {
   "cell_type": "markdown",
   "metadata": {},
   "source": [
    "#### Answer [10 points]"
   ]
  },
  {
   "cell_type": "code",
   "execution_count": null,
   "metadata": {},
   "outputs": [],
   "source": []
  }
 ],
 "metadata": {
  "anaconda-cloud": {},
  "kernelspec": {
   "display_name": "Python 3",
   "language": "python",
   "name": "python3"
  },
  "language_info": {
   "codemirror_mode": {
    "name": "ipython",
    "version": 3
   },
   "file_extension": ".py",
   "mimetype": "text/x-python",
   "name": "python",
   "nbconvert_exporter": "python",
   "pygments_lexer": "ipython3",
   "version": "3.6.4"
  }
 },
 "nbformat": 4,
 "nbformat_minor": 1
}
