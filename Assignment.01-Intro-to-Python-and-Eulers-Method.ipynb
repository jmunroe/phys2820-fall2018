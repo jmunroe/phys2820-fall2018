{
 "cells": [
  {
   "cell_type": "markdown",
   "metadata": {
    "hide_input": true
   },
   "source": [
    "# Introduction to Python and Euler's Method\n",
    "## Assignment 1"
   ]
  },
  {
   "cell_type": "markdown",
   "metadata": {},
   "source": [
    "### Name: \n",
    "### Student ID: "
   ]
  },
  {
   "cell_type": "markdown",
   "metadata": {},
   "source": [
    "## Question 1\n",
    "We'll be using the Python language in PHYS 2820 so it is a\n",
    "necessary to learn something about programming and Python. For this question, I have invited you to join a [DataCamp](http://datacamp.com) group and assigned two courses."
   ]
  },
  {
   "cell_type": "markdown",
   "metadata": {},
   "source": [
    "A. Complete the [DataCamp](http://datacamp.com) course *Intro to Python for Data Science*"
   ]
  },
  {
   "cell_type": "markdown",
   "metadata": {},
   "source": [
    "\n",
    "#### Answer: [10 points]"
   ]
  },
  {
   "cell_type": "markdown",
   "metadata": {},
   "source": [
    "There is nothing to submit here. Your progress is recorded on the [DataCamp](http://datacamp.com) site. If you need the extra time, try to complete this course by the due date for Assignment 2."
   ]
  },
  {
   "cell_type": "markdown",
   "metadata": {},
   "source": [
    "B. Complete the [DataCamp](http://datacamp.com) course *Intermediate Python for Data Sciencee*"
   ]
  },
  {
   "cell_type": "markdown",
   "metadata": {},
   "source": [
    "\n",
    "#### Answer: [10 points]"
   ]
  },
  {
   "cell_type": "markdown",
   "metadata": {},
   "source": [
    "There is nothing to submit here. Your progress is recorded on the [DataCamp](http://datacamp.com) site. If you need the extra time, please complete this course by the due date for Assignment 3."
   ]
  },
  {
   "cell_type": "markdown",
   "metadata": {},
   "source": [
    "## Question 2\n",
    "*Giordano Problem 1.1*\n",
    "\n",
    "The velocity of a freely falling object near Earth's surface is described by the\n",
    "equation\n",
    "$$\\frac{dv}{dt} = -g,$$\n",
    "where $v$ is the velocity and $g$ = 9.8 m/s$^2$ is the acceleration due to\n",
    "gravity. Write a program that employs the Euler method (introduced in Lectures 1 and 2) \n",
    "to compute the solution\n",
    "to this equation; that is, calculate $v$ as function of $t$.  For simplicity,\n",
    "assume that the initial velocity is zero - that is, the object starts from\n",
    "rest - and calculate the solution for times $t=0$ to $t$ = 10 s. Plot your solution.\n",
    "\n",
    "Repeat the\n",
    "calculation for several different values of the time step, and compare the\n",
    "results with the exact solution. It turns out that for this case the Euler\n",
    "method gives the exact result. Verify this with your numerical results by calculating\n",
    "the maximum error (the absolute value of the difference) between the numerical and analytical solution.\n",
    "\n"
   ]
  },
  {
   "cell_type": "markdown",
   "metadata": {},
   "source": [
    "#### Answer: [20 points]"
   ]
  },
  {
   "cell_type": "markdown",
   "metadata": {},
   "source": [
    "*Use Markdown cells to explain your solution*"
   ]
  },
  {
   "cell_type": "code",
   "execution_count": 1,
   "metadata": {},
   "outputs": [],
   "source": [
    "# Type the code needed to solve the problem here"
   ]
  },
  {
   "cell_type": "markdown",
   "metadata": {},
   "source": [
    "\n",
    "* Be sure to use good programming style.\n",
    "* Use multiple Jupyter cells (either code or Markdown) as needed to fully answer the question.\n",
    "* Test your Jupyter notebook by selecting *Restart the Kernel and re-run the notebook* from Kernel menu.\n",
    "* Submit your ipynb file through the online.mun.ca dropbox for A1."
   ]
  }
 ],
 "metadata": {
  "anaconda-cloud": {},
  "kernelspec": {
   "display_name": "Python 3",
   "language": "python",
   "name": "python3"
  },
  "language_info": {
   "codemirror_mode": {
    "name": "ipython",
    "version": 3
   },
   "file_extension": ".py",
   "mimetype": "text/x-python",
   "name": "python",
   "nbconvert_exporter": "python",
   "pygments_lexer": "ipython3",
   "version": "3.6.4"
  }
 },
 "nbformat": 4,
 "nbformat_minor": 1
}
