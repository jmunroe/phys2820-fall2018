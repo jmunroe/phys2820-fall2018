{
 "cells": [
  {
   "cell_type": "markdown",
   "metadata": {},
   "source": [
    "# Projectile Motion\n",
    "## Assignment 3"
   ]
  },
  {
   "cell_type": "markdown",
   "metadata": {},
   "source": [
    "### Name:\n",
    "### Student ID:"
   ]
  },
  {
   "cell_type": "markdown",
   "metadata": {},
   "source": [
    "## Question 1\n",
    "\n",
    "In the model of the cannon shell trajectory (see [Lecture 4](lec4.ipynb)) we assumed the acceleration due to gravity, $g$ is a constant. It will, of course depend on altitude.  Add this to the model and calculate how much it affects the range.\n",
    "\n",
    "*Giordano 2.8*"
   ]
  },
  {
   "cell_type": "markdown",
   "metadata": {},
   "source": [
    "#### Answer [20 points]"
   ]
  },
  {
   "cell_type": "markdown",
   "metadata": {},
   "source": [
    "*Write your solution here...*"
   ]
  },
  {
   "cell_type": "code",
   "execution_count": null,
   "metadata": {},
   "outputs": [],
   "source": [
    "%matplotlib inline\n",
    "import numpy as np\n",
    "import matplotlib.pyplot as plt"
   ]
  },
  {
   "cell_type": "code",
   "execution_count": null,
   "metadata": {},
   "outputs": [],
   "source": [
    "# acceleration due to gravity, m/s^2\n",
    "g = 9.81\n",
    "# time step, s\n",
    "dt = 0.1\n",
    "# max time, s\n",
    "tmax = 200"
   ]
  },
  {
   "cell_type": "code",
   "execution_count": null,
   "metadata": {},
   "outputs": [],
   "source": []
  },
  {
   "cell_type": "markdown",
   "metadata": {},
   "source": [
    "## Question 2\n",
    "Model the behaviour of a Ping-Pong ball.  The drag force can be estimated from \n",
    "\\begin{align}\n",
    "F_{drag} \\approx - \\frac{1}{2} C \\rho A v^2\n",
    "\\end{align}\n",
    "with $C = \\frac{1}{2}$ (since the ball is smooth). The Magnus acceleration of a Ping-Pong ball is $\\approx S_0 \\vec{\\omega} \\times \\vec{v} / m$, where $S_0/m = 0.040$ (in SI units, with $\\omega$ in rad/s and $v$ in m/s).  Assume $v=3$ m/s, and angular velocities in the range 1-10 revolutions per second (optional, try to measure $\\omega$ your own experiment).\n",
    "\n",
    "*Giordano 2.24*"
   ]
  },
  {
   "cell_type": "markdown",
   "metadata": {
    "collapsed": true
   },
   "source": [
    "#### Answer [20 points]"
   ]
  },
  {
   "cell_type": "markdown",
   "metadata": {},
   "source": [
    "*Write your solution here...*"
   ]
  },
  {
   "cell_type": "code",
   "execution_count": null,
   "metadata": {},
   "outputs": [],
   "source": [
    "# code cell"
   ]
  }
 ],
 "metadata": {
  "anaconda-cloud": {},
  "kernelspec": {
   "display_name": "Python 3",
   "language": "python",
   "name": "python3"
  },
  "language_info": {
   "codemirror_mode": {
    "name": "ipython",
    "version": 3
   },
   "file_extension": ".py",
   "mimetype": "text/x-python",
   "name": "python",
   "nbconvert_exporter": "python",
   "pygments_lexer": "ipython3",
   "version": "3.6.4"
  }
 },
 "nbformat": 4,
 "nbformat_minor": 1
}
