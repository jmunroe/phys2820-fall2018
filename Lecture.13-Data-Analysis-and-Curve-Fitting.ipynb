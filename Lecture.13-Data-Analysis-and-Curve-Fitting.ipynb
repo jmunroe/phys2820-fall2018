{
 "cells": [
  {
   "cell_type": "code",
   "execution_count": null,
   "metadata": {},
   "outputs": [],
   "source": [
    "%matplotlib inline\n",
    "import numpy as np\n",
    "import matplotlib.pyplot as plt\n",
    "plt.style.use('default')"
   ]
  },
  {
   "cell_type": "markdown",
   "metadata": {},
   "source": [
    "# Data Analysis and Curve Fitting\n",
    "## Lecture 13"
   ]
  },
  {
   "cell_type": "markdown",
   "metadata": {},
   "source": [
    "This lectures depends on the data file `falling_object.dat` that needs to be in the current directory."
   ]
  },
  {
   "cell_type": "markdown",
   "metadata": {},
   "source": [
    "# Best fits with polynomials"
   ]
  },
  {
   "cell_type": "markdown",
   "metadata": {},
   "source": [
    "### Example 1"
   ]
  },
  {
   "cell_type": "markdown",
   "metadata": {},
   "source": [
    "Suppose an experiment is run and the following data is generated:"
   ]
  },
  {
   "cell_type": "code",
   "execution_count": null,
   "metadata": {},
   "outputs": [],
   "source": [
    "balldata = np.array([[0,1.302], [0.03333,1.411],[0.06667,1.5],[0.1,1.578],\n",
    "                    [0.1333,1.646],[0.1667,1.703],[0.2,1.745],[0.2333,1.781],\n",
    "                    [0.2667,1.807],[0.3,1.828],[0.3333,1.818],[0.3667,1.818],\n",
    "                    [0.4,1.807],[0.4333,1.776],[0.4667,1.734],[0.5,1.682],\n",
    "                    [0.5333,1.63],[0.567,1.552],[0.6,1.469],[0.6333,1.37],\n",
    "                    [0.667,1.266],[0.7,1.151],[0.733,1.026],[0.7667,0.875],\n",
    "                    [0.8,0.719],[0.8333,0.557],[0.867,0.385],[0.9,0.193],\n",
    "                    [0.9333,0.005]])"
   ]
  },
  {
   "cell_type": "markdown",
   "metadata": {},
   "source": [
    "We can print the data out as a table. Observe the data set up as a matrix with two columns."
   ]
  },
  {
   "cell_type": "code",
   "execution_count": null,
   "metadata": {},
   "outputs": [],
   "source": [
    "print(balldata)"
   ]
  },
  {
   "cell_type": "markdown",
   "metadata": {},
   "source": [
    "We can label each column as a separate variable"
   ]
  },
  {
   "cell_type": "code",
   "execution_count": null,
   "metadata": {},
   "outputs": [],
   "source": [
    "t = balldata[:,0]\n",
    "y = balldata[:,1]"
   ]
  },
  {
   "cell_type": "markdown",
   "metadata": {},
   "source": [
    "Then we can plot the data"
   ]
  },
  {
   "cell_type": "code",
   "execution_count": null,
   "metadata": {
    "scrolled": false
   },
   "outputs": [],
   "source": [
    "fig, axes = plt.subplots(figsize=(6,4))\n",
    "plt.plot (t, y, '.')\n",
    "plt.xlabel('Time (s)')\n",
    "plt.ylabel('Position (m)')\n",
    "plt.title('Ball thrown upward')\n",
    "plt.show()"
   ]
  },
  {
   "cell_type": "markdown",
   "metadata": {},
   "source": [
    "In experimental Physics curve fitting is an important statistical tool for analyzing data and quantifying correlations between variables. \n",
    "The command `np.polyfit` finds the parameters of a polynomial by doing a best fit, in the least squares sense, of the function on a set of data. \n",
    "\n",
    "For example, we can fit a quadratic to the ball data like this:"
   ]
  },
  {
   "cell_type": "code",
   "execution_count": null,
   "metadata": {},
   "outputs": [],
   "source": [
    "np.polyfit(t, y, 2)"
   ]
  },
  {
   "cell_type": "markdown",
   "metadata": {},
   "source": [
    "The third argument is the degree of the polynomial fit; for a quadratic the degree is 2.  Notice the funciton `np.polyfit` returns an array of three numbers\n",
    "\n",
    "This are the coefficients of a polynomial\n",
    "\n",
    "$$P(t) = a t^2 + b t + c$$ "
   ]
  },
  {
   "cell_type": "markdown",
   "metadata": {},
   "source": [
    "We could write:"
   ]
  },
  {
   "cell_type": "code",
   "execution_count": null,
   "metadata": {},
   "outputs": [],
   "source": [
    "a, b, c = np.polyfit(t, y, 2)"
   ]
  },
  {
   "cell_type": "markdown",
   "metadata": {},
   "source": [
    "Then"
   ]
  },
  {
   "cell_type": "code",
   "execution_count": null,
   "metadata": {},
   "outputs": [],
   "source": [
    "y_fit = a*t**2 + b*t + c"
   ]
  },
  {
   "cell_type": "markdown",
   "metadata": {},
   "source": [
    "and finally compare the best fit curve to the original data"
   ]
  },
  {
   "cell_type": "code",
   "execution_count": null,
   "metadata": {},
   "outputs": [],
   "source": [
    "fig, axes = plt.subplots(figsize=(6,4))\n",
    "plt.plot(t, y, '.')\n",
    "plt.plot(t, y_fit, '-') \n",
    "plt.xlabel('Time (s)')\n",
    "plt.ylabel('Position (m)')\n",
    "plt.title('Ball thrown upward')\n",
    "plt.show()"
   ]
  },
  {
   "cell_type": "markdown",
   "metadata": {},
   "source": [
    "Since it is very common operation to evaluate a polynomial, there is function called `np.polyval` "
   ]
  },
  {
   "cell_type": "code",
   "execution_count": null,
   "metadata": {},
   "outputs": [],
   "source": [
    "p = np.polyfit(t, y, 2)\n",
    "y_fit = np.polyval(p, t)"
   ]
  },
  {
   "cell_type": "markdown",
   "metadata": {},
   "source": [
    "which gives exactly the same thing"
   ]
  },
  {
   "cell_type": "code",
   "execution_count": null,
   "metadata": {
    "scrolled": false
   },
   "outputs": [],
   "source": [
    "fig, axes = plt.subplots(figsize=(6,4))\n",
    "plt.plot(t, y, '.')\n",
    "plt.plot(t, y_fit, '-') \n",
    "plt.xlabel('Time (s)')\n",
    "plt.ylabel('Position (m)')\n",
    "plt.title('Ball thrown upward')\n",
    "plt.show()"
   ]
  },
  {
   "cell_type": "markdown",
   "metadata": {},
   "source": [
    "### Example 2"
   ]
  },
  {
   "cell_type": "markdown",
   "metadata": {},
   "source": [
    "Here's another example with a linear fit and a set of artificial data"
   ]
  },
  {
   "cell_type": "code",
   "execution_count": null,
   "metadata": {},
   "outputs": [],
   "source": [
    "data=np.array([[0,-1],[1,2],[3,7],[4,6],[7,9],[11,14]])"
   ]
  },
  {
   "cell_type": "code",
   "execution_count": null,
   "metadata": {},
   "outputs": [],
   "source": [
    "print(data)"
   ]
  },
  {
   "cell_type": "code",
   "execution_count": null,
   "metadata": {},
   "outputs": [],
   "source": [
    "x, y = data.T # equivalent to x, y = data[:,0], data[:,1]"
   ]
  },
  {
   "cell_type": "markdown",
   "metadata": {},
   "source": [
    "Fit the data to one degree polynomial -- a straight line."
   ]
  },
  {
   "cell_type": "code",
   "execution_count": null,
   "metadata": {},
   "outputs": [],
   "source": [
    "p = np.polyfit(x, y, 1)\n",
    "y_fit = np.polyval(p, x)"
   ]
  },
  {
   "cell_type": "markdown",
   "metadata": {},
   "source": [
    "Plot the data and best fit line together in the same plot."
   ]
  },
  {
   "cell_type": "code",
   "execution_count": null,
   "metadata": {},
   "outputs": [],
   "source": [
    "fig, axes = plt.subplots(figsize=(6,4))\n",
    "plt.plot(x, y, 'o')\n",
    "plt.plot(x, y_fit, '-') \n",
    "plt.xlabel('x')\n",
    "plt.ylabel('y')\n",
    "plt.show()"
   ]
  },
  {
   "cell_type": "markdown",
   "metadata": {},
   "source": [
    "## Nonlinear Curve Fitting\n",
    "\n",
    "In the section above, fit parameters to a polynomial.  Under the hood, this is typically done by solving a linear system of equations to find our parameters.  Let's bring up our small data consider our best fit again."
   ]
  },
  {
   "cell_type": "code",
   "execution_count": null,
   "metadata": {},
   "outputs": [],
   "source": [
    "np.polyfit(x, y, 1)"
   ]
  },
  {
   "cell_type": "markdown",
   "metadata": {},
   "source": [
    "We can also fit our data to function we are not polynomials.  The `curve_fit` from the `scipy.optimize` subpackage is useful here."
   ]
  },
  {
   "cell_type": "code",
   "execution_count": null,
   "metadata": {},
   "outputs": [],
   "source": [
    "from scipy import optimize"
   ]
  },
  {
   "cell_type": "markdown",
   "metadata": {},
   "source": [
    "To use `curve_fit` we need to first define a function for the model we want to fit."
   ]
  },
  {
   "cell_type": "code",
   "execution_count": null,
   "metadata": {},
   "outputs": [],
   "source": [
    "def linear(x, A, B):\n",
    "    return A*x + B\n",
    "\n",
    "optimize.curve_fit(linear, x, y)"
   ]
  },
  {
   "cell_type": "markdown",
   "metadata": {},
   "source": [
    "What is being returns is the parameters, followed by the covariance matrix. This covariance matrix can be used to estimate confidence intervals for the parameters."
   ]
  },
  {
   "cell_type": "markdown",
   "metadata": {},
   "source": [
    "Here's a routine that fits the data `x`, `y` to the function provided and then makes a plot."
   ]
  },
  {
   "cell_type": "code",
   "execution_count": null,
   "metadata": {},
   "outputs": [],
   "source": [
    "def plot_fit(x, y, func):\n",
    "    \n",
    "    params, cov = optimize.curve_fit(func, x, y)\n",
    "    x_fit = np.linspace(min(x), max(x), 100)\n",
    "    y_fit = func(x_fit, *params)\n",
    "    \n",
    "    plt.plot(x, y, 'o')\n",
    "    plt.plot(x_fit, y_fit, '-') \n",
    "    \n",
    "    plt.xlabel('x')\n",
    "    plt.ylabel('y')\n",
    "    \n",
    "    return params"
   ]
  },
  {
   "cell_type": "markdown",
   "metadata": {
    "cell_style": "split"
   },
   "source": [
    "So, "
   ]
  },
  {
   "cell_type": "code",
   "execution_count": null,
   "metadata": {},
   "outputs": [],
   "source": [
    "fig, axes = plt.subplots(figsize=(6,4))\n",
    "plot_fit(x, y, linear)\n",
    "plt.show()"
   ]
  },
  {
   "cell_type": "markdown",
   "metadata": {},
   "source": [
    "Which, of course, is what we had seen before.  \n",
    "\n",
    "If we wanted, we could do a best fit to a different function:\n",
    "\n",
    "$$ y = A + B \\cos(x) + Cx^2 $$"
   ]
  },
  {
   "cell_type": "code",
   "execution_count": null,
   "metadata": {},
   "outputs": [],
   "source": [
    "def func1(x, A, B, C):\n",
    "    return A + B*np.cos(x) + C*x**2\n",
    "\n",
    "fig, axes = plt.subplots(figsize=(6,4))\n",
    "plot_fit(x, y, func1)\n",
    "plt.show()"
   ]
  },
  {
   "cell_type": "markdown",
   "metadata": {},
   "source": [
    "This is still a linear fit since the fit is linear in terms of $\\cos(x)$ and $x^2$."
   ]
  },
  {
   "cell_type": "markdown",
   "metadata": {},
   "source": [
    "For more complicated functions like\n",
    "\n",
    "$$ y = A \\sin(B x) $$\n",
    "\n",
    "we need to do a non-linear fit because the parameter $B$ appears in a nonlinear way in the fitting function. Thankfully, `curve_fit` handles non-linear fits as well."
   ]
  },
  {
   "cell_type": "code",
   "execution_count": null,
   "metadata": {},
   "outputs": [],
   "source": [
    "def func2(x, A, B):\n",
    "    return A * np.exp(B*x)\n",
    "\n",
    "fig, axes = plt.subplots(figsize=(6,4))\n",
    "plot_fit(x, y, func2)\n",
    "plt.show()"
   ]
  },
  {
   "cell_type": "markdown",
   "metadata": {},
   "source": [
    "\n",
    "### Initial guesses"
   ]
  },
  {
   "cell_type": "markdown",
   "metadata": {},
   "source": [
    "Note that in calling `curve_fit`, you are able to provide initial guesses for the parameters.  In general it is difficult to find the best fit in the nonlinear case.  Rather, routines find the best fit near the initial guess.  Different initial guesses may yield different fit parameters.  We won't go any deeper into the methods of finding parameters for nonlinear fits.\n"
   ]
  },
  {
   "cell_type": "markdown",
   "metadata": {},
   "source": [
    "### Best fits vs interpolation"
   ]
  },
  {
   "cell_type": "markdown",
   "metadata": {},
   "source": [
    "The idea of a best fit of a curve is different than an interpolation of data.  For interpolation, we could use the `interpolate.interp1d` function from scipy.  For comparison,"
   ]
  },
  {
   "cell_type": "code",
   "execution_count": null,
   "metadata": {},
   "outputs": [],
   "source": [
    "from scipy import interpolate\n",
    "\n",
    "fig, axes = plt.subplots(1,2, figsize=(8,4))\n",
    "x_fit = np.linspace(min(x), max(x), 100)\n",
    "\n",
    "# linear interpolation vs linear fit  ########\n",
    "plt.sca(axes[0])\n",
    "plt.plot(x, y, 'o') # plot the data\n",
    "func = lambda x, A, B: A*x + B\n",
    "params, cov = optimize.curve_fit(func, x, y)\n",
    "plt.plot(x_fit,func(x_fit, *params), label='best fit')\n",
    "interp = interpolate.interp1d(x, y, kind='linear')\n",
    "plt.plot(x_fit, interp(x_fit), label='interpolation') \n",
    "plt.xlabel('x')\n",
    "plt.ylabel('y')\n",
    "plt.title('Linear interpolation vs linear fit')\n",
    "plt.legend(loc='lower right')\n",
    "\n",
    "# cubic interpolation vs cubic fit  ########\n",
    "plt.sca(axes[1])\n",
    "plt.plot(x, y, 'o') # plot the data\n",
    "func = lambda x, A, B, C, D: A*x**4 + B*x**2 + C**x* + D\n",
    "params, cov = optimize.curve_fit(func, x, y)\n",
    "plt.plot(x_fit,func(x_fit, *params), label='best fit')\n",
    "interp = interpolate.interp1d(x, y, kind='cubic')\n",
    "plt.plot(x_fit, interp(x_fit), label='interpolation')\n",
    "plt.xlabel('x')\n",
    "plt.ylabel('y')\n",
    "plt.title('Cubic interpolation vs cubic fit')\n",
    "plt.legend(loc='lower right')\n",
    "\n",
    "plt.show()"
   ]
  },
  {
   "cell_type": "markdown",
   "metadata": {},
   "source": [
    "## Application of Fitting\n",
    "\n",
    "There is a data file that you should download along with this exercise called `falling_object.dat` that has two columns.  The first column contains time (s) and the second contains height (m).\n",
    "\n",
    "a) Load the data into a table and plot the height as a function of time."
   ]
  },
  {
   "cell_type": "code",
   "execution_count": null,
   "metadata": {
    "scrolled": true
   },
   "outputs": [],
   "source": [
    "falling_object = np.loadtxt('falling_object.dat')\n",
    "print(falling_object)"
   ]
  },
  {
   "cell_type": "code",
   "execution_count": null,
   "metadata": {},
   "outputs": [],
   "source": [
    "data_t, data_y = falling_object.T"
   ]
  },
  {
   "cell_type": "code",
   "execution_count": null,
   "metadata": {},
   "outputs": [],
   "source": [
    "fig, axes = plt.subplots(figsize=(6,4))\n",
    "plt.plot(data_t, data_y, '.')\n",
    "plt.xlabel('time (s)')\n",
    "plt.ylabel('height (m)')\n",
    "plt.title('Falling Object')\n",
    "plt.show()"
   ]
  },
  {
   "cell_type": "markdown",
   "metadata": {},
   "source": [
    "b) Using the centred difference scheme, calculate and plot the velocity (do not interpolate) as a function of time.  You should see the velocity approach a terminal value."
   ]
  },
  {
   "cell_type": "markdown",
   "metadata": {},
   "source": [
    "#### Centered scheme\n",
    "$$\\frac{df}{dt}(t_0) \\approx \\frac{f(t_0+\\Delta t)-f(t_0-\\Delta t)}{2\\Delta t}= \\frac{y_{i+1} - y_{i-1}}{t_{i+1} - t_{i-1}}$$"
   ]
  },
  {
   "cell_type": "code",
   "execution_count": null,
   "metadata": {},
   "outputs": [],
   "source": [
    "vel_t = data_t[1:-1] #Shorthand to make it equal to data_t but without first or last element\n",
    "vel_y = np.zeros(len(data_t) - 2)\n",
    "\n",
    "for i in range(1, len(data_y) - 1):\n",
    "    vel_y[i-1] = (data_y[i+1] - data_y[i-1]) / (data_t[i+1] - data_t[i-1])"
   ]
  },
  {
   "cell_type": "code",
   "execution_count": null,
   "metadata": {},
   "outputs": [],
   "source": [
    "fig, axes = plt.subplots(figsize=(6,4))\n",
    "plt.plot(vel_t, vel_y, '.')\n",
    "plt.xlabel('time (s)')\n",
    "plt.ylabel('velocity (m/s)')\n",
    "plt.title('Falling Object')\n",
    "plt.show()"
   ]
  },
  {
   "cell_type": "markdown",
   "metadata": {},
   "source": [
    "c) Calculate and plot the acceleration of the falling object directly from the height data by using the centred scheme for the second derivative.  You should see the acceleration approach zero.  The acceleration graph looks noisy. This is because the original measurements contain some uncertainty and random noise. This noise gets amplified by taking derivatives."
   ]
  },
  {
   "cell_type": "markdown",
   "metadata": {},
   "source": [
    "#### Centered scheme for 2nd order derivative\n",
    "$$\\frac{d^2 f}{dt^2}(t_0) \\approx \\frac{f(t_0+\\Delta t)-2f(t_0)+f(t_0-\\Delta t)}{(\\Delta t)^2}=\\frac{y_{i+1} - 2y_i + y_{i+1}}{(t_{i+1} - t_{i})^2} $$\n"
   ]
  },
  {
   "cell_type": "code",
   "execution_count": null,
   "metadata": {},
   "outputs": [],
   "source": [
    "accel_t = data_t[1:-1] #Shorthand to make it equal to data_t but without first or last element\n",
    "accel_y = np.zeros(len(data_t) - 2)\n",
    "\n",
    "for i in range(1, len(data_y) - 1):\n",
    "    accel_y[i-1] = (data_y[i+1] - 2*data_y[i] + data_y[i-1]) / (data_t[i+1]-data_t[i])**2"
   ]
  },
  {
   "cell_type": "code",
   "execution_count": null,
   "metadata": {},
   "outputs": [],
   "source": [
    "fig, axes = plt.subplots(figsize=(6,4))\n",
    "plt.plot(accel_t, accel_y, '.')\n",
    "plt.xlabel('time (s)')\n",
    "plt.ylabel('acceleration (m/s$^2$)')\n",
    "plt.title('Falling Object')\n",
    "plt.show()"
   ]
  },
  {
   "cell_type": "markdown",
   "metadata": {},
   "source": [
    "d)  Let's assume that the object experiences a drag force of $F= - b v$.  We will attempt to find $b$.  As usual, we'll begin with Newton's 2nd illustrious Law\n",
    "\n",
    "\\begin{align}\n",
    "F&=ma \\\\\n",
    "ma &= -bv -mg\n",
    "\\end{align}\n",
    " \n",
    " Aha!\n",
    "\n",
    "If we plot the quantity $ma$ as a function of $-v$, the graph should be a straight line (with noise) with intercept $-mg$ and having slope equal to $b$."
   ]
  },
  {
   "cell_type": "markdown",
   "metadata": {},
   "source": [
    "Make a plot of $m a$ vs $-v$.\n",
    "\n",
    "(The mass of the object is 0.2 kg, while acceleration due to gravity is 9.81 m/s/s.  These values should jive with our intercept value. )"
   ]
  },
  {
   "cell_type": "code",
   "execution_count": null,
   "metadata": {},
   "outputs": [],
   "source": [
    "m = 0.2 # kg\n",
    "g = 9.81 # m/s^2"
   ]
  },
  {
   "cell_type": "code",
   "execution_count": null,
   "metadata": {},
   "outputs": [],
   "source": [
    "fig, axes = plt.subplots(figsize=(8,6))\n",
    "plt.plot(-vel_y, m*accel_y, 'o')\n",
    "plt.xlabel('-v (m/s)')\n",
    "plt.ylabel('m a (kg m/s$^2$)')\n",
    "plt.title('Falling Object')\n",
    "plt.show()"
   ]
  },
  {
   "cell_type": "markdown",
   "metadata": {},
   "source": [
    "e) Make a linear fit for the data in part (d) using `np.polyfit` command"
   ]
  },
  {
   "cell_type": "code",
   "execution_count": null,
   "metadata": {},
   "outputs": [],
   "source": [
    "p = np.polyfit(-vel_y, m*accel_y, 1)\n",
    "print(p)"
   ]
  },
  {
   "cell_type": "markdown",
   "metadata": {},
   "source": [
    "f) Show both the fit line and the discrete data in single graph."
   ]
  },
  {
   "cell_type": "code",
   "execution_count": null,
   "metadata": {},
   "outputs": [],
   "source": [
    "fig, axes = plt.subplots(figsize=(8,6))\n",
    "\n",
    "plt.plot(-vel_y, m*accel_y, 'o')\n",
    "plt.plot(-vel_y, np.polyval(p, -vel_y))\n",
    "\n",
    "plt.xlabel('-v (m/s)')\n",
    "plt.ylabel('m a (kg m/s$^2$)')\n",
    "plt.title('Falling Object')\n",
    "plt.show()"
   ]
  },
  {
   "cell_type": "markdown",
   "metadata": {},
   "source": [
    "g) Consider the parameters of the best fit"
   ]
  },
  {
   "cell_type": "code",
   "execution_count": null,
   "metadata": {},
   "outputs": [],
   "source": [
    "print(p)"
   ]
  },
  {
   "cell_type": "markdown",
   "metadata": {},
   "source": [
    "The slope of this line is $b$ (units of kg/s$^2$)"
   ]
  },
  {
   "cell_type": "code",
   "execution_count": null,
   "metadata": {},
   "outputs": [],
   "source": [
    "b = p[0]\n",
    "print(b)"
   ]
  },
  {
   "cell_type": "markdown",
   "metadata": {},
   "source": [
    "And the intercept is $-mg$ (units of kg m /s$^2$)"
   ]
  },
  {
   "cell_type": "code",
   "execution_count": null,
   "metadata": {},
   "outputs": [],
   "source": [
    "print (p[1])"
   ]
  },
  {
   "cell_type": "markdown",
   "metadata": {},
   "source": [
    "Let's compare the intercept value with what we expect it to be ($-mg$).\n"
   ]
  },
  {
   "cell_type": "code",
   "execution_count": null,
   "metadata": {},
   "outputs": [],
   "source": [
    "print(-m*g)"
   ]
  },
  {
   "cell_type": "markdown",
   "metadata": {},
   "source": [
    "Golden!"
   ]
  },
  {
   "cell_type": "markdown",
   "metadata": {},
   "source": [
    " h) Newton's equation $m a = -b v - m g$ can be solved analytically for the height as a function of time.  \n",
    "\n",
    "$$\n",
    "y(t) = C_1 + C_2 e^{-\\frac{b}{m}t} - \\frac{gm}{b}t\n",
    "$$\n",
    "\n",
    "where $C_1$ and $C_2$ are related to the initial height and initial velocity.  Use the values of $m$ and $g$ above.  "
   ]
  },
  {
   "cell_type": "markdown",
   "metadata": {},
   "source": [
    "j)  Use  `optimize.curve_fit` to find the values of b, initial height and initial velocity."
   ]
  },
  {
   "cell_type": "code",
   "execution_count": null,
   "metadata": {},
   "outputs": [],
   "source": [
    "def model1(t, b, C1, C2):\n",
    "    return C1 + C2*np.exp(-b/m*t) - g*m/b*t\n",
    "\n",
    "params1, cov = optimize.curve_fit(model1, data_t, data_y)\n",
    "print(params1)"
   ]
  },
  {
   "cell_type": "markdown",
   "metadata": {},
   "source": [
    "It is not immediately obvious how $C_1$ and $C_2$ relate with the initial height and initial velocity.\n",
    "\n",
    "We can also use a tool like [Wolfram Alpha](https://www.wolframalpha.com) to solve this with the initial variable.  \n",
    "\n",
    "    {m y''(t) = -(b y'(t))-m g, y(0) = y0, y'(0) = v0}\n",
    "    \n",
    "To get\n"
   ]
  },
  {
   "cell_type": "markdown",
   "metadata": {},
   "source": [
    "$$y(t) = \\frac{g m (m (-e^{-(b t)/m)})-b t+m)+b (m (v_0-v_0 e^{-(b t)/m})+b y_0)}{b^2}$$"
   ]
  },
  {
   "cell_type": "code",
   "execution_count": null,
   "metadata": {},
   "outputs": [],
   "source": [
    "def model2(t, b, y0, v0):\n",
    "    return (g*m*(m*(-np.exp(-(b*t)/m)) - b*t + m) + b* (m *(v0-v0*np.exp(-(b*t)/m))+b*y0))/b**2\n",
    "\n",
    "params2, cov = optimize.curve_fit(model2, data_t, data_y)\n",
    "print(params2)"
   ]
  },
  {
   "cell_type": "markdown",
   "metadata": {},
   "source": [
    "This make the interpretation of the coefficients much clearer. In this problem, $ y_0 = 100$ m and $v_0 = 0.0$ m/s."
   ]
  },
  {
   "cell_type": "markdown",
   "metadata": {
    "collapsed": true
   },
   "source": [
    "k)  Now plot the fitting function.  Plot this fitting function over the data.  Does it seem like our model ($F=-b v - m g$) describes the data?"
   ]
  },
  {
   "cell_type": "code",
   "execution_count": null,
   "metadata": {},
   "outputs": [],
   "source": [
    "%matplotlib notebook\n",
    "\n",
    "fit_t = np.linspace(min(data_t), max(data_t), 100)\n",
    "fit_y1 = model1(fit_t, *params1)\n",
    "fit_y2 = model2(fit_t, *params2)\n",
    "    \n",
    "fig, axes = plt.subplots(figsize=(6,4))\n",
    "\n",
    "plt.plot(data_t, data_y, '.', markersize=1, label='Data')\n",
    "plt.plot(fit_t, fit_y1, '-', linewidth=1, label='Model1') \n",
    "plt.plot(fit_t, fit_y2, '-', linewidth=1, label='Model2') \n",
    "plt.xlabel('time (s)')\n",
    "plt.ylabel('height (m)')\n",
    "plt.title('Falling Object')\n",
    "plt.legend()\n",
    "\n",
    "plt.show()"
   ]
  }
 ],
 "metadata": {
  "anaconda-cloud": {},
  "kernelspec": {
   "display_name": "Python 3",
   "language": "python",
   "name": "python3"
  },
  "language_info": {
   "codemirror_mode": {
    "name": "ipython",
    "version": 3
   },
   "file_extension": ".py",
   "mimetype": "text/x-python",
   "name": "python",
   "nbconvert_exporter": "python",
   "pygments_lexer": "ipython3",
   "version": "3.6.4"
  }
 },
 "nbformat": 4,
 "nbformat_minor": 1
}
