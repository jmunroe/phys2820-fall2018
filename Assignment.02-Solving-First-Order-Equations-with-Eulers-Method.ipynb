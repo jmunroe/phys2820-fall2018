{
 "cells": [
  {
   "cell_type": "markdown",
   "metadata": {},
   "source": [
    "# Solving First-Order Equations with Euler's Method\n",
    "## Assignment 2"
   ]
  },
  {
   "cell_type": "markdown",
   "metadata": {},
   "source": [
    "### Name:\n",
    "### Student ID:"
   ]
  },
  {
   "cell_type": "markdown",
   "metadata": {},
   "source": [
    "## Question 1\n",
    "\n",
    "Population growth problems often give rise to rate equations that are first-order. For example, the equation\n",
    "\n",
    "$$\\frac{dN}{dt} = a N - b N^2\\;,$$\n",
    "\n",
    "might describe how the number of individuals in a population, $N$, varies with time. Here the first term $aN$ corresponds to the birth of new members, while the second term $-bN^2$ corresponds to deaths.  The death term is proportional to $N^2$ to allow for the fact that food will become harder to find when the population $N$ becomes large.  Begin by solving this  equation with $b=0$ using the Euler method, and compare your numerical result with the exact solution. Then solve the  equation with nonzero values $b$. Give an intuitive explanation of your results.  Interesting values of $a$ and $b$ depend on the initial population $N$. For small $N(0)$, $a = 10$ and $b=3$ is a good choice, while for $N(0) = 1000$ a good choice is $a = 10$ and $b=0.01$.\n",
    "\n",
    "*Giordano Problem 1.6*"
   ]
  },
  {
   "cell_type": "markdown",
   "metadata": {},
   "source": [
    "#### Answer [20 points]"
   ]
  },
  {
   "cell_type": "markdown",
   "metadata": {},
   "source": [
    "*Write your solution here...*"
   ]
  },
  {
   "cell_type": "code",
   "execution_count": null,
   "metadata": {
    "collapsed": true
   },
   "outputs": [],
   "source": [
    "# code cell"
   ]
  },
  {
   "cell_type": "markdown",
   "metadata": {},
   "source": [
    "## Question 2\n",
    "Recall that in the lectures we modelled drag as\n",
    "\n",
    "$$ F_{drag} \\approx - B_1 v - B_2 v^2 $$\n",
    "\n",
    "Estimate the effect of the Stokes term ($-B_1 v$) in this model. This term, neglected when discussed the bicyclist problem lecture, represents *viscous drag*, that is, the dragging of air by the moving bicyle due to the viscosity of air.\n",
    "\n",
    "The viscosity $\\eta$ is usually define for a fluid contained between two parallel plates of area $A$ by\n",
    "\n",
    "$$ F = \\eta A \\frac{\\partial v}{\\partial z}\\;,$$\n",
    "\n",
    "where $F$ is the drag force and $z$ is the transverse coordinate.  As a rough approximation, let us replace $\\frac{\\partial v}{\\partial z}$ by $v/h$ where $h$ is the height of the bicyle plus the bicyclist. For air, $\\eta \\approx 2 \\times 10^{-5}$ Pa $\\cdot$ s. Do the same also if the bicycle is being ridden *under water*. For water, $\\eta \\approx 2 \\times 10^{-3}$ Pa $\\cdot$ s, and don't forget that the density of water is much higher than air!\n",
    "\n",
    "*Giordano Problem 2.3*"
   ]
  },
  {
   "cell_type": "markdown",
   "metadata": {},
   "source": [
    "#### Answer [20 points]"
   ]
  },
  {
   "cell_type": "markdown",
   "metadata": {},
   "source": [
    "*Write your solution here...*"
   ]
  },
  {
   "cell_type": "code",
   "execution_count": null,
   "metadata": {
    "collapsed": true
   },
   "outputs": [],
   "source": [
    "# code cell"
   ]
  },
  {
   "cell_type": "markdown",
   "metadata": {},
   "source": [
    "----\n",
    "#### General Instructions\n",
    "* Be sure to use good programming style.\n",
    "* Use multiple Jupyter cells (either code or Markdown) as needed to fully answer the questions.\n",
    "* Before submission, test your Jupyter notebook by selecting *Restart the Kernel and re-run the notebook* from the Kernel menu.\n",
    "* Submit your ipynb file through the D2L dropbox for A2."
   ]
  }
 ],
 "metadata": {
  "anaconda-cloud": {},
  "kernelspec": {
   "display_name": "Python 3",
   "language": "python",
   "name": "python3"
  },
  "language_info": {
   "codemirror_mode": {
    "name": "ipython",
    "version": 3
   },
   "file_extension": ".py",
   "mimetype": "text/x-python",
   "name": "python",
   "nbconvert_exporter": "python",
   "pygments_lexer": "ipython3",
   "version": "3.6.4"
  }
 },
 "nbformat": 4,
 "nbformat_minor": 1
}
