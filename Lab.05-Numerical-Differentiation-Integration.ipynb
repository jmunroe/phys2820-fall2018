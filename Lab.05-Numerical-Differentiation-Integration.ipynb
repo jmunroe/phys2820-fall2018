{
 "cells": [
  {
   "cell_type": "code",
   "execution_count": null,
   "metadata": {
    "collapsed": true
   },
   "outputs": [],
   "source": [
    "%matplotlib inline\n",
    "import numpy as np\n",
    "import matplotlib.pyplot as plt\n",
    "plt.style.use('default')"
   ]
  },
  {
   "cell_type": "markdown",
   "metadata": {},
   "source": [
    "# Numerical Differentiation and Integration\n",
    "## Lab 6"
   ]
  },
  {
   "cell_type": "markdown",
   "metadata": {},
   "source": [
    "### Name:\n",
    "### Student ID:"
   ]
  },
  {
   "cell_type": "markdown",
   "metadata": {},
   "source": [
    "#### Instructions:\n",
    "Skim through the entire lab before beginning.  Read the text carefully and complete the steps as indicated.  Submit your completed lab through the D2L dropbox.\n"
   ]
  },
  {
   "cell_type": "markdown",
   "metadata": {},
   "source": [
    "### In this section, we will explore the accurary of taking derivatives numerically."
   ]
  },
  {
   "cell_type": "markdown",
   "metadata": {},
   "source": [
    "a)  Define the mathematical function \n",
    "\n",
    "$$g(x)=e^{-\\cos(x)}$$  \n",
    "\n",
    "as the Python function `g(x)`.\n",
    "\n",
    "\n",
    "*Hint: write a function with a single argument `x` that returns the composition of np.exp() and np.cos()*"
   ]
  },
  {
   "cell_type": "code",
   "execution_count": null,
   "metadata": {
    "collapsed": true
   },
   "outputs": [],
   "source": []
  },
  {
   "cell_type": "markdown",
   "metadata": {},
   "source": [
    "Plot this function from $x=0$ to $x=2$.  "
   ]
  },
  {
   "cell_type": "code",
   "execution_count": null,
   "metadata": {},
   "outputs": [],
   "source": [
    "fig, axes = plt.subplots()\n",
    "\n",
    "\n",
    "\n",
    "\n",
    "plt.xlabel('$x$')\n",
    "plt.ylabel('$g(x)$')"
   ]
  },
  {
   "cell_type": "markdown",
   "metadata": {},
   "source": [
    "Evaluate $dg/dx$ by hand and create a new function called `dgdx(x)` that implements this first derivative."
   ]
  },
  {
   "cell_type": "code",
   "execution_count": null,
   "metadata": {
    "collapsed": true
   },
   "outputs": [],
   "source": []
  },
  {
   "cell_type": "markdown",
   "metadata": {
    "collapsed": true
   },
   "source": [
    "Calculate $dg/dx$ at $x=1.3$ and store the result in a variable called `exact`. Print out this value."
   ]
  },
  {
   "cell_type": "code",
   "execution_count": null,
   "metadata": {},
   "outputs": [],
   "source": []
  },
  {
   "cell_type": "markdown",
   "metadata": {},
   "source": [
    "b) Write a function that numerically calculates the derivative of an inputted function at a given point, using the forward difference approximation.  The 3 arguments of your function should be function to be differentiated, point at which to evaluate the derivative, and stepsize.  \n",
    "\n",
    "    def DFor( BLANK, BLANK, BLANK  ):  \n",
    "        return (f(x + h) - f(x)) / h\n",
    "        \n",
    "*Hint: the first argument will be the **name** of the function only*"
   ]
  },
  {
   "cell_type": "code",
   "execution_count": null,
   "metadata": {
    "collapsed": true
   },
   "outputs": [],
   "source": []
  },
  {
   "cell_type": "markdown",
   "metadata": {},
   "source": [
    "Use your forward difference function to estimate $dg/dx$ at $x=1.3$ using a stepsize of $h=0.1$.  "
   ]
  },
  {
   "cell_type": "code",
   "execution_count": null,
   "metadata": {},
   "outputs": [],
   "source": []
  },
  {
   "cell_type": "markdown",
   "metadata": {},
   "source": [
    "What is the relative error?\n",
    "\n",
    "    relerror = np.abs((res - exact)/exact)"
   ]
  },
  {
   "cell_type": "code",
   "execution_count": null,
   "metadata": {},
   "outputs": [],
   "source": []
  },
  {
   "cell_type": "markdown",
   "metadata": {},
   "source": [
    "c)  Plot the absolute value of the relative error on a double log plot for your forward difference scheme as a function of $h$, with $h$ ranging from 0.1 to 10$^{-12}$ in multiplicative steps of 0.1.  Use logarthmmic axes for both $h$ and the error.  Note the minimum that appears as $h$ becomes very small.\n"
   ]
  },
  {
   "cell_type": "markdown",
   "metadata": {},
   "source": [
    "> Hint: Here is a method of plotting $x^2$ versus $10^{-x}$ for integer values of x:\n",
    "\n",
    "    n = 6\n",
    "    x = np.zeros(n)\n",
    "    y = np.zeros(n)\n",
    "    for i in range(n):\n",
    "        x[i] = 10**(-i)\n",
    "        y[i] = i**2\n",
    "    plt.loglog(x, y, 'o')"
   ]
  },
  {
   "cell_type": "code",
   "execution_count": null,
   "metadata": {},
   "outputs": [],
   "source": []
  },
  {
   "cell_type": "markdown",
   "metadata": {},
   "source": [
    "For approximately what value of h is the most accurate value of the derivative obtained?"
   ]
  },
  {
   "cell_type": "markdown",
   "metadata": {},
   "source": [
    "Answer: we get the most accurate answer when h is about .....\n"
   ]
  },
  {
   "cell_type": "markdown",
   "metadata": {},
   "source": [
    "### In this section we will numerically differentiate and integrate discreet data.  \n"
   ]
  },
  {
   "cell_type": "markdown",
   "metadata": {},
   "source": [
    "a) First we shall generate some synthetic data with two columns: one for time in s, the other for velocity in m/s with some noise.\n",
    "\n",
    "*(Nothing to change here)*"
   ]
  },
  {
   "cell_type": "code",
   "execution_count": null,
   "metadata": {},
   "outputs": [],
   "source": [
    "n = 21\n",
    "data_t = np.zeros(n)\n",
    "data_vy = np.zeros(n)\n",
    "\n",
    "for i in range(n):\n",
    "    t = i/20\n",
    "    data_t[i] = t\n",
    "    data_vy[i] = 6.2 - 9.8 * t + np.random.uniform(-0.2, 0.2, 1)\n",
    "\n",
    "plt.xlabel(\"t (s)\")\n",
    "plt.ylabel(\"v (m/s)\")\n",
    "plt.xlim(0, 1)\n",
    "plt.plot(data_t, data_vy, '.')\n"
   ]
  },
  {
   "cell_type": "markdown",
   "metadata": {},
   "source": [
    "b) Write a function that calculates the derivative for data in an array, using a centred difference scheme.  Use your function to generate an array containing time and acceleration.  \n",
    "\n",
    "*Hint: your function will be something like:*\n",
    "\n",
    "    def a(data_x, data_y , i):  \n",
    "        return (BLANK[i + 1] - data_y[BLANK]) / (data_x[BLANK] - data_x[i - 1])\n",
    "        "
   ]
  },
  {
   "cell_type": "code",
   "execution_count": null,
   "metadata": {
    "collapsed": true
   },
   "outputs": [],
   "source": []
  },
  {
   "cell_type": "markdown",
   "metadata": {},
   "source": [
    "Make a graph of the acceleration as a function of time.  The graph should fairly noisy.\n",
    "\n",
    "    accel_t = data_t[1:-1] #Shorthand to make it equal to data_t but without first or last element\n",
    "    accel_y = np.zeros(len(data_t) - 2)\n",
    "\n",
    "    for i in range(1, len(data_vy) - 1):\n",
    "        accel_y[i-1] = BLANK\n",
    "\n",
    "    plt.xlabel(\"t (s)\")\n",
    "    plt.ylabel(\"a (m/s^2)\")\n",
    "    plt.ylim(-15, 5)\n",
    "    plt.plot(accel_t, accel_y)\n"
   ]
  },
  {
   "cell_type": "code",
   "execution_count": null,
   "metadata": {},
   "outputs": [],
   "source": []
  },
  {
   "cell_type": "markdown",
   "metadata": {},
   "source": [
    "What is the mean acceleration?\n",
    "\n",
    "    np.mean(BLANK)"
   ]
  },
  {
   "cell_type": "code",
   "execution_count": null,
   "metadata": {
    "collapsed": true
   },
   "outputs": [],
   "source": []
  },
  {
   "cell_type": "markdown",
   "metadata": {},
   "source": [
    "Answer:  Mean velocity is around ....... m/s$^2$."
   ]
  },
  {
   "cell_type": "markdown",
   "metadata": {},
   "source": [
    "c) Using the trapezoid rule, write a function that integrates an array of data, from the beginning to an arbitrary end point. \n",
    "\n",
    "Fill in the blanks:\n",
    "\n",
    "    def DNITrap(datax, datay , k):  \n",
    "        deltax = datax[1] - datax[0]  \n",
    "        result = 0  \n",
    "        result += deltax / 2 * (datay[0] + datay[k])  \n",
    "        for i in range(BLANK, BLANK):  \n",
    "            result += deltax / 2 * 2 * (datay[i])  \n",
    "        \n",
    "        return result "
   ]
  },
  {
   "cell_type": "code",
   "execution_count": null,
   "metadata": {
    "collapsed": true
   },
   "outputs": [],
   "source": []
  },
  {
   "cell_type": "markdown",
   "metadata": {},
   "source": [
    " Integrate the velocity data to find the displacement as a  function of time assuming initial displacement is zero. \n",
    " \n",
    "    dispt_t = data_t[1:] #Shorthand to make it equal to data_t but without first element\n",
    "    dispt_y = np.zeros(len(data_t) - 1)\n",
    "\n",
    "    for i in range(1, len(data_t)):\n",
    "        dispt_y[i-1] = BLANK\n",
    "\n",
    "    plt.ylabel(\"Displacement (m)\")\n",
    "    plt.xlabel(\"t (s)\")\n",
    "    plt.plot(dispt_t, dispt_y)"
   ]
  },
  {
   "cell_type": "code",
   "execution_count": null,
   "metadata": {},
   "outputs": [],
   "source": []
  },
  {
   "cell_type": "markdown",
   "metadata": {},
   "source": [
    "What do you determine the final displacement to be?"
   ]
  },
  {
   "cell_type": "code",
   "execution_count": null,
   "metadata": {},
   "outputs": [],
   "source": []
  },
  {
   "cell_type": "markdown",
   "metadata": {},
   "source": [
    "Answer: Final displacement is around 1.3 m (answers may very because of the random component)"
   ]
  },
  {
   "cell_type": "markdown",
   "metadata": {},
   "source": [
    "If there were no noise in the data, what would you expect the final displacement to be?\n",
    "\n",
    "\n",
    "*Hint: Recall the kinematic formula for constant acceleration $x - x_0 = v_{x0} t + \\frac{1}{2} a t^2 $*"
   ]
  },
  {
   "cell_type": "code",
   "execution_count": null,
   "metadata": {},
   "outputs": [],
   "source": []
  },
  {
   "cell_type": "markdown",
   "metadata": {},
   "source": [
    "Answer: The expected final displacement is ..... m."
   ]
  }
 ],
 "metadata": {
  "anaconda-cloud": {},
  "kernelspec": {
   "display_name": "Python 3",
   "language": "python",
   "name": "python3"
  },
  "language_info": {
   "codemirror_mode": {
    "name": "ipython",
    "version": 3
   },
   "file_extension": ".py",
   "mimetype": "text/x-python",
   "name": "python",
   "nbconvert_exporter": "python",
   "pygments_lexer": "ipython3",
   "version": "3.6.4"
  }
 },
 "nbformat": 4,
 "nbformat_minor": 1
}
