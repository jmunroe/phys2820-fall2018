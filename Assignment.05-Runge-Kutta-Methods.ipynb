{
 "cells": [
  {
   "cell_type": "code",
   "execution_count": null,
   "metadata": {},
   "outputs": [],
   "source": [
    "%matplotlib inline\n",
    "import numpy as np\n",
    "import matplotlib.pyplot as plt"
   ]
  },
  {
   "cell_type": "markdown",
   "metadata": {},
   "source": [
    "# Runge-Kutta Methods\n",
    "## Assignment 5"
   ]
  },
  {
   "cell_type": "markdown",
   "metadata": {},
   "source": [
    "### Name:\n",
    "### Student ID:"
   ]
  },
  {
   "cell_type": "markdown",
   "metadata": {},
   "source": [
    "## 1. Wrench vs Helicopter\n",
    "\n",
    "In an action movie, the hero throws a wrench at the bad guy's helicopter hovering 400m above the ground, causing the helicopter to start losing power.  The lift force provided by the helicopter blades now decays with time and is given in newtons by $H(t)= 15 000 exp( -t /100)$, with $t$ in seconds after the wrench hits.  The air provides a drag force proportional to velocity of magnitude $Fd = k v$ , where $k$ [in units of kg/s] varies with height above the ground as $197.5 -0.1 y$, where $y$ is the height in m.  The mass of the helicopter is 1600 kg, and $g$ = 9.8 m/s$^2$ as usual. \n",
    "\n",
    "i) Make plots of position vs time and velocity vs time for the helicopter.\n",
    "\n",
    "ii) How fast is the helicopter falling when it crashes?\n",
    "\n",
    "To answer this question, implement the 4th Order Runge-Kutta scheme presented in class to solve the ODE resulting from the application of Newton's Second Law.  Use a time step of $\\Delta t$=0.05 s."
   ]
  },
  {
   "cell_type": "markdown",
   "metadata": {
    "collapsed": true
   },
   "source": [
    "#### Solution [20 points]"
   ]
  },
  {
   "cell_type": "code",
   "execution_count": null,
   "metadata": {},
   "outputs": [],
   "source": []
  },
  {
   "cell_type": "markdown",
   "metadata": {},
   "source": [
    "## 2. Coupled ODEs with RK4"
   ]
  },
  {
   "cell_type": "markdown",
   "metadata": {},
   "source": [
    "### a) \n",
    "Use the fourth-order Runge-Kutta scheme to solve the following set of coupled ODE's:\n",
    "\n",
    "$$ \\frac{dy}{dt} + 3x = \\cos(t) + 5$$\n",
    "$$ \\frac{dx}{dt} - 3y = \\sin(2t)$$\n",
    "\n",
    "with\n",
    "\n",
    "$$ y(0) = 3, x(0) = 1 $$\n",
    "\n",
    "from t = 0 to t = 10 using a timestep of 0.1. Plot your solutions for x(t) and y(t)."
   ]
  },
  {
   "cell_type": "markdown",
   "metadata": {},
   "source": [
    "#### Solution 3a [10 pts]"
   ]
  },
  {
   "cell_type": "code",
   "execution_count": null,
   "metadata": {},
   "outputs": [],
   "source": []
  },
  {
   "cell_type": "markdown",
   "metadata": {},
   "source": [
    "### b)\n",
    "The exact solution to this first-order system of linear differential equations is given by\n",
    "\n",
    "\\begin{align}\n",
    "x(t) &= 3 \\sin(3 t)+3/8 \\cos(t)+2/5 \\cos(2 t)-173/120 \\cos(3 t)+5/3 \\\\\n",
    "y(t) &= -1/8\\sin(t)-3/5 \\sin(2 t)+173/120 \\sin(3 t)+3 \\cos(3 t)\n",
    "\\end{align}\n",
    "\n",
    "Define a Python function for each of these exact solutions."
   ]
  },
  {
   "cell_type": "markdown",
   "metadata": {},
   "source": [
    "#### Solution [4 pts]"
   ]
  },
  {
   "cell_type": "code",
   "execution_count": null,
   "metadata": {},
   "outputs": [],
   "source": []
  },
  {
   "cell_type": "markdown",
   "metadata": {},
   "source": [
    "### c) Plot the difference between your numerical solution and the exact solution for y(t)"
   ]
  },
  {
   "cell_type": "markdown",
   "metadata": {},
   "source": [
    "#### Solution [3 pts]"
   ]
  },
  {
   "cell_type": "code",
   "execution_count": null,
   "metadata": {},
   "outputs": [],
   "source": []
  },
  {
   "cell_type": "markdown",
   "metadata": {},
   "source": [
    "### d)\n",
    "Repeat the necessary steps from part a) in order to plot the difference between your numerical solution and the exact solution for y(t) when the timestep is decreased by a factor of 10 to $\\Delta t=0.01$.  Comment on the outcome."
   ]
  },
  {
   "cell_type": "markdown",
   "metadata": {},
   "source": [
    "#### Solution [3 pts]"
   ]
  },
  {
   "cell_type": "code",
   "execution_count": null,
   "metadata": {},
   "outputs": [],
   "source": []
  }
 ],
 "metadata": {
  "anaconda-cloud": {},
  "kernelspec": {
   "display_name": "Python 3",
   "language": "python",
   "name": "python3"
  },
  "language_info": {
   "codemirror_mode": {
    "name": "ipython",
    "version": 3
   },
   "file_extension": ".py",
   "mimetype": "text/x-python",
   "name": "python",
   "nbconvert_exporter": "python",
   "pygments_lexer": "ipython3",
   "version": "3.6.4"
  }
 },
 "nbformat": 4,
 "nbformat_minor": 1
}
