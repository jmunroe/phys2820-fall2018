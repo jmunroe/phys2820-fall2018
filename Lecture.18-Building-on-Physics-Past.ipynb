{
 "cells": [
  {
   "cell_type": "code",
   "execution_count": 1,
   "metadata": {},
   "outputs": [],
   "source": [
    "%matplotlib inline\n",
    "import numpy as np\n",
    "import matplotlib.pyplot as plt\n",
    "import sympy as sp\n",
    "#from IPython.display import display"
   ]
  },
  {
   "cell_type": "markdown",
   "metadata": {},
   "source": [
    "# Building on Physics Past\n",
    "## Lecture 18"
   ]
  },
  {
   "cell_type": "markdown",
   "metadata": {},
   "source": [
    "To get nice-looking $\\LaTeX$ formatted output run:"
   ]
  },
  {
   "cell_type": "code",
   "execution_count": 4,
   "metadata": {},
   "outputs": [],
   "source": [
    "sp.init_printing()"
   ]
  },
  {
   "cell_type": "markdown",
   "metadata": {},
   "source": [
    "And for interactive use, it is helpful to load all of the components:"
   ]
  },
  {
   "cell_type": "code",
   "execution_count": 2,
   "metadata": {},
   "outputs": [],
   "source": [
    "from sympy import *"
   ]
  },
  {
   "cell_type": "markdown",
   "metadata": {},
   "source": [
    "## Differential Equations\n",
    "\n",
    "\n",
    "SymPy is capable of solving (some) Ordinary Differential. To solve\n",
    "differential equations, use `dsolve`. \n",
    "\n",
    "For example, the Bernouilli DE is\n",
    "\n",
    "$$x \\frac{d}{dx} y(x) + y(x) - y(x)^2=0$$"
   ]
  },
  {
   "cell_type": "code",
   "execution_count": 5,
   "metadata": {},
   "outputs": [
    {
     "data": {
      "image/png": "[encoded data removed]",
      "text/latex": [
       "$$y{\\left (x \\right )} = - \\frac{C_{1}}{- C_{1} + x}$$"
      ],
      "text/plain": [
       "         -C₁  \n",
       "y(x) = ───────\n",
       "       -C₁ + x"
      ]
     },
     "execution_count": 5,
     "metadata": {},
     "output_type": "execute_result"
    }
   ],
   "source": [
    "y = Function('y')\n",
    "x = Symbol('x')\n",
    "dsolve( x*y(x).diff(x) + y(x) - y(x)**2, y(x))"
   ]
  },
  {
   "cell_type": "markdown",
   "metadata": {},
   "source": [
    "Sometimes, you can help SymPy along by giving it a `hint`"
   ]
  },
  {
   "cell_type": "code",
   "execution_count": 6,
   "metadata": {},
   "outputs": [
    {
     "data": {
      "image/png": "[encoded data removed]",
      "text/latex": [
       "$$y{\\left (x \\right )} = \\frac{1}{x \\left(C_{1} + \\frac{1}{x}\\right)}$$"
      ],
      "text/plain": [
       "           1     \n",
       "y(x) = ──────────\n",
       "         ⎛     1⎞\n",
       "       x⋅⎜C₁ + ─⎟\n",
       "         ⎝     x⎠"
      ]
     },
     "execution_count": 6,
     "metadata": {},
     "output_type": "execute_result"
    }
   ],
   "source": [
    "dsolve( x*y(x).diff(x) + y(x) - y(x)**2, y(x), hint='Bernoulli')"
   ]
  },
  {
   "cell_type": "markdown",
   "metadata": {},
   "source": [
    "Or, for a differential equation like\n",
    "\n",
    "$$ \\frac{dy}{dx} = 2 y$$"
   ]
  },
  {
   "cell_type": "code",
   "execution_count": 9,
   "metadata": {},
   "outputs": [
    {
     "data": {
      "image/png": "[encoded data removed]",
      "text/latex": [
       "$$y{\\left (x \\right )} = C_{1} e^{2 x}$$"
      ],
      "text/plain": [
       "           2⋅x\n",
       "y(x) = C₁⋅ℯ   "
      ]
     },
     "execution_count": 9,
     "metadata": {},
     "output_type": "execute_result"
    }
   ],
   "source": [
    "dsolve( y(x).diff(x) - 2*y(x), y(x))"
   ]
  },
  {
   "cell_type": "code",
   "execution_count": 10,
   "metadata": {},
   "outputs": [
    {
     "data": {
      "image/png": "[encoded data removed]",
      "text/latex": [
       "$$y{\\left (x \\right )} = C_{1} + 2 C_{1} x + 2 C_{1} x^{2} + \\frac{4 C_{1} x^{3}}{3} + \\frac{2 C_{1} x^{4}}{3} + \\frac{4 C_{1} x^{5}}{15} + O\\left(x^{6}\\right)$$"
      ],
      "text/plain": [
       "                                     3         4         5        \n",
       "                           2   4⋅C₁⋅x    2⋅C₁⋅x    4⋅C₁⋅x     ⎛ 6⎞\n",
       "y(x) = C₁ + 2⋅C₁⋅x + 2⋅C₁⋅x  + ─────── + ─────── + ─────── + O⎝x ⎠\n",
       "                                  3         3         15          "
      ]
     },
     "execution_count": 10,
     "metadata": {},
     "output_type": "execute_result"
    }
   ],
   "source": [
    "dsolve( y(x).diff(x) - 2*y(x), y(x), hint='1st_power_series')"
   ]
  },
  {
   "cell_type": "markdown",
   "metadata": {},
   "source": [
    "Or, consider this second-order harmonic oscillator:"
   ]
  },
  {
   "cell_type": "markdown",
   "metadata": {},
   "source": [
    "$$ \\frac{d^2}{dx^2} y(x) + y(x) = 0$$"
   ]
  },
  {
   "cell_type": "markdown",
   "metadata": {},
   "source": [
    "with $y(0) = 2$ and $y'(0) = 1$"
   ]
  },
  {
   "cell_type": "code",
   "execution_count": 13,
   "metadata": {},
   "outputs": [
    {
     "data": {
      "image/png": "[encoded data removed]",
      "text/latex": [
       "$$y{\\left (x \\right )} = C_{1} \\sin{\\left (x \\right )} + C_{2} \\cos{\\left (x \\right )}$$"
      ],
      "text/plain": [
       "y(x) = C₁⋅sin(x) + C₂⋅cos(x)"
      ]
     },
     "execution_count": 13,
     "metadata": {},
     "output_type": "execute_result"
    }
   ],
   "source": [
    "dsolve(y(x).diff(x,x) + y(x), y(x) )"
   ]
  },
  {
   "cell_type": "markdown",
   "metadata": {},
   "source": [
    "The solution has two undetermined coefficients, $C_1$ and $C_2$. We can calculate those as well if we supply appropriate boundary and/or initial conditions. "
   ]
  },
  {
   "cell_type": "markdown",
   "metadata": {},
   "source": [
    "As of right now, SymPy only supports initial conditions in the special case of solving for power series solutions of ODEs.  Until that code is developed, do to this automatically, we can still solve for the coefficients ourselves:"
   ]
  },
  {
   "cell_type": "code",
   "execution_count": 14,
   "metadata": {},
   "outputs": [
    {
     "data": {
      "image/png": "[encoded data removed]",
      "text/latex": [
       "$$\\left [ C_{2} - 2, \\quad C_{1} - 1\\right ]$$"
      ],
      "text/plain": [
       "[C₂ - 2, C₁ - 1]"
      ]
     },
     "execution_count": 14,
     "metadata": {},
     "output_type": "execute_result"
    }
   ],
   "source": [
    "soln = _.rhs   # _ means the last thing calculated, we just want the right hand side\n",
    "\n",
    "ics = [ soln.subs(x, 0) - 2,\n",
    "        soln.diff(x).subs(x,0) - 1]\n",
    "ics"
   ]
  },
  {
   "cell_type": "code",
   "execution_count": 15,
   "metadata": {},
   "outputs": [
    {
     "data": {
      "image/png": "[encoded data removed]",
      "text/latex": [
       "$$\\left \\{ C_{1} : 1, \\quad C_{2} : 2\\right \\}$$"
      ],
      "text/plain": [
       "{C₁: 1, C₂: 2}"
      ]
     },
     "execution_count": 15,
     "metadata": {},
     "output_type": "execute_result"
    }
   ],
   "source": [
    "coeffs = solve(ics)\n",
    "coeffs"
   ]
  },
  {
   "cell_type": "markdown",
   "metadata": {},
   "source": [
    "So, we can substitute this back into our solution"
   ]
  },
  {
   "cell_type": "code",
   "execution_count": 16,
   "metadata": {},
   "outputs": [
    {
     "data": {
      "image/png": "[encoded data removed]",
      "text/latex": [
       "$$\\sin{\\left (x \\right )} + 2 \\cos{\\left (x \\right )}$$"
      ],
      "text/plain": [
       "sin(x) + 2⋅cos(x)"
      ]
     },
     "execution_count": 16,
     "metadata": {},
     "output_type": "execute_result"
    }
   ],
   "source": [
    "soln = soln.subs(coeffs)\n",
    "soln"
   ]
  },
  {
   "cell_type": "markdown",
   "metadata": {},
   "source": [
    "And finally plot it"
   ]
  },
  {
   "cell_type": "code",
   "execution_count": 17,
   "metadata": {},
   "outputs": [
    {
     "data": {
      "image/png": "[encoded data removed]",
      "text/plain": [
       "<Figure size 432x288 with 1 Axes>"
      ]
     },
     "metadata": {},
     "output_type": "display_data"
    },
    {
     "data": {
      "text/plain": [
       "<sympy.plotting.plot.Plot at 0x10dcd7358>"
      ]
     },
     "execution_count": 17,
     "metadata": {},
     "output_type": "execute_result"
    }
   ],
   "source": [
    "plot(  soln, (x, 0, 10) ) "
   ]
  },
  {
   "cell_type": "markdown",
   "metadata": {},
   "source": [
    "Of course, it would be better to do this all in one go.  On newer versions of SymPy ( >= 1.3) there is support for solving intial conditions automatically."
   ]
  },
  {
   "cell_type": "code",
   "execution_count": 31,
   "metadata": {},
   "outputs": [
    {
     "data": {
      "image/png": "[encoded data removed]",
      "text/latex": [
       "$$y{\\left (x \\right )} = \\sin{\\left (x \\right )} + 2 \\cos{\\left (x \\right )}$$"
      ],
      "text/plain": [
       "y(x) = sin(x) + 2⋅cos(x)"
      ]
     },
     "execution_count": 31,
     "metadata": {},
     "output_type": "execute_result"
    }
   ],
   "source": [
    "dsolve(y(x).diff(x,x) + y(x), y(x), \n",
    "    ics= { y(0): 2, \n",
    "           y(x).diff(x).subs(x, 0):1 })"
   ]
  },
  {
   "cell_type": "markdown",
   "metadata": {},
   "source": [
    "## Building on Physics Past\n",
    "\n",
    "In this section of the course we will use SymPy and NumPy to solve physics problems taken from first year.  We will then be able solve more complicated, generalized versions of the problems."
   ]
  },
  {
   "cell_type": "markdown",
   "metadata": {},
   "source": [
    "## 1. The bicycle and the truck\n",
    "A truck is waiting at a red light.  A cyclist trying to catch up is 3 m behind the truck just as the light turns green.  The bicycle keeps a constant velocity of 20.0 km/h, while the truck accelerates at a constant rate of 3.00 m/s$^2$.  When does the bicycle catch up to the truck? When does the truck overtake the bicycle?"
   ]
  },
  {
   "cell_type": "markdown",
   "metadata": {},
   "source": [
    "### Solution"
   ]
  },
  {
   "cell_type": "markdown",
   "metadata": {},
   "source": [
    "Convert velocity of bicycle to m/s"
   ]
  },
  {
   "cell_type": "code",
   "execution_count": 32,
   "metadata": {},
   "outputs": [
    {
     "data": {
      "image/png": "[encoded data removed]",
      "text/latex": [
       "$$5.555555555555555$$"
      ],
      "text/plain": [
       "5.555555555555555"
      ]
     },
     "execution_count": 32,
     "metadata": {},
     "output_type": "execute_result"
    }
   ],
   "source": [
    "vb = 20 * 1000 / 60 / 60\n",
    "vb"
   ]
  },
  {
   "cell_type": "markdown",
   "metadata": {},
   "source": [
    "Seems like a reasonable number.  Position of bicycle as a function of time, given initial position of -3.00 m is,"
   ]
  },
  {
   "cell_type": "code",
   "execution_count": 33,
   "metadata": {},
   "outputs": [
    {
     "data": {
      "image/png": "[encoded data removed]",
      "text/latex": [
       "$$5.55555555555556 t - 3.0$$"
      ],
      "text/plain": [
       "5.55555555555556⋅t - 3.0"
      ]
     },
     "execution_count": 33,
     "metadata": {},
     "output_type": "execute_result"
    }
   ],
   "source": [
    "t = Symbol('t')\n",
    "xb = vb * t - 3.00\n",
    "xb"
   ]
  },
  {
   "cell_type": "markdown",
   "metadata": {},
   "source": [
    "Position of truck as a function of time (formula from first year kinematics with v$_0$=0, x$_0$=0)"
   ]
  },
  {
   "cell_type": "code",
   "execution_count": 34,
   "metadata": {},
   "outputs": [
    {
     "data": {
      "image/png": "[encoded data removed]",
      "text/latex": [
       "$$1.5 t^{2}$$"
      ],
      "text/plain": [
       "     2\n",
       "1.5⋅t "
      ]
     },
     "execution_count": 34,
     "metadata": {},
     "output_type": "execute_result"
    }
   ],
   "source": [
    "a =3.00\n",
    "xt = 1/2 * a * t**2 \n",
    "xt"
   ]
  },
  {
   "cell_type": "markdown",
   "metadata": {},
   "source": [
    "Plot position of truck and bicycle (guessing how long to plot for)."
   ]
  },
  {
   "cell_type": "code",
   "execution_count": 35,
   "metadata": {},
   "outputs": [
    {
     "data": {
      "image/png": "[encoded data removed]",
      "text/plain": [
       "<Figure size 432x288 with 1 Axes>"
      ]
     },
     "metadata": {},
     "output_type": "display_data"
    }
   ],
   "source": [
    "p = plot(xt, xb, (t, 0, 5), legend=True, show=False)\n",
    "p[0].line_color ='red'\n",
    "p[1].line_color = 'green'\n",
    "p.show()"
   ]
  },
  {
   "cell_type": "markdown",
   "metadata": {},
   "source": [
    "Looks like the bicycle overtakes the truck after about 0.6 s and the truck will overtake the bicycle at around 3 s.  Let's solve for that time exactly."
   ]
  },
  {
   "cell_type": "code",
   "execution_count": 36,
   "metadata": {},
   "outputs": [
    {
     "data": {
      "image/png": "[encoded data removed]",
      "text/latex": [
       "$$\\left [ 0.656295378402298, \\quad 3.04740832530141\\right ]$$"
      ],
      "text/plain": [
       "[0.656295378402298, 3.04740832530141]"
      ]
     },
     "execution_count": 36,
     "metadata": {},
     "output_type": "execute_result"
    }
   ],
   "source": [
    "soln = solve(xb - xt, t)\n",
    "soln"
   ]
  },
  {
   "cell_type": "code",
   "execution_count": 37,
   "metadata": {},
   "outputs": [
    {
     "data": {
      "image/png": "[encoded data removed]",
      "text/latex": [
       "$$0.656$$"
      ],
      "text/plain": [
       "0.656"
      ]
     },
     "metadata": {},
     "output_type": "display_data"
    },
    {
     "data": {
      "image/png": "[encoded data removed]",
      "text/latex": [
       "$$3.05$$"
      ],
      "text/plain": [
       "3.05"
      ]
     },
     "metadata": {},
     "output_type": "display_data"
    }
   ],
   "source": [
    "t1, t2 = soln\n",
    "display( t1.evalf(3), t2.evalf(3)) # pay attention to significant figures"
   ]
  },
  {
   "cell_type": "markdown",
   "metadata": {},
   "source": [
    "The bicycle overtakes the truck after 0.66 s.  The truck overtakes the bicycle after 3.05 s."
   ]
  },
  {
   "cell_type": "markdown",
   "metadata": {},
   "source": [
    "## 2. The bicycle and the truck generalized\n",
    "A truck is waiting at a red light.  A cyclist trying to catch up is 3 m behind the truck just as the light turns green.  The cyclist travels at a velocity of roughly 20 km/h, but can't keep up the pace.  The velocity of the bicylce is given by (4 e$^{-t/3}$ + 2)  m/s, with t measured from the moment the light turns green in s, while the truck accelerates at a rate of (2 - 0.1 t)  m/s^2.  When does the truck overtake the bicycle (answer to 3 sig figs.)?"
   ]
  },
  {
   "cell_type": "markdown",
   "metadata": {},
   "source": [
    "Velocity of bicycle as a function of t."
   ]
  },
  {
   "cell_type": "code",
   "execution_count": 173,
   "metadata": {},
   "outputs": [
    {
     "data": {
      "image/png": "[encoded data removed]",
      "text/latex": [
       "$$2 + 4 e^{- \\frac{t}{3}}$$"
      ],
      "text/plain": [
       "       -t \n",
       "       ───\n",
       "        3 \n",
       "2 + 4⋅ℯ   "
      ]
     },
     "execution_count": 173,
     "metadata": {},
     "output_type": "execute_result"
    }
   ],
   "source": [
    "vb = 4 * exp(-t/3) + 2\n",
    "vb"
   ]
  },
  {
   "cell_type": "markdown",
   "metadata": {},
   "source": [
    "To get the position of bicycle as a function of time, we must integrate the velocity, bearing in mind that position is zero at t=0."
   ]
  },
  {
   "cell_type": "code",
   "execution_count": 174,
   "metadata": {},
   "outputs": [
    {
     "data": {
      "image/png": "[encoded data removed]",
      "text/latex": [
       "$$\\int_{0}^{t} \\left(2 + 4 e^{- \\frac{t}{3}}\\right)\\, dt - 3$$"
      ],
      "text/plain": [
       "t                    \n",
       "⌠                    \n",
       "⎮ ⎛       -t ⎞       \n",
       "⎮ ⎜       ───⎟       \n",
       "⎮ ⎜        3 ⎟       \n",
       "⎮ ⎝2 + 4⋅ℯ   ⎠ dt - 3\n",
       "⌡                    \n",
       "0                    "
      ]
     },
     "metadata": {},
     "output_type": "display_data"
    },
    {
     "data": {
      "image/png": "[encoded data removed]",
      "text/latex": [
       "$$2 t + 9 - 12 e^{- \\frac{t}{3}}$$"
      ],
      "text/plain": [
       "              -t \n",
       "              ───\n",
       "               3 \n",
       "2⋅t + 9 - 12⋅ℯ   "
      ]
     },
     "execution_count": 174,
     "metadata": {},
     "output_type": "execute_result"
    }
   ],
   "source": [
    "xb = Integral(vb, (t, 0, t)) - 3\n",
    "display(xb)\n",
    "\n",
    "xb = xb.doit()\n",
    "xb"
   ]
  },
  {
   "cell_type": "markdown",
   "metadata": {},
   "source": [
    "\n",
    "\n",
    "Position of truck as a function of time (we must integrate twice)"
   ]
  },
  {
   "cell_type": "code",
   "execution_count": 175,
   "metadata": {},
   "outputs": [
    {
     "data": {
      "image/png": "[encoded data removed]",
      "text/latex": [
       "$$- 0.0166666666666667 t^{3} + 1.0 t^{2}$$"
      ],
      "text/plain": [
       "                      3        2\n",
       "- 0.0166666666666667⋅t  + 1.0⋅t "
      ]
     },
     "execution_count": 175,
     "metadata": {},
     "output_type": "execute_result"
    }
   ],
   "source": [
    "at = 2 - 0.1 * t\n",
    "vt = integrate(at, (t, 0, t))\n",
    "xt = integrate(vt, (t, 0, t))\n",
    "xt"
   ]
  },
  {
   "cell_type": "code",
   "execution_count": 176,
   "metadata": {},
   "outputs": [
    {
     "data": {
      "image/png": "[encoded data removed]",
      "text/plain": [
       "<Figure size 432x288 with 1 Axes>"
      ]
     },
     "metadata": {},
     "output_type": "display_data"
    }
   ],
   "source": [
    "p = plot(xt, xb, (t, 0, 5), legend=True, show=False)\n",
    "p[0].line_color ='red'\n",
    "p[1].line_color = 'green'\n",
    "p.show()"
   ]
  },
  {
   "cell_type": "markdown",
   "metadata": {},
   "source": [
    "Looks like truck will overtake the bicycle at around 4 s.  Let's solve for that time exactly."
   ]
  },
  {
   "cell_type": "code",
   "execution_count": 177,
   "metadata": {},
   "outputs": [
    {
     "ename": "NotImplementedError",
     "evalue": "multiple generators [t, exp(t/3)]\nNo algorithms are implemented to solve equation t**3/60 - t**2 + 2*t + 9 - 12*exp(-t/3)",
     "output_type": "error",
     "traceback": [
      "\u001b[0;31m---------------------------------------------------------------------------\u001b[0m",
      "\u001b[0;31mNotImplementedError\u001b[0m                       Traceback (most recent call last)",
      "\u001b[0;32m<ipython-input-177-7c2fb5d02f9a>\u001b[0m in \u001b[0;36m<module>\u001b[0;34m()\u001b[0m\n\u001b[0;32m----> 1\u001b[0;31m \u001b[0msolve\u001b[0m\u001b[0;34m(\u001b[0m\u001b[0mxb\u001b[0m \u001b[0;34m-\u001b[0m \u001b[0mxt\u001b[0m\u001b[0;34m,\u001b[0m \u001b[0mt\u001b[0m\u001b[0;34m)\u001b[0m  \u001b[0;31m## NOTE: this will give an (expected) error!\u001b[0m\u001b[0;34m\u001b[0m\u001b[0m\n\u001b[0m",
      "\u001b[0;32m~/miniconda3/lib/python3.6/site-packages/sympy/solvers/solvers.py\u001b[0m in \u001b[0;36msolve\u001b[0;34m(f, *symbols, **flags)\u001b[0m\n\u001b[1;32m   1160\u001b[0m     \u001b[0;31m###########################################################################\u001b[0m\u001b[0;34m\u001b[0m\u001b[0;34m\u001b[0m\u001b[0m\n\u001b[1;32m   1161\u001b[0m     \u001b[0;32mif\u001b[0m \u001b[0mbare_f\u001b[0m\u001b[0;34m:\u001b[0m\u001b[0;34m\u001b[0m\u001b[0m\n\u001b[0;32m-> 1162\u001b[0;31m         \u001b[0msolution\u001b[0m \u001b[0;34m=\u001b[0m \u001b[0m_solve\u001b[0m\u001b[0;34m(\u001b[0m\u001b[0mf\u001b[0m\u001b[0;34m[\u001b[0m\u001b[0;36m0\u001b[0m\u001b[0;34m]\u001b[0m\u001b[0;34m,\u001b[0m \u001b[0;34m*\u001b[0m\u001b[0msymbols\u001b[0m\u001b[0;34m,\u001b[0m \u001b[0;34m**\u001b[0m\u001b[0mflags\u001b[0m\u001b[0;34m)\u001b[0m\u001b[0;34m\u001b[0m\u001b[0m\n\u001b[0m\u001b[1;32m   1163\u001b[0m     \u001b[0;32melse\u001b[0m\u001b[0;34m:\u001b[0m\u001b[0;34m\u001b[0m\u001b[0m\n\u001b[1;32m   1164\u001b[0m         \u001b[0msolution\u001b[0m \u001b[0;34m=\u001b[0m \u001b[0m_solve_system\u001b[0m\u001b[0;34m(\u001b[0m\u001b[0mf\u001b[0m\u001b[0;34m,\u001b[0m \u001b[0msymbols\u001b[0m\u001b[0;34m,\u001b[0m \u001b[0;34m**\u001b[0m\u001b[0mflags\u001b[0m\u001b[0;34m)\u001b[0m\u001b[0;34m\u001b[0m\u001b[0m\n",
      "\u001b[0;32m~/miniconda3/lib/python3.6/site-packages/sympy/solvers/solvers.py\u001b[0m in \u001b[0;36m_solve\u001b[0;34m(f, *symbols, **flags)\u001b[0m\n\u001b[1;32m   1733\u001b[0m \u001b[0;34m\u001b[0m\u001b[0m\n\u001b[1;32m   1734\u001b[0m     \u001b[0;32mif\u001b[0m \u001b[0mresult\u001b[0m \u001b[0;32mis\u001b[0m \u001b[0;32mFalse\u001b[0m\u001b[0;34m:\u001b[0m\u001b[0;34m\u001b[0m\u001b[0m\n\u001b[0;32m-> 1735\u001b[0;31m         \u001b[0;32mraise\u001b[0m \u001b[0mNotImplementedError\u001b[0m\u001b[0;34m(\u001b[0m\u001b[0;34m'\\n'\u001b[0m\u001b[0;34m.\u001b[0m\u001b[0mjoin\u001b[0m\u001b[0;34m(\u001b[0m\u001b[0;34m[\u001b[0m\u001b[0mmsg\u001b[0m\u001b[0;34m,\u001b[0m \u001b[0mnot_impl_msg\u001b[0m \u001b[0;34m%\u001b[0m \u001b[0mf\u001b[0m\u001b[0;34m]\u001b[0m\u001b[0;34m)\u001b[0m\u001b[0;34m)\u001b[0m\u001b[0;34m\u001b[0m\u001b[0m\n\u001b[0m\u001b[1;32m   1736\u001b[0m \u001b[0;34m\u001b[0m\u001b[0m\n\u001b[1;32m   1737\u001b[0m     \u001b[0;32mif\u001b[0m \u001b[0mflags\u001b[0m\u001b[0;34m.\u001b[0m\u001b[0mget\u001b[0m\u001b[0;34m(\u001b[0m\u001b[0;34m'simplify'\u001b[0m\u001b[0;34m,\u001b[0m \u001b[0;32mTrue\u001b[0m\u001b[0;34m)\u001b[0m\u001b[0;34m:\u001b[0m\u001b[0;34m\u001b[0m\u001b[0m\n",
      "\u001b[0;31mNotImplementedError\u001b[0m: multiple generators [t, exp(t/3)]\nNo algorithms are implemented to solve equation t**3/60 - t**2 + 2*t + 9 - 12*exp(-t/3)"
     ]
    }
   ],
   "source": [
    "solve(xb - xt, t)  ## NOTE: this will give an (expected) error!"
   ]
  },
  {
   "cell_type": "markdown",
   "metadata": {},
   "source": [
    "This time the function solve can't solve the set of equations exactly (analytically).  If solve can't do it, We need to use a numerical root finder, but we need to give an initial guess."
   ]
  },
  {
   "cell_type": "code",
   "execution_count": 178,
   "metadata": {},
   "outputs": [
    {
     "data": {
      "image/png": "[encoded data removed]",
      "text/latex": [
       "$$3.7163673728562$$"
      ],
      "text/plain": [
       "3.71636737285620"
      ]
     },
     "execution_count": 178,
     "metadata": {},
     "output_type": "execute_result"
    }
   ],
   "source": [
    "soln = nsolve(xb - xt, 4)\n",
    "soln"
   ]
  },
  {
   "cell_type": "markdown",
   "metadata": {},
   "source": [
    "Considering significant figures, we can evaluate this to a 3 significant figures."
   ]
  },
  {
   "cell_type": "code",
   "execution_count": 179,
   "metadata": {},
   "outputs": [
    {
     "data": {
      "image/png": "[encoded data removed]",
      "text/latex": [
       "$$3.72$$"
      ],
      "text/plain": [
       "3.72"
      ]
     },
     "execution_count": 179,
     "metadata": {},
     "output_type": "execute_result"
    }
   ],
   "source": [
    "N(_,3)"
   ]
  },
  {
   "cell_type": "markdown",
   "metadata": {},
   "source": [
    "The truck overtakes the bicycle after 3.72 s."
   ]
  },
  {
   "cell_type": "markdown",
   "metadata": {},
   "source": [
    "***\n",
    "Getting xt a different way... as an ODE"
   ]
  },
  {
   "cell_type": "code",
   "execution_count": 77,
   "metadata": {},
   "outputs": [
    {
     "data": {
      "image/png": "[encoded data removed]",
      "text/latex": [
       "$$C_{1} + C_{2} t - 0.0166666666666667 t^{3} + 1.0 t^{2}$$"
      ],
      "text/plain": [
       "                                3        2\n",
       "C₁ + C₂⋅t - 0.0166666666666667⋅t  + 1.0⋅t "
      ]
     },
     "execution_count": 77,
     "metadata": {},
     "output_type": "execute_result"
    }
   ],
   "source": [
    "xt = Function('xt')\n",
    "ode = diff(xt(t), t, t) - at\n",
    "soln = dsolve( ode ).rhs\n",
    "soln"
   ]
  },
  {
   "cell_type": "markdown",
   "metadata": {},
   "source": [
    "We need to add appropriate initial conditions to solve for the unknown coefficients."
   ]
  },
  {
   "cell_type": "code",
   "execution_count": 78,
   "metadata": {},
   "outputs": [
    {
     "data": {
      "image/png": "[encoded data removed]",
      "text/latex": [
       "$$\\left \\{ C_{1} : 0, \\quad C_{2} : 0\\right \\}$$"
      ],
      "text/plain": [
       "{C₁: 0, C₂: 0}"
      ]
     },
     "execution_count": 78,
     "metadata": {},
     "output_type": "execute_result"
    }
   ],
   "source": [
    "coeffs = solve( [ soln.subs(t, 0) - 0,            # xt(0) = 0\n",
    "                  diff( soln, t).subs(t, 0) - 0,  # vt(0) = 0\n",
    "                ])\n",
    "coeffs\n"
   ]
  },
  {
   "cell_type": "markdown",
   "metadata": {},
   "source": [
    "Now substitute these back into our solution."
   ]
  },
  {
   "cell_type": "code",
   "execution_count": 79,
   "metadata": {},
   "outputs": [
    {
     "data": {
      "image/png": "[encoded data removed]",
      "text/latex": [
       "$$- 0.0166666666666667 t^{3} + 1.0 t^{2}$$"
      ],
      "text/plain": [
       "                      3        2\n",
       "- 0.0166666666666667⋅t  + 1.0⋅t "
      ]
     },
     "execution_count": 79,
     "metadata": {},
     "output_type": "execute_result"
    }
   ],
   "source": [
    "xt_soln = soln.subs(coeffs)\n",
    "xt_soln"
   ]
  },
  {
   "cell_type": "code",
   "execution_count": 80,
   "metadata": {},
   "outputs": [
    {
     "data": {
      "image/png": "[encoded data removed]",
      "text/plain": [
       "<Figure size 432x288 with 1 Axes>"
      ]
     },
     "metadata": {},
     "output_type": "display_data"
    }
   ],
   "source": [
    "p = plot(xt_soln, xb, ('t', 0, 5), legend=True, show=False)\n",
    "p[0].line_color ='red'\n",
    "p[1].line_color = 'green'\n",
    "p.show()"
   ]
  },
  {
   "cell_type": "markdown",
   "metadata": {},
   "source": [
    "If you are using SymPy 1.3 or newer, then we could also write"
   ]
  },
  {
   "cell_type": "code",
   "execution_count": 87,
   "metadata": {},
   "outputs": [
    {
     "data": {
      "image/png": "[encoded data removed]",
      "text/latex": [
       "$$\\operatorname{xt}{\\left (t \\right )} = - 0.0166666666666667 t^{3} + 1.0 t^{2}$$"
      ],
      "text/plain": [
       "                              3        2\n",
       "xt(t) = - 0.0166666666666667⋅t  + 1.0⋅t "
      ]
     },
     "execution_count": 87,
     "metadata": {},
     "output_type": "execute_result"
    }
   ],
   "source": [
    "ode = diff(xt(t), t, t) - at\n",
    "\n",
    "ics = {xt(0):0,\n",
    "       diff(xt(t), t).subs(t, 0):0 }\n",
    "dsolve( ode, func=xt(t), ics=ics)"
   ]
  },
  {
   "cell_type": "markdown",
   "metadata": {},
   "source": [
    "## 3. Another ODE: Simple Harmonic Oscillator"
   ]
  },
  {
   "cell_type": "markdown",
   "metadata": {},
   "source": [
    "Consider a block of mass $m$ attached to a spring on a horizontally frictionless table. Experiments have shown that the force exerted by a spring is linearly proportional to the distance\n",
    "\n",
    "$$ x $$\n",
    "\n",
    "the spring is displaced from its equilibrium position. Mathematically, this is\n",
    "\n",
    "$$ F = -k x $$\n",
    "\n",
    "where $k$ is the spring constant. Its value depend on the particular spring used. Newton's Second Law then gives\n",
    "\n",
    "$$ m a = -k x \\quad \\mathrm{(1)}$$\n",
    "\n",
    "Since $ a = d^2x / dt^2, this yields the ordinary differential equation\n",
    "\n",
    "$$ m \\frac{d^2 x}{d t^2} = - k x \\quad \\mathrm{(2)}$$\n",
    "\n",
    "with the initial conditions\n",
    "\n",
    "$$ x(0) = x_i, \\quad v(0) = v_i $$\n",
    "\n",
    "where $v$ is the velocity.  In the previous example, acceleration (force) was given an explicit time dependence. Instead, the force here depends on position.  A general solution to (2) was found analytically back in PHYS1050 in terms of sines and cosines, and we can recover it here."
   ]
  },
  {
   "cell_type": "code",
   "execution_count": 115,
   "metadata": {},
   "outputs": [],
   "source": [
    "# define our variables\n",
    "x = symbols('x', cls=Function)\n",
    "t = symbols('t')\n",
    "k, m = symbols('k, m', positive=True)\n",
    "xi, vi = symbols('x_i, v_i')"
   ]
  },
  {
   "cell_type": "code",
   "execution_count": 116,
   "metadata": {
    "scrolled": true
   },
   "outputs": [
    {
     "data": {
      "image/png": "[encoded data removed]",
      "text/latex": [
       "$$C_{1} \\sin{\\left (\\frac{\\sqrt{k} t}{\\sqrt{m}} \\right )} + C_{2} \\cos{\\left (\\frac{\\sqrt{k} t}{\\sqrt{m}} \\right )}$$"
      ],
      "text/plain": [
       "      ⎛√k⋅t⎞         ⎛√k⋅t⎞\n",
       "C₁⋅sin⎜────⎟ + C₂⋅cos⎜────⎟\n",
       "      ⎝ √m ⎠         ⎝ √m ⎠"
      ]
     },
     "execution_count": 116,
     "metadata": {},
     "output_type": "execute_result"
    }
   ],
   "source": [
    "general_soln = dsolve( m*diff(x(t), t, t) + k * x(t), x(t)).rhs\n",
    "general_soln"
   ]
  },
  {
   "cell_type": "markdown",
   "metadata": {},
   "source": [
    "Use the initial conditions to solve for the unknown coefficients"
   ]
  },
  {
   "cell_type": "code",
   "execution_count": 102,
   "metadata": {},
   "outputs": [
    {
     "data": {
      "image/png": "[encoded data removed]",
      "text/latex": [
       "$$\\left [ \\left \\{ C_{1} : \\frac{\\sqrt{m} v_{i}}{\\sqrt{k}}, \\quad C_{2} : x_{i}\\right \\}\\right ]$$"
      ],
      "text/plain": [
       "⎡⎧    √m⋅vᵢ        ⎫⎤\n",
       "⎢⎨C₁: ─────, C₂: xᵢ⎬⎥\n",
       "⎣⎩      √k         ⎭⎦"
      ]
     },
     "execution_count": 102,
     "metadata": {},
     "output_type": "execute_result"
    }
   ],
   "source": [
    "coeffs = solve ([ general_soln.subs(t,0) - xi, \n",
    "         diff(general_soln, t).subs(t, 0) - vi]\n",
    "      )\n",
    "coeffs"
   ]
  },
  {
   "cell_type": "markdown",
   "metadata": {},
   "source": [
    "Substitute those coefficients back into the solution to the ODE"
   ]
  },
  {
   "cell_type": "code",
   "execution_count": 103,
   "metadata": {},
   "outputs": [
    {
     "data": {
      "image/png": "[encoded data removed]",
      "text/latex": [
       "$$x_{i} \\cos{\\left (\\frac{\\sqrt{k} t}{\\sqrt{m}} \\right )} + \\frac{\\sqrt{m} v_{i} \\sin{\\left (\\frac{\\sqrt{k} t}{\\sqrt{m}} \\right )}}{\\sqrt{k}}$$"
      ],
      "text/plain": [
       "                        ⎛√k⋅t⎞\n",
       "               √m⋅vᵢ⋅sin⎜────⎟\n",
       "      ⎛√k⋅t⎞            ⎝ √m ⎠\n",
       "xᵢ⋅cos⎜────⎟ + ───────────────\n",
       "      ⎝ √m ⎠          √k      "
      ]
     },
     "execution_count": 103,
     "metadata": {},
     "output_type": "execute_result"
    }
   ],
   "source": [
    "soln = general_soln.subs(coeffs[0])\n",
    "soln"
   ]
  },
  {
   "cell_type": "markdown",
   "metadata": {},
   "source": [
    "Or, with SymPy >= 1.3, directly as"
   ]
  },
  {
   "cell_type": "code",
   "execution_count": 118,
   "metadata": {},
   "outputs": [
    {
     "data": {
      "image/png": "[encoded data removed]",
      "text/latex": [
       "$$x_{i} \\cos{\\left (\\frac{\\sqrt{k} t}{\\sqrt{m}} \\right )} + \\frac{\\sqrt{m} v_{i} \\sin{\\left (\\frac{\\sqrt{k} t}{\\sqrt{m}} \\right )}}{\\sqrt{k}}$$"
      ],
      "text/plain": [
       "                        ⎛√k⋅t⎞\n",
       "               √m⋅vᵢ⋅sin⎜────⎟\n",
       "      ⎛√k⋅t⎞            ⎝ √m ⎠\n",
       "xᵢ⋅cos⎜────⎟ + ───────────────\n",
       "      ⎝ √m ⎠          √k      "
      ]
     },
     "execution_count": 118,
     "metadata": {},
     "output_type": "execute_result"
    }
   ],
   "source": [
    "soln = dsolve( m*diff(x(t), t, t) + k * x(t), x(t),\n",
    "               ics = {x(0):xi, \n",
    "                      diff(x(t), t).subs(t, 0):vi}).rhs\n",
    "soln"
   ]
  },
  {
   "cell_type": "markdown",
   "metadata": {},
   "source": [
    "We often rewrite the natural frequency as $ \\omega_0 = \\sqrt(k)/\\sqrt(m)$."
   ]
  },
  {
   "cell_type": "code",
   "execution_count": 119,
   "metadata": {},
   "outputs": [
    {
     "data": {
      "image/png": "[encoded data removed]",
      "text/latex": [
       "$$\\frac{v_{i} \\sin{\\left (t ω_{0} \\right )}}{ω_{0}} + x_{i} \\cos{\\left (t ω_{0} \\right )}$$"
      ],
      "text/plain": [
       "vᵢ⋅sin(t⋅ω₀)               \n",
       "──────────── + xᵢ⋅cos(t⋅ω₀)\n",
       "     ω₀                    "
      ]
     },
     "execution_count": 119,
     "metadata": {},
     "output_type": "execute_result"
    }
   ],
   "source": [
    "ω0 = Symbol('ω_0')\n",
    "x = soln.subs(sqrt(k), ω0*sqrt(m))\n",
    "x"
   ]
  },
  {
   "cell_type": "markdown",
   "metadata": {},
   "source": [
    "Since there is no dissipation, i.e. no friction, the total mechanical energy of this system should be conserved. Let's check this. The total mechanical energy is the sum of the potential energy $U$ and kinetic energy $K$. The potential energy is given by $( k = \\omega_0^2 m)$\n",
    "    \n",
    "$$ U = 1/2 k x^2 = 1/2 \\omega_0^2 m x^2 $$\n",
    "    \n",
    "and the kinetic energy is\n",
    "\n",
    "$$ K = 1/2 m v^2 $$"
   ]
  },
  {
   "cell_type": "code",
   "execution_count": 120,
   "metadata": {},
   "outputs": [
    {
     "data": {
      "image/png": "[encoded data removed]",
      "text/latex": [
       "$$\\frac{m ω_{0}^{2} \\left(\\frac{v_{i} \\sin{\\left (t ω_{0} \\right )}}{ω_{0}} + x_{i} \\cos{\\left (t ω_{0} \\right )}\\right)^{2}}{2}$$"
      ],
      "text/plain": [
       "                                   2\n",
       "    2 ⎛vᵢ⋅sin(t⋅ω₀)               ⎞ \n",
       "m⋅ω₀ ⋅⎜──────────── + xᵢ⋅cos(t⋅ω₀)⎟ \n",
       "      ⎝     ω₀                    ⎠ \n",
       "────────────────────────────────────\n",
       "                 2                  "
      ]
     },
     "metadata": {},
     "output_type": "display_data"
    },
    {
     "data": {
      "image/png": "[encoded data removed]",
      "text/latex": [
       "$$\\frac{m \\left(v_{i} \\cos{\\left (t ω_{0} \\right )} - x_{i} ω_{0} \\sin{\\left (t ω_{0} \\right )}\\right)^{2}}{2}$$"
      ],
      "text/plain": [
       "                                  2\n",
       "m⋅(vᵢ⋅cos(t⋅ω₀) - xᵢ⋅ω₀⋅sin(t⋅ω₀)) \n",
       "───────────────────────────────────\n",
       "                 2                 "
      ]
     },
     "metadata": {},
     "output_type": "display_data"
    }
   ],
   "source": [
    "U = Rational(1,2) * ω0**2 * m * x**2\n",
    "display(U)\n",
    "K = Rational(1,2) * m * diff(x, t)**2\n",
    "display(K)"
   ]
  },
  {
   "cell_type": "markdown",
   "metadata": {},
   "source": [
    "Adding these contributions, we should get a constant."
   ]
  },
  {
   "cell_type": "code",
   "execution_count": 121,
   "metadata": {},
   "outputs": [
    {
     "data": {
      "image/png": "[encoded data removed]",
      "text/latex": [
       "$$\\frac{m ω_{0}^{2} \\left(\\frac{v_{i} \\sin{\\left (t ω_{0} \\right )}}{ω_{0}} + x_{i} \\cos{\\left (t ω_{0} \\right )}\\right)^{2}}{2} + \\frac{m \\left(v_{i} \\cos{\\left (t ω_{0} \\right )} - x_{i} ω_{0} \\sin{\\left (t ω_{0} \\right )}\\right)^{2}}{2}$$"
      ],
      "text/plain": [
       "                                   2                                      \n",
       "    2 ⎛vᵢ⋅sin(t⋅ω₀)               ⎞                                       \n",
       "m⋅ω₀ ⋅⎜──────────── + xᵢ⋅cos(t⋅ω₀)⎟                                      2\n",
       "      ⎝     ω₀                    ⎠    m⋅(vᵢ⋅cos(t⋅ω₀) - xᵢ⋅ω₀⋅sin(t⋅ω₀)) \n",
       "──────────────────────────────────── + ───────────────────────────────────\n",
       "                 2                                      2                 "
      ]
     },
     "execution_count": 121,
     "metadata": {},
     "output_type": "execute_result"
    }
   ],
   "source": [
    "EnergyE = U + K\n",
    "EnergyE"
   ]
  },
  {
   "cell_type": "code",
   "execution_count": 122,
   "metadata": {},
   "outputs": [
    {
     "data": {
      "image/png": "[encoded data removed]",
      "text/latex": [
       "$$\\frac{m \\left(v_{i}^{2} + x_{i}^{2} ω_{0}^{2}\\right)}{2}$$"
      ],
      "text/plain": [
       "  ⎛  2     2   2⎞\n",
       "m⋅⎝vᵢ  + xᵢ ⋅ω₀ ⎠\n",
       "─────────────────\n",
       "        2        "
      ]
     },
     "execution_count": 122,
     "metadata": {},
     "output_type": "execute_result"
    }
   ],
   "source": [
    "simplify(EnergyE)"
   ]
  },
  {
   "cell_type": "markdown",
   "metadata": {},
   "source": [
    "as expected."
   ]
  },
  {
   "cell_type": "markdown",
   "metadata": {},
   "source": [
    "## 4. Block on an inclined plane"
   ]
  },
  {
   "cell_type": "markdown",
   "metadata": {},
   "source": [
    "A 1.5 kg block rests on a horizontal board hinged at one end.  The coefficient of static friction is μ=0.1.  The free end of the board is lifted very slowly.  At what angle will the block begin to slide down the board?"
   ]
  },
  {
   "cell_type": "markdown",
   "metadata": {},
   "source": [
    "#### Solution"
   ]
  },
  {
   "cell_type": "code",
   "execution_count": 123,
   "metadata": {},
   "outputs": [],
   "source": [
    "m, g, θ, μ = symbols('m, g, θ, μ')"
   ]
  },
  {
   "cell_type": "markdown",
   "metadata": {},
   "source": [
    "The component of gravity acting along the board (r=0 is at the hinge, r increases up the board):"
   ]
  },
  {
   "cell_type": "code",
   "execution_count": 124,
   "metadata": {},
   "outputs": [],
   "source": [
    "Fg_radial = - m * g * sin(θ)"
   ]
  },
  {
   "cell_type": "markdown",
   "metadata": {},
   "source": [
    "The component of gravity acting prependicular to the board:"
   ]
  },
  {
   "cell_type": "code",
   "execution_count": 125,
   "metadata": {},
   "outputs": [],
   "source": [
    "Fg_normal = - m *g * cos(θ)"
   ]
  },
  {
   "cell_type": "markdown",
   "metadata": {},
   "source": [
    "Normal force:"
   ]
  },
  {
   "cell_type": "code",
   "execution_count": 126,
   "metadata": {},
   "outputs": [],
   "source": [
    "Fnormal = - Fg_normal"
   ]
  },
  {
   "cell_type": "markdown",
   "metadata": {},
   "source": [
    "Maximum upword force (in direction of increasing r) provided by static friction:"
   ]
  },
  {
   "cell_type": "code",
   "execution_count": 127,
   "metadata": {},
   "outputs": [],
   "source": [
    "Fstatic = μ * Fnormal"
   ]
  },
  {
   "cell_type": "markdown",
   "metadata": {},
   "source": [
    "Find θ at which Fg_radial + Fstatic = 0"
   ]
  },
  {
   "cell_type": "code",
   "execution_count": 128,
   "metadata": {},
   "outputs": [
    {
     "data": {
      "image/png": "[encoded data removed]",
      "text/latex": [
       "$$- g m \\sin{\\left (θ \\right )}$$"
      ],
      "text/plain": [
       "-g⋅m⋅sin(θ)"
      ]
     },
     "execution_count": 128,
     "metadata": {},
     "output_type": "execute_result"
    }
   ],
   "source": [
    "Fg_radial"
   ]
  },
  {
   "cell_type": "code",
   "execution_count": 129,
   "metadata": {},
   "outputs": [
    {
     "data": {
      "image/png": "[encoded data removed]",
      "text/latex": [
       "$$g m μ \\cos{\\left (θ \\right )}$$"
      ],
      "text/plain": [
       "g⋅m⋅μ⋅cos(θ)"
      ]
     },
     "execution_count": 129,
     "metadata": {},
     "output_type": "execute_result"
    }
   ],
   "source": [
    "Fstatic"
   ]
  },
  {
   "cell_type": "markdown",
   "metadata": {},
   "source": [
    "It looks like m and g will cancel out."
   ]
  },
  {
   "cell_type": "code",
   "execution_count": 130,
   "metadata": {},
   "outputs": [
    {
     "data": {
      "image/png": "[encoded data removed]",
      "text/latex": [
       "$$g m μ \\cos{\\left (θ \\right )} - g m \\sin{\\left (θ \\right )}$$"
      ],
      "text/plain": [
       "g⋅m⋅μ⋅cos(θ) - g⋅m⋅sin(θ)"
      ]
     },
     "execution_count": 130,
     "metadata": {},
     "output_type": "execute_result"
    }
   ],
   "source": [
    "Fg_radial+Fstatic"
   ]
  },
  {
   "cell_type": "code",
   "execution_count": 131,
   "metadata": {},
   "outputs": [
    {
     "data": {
      "image/png": "[encoded data removed]",
      "text/latex": [
       "$$\\left [ 2 \\operatorname{atan}{\\left (\\frac{\\sqrt{μ^{2} + 1} - 1}{μ} \\right )}, \\quad - 2 \\operatorname{atan}{\\left (\\frac{\\sqrt{μ^{2} + 1} + 1}{μ} \\right )}\\right ]$$"
      ],
      "text/plain": [
       "⎡      ⎛   ________    ⎞         ⎛   ________    ⎞⎤\n",
       "⎢      ⎜  ╱  2         ⎟         ⎜  ╱  2         ⎟⎥\n",
       "⎢      ⎜╲╱  μ  + 1  - 1⎟         ⎜╲╱  μ  + 1  + 1⎟⎥\n",
       "⎢2⋅atan⎜───────────────⎟, -2⋅atan⎜───────────────⎟⎥\n",
       "⎣      ⎝       μ       ⎠         ⎝       μ       ⎠⎦"
      ]
     },
     "execution_count": 131,
     "metadata": {},
     "output_type": "execute_result"
    }
   ],
   "source": [
    "sol = solve(Fg_radial + Fstatic, θ)\n",
    "sol"
   ]
  },
  {
   "cell_type": "markdown",
   "metadata": {},
   "source": [
    "SymPy seems to doing something interesting with a tangent half-angle formula, but but it does give a valid solution.\n",
    "\n",
    "Picking out the physically meaningful root..."
   ]
  },
  {
   "cell_type": "code",
   "execution_count": 132,
   "metadata": {},
   "outputs": [
    {
     "data": {
      "image/png": "[encoded data removed]",
      "text/latex": [
       "$$2 \\operatorname{atan}{\\left (\\frac{\\sqrt{μ^{2} + 1} - 1}{μ} \\right )}$$"
      ],
      "text/plain": [
       "      ⎛   ________    ⎞\n",
       "      ⎜  ╱  2         ⎟\n",
       "      ⎜╲╱  μ  + 1  - 1⎟\n",
       "2⋅atan⎜───────────────⎟\n",
       "      ⎝       μ       ⎠"
      ]
     },
     "execution_count": 132,
     "metadata": {},
     "output_type": "execute_result"
    }
   ],
   "source": [
    "θc = sol[0]\n",
    "θc"
   ]
  },
  {
   "cell_type": "markdown",
   "metadata": {},
   "source": [
    "Indeed, m and g have cancelled out, but we need to specify μ to get a number"
   ]
  },
  {
   "cell_type": "code",
   "execution_count": 133,
   "metadata": {},
   "outputs": [
    {
     "data": {
      "image/png": "[encoded data removed]",
      "text/latex": [
       "$$\\frac{17.9403574484089}{\\pi}$$"
      ],
      "text/plain": [
       "17.9403574484089\n",
       "────────────────\n",
       "       π        "
      ]
     },
     "execution_count": 133,
     "metadata": {},
     "output_type": "execute_result"
    }
   ],
   "source": [
    "θc.subs(μ, 0.1) / pi * 180\n"
   ]
  },
  {
   "cell_type": "code",
   "execution_count": 134,
   "metadata": {},
   "outputs": [
    {
     "data": {
      "image/png": "[encoded data removed]",
      "text/latex": [
       "$$5.71$$"
      ],
      "text/plain": [
       "5.71"
      ]
     },
     "execution_count": 134,
     "metadata": {},
     "output_type": "execute_result"
    }
   ],
   "source": [
    "N(_,3)"
   ]
  },
  {
   "cell_type": "markdown",
   "metadata": {},
   "source": [
    "So the block will begin to slide down the board at an angle of 5.71 degrees."
   ]
  },
  {
   "cell_type": "markdown",
   "metadata": {},
   "source": [
    "## 5. Block on an rotating inclined plane"
   ]
  },
  {
   "cell_type": "markdown",
   "metadata": {},
   "source": [
    "A 1.5 kg block rests on a horizontal board hinged at one end.  The block rests 0.3 m away from the hinge (hinge is at r=0).  The coefficient of static friction is μ=0.1.  The free end of the board is lifted so that angle between the board and the horizontal increases at a steady rate of ω=0.4 rad/s.  At what angle will the block begin to slide down the board?\n",
    "\n",
    "The twist here is that since the board is rotating with a non-negligible speed, the block feels a centrifugal force pushing it away from the hinge (up the board).  Thus, the angle at which it begins to slide should be larger.  The centrifugal force is \n",
    "\n",
    "$$Fc = m r ω^2.$$ \n",
    "\n",
    "(Alternatively, the force of static friction provides the centripetal acceleration required to keep the block moving in constant circular motion while it as rest with respect to the board.)  Use $g$=9.80."
   ]
  },
  {
   "cell_type": "markdown",
   "metadata": {},
   "source": [
    "**Solution**"
   ]
  },
  {
   "cell_type": "code",
   "execution_count": 135,
   "metadata": {},
   "outputs": [],
   "source": [
    "m, g, θ, μ, ω, r = symbols('m, g, θ, μ, ω, r')"
   ]
  },
  {
   "cell_type": "markdown",
   "metadata": {},
   "source": [
    "The component of gravity acting along the board (r=0 is at the hinge, r increases up the board):"
   ]
  },
  {
   "cell_type": "code",
   "execution_count": 136,
   "metadata": {},
   "outputs": [],
   "source": [
    "Fg_radial = -m *g *sin(θ)"
   ]
  },
  {
   "cell_type": "markdown",
   "metadata": {},
   "source": [
    "Centrifugal force:"
   ]
  },
  {
   "cell_type": "code",
   "execution_count": 137,
   "metadata": {},
   "outputs": [],
   "source": [
    "Fc = m*r* ω**2"
   ]
  },
  {
   "cell_type": "markdown",
   "metadata": {},
   "source": [
    "The component of gravity acting prependicular to the board:"
   ]
  },
  {
   "cell_type": "code",
   "execution_count": 138,
   "metadata": {},
   "outputs": [],
   "source": [
    "Fg_normal = -m*g*cos(θ)"
   ]
  },
  {
   "cell_type": "markdown",
   "metadata": {},
   "source": [
    "Normal force:"
   ]
  },
  {
   "cell_type": "code",
   "execution_count": 139,
   "metadata": {},
   "outputs": [],
   "source": [
    "Fnormal = -Fg_normal"
   ]
  },
  {
   "cell_type": "markdown",
   "metadata": {},
   "source": [
    "Maximum upword force (in direction of increasing r) provided by static friction:"
   ]
  },
  {
   "cell_type": "code",
   "execution_count": 140,
   "metadata": {},
   "outputs": [],
   "source": [
    "Fstatic = μ * Fnormal"
   ]
  },
  {
   "cell_type": "markdown",
   "metadata": {},
   "source": [
    "Find θ at which Fgradial + Fstat + Fc = 0"
   ]
  },
  {
   "cell_type": "code",
   "execution_count": 141,
   "metadata": {},
   "outputs": [
    {
     "data": {
      "image/png": "[encoded data removed]",
      "text/latex": [
       "$$- g m \\sin{\\left (θ \\right )}$$"
      ],
      "text/plain": [
       "-g⋅m⋅sin(θ)"
      ]
     },
     "execution_count": 141,
     "metadata": {},
     "output_type": "execute_result"
    }
   ],
   "source": [
    "Fg_radial"
   ]
  },
  {
   "cell_type": "code",
   "execution_count": 142,
   "metadata": {},
   "outputs": [
    {
     "data": {
      "image/png": "[encoded data removed]",
      "text/latex": [
       "$$m r ω^{2}$$"
      ],
      "text/plain": [
       "     2\n",
       "m⋅r⋅ω "
      ]
     },
     "execution_count": 142,
     "metadata": {},
     "output_type": "execute_result"
    }
   ],
   "source": [
    "Fc"
   ]
  },
  {
   "cell_type": "code",
   "execution_count": 143,
   "metadata": {},
   "outputs": [
    {
     "data": {
      "image/png": "[encoded data removed]",
      "text/latex": [
       "$$g m μ \\cos{\\left (θ \\right )}$$"
      ],
      "text/plain": [
       "g⋅m⋅μ⋅cos(θ)"
      ]
     },
     "execution_count": 143,
     "metadata": {},
     "output_type": "execute_result"
    }
   ],
   "source": [
    "Fstatic"
   ]
  },
  {
   "cell_type": "code",
   "execution_count": 144,
   "metadata": {},
   "outputs": [
    {
     "data": {
      "image/png": "[encoded data removed]",
      "text/latex": [
       "$$g m μ \\cos{\\left (θ \\right )} - g m \\sin{\\left (θ \\right )} + m r ω^{2}$$"
      ],
      "text/plain": [
       "                                 2\n",
       "g⋅m⋅μ⋅cos(θ) - g⋅m⋅sin(θ) + m⋅r⋅ω "
      ]
     },
     "execution_count": 144,
     "metadata": {},
     "output_type": "execute_result"
    }
   ],
   "source": [
    "Fg_radial+Fstatic+Fc"
   ]
  },
  {
   "cell_type": "code",
   "execution_count": 145,
   "metadata": {},
   "outputs": [
    {
     "data": {
      "image/png": "[encoded data removed]",
      "text/latex": [
       "$$\\left [ - 2 \\operatorname{atan}{\\left (\\frac{g - \\sqrt{g^{2} μ^{2} + g^{2} - r^{2} ω^{4}}}{g μ - r ω^{2}} \\right )}, \\quad - 2 \\operatorname{atan}{\\left (\\frac{g + \\sqrt{g^{2} μ^{2} + g^{2} - r^{2} ω^{4}}}{g μ - r ω^{2}} \\right )}\\right ]$$"
      ],
      "text/plain": [
       "⎡       ⎛       ____________________⎞         ⎛       ____________________⎞⎤\n",
       "⎢       ⎜      ╱  2  2    2    2  4 ⎟         ⎜      ╱  2  2    2    2  4 ⎟⎥\n",
       "⎢       ⎜g - ╲╱  g ⋅μ  + g  - r ⋅ω  ⎟         ⎜g + ╲╱  g ⋅μ  + g  - r ⋅ω  ⎟⎥\n",
       "⎢-2⋅atan⎜───────────────────────────⎟, -2⋅atan⎜───────────────────────────⎟⎥\n",
       "⎢       ⎜                  2        ⎟         ⎜                  2        ⎟⎥\n",
       "⎣       ⎝         g⋅μ - r⋅ω         ⎠         ⎝         g⋅μ - r⋅ω         ⎠⎦"
      ]
     },
     "execution_count": 145,
     "metadata": {},
     "output_type": "execute_result"
    }
   ],
   "source": [
    "sol = solve( Fg_radial + Fstatic + Fc, θ)\n",
    "sol"
   ]
  },
  {
   "cell_type": "markdown",
   "metadata": {},
   "source": [
    "Again, picking out the physically meaningful root (small positive angle)"
   ]
  },
  {
   "cell_type": "code",
   "execution_count": 147,
   "metadata": {},
   "outputs": [],
   "source": [
    "θc = sol[0]"
   ]
  },
  {
   "cell_type": "markdown",
   "metadata": {},
   "source": [
    "We'll need to specify g, r, ω and μ"
   ]
  },
  {
   "cell_type": "code",
   "execution_count": 148,
   "metadata": {},
   "outputs": [],
   "source": [
    "params = { μ:0.1, ω:0.4, r:0.3, g:9.8}"
   ]
  },
  {
   "cell_type": "code",
   "execution_count": 149,
   "metadata": {},
   "outputs": [
    {
     "data": {
      "image/png": "[encoded data removed]",
      "text/latex": [
       "$$0.104542323328808$$"
      ],
      "text/plain": [
       "0.104542323328808"
      ]
     },
     "execution_count": 149,
     "metadata": {},
     "output_type": "execute_result"
    }
   ],
   "source": [
    "θc.subs(params)"
   ]
  },
  {
   "cell_type": "code",
   "execution_count": 150,
   "metadata": {},
   "outputs": [
    {
     "data": {
      "image/png": "[encoded data removed]",
      "text/latex": [
       "$$5.99$$"
      ],
      "text/plain": [
       "5.99"
      ]
     },
     "execution_count": 150,
     "metadata": {},
     "output_type": "execute_result"
    }
   ],
   "source": [
    "N(_ / pi * 180, 3)"
   ]
  },
  {
   "cell_type": "markdown",
   "metadata": {},
   "source": [
    "So the block will begin to slide down the board at an angle of 5.99 degrees."
   ]
  },
  {
   "cell_type": "markdown",
   "metadata": {},
   "source": [
    "## 6. Moving block on rotating inclined plane"
   ]
  },
  {
   "cell_type": "markdown",
   "metadata": {},
   "source": [
    "The 1.5 kg block from the last example is now on the move.  The coefficient of kinetic friction is μ=0.09.  Plot the position of the block along the board up to t=1s according to the solution of Newton's equation.  When does the block hit the bottom of the board?\n",
    "\n",
    "The twist here is that since the board is rotating with a non-negligible speed, in addition to the centrifugal force, the block feels a Coriolis force pushing it into the board.  The Coriolis force is\n",
    "\n",
    "$$ F_{cor} = 2 m \\frac{dr}{dt} \\omega$$\n",
    "    \n",
    "which pushes into the board increasing the normal force."
   ]
  },
  {
   "cell_type": "markdown",
   "metadata": {},
   "source": [
    "***Solution***"
   ]
  },
  {
   "cell_type": "code",
   "execution_count": 154,
   "metadata": {},
   "outputs": [],
   "source": [
    "m, g, θ, μ, ω = symbols('m, g, θ, μ, ω')\n",
    "r = Function('r')"
   ]
  },
  {
   "cell_type": "markdown",
   "metadata": {},
   "source": [
    "The component of gravity acting along the board (r=0 is at the hinge, r increases up the board):"
   ]
  },
  {
   "cell_type": "code",
   "execution_count": 155,
   "metadata": {},
   "outputs": [],
   "source": [
    "Fg_radial = -m * g * sin(θ)"
   ]
  },
  {
   "cell_type": "markdown",
   "metadata": {},
   "source": [
    "(negative since down the board)"
   ]
  },
  {
   "cell_type": "markdown",
   "metadata": {},
   "source": [
    "Centrifugal force:"
   ]
  },
  {
   "cell_type": "code",
   "execution_count": 156,
   "metadata": {},
   "outputs": [],
   "source": [
    "Fcen = m * r(t) * ω**2"
   ]
  },
  {
   "cell_type": "markdown",
   "metadata": {},
   "source": [
    "(positive since up the board)"
   ]
  },
  {
   "cell_type": "markdown",
   "metadata": {},
   "source": [
    "Coriolis force:"
   ]
  },
  {
   "cell_type": "code",
   "execution_count": 157,
   "metadata": {},
   "outputs": [],
   "source": [
    "Fcor = -2 * m * diff(r(t), t) * ω"
   ]
  },
  {
   "cell_type": "markdown",
   "metadata": {},
   "source": [
    "(negative since into the board)"
   ]
  },
  {
   "cell_type": "markdown",
   "metadata": {},
   "source": [
    "The component of gravity acting prependicular to the board:"
   ]
  },
  {
   "cell_type": "code",
   "execution_count": 158,
   "metadata": {},
   "outputs": [],
   "source": [
    "Fg_normal = -m * g * cos(θ)"
   ]
  },
  {
   "cell_type": "markdown",
   "metadata": {},
   "source": [
    "Normal force:"
   ]
  },
  {
   "cell_type": "code",
   "execution_count": 159,
   "metadata": {},
   "outputs": [],
   "source": [
    "Fnormal = - Fg_normal - Fcor"
   ]
  },
  {
   "cell_type": "markdown",
   "metadata": {},
   "source": [
    "Force of kinetic friction (should be positive because it tries to keep the block from sliding down)"
   ]
  },
  {
   "cell_type": "code",
   "execution_count": 160,
   "metadata": {},
   "outputs": [],
   "source": [
    "Fkin = μ * Fnormal"
   ]
  },
  {
   "cell_type": "markdown",
   "metadata": {},
   "source": [
    "At t=0, angle is what we found in the last example"
   ]
  },
  {
   "cell_type": "code",
   "execution_count": 161,
   "metadata": {},
   "outputs": [],
   "source": [
    "θ = ω*t + θc"
   ]
  },
  {
   "cell_type": "markdown",
   "metadata": {},
   "source": [
    "Net force in the r direction"
   ]
  },
  {
   "cell_type": "code",
   "execution_count": 162,
   "metadata": {},
   "outputs": [
    {
     "data": {
      "image/png": "[encoded data removed]",
      "text/latex": [
       "$$- g m \\sin{\\left (θ \\right )} + m ω^{2} r{\\left (t \\right )} + μ \\left(g m \\cos{\\left (θ \\right )} + 2 m ω \\frac{d}{d t} r{\\left (t \\right )}\\right)$$"
      ],
      "text/plain": [
       "                 2          ⎛                   d       ⎞\n",
       "-g⋅m⋅sin(θ) + m⋅ω ⋅r(t) + μ⋅⎜g⋅m⋅cos(θ) + 2⋅m⋅ω⋅──(r(t))⎟\n",
       "                            ⎝                   dt      ⎠"
      ]
     },
     "execution_count": 162,
     "metadata": {},
     "output_type": "execute_result"
    }
   ],
   "source": [
    "Fnet = Fg_radial + Fkin + Fcen\n",
    "Fnet"
   ]
  },
  {
   "cell_type": "markdown",
   "metadata": {},
   "source": [
    "(Friction is increased because of the coriolis force.)"
   ]
  },
  {
   "cell_type": "markdown",
   "metadata": {},
   "source": [
    "Solving Newton's equation"
   ]
  },
  {
   "cell_type": "code",
   "execution_count": 163,
   "metadata": {},
   "outputs": [
    {
     "data": {
      "image/png": "[encoded data removed]",
      "text/latex": [
       "$$r{\\left (t \\right )} = C_{1} e^{t ω \\left(μ - \\sqrt{μ^{2} + 1}\\right)} + C_{2} e^{t ω \\left(μ + \\sqrt{μ^{2} + 1}\\right)} - \\frac{g μ^{2} \\sin{\\left (t ω - 2 \\operatorname{atan}{\\left (\\frac{g - \\sqrt{g^{2} μ^{2} + g^{2} - r^{2} ω^{4}}}{g μ - r ω^{2}} \\right )} \\right )}}{2 ω^{2} \\left(μ^{2} + 1\\right)} - \\frac{g μ \\cos{\\left (t ω - 2 \\operatorname{atan}{\\left (\\frac{g - \\sqrt{g^{2} μ^{2} + g^{2} - r^{2} ω^{4}}}{g μ - r ω^{2}} \\right )} \\right )}}{ω^{2} \\left(μ^{2} + 1\\right)} + \\frac{g \\sin{\\left (t ω - 2 \\operatorname{atan}{\\left (\\frac{g - \\sqrt{g^{2} μ^{2} + g^{2} - r^{2} ω^{4}}}{g μ - r ω^{2}} \\right )} \\right )}}{2 ω^{2} \\left(μ^{2} + 1\\right)}$$"
      ],
      "text/plain": [
       "                                                                       ⎛      \n",
       "                                                                       ⎜      \n",
       "                                                                  2    ⎜      \n",
       "               ⎛       ________⎞           ⎛       ________⎞   g⋅μ ⋅sin⎜t⋅ω - \n",
       "               ⎜      ╱  2     ⎟           ⎜      ╱  2     ⎟           ⎜      \n",
       "           t⋅ω⋅⎝μ - ╲╱  μ  + 1 ⎠       t⋅ω⋅⎝μ + ╲╱  μ  + 1 ⎠           ⎝      \n",
       "r(t) = C₁⋅ℯ                      + C₂⋅ℯ                      - ───────────────\n",
       "                                                                              \n",
       "                                                                              \n",
       "\n",
       "      ⎛       ____________________⎞⎞          ⎛            ⎛       ___________\n",
       "      ⎜      ╱  2  2    2    2  4 ⎟⎟          ⎜            ⎜      ╱  2  2    2\n",
       "      ⎜g - ╲╱  g ⋅μ  + g  - r ⋅ω  ⎟⎟          ⎜            ⎜g - ╲╱  g ⋅μ  + g \n",
       "2⋅atan⎜───────────────────────────⎟⎟   g⋅μ⋅cos⎜t⋅ω - 2⋅atan⎜──────────────────\n",
       "      ⎜                  2        ⎟⎟          ⎜            ⎜                  \n",
       "      ⎝         g⋅μ - r⋅ω         ⎠⎠          ⎝            ⎝         g⋅μ - r⋅ω\n",
       "──────────────────────────────────── - ───────────────────────────────────────\n",
       "       2 ⎛ 2    ⎞                                          2 ⎛ 2    ⎞         \n",
       "    2⋅ω ⋅⎝μ  + 1⎠                                         ω ⋅⎝μ  + 1⎠         \n",
       "\n",
       "_________⎞⎞        ⎛            ⎛       ____________________⎞⎞\n",
       "    2  4 ⎟⎟        ⎜            ⎜      ╱  2  2    2    2  4 ⎟⎟\n",
       " - r ⋅ω  ⎟⎟        ⎜            ⎜g - ╲╱  g ⋅μ  + g  - r ⋅ω  ⎟⎟\n",
       "─────────⎟⎟   g⋅sin⎜t⋅ω - 2⋅atan⎜───────────────────────────⎟⎟\n",
       "2        ⎟⎟        ⎜            ⎜                  2        ⎟⎟\n",
       "         ⎠⎠        ⎝            ⎝         g⋅μ - r⋅ω         ⎠⎠\n",
       "─────────── + ────────────────────────────────────────────────\n",
       "                                  2 ⎛ 2    ⎞                  \n",
       "                               2⋅ω ⋅⎝μ  + 1⎠                  "
      ]
     },
     "execution_count": 163,
     "metadata": {},
     "output_type": "execute_result"
    }
   ],
   "source": [
    "soln = dsolve( Fnet.subs(Symbol('θ'), θ) - m * diff(r(t), t, t), r(t))\n",
    "soln"
   ]
  },
  {
   "cell_type": "markdown",
   "metadata": {},
   "source": [
    "Fill in the physical parameters:"
   ]
  },
  {
   "cell_type": "code",
   "execution_count": 164,
   "metadata": {},
   "outputs": [
    {
     "data": {
      "image/png": "[encoded data removed]",
      "text/latex": [
       "$$C_{1} e^{- 0.365616732719144 t} + C_{2} e^{0.437616732719144 t} + 30.1328613232814 \\sin{\\left (0.4 t + 0.104542323328808 \\right )} - 5.46820751909533 \\cos{\\left (0.4 t + 0.104542323328808 \\right )}$$"
      ],
      "text/plain": [
       "    -0.365616732719144⋅t       0.437616732719144⋅t                            \n",
       "C₁⋅ℯ                     + C₂⋅ℯ                    + 30.1328613232814⋅sin(0.4⋅\n",
       "\n",
       "                                                                        \n",
       "t + 0.104542323328808) - 5.46820751909533⋅cos(0.4⋅t + 0.104542323328808)"
      ]
     },
     "execution_count": 164,
     "metadata": {},
     "output_type": "execute_result"
    }
   ],
   "source": [
    "params = { g:9.8, ω:0.4, θc:0.104542323328808, μ:0.09}\n",
    "r_soln = soln.subs(params).rhs\n",
    "r_soln"
   ]
  },
  {
   "cell_type": "markdown",
   "metadata": {},
   "source": [
    "Apply initial conditions r(0) = 0.3 m and r'(0) = 0.0 m/s"
   ]
  },
  {
   "cell_type": "code",
   "execution_count": 165,
   "metadata": {},
   "outputs": [
    {
     "data": {
      "image/png": "[encoded data removed]",
      "text/latex": [
       "$$\\left \\{ C_{1} : 16.6212367696275, \\quad C_{2} : -14.0273077317372\\right \\}$$"
      ],
      "text/plain": [
       "{C₁: 16.6212367696275, C₂: -14.0273077317372}"
      ]
     },
     "execution_count": 165,
     "metadata": {},
     "output_type": "execute_result"
    }
   ],
   "source": [
    "coeffs = solve ([ r_soln.subs(t, 0) - 0.3, \n",
    "                  diff(r_soln, t).subs(t, 0) - 0])\n",
    "coeffs"
   ]
  },
  {
   "cell_type": "markdown",
   "metadata": {},
   "source": [
    "Substitute those coefficients back in"
   ]
  },
  {
   "cell_type": "code",
   "execution_count": 166,
   "metadata": {},
   "outputs": [
    {
     "data": {
      "image/png": "[encoded data removed]",
      "text/latex": [
       "$$- 14.0273077317372 e^{0.437616732719144 t} + 30.1328613232814 \\sin{\\left (0.4 t + 0.104542323328808 \\right )} - 5.46820751909533 \\cos{\\left (0.4 t + 0.104542323328808 \\right )} + 16.6212367696275 e^{- 0.365616732719144 t}$$"
      ],
      "text/plain": [
       "                    0.437616732719144⋅t                                       \n",
       "- 14.0273077317372⋅ℯ                    + 30.1328613232814⋅sin(0.4⋅t + 0.10454\n",
       "\n",
       "                                                                              \n",
       "2323328808) - 5.46820751909533⋅cos(0.4⋅t + 0.104542323328808) + 16.62123676962\n",
       "\n",
       "    -0.365616732719144⋅t\n",
       "75⋅ℯ                    "
      ]
     },
     "execution_count": 166,
     "metadata": {},
     "output_type": "execute_result"
    }
   ],
   "source": [
    "path = r_soln.subs(coeffs)\n",
    "path"
   ]
  },
  {
   "cell_type": "code",
   "execution_count": 167,
   "metadata": {},
   "outputs": [
    {
     "data": {
      "image/png": "[encoded data removed]",
      "text/plain": [
       "<Figure size 432x288 with 1 Axes>"
      ]
     },
     "metadata": {},
     "output_type": "display_data"
    },
    {
     "data": {
      "text/plain": [
       "<sympy.plotting.plot.Plot at 0x1198b9d68>"
      ]
     },
     "execution_count": 167,
     "metadata": {},
     "output_type": "execute_result"
    }
   ],
   "source": [
    "plot(path, (t, 0, 1))"
   ]
  },
  {
   "cell_type": "code",
   "execution_count": 168,
   "metadata": {},
   "outputs": [
    {
     "data": {
      "image/png": "[encoded data removed]",
      "text/latex": [
       "$$0.743020076490511$$"
      ],
      "text/plain": [
       "0.743020076490511"
      ]
     },
     "execution_count": 168,
     "metadata": {},
     "output_type": "execute_result"
    }
   ],
   "source": [
    "t_end = nsolve( path, t, 0)\n",
    "t_end"
   ]
  },
  {
   "cell_type": "code",
   "execution_count": 171,
   "metadata": {},
   "outputs": [
    {
     "data": {
      "image/png": "[encoded data removed]",
      "text/latex": [
       "$$0.74$$"
      ],
      "text/plain": [
       "0.74"
      ]
     },
     "execution_count": 171,
     "metadata": {},
     "output_type": "execute_result"
    }
   ],
   "source": [
    "N(_, 2)"
   ]
  },
  {
   "cell_type": "markdown",
   "metadata": {},
   "source": [
    "So the block slides down to the bottom in 0.74 s."
   ]
  },
  {
   "cell_type": "markdown",
   "metadata": {},
   "source": [
    "## 7. Collision on a track"
   ]
  },
  {
   "cell_type": "markdown",
   "metadata": {},
   "source": [
    "Two carts are on a collision course on a frictionless track.  The first cart of mass m1=1.1 kg is moving to the right with v1=0.23 m/s while the second cart of mass m2=0.87 kg is moving to the left at v2=1.3 m/s.  Assuming the collision is elastic, find the velocities of the carts after the collision."
   ]
  },
  {
   "cell_type": "markdown",
   "metadata": {},
   "source": [
    "***Solution***"
   ]
  },
  {
   "cell_type": "markdown",
   "metadata": {},
   "source": [
    "Conservation of momentum\n",
    "\n",
    "$$ m_1 v_1 + m_2  v_2 = m_1 v_{1f}, + m_2 v_{2f} $$"
   ]
  },
  {
   "cell_type": "code",
   "execution_count": 180,
   "metadata": {},
   "outputs": [],
   "source": [
    "m1, m2, v1i, v1f, v2i, v2f = symbols('m_1, m_2, v_1i, v_1f, v_2i, v_2f')"
   ]
  },
  {
   "cell_type": "markdown",
   "metadata": {},
   "source": [
    "In Python the = means assignment and the == means equivalent; in SymPy to define a equation, we have to use the `Eq` function to denote equality of two expressions"
   ]
  },
  {
   "cell_type": "code",
   "execution_count": 181,
   "metadata": {},
   "outputs": [
    {
     "data": {
      "image/png": "[encoded data removed]",
      "text/latex": [
       "$$m_{1} v_{1i} + m_{2} v_{2i} = m_{1} v_{1f} + m_{2} v_{2f}$$"
      ],
      "text/plain": [
       "m₁⋅v₁ᵢ + m₂⋅v₂ᵢ = m₁⋅v_1f + m₂⋅v_2f"
      ]
     },
     "execution_count": 181,
     "metadata": {},
     "output_type": "execute_result"
    }
   ],
   "source": [
    "eqp = Eq(m1 * v1i + m2 * v2i,  m1*v1f + m2*v2f)\n",
    "eqp"
   ]
  },
  {
   "cell_type": "markdown",
   "metadata": {},
   "source": [
    "Conservation of energy"
   ]
  },
  {
   "cell_type": "code",
   "execution_count": 182,
   "metadata": {},
   "outputs": [
    {
     "data": {
      "image/png": "[encoded data removed]",
      "text/latex": [
       "$$\\frac{m_{1} v_{1i}^{2}}{2} + \\frac{m_{2} v_{2i}^{2}}{2} = \\frac{m_{1} v_{1f}^{2}}{2} + \\frac{m_{2} v_{2f}^{2}}{2}$$"
      ],
      "text/plain": [
       "      2         2          2          2\n",
       "m₁⋅v₁ᵢ    m₂⋅v₂ᵢ    m₁⋅v_1f    m₂⋅v_2f \n",
       "─────── + ─────── = ──────── + ────────\n",
       "   2         2         2          2    "
      ]
     },
     "execution_count": 182,
     "metadata": {},
     "output_type": "execute_result"
    }
   ],
   "source": [
    "eqe = Eq( m1 * v1i**2/2 + m2 * v2i**2/ 2, m1 * v1f**2/2 + m2 * v2f**2/ 2 )\n",
    "eqe"
   ]
  },
  {
   "cell_type": "code",
   "execution_count": 183,
   "metadata": {},
   "outputs": [
    {
     "data": {
      "image/png": "[encoded data removed]",
      "text/latex": [
       "$$\\left [ \\left \\{ v_{1f} : v_{1i}, \\quad v_{2f} : v_{2i}\\right \\}, \\quad \\left \\{ v_{1f} : \\frac{m_{1} v_{1i} + m_{2} v_{2i} - \\frac{m_{2} \\left(2 m_{1} v_{1i} - m_{1} v_{2i} + m_{2} v_{2i}\\right)}{m_{1} + m_{2}}}{m_{1}}, \\quad v_{2f} : \\frac{2 m_{1} v_{1i} - m_{1} v_{2i} + m_{2} v_{2i}}{m_{1} + m_{2}}\\right \\}\\right ]$$"
      ],
      "text/plain": [
       "⎡                        ⎧                        m₂⋅(2⋅m₁⋅v₁ᵢ - m₁⋅v₂ᵢ + m₂⋅v\n",
       "⎢                        ⎪      m₁⋅v₁ᵢ + m₂⋅v₂ᵢ - ────────────────────────────\n",
       "⎢                        ⎨                                    m₁ + m₂         \n",
       "⎢{v_1f: v₁ᵢ, v_2f: v₂ᵢ}, ⎪v_1f: ──────────────────────────────────────────────\n",
       "⎣                        ⎩                              m₁                    \n",
       "\n",
       "₂ᵢ)                                  ⎫⎤\n",
       "───                                  ⎪⎥\n",
       "           2⋅m₁⋅v₁ᵢ - m₁⋅v₂ᵢ + m₂⋅v₂ᵢ⎬⎥\n",
       "───, v_2f: ──────────────────────────⎪⎥\n",
       "                    m₁ + m₂          ⎭⎦"
      ]
     },
     "execution_count": 183,
     "metadata": {},
     "output_type": "execute_result"
    }
   ],
   "source": [
    "sol =  solve( [eqp, eqe], [v1f, v2f], dict=True ) \n",
    "sol"
   ]
  },
  {
   "cell_type": "markdown",
   "metadata": {},
   "source": [
    "There are two solutions: the first the carts miss each other entirely. The second solution is the collision."
   ]
  },
  {
   "cell_type": "code",
   "execution_count": 184,
   "metadata": {},
   "outputs": [
    {
     "data": {
      "image/png": "[encoded data removed]",
      "text/latex": [
       "$$-1.12137055837563$$"
      ],
      "text/plain": [
       "-1.12137055837563"
      ]
     },
     "metadata": {},
     "output_type": "display_data"
    },
    {
     "data": {
      "image/png": "[encoded data removed]",
      "text/latex": [
       "$$0.408629441624366$$"
      ],
      "text/plain": [
       "0.408629441624366"
      ]
     },
     "metadata": {},
     "output_type": "display_data"
    }
   ],
   "source": [
    "params = { m1:1.1, m2:0.87, v1i:0.23, v2i: -1.3} \n",
    "v1f_soln = sol[1][v1f].subs(params)\n",
    "v2f_soln = sol[1][v2f].subs(params)\n",
    "\n",
    "display(v1f_soln, v2f_soln)"
   ]
  },
  {
   "cell_type": "code",
   "execution_count": 185,
   "metadata": {},
   "outputs": [
    {
     "data": {
      "image/png": "[encoded data removed]",
      "text/latex": [
       "$$-1.1$$"
      ],
      "text/plain": [
       "-1.1"
      ]
     },
     "execution_count": 185,
     "metadata": {},
     "output_type": "execute_result"
    }
   ],
   "source": [
    "v1f_soln.evalf(2)"
   ]
  },
  {
   "cell_type": "markdown",
   "metadata": {},
   "source": [
    "The first cart ends up moving to the left at -1.1 m/s."
   ]
  },
  {
   "cell_type": "code",
   "execution_count": 186,
   "metadata": {},
   "outputs": [
    {
     "data": {
      "image/png": "[encoded data removed]",
      "text/latex": [
       "$$0.41$$"
      ],
      "text/plain": [
       "0.41"
      ]
     },
     "execution_count": 186,
     "metadata": {},
     "output_type": "execute_result"
    }
   ],
   "source": [
    "v2f_soln.evalf(2)"
   ]
  },
  {
   "cell_type": "markdown",
   "metadata": {},
   "source": [
    "The second cart ends up moving to the right at 0.41 m/s."
   ]
  },
  {
   "cell_type": "markdown",
   "metadata": {},
   "source": [
    "## 8. Simulating the 1D collision"
   ]
  },
  {
   "cell_type": "markdown",
   "metadata": {},
   "source": [
    "Suppose the colliding carts in example 7  are equipped with magnets so arranged that the carts feel a repulsive force of magnitude $0.1/d^4$ in newtons, where $d$ is the distance between the carts in metres.  \n",
    "\n",
    "Let's say the carts start 5 m apart (initially $x_1$=0 and $x_2$=5 metres).  Everything else is as given in example 7.  Use `odeint` from SciPy  to solve Newton's equation and then plot $x_1(t)$, $x_2(t)$, $v_1(t)$ and $v_2(t)$.  Long after the collision, do the final velocities match those given by the answer to example 7?"
   ]
  },
  {
   "cell_type": "markdown",
   "metadata": {},
   "source": [
    "***Solution***"
   ]
  },
  {
   "cell_type": "code",
   "execution_count": 194,
   "metadata": {},
   "outputs": [],
   "source": [
    "m1, m2, t, v1i, x1i, v2i, x2i = symbols('m1, m2, t, v1i, x1i, v2i, x2i')\n",
    "x1, x2 = symbols('x1, x2', cls=Function)"
   ]
  },
  {
   "cell_type": "markdown",
   "metadata": {},
   "source": [
    "Force on cart1 depends on x1 and x2, and it always points to the left (negative)"
   ]
  },
  {
   "cell_type": "code",
   "execution_count": 195,
   "metadata": {},
   "outputs": [],
   "source": [
    "F1 = - 0.1 / (x1(t) - x2(t) )**4"
   ]
  },
  {
   "cell_type": "markdown",
   "metadata": {},
   "source": [
    "Equation of motion for cart1"
   ]
  },
  {
   "cell_type": "code",
   "execution_count": 196,
   "metadata": {},
   "outputs": [
    {
     "data": {
      "image/png": "[encoded data removed]",
      "text/latex": [
       "$$m_{1} \\frac{d^{2}}{d t^{2}} \\operatorname{x_{1}}{\\left (t \\right )} = - \\frac{0.1}{\\left(\\operatorname{x_{1}}{\\left (t \\right )} - \\operatorname{x_{2}}{\\left (t \\right )}\\right)^{4}}$$"
      ],
      "text/plain": [
       "     2                          \n",
       "    d                -0.1       \n",
       "m₁⋅───(x₁(t)) = ────────────────\n",
       "     2                         4\n",
       "   dt           (x₁(t) - x₂(t)) "
      ]
     },
     "execution_count": 196,
     "metadata": {},
     "output_type": "execute_result"
    }
   ],
   "source": [
    "eq1 = Eq(m1 * diff(x1(t), t, t), F1)\n",
    "eq1"
   ]
  },
  {
   "cell_type": "markdown",
   "metadata": {},
   "source": [
    "Information for cart1"
   ]
  },
  {
   "cell_type": "code",
   "execution_count": 197,
   "metadata": {},
   "outputs": [],
   "source": [
    "cart1 = { m1:1.1, v1i:0.23, x1i:0}"
   ]
  },
  {
   "cell_type": "markdown",
   "metadata": {},
   "source": [
    "Equation of motion for cart2"
   ]
  },
  {
   "cell_type": "markdown",
   "metadata": {},
   "source": [
    "Force on cart2 depends on x1 and x2, and it always points to the right (positive).  It's also equal and opposite the force on cart1."
   ]
  },
  {
   "cell_type": "code",
   "execution_count": 198,
   "metadata": {},
   "outputs": [],
   "source": [
    "F2 = -F1"
   ]
  },
  {
   "cell_type": "code",
   "execution_count": 199,
   "metadata": {},
   "outputs": [
    {
     "data": {
      "image/png": "[encoded data removed]",
      "text/latex": [
       "$$m_{2} \\frac{d^{2}}{d t^{2}} \\operatorname{x_{2}}{\\left (t \\right )} = \\frac{0.1}{\\left(\\operatorname{x_{1}}{\\left (t \\right )} - \\operatorname{x_{2}}{\\left (t \\right )}\\right)^{4}}$$"
      ],
      "text/plain": [
       "     2                          \n",
       "    d                 0.1       \n",
       "m₂⋅───(x₂(t)) = ────────────────\n",
       "     2                         4\n",
       "   dt           (x₁(t) - x₂(t)) "
      ]
     },
     "execution_count": 199,
     "metadata": {},
     "output_type": "execute_result"
    }
   ],
   "source": [
    "eq2 = Eq( m2 * diff(x2(t), t, t), F2)\n",
    "eq2"
   ]
  },
  {
   "cell_type": "markdown",
   "metadata": {},
   "source": [
    "Information for cart2"
   ]
  },
  {
   "cell_type": "code",
   "execution_count": 200,
   "metadata": {},
   "outputs": [],
   "source": [
    "cart2 = { m2:0.87, v2i:-1.3, x2i:5}"
   ]
  },
  {
   "cell_type": "markdown",
   "metadata": {},
   "source": [
    "Solving Newton's equation"
   ]
  },
  {
   "cell_type": "code",
   "execution_count": 201,
   "metadata": {},
   "outputs": [
    {
     "ename": "NotImplementedError",
     "evalue": "",
     "output_type": "error",
     "traceback": [
      "\u001b[0;31m---------------------------------------------------------------------------\u001b[0m",
      "\u001b[0;31mNotImplementedError\u001b[0m                       Traceback (most recent call last)",
      "\u001b[0;32m<ipython-input-201-4cf46cd64492>\u001b[0m in \u001b[0;36m<module>\u001b[0;34m()\u001b[0m\n\u001b[0;32m----> 1\u001b[0;31m \u001b[0mdsolve\u001b[0m\u001b[0;34m(\u001b[0m \u001b[0;34m[\u001b[0m\u001b[0meq1\u001b[0m\u001b[0;34m,\u001b[0m \u001b[0meq2\u001b[0m\u001b[0;34m]\u001b[0m \u001b[0;34m)\u001b[0m\u001b[0;34m\u001b[0m\u001b[0m\n\u001b[0m",
      "\u001b[0;32m~/miniconda3/lib/python3.6/site-packages/sympy/solvers/ode.py\u001b[0m in \u001b[0;36mdsolve\u001b[0;34m(eq, func, hint, simplify, ics, xi, eta, x0, n, **kwargs)\u001b[0m\n\u001b[1;32m    607\u001b[0m             \"number of functions being equal to number of equations\")\n\u001b[1;32m    608\u001b[0m         \u001b[0;32mif\u001b[0m \u001b[0mmatch\u001b[0m\u001b[0;34m[\u001b[0m\u001b[0;34m'type_of_equation'\u001b[0m\u001b[0;34m]\u001b[0m \u001b[0;32mis\u001b[0m \u001b[0;32mNone\u001b[0m\u001b[0;34m:\u001b[0m\u001b[0;34m\u001b[0m\u001b[0m\n\u001b[0;32m--> 609\u001b[0;31m             \u001b[0;32mraise\u001b[0m \u001b[0mNotImplementedError\u001b[0m\u001b[0;34m\u001b[0m\u001b[0m\n\u001b[0m\u001b[1;32m    610\u001b[0m         \u001b[0;32melse\u001b[0m\u001b[0;34m:\u001b[0m\u001b[0;34m\u001b[0m\u001b[0m\n\u001b[1;32m    611\u001b[0m             \u001b[0;32mif\u001b[0m \u001b[0mmatch\u001b[0m\u001b[0;34m[\u001b[0m\u001b[0;34m'is_linear'\u001b[0m\u001b[0;34m]\u001b[0m \u001b[0;34m==\u001b[0m \u001b[0;32mTrue\u001b[0m\u001b[0;34m:\u001b[0m\u001b[0;34m\u001b[0m\u001b[0m\n",
      "\u001b[0;31mNotImplementedError\u001b[0m: "
     ]
    }
   ],
   "source": [
    "dsolve( [eq1, eq2] ) "
   ]
  },
  {
   "cell_type": "markdown",
   "metadata": {},
   "source": [
    "Looks like SymPy can't do this analytically.  Let's try a numerical solver. "
   ]
  },
  {
   "cell_type": "code",
   "execution_count": 202,
   "metadata": {},
   "outputs": [],
   "source": [
    "# define initial values\n",
    "m1 = 1.1;  v1i = 0.23; x1i = 0\n",
    "m2 = 0.87; v2i = -1.3; x2i = 5\n",
    "            \n",
    "q0 = [x1i, v1i, x2i, v2i]\n",
    "\n",
    "def RHS(q, t):\n",
    "    x1, v1, x2, v2 = q\n",
    "    return [v1,\n",
    "            -0.1 / (x1 - x2)**4 / m1,\n",
    "            v2,\n",
    "            +0.1 / (x1 - x2)**4 / m2]\n",
    "\n",
    "tf = 10\n",
    "t = np.arange(0, tf, 0.1)\n",
    "\n",
    "from scipy.integrate import odeint\n",
    "soln = odeint(RHS, q0, t)\n",
    "x1, v1, x2, v2 = soln.T"
   ]
  },
  {
   "cell_type": "code",
   "execution_count": 203,
   "metadata": {},
   "outputs": [
    {
     "data": {
      "text/plain": [
       "[<matplotlib.lines.Line2D at 0x10dbfb8d0>]"
      ]
     },
     "execution_count": 203,
     "metadata": {},
     "output_type": "execute_result"
    },
    {
     "data": {
      "image/png": "[encoded data removed]",
      "text/plain": [
       "<Figure size 432x288 with 1 Axes>"
      ]
     },
     "metadata": {},
     "output_type": "display_data"
    }
   ],
   "source": [
    "plt.plot(t, x1)\n",
    "plt.plot(t, x2)"
   ]
  },
  {
   "cell_type": "markdown",
   "metadata": {},
   "source": [
    "Looks like they \"collide\" at around 3 s.  Let's plot the velocities."
   ]
  },
  {
   "cell_type": "code",
   "execution_count": 204,
   "metadata": {},
   "outputs": [
    {
     "data": {
      "text/plain": [
       "[<matplotlib.lines.Line2D at 0x151b50ae80>]"
      ]
     },
     "execution_count": 204,
     "metadata": {},
     "output_type": "execute_result"
    },
    {
     "data": {
      "image/png": "[encoded data removed]",
      "text/plain": [
       "<Figure size 432x288 with 1 Axes>"
      ]
     },
     "metadata": {},
     "output_type": "display_data"
    }
   ],
   "source": [
    "plt.plot(t, v1)\n",
    "plt.plot(t, v2)"
   ]
  },
  {
   "cell_type": "markdown",
   "metadata": {},
   "source": [
    "What are the \"final\" velocities?"
   ]
  },
  {
   "cell_type": "code",
   "execution_count": 205,
   "metadata": {},
   "outputs": [
    {
     "name": "stdout",
     "output_type": "stream",
     "text": [
      "-1.12151120135 0.408807266073\n"
     ]
    }
   ],
   "source": [
    "print(v1[-1], v2[-1])"
   ]
  },
  {
   "cell_type": "markdown",
   "metadata": {},
   "source": [
    "These compare well with -1.12137 and 0.408629"
   ]
  },
  {
   "cell_type": "code",
   "execution_count": 206,
   "metadata": {},
   "outputs": [
    {
     "name": "stdout",
     "output_type": "stream",
     "text": [
      "0.0125918607509 0.0436254091911\n"
     ]
    }
   ],
   "source": [
    "rel_err1 = abs( (v1[-1] - (-1.12137))/ (-1.12137)) * 100\n",
    "    \n",
    "rel_err2 = abs( (v2[-1] - (0.408629)) / (0.408629)) * 100\n",
    "\n",
    "print (rel_err1, rel_err2)"
   ]
  },
  {
   "cell_type": "markdown",
   "metadata": {},
   "source": [
    "with only small percentage differences."
   ]
  },
  {
   "cell_type": "markdown",
   "metadata": {},
   "source": [
    "## 8. Collision in 2D"
   ]
  },
  {
   "cell_type": "markdown",
   "metadata": {},
   "source": [
    "A block of ice of mass 4.5 kg rests on an ice rink.  Consider the ice rink as the xy-plane with the block at the origin.  A physicist slides another block of ice of mass 8.2 kg with a velocity of 0.3 m/s in the $x$ direction.  After colliding elastically and losing no energy to friction, the y component of the velocity of the physicist's block is 0.05 m/s.  The physicist also notes that the $x$ component of his block doesn't change all that much.  What is the resulting velocity of the smaller block of ice?"
   ]
  },
  {
   "cell_type": "markdown",
   "metadata": {},
   "source": [
    "#### Solution"
   ]
  },
  {
   "cell_type": "code",
   "execution_count": 207,
   "metadata": {},
   "outputs": [],
   "source": [
    "m1, m2, v1xi, v2xi, v1yi, v2yi, v1xf, v2xf, v1yf, v2yf = symbols('m_1, m_2,'\n",
    "                                                                 'v_1xi, v_2xi, v_1yi, v_2yi,'\n",
    "                                                                 'v_1xf, v_2xf, v_1yf, v_2yf,')\n",
    "# there are also more compact ways of declaring many variables at once if need. See the docs."
   ]
  },
  {
   "cell_type": "markdown",
   "metadata": {},
   "source": [
    "Conservation of momentum"
   ]
  },
  {
   "cell_type": "code",
   "execution_count": 208,
   "metadata": {},
   "outputs": [],
   "source": [
    "eqpx = Eq(m1*v1xi + m2*v2xi, m1*v1xf + m2*v2xf)\n",
    "\n",
    "eqpy = Eq(m1*v1yi + m2*v2yi, m1*v1yf + m2*v2yf)"
   ]
  },
  {
   "cell_type": "code",
   "execution_count": 209,
   "metadata": {},
   "outputs": [
    {
     "data": {
      "image/png": "[encoded data removed]",
      "text/latex": [
       "$$m_{1} v_{1xi} + m_{2} v_{2xi} = m_{1} v_{1xf} + m_{2} v_{2xf}$$"
      ],
      "text/plain": [
       "m₁⋅v₁ₓᵢ + m₂⋅v₂ₓᵢ = m₁⋅v_1xf + m₂⋅v_2xf"
      ]
     },
     "execution_count": 209,
     "metadata": {},
     "output_type": "execute_result"
    }
   ],
   "source": [
    "eqpx"
   ]
  },
  {
   "cell_type": "code",
   "execution_count": 210,
   "metadata": {},
   "outputs": [
    {
     "data": {
      "image/png": "[encoded data removed]",
      "text/latex": [
       "$$m_{1} v_{1yi} + m_{2} v_{2yi} = m_{1} v_{1yf} + m_{2} v_{2yf}$$"
      ],
      "text/plain": [
       "m₁⋅v_1yi + m₂⋅v_2yi = m₁⋅v_1yf + m₂⋅v_2yf"
      ]
     },
     "execution_count": 210,
     "metadata": {},
     "output_type": "execute_result"
    }
   ],
   "source": [
    "eqpy"
   ]
  },
  {
   "cell_type": "markdown",
   "metadata": {},
   "source": [
    "Conservation of energy"
   ]
  },
  {
   "cell_type": "code",
   "execution_count": 211,
   "metadata": {},
   "outputs": [
    {
     "data": {
      "image/png": "[encoded data removed]",
      "text/latex": [
       "$$\\frac{m_{1} \\left(v_{1xi}^{2} + v_{1yi}^{2}\\right)}{2} + \\frac{m_{2} \\left(v_{2xi}^{2} + v_{2yi}^{2}\\right)}{2} = \\frac{m_{1} \\left(v_{1xf}^{2} + v_{1yf}^{2}\\right)}{2} + \\frac{m_{2} \\left(v_{2xf}^{2} + v_{2yf}^{2}\\right)}{2}$$"
      ],
      "text/plain": [
       "   ⎛    2        2⎞      ⎛    2        2⎞      ⎛     2        2⎞      ⎛     2 \n",
       "m₁⋅⎝v₁ₓᵢ  + v_1yi ⎠   m₂⋅⎝v₂ₓᵢ  + v_2yi ⎠   m₁⋅⎝v_1xf  + v_1yf ⎠   m₂⋅⎝v_2xf  \n",
       "─────────────────── + ─────────────────── = ──────────────────── + ───────────\n",
       "         2                     2                     2                      2 \n",
       "\n",
       "       2⎞\n",
       "+ v_2yf ⎠\n",
       "─────────\n",
       "         "
      ]
     },
     "execution_count": 211,
     "metadata": {},
     "output_type": "execute_result"
    }
   ],
   "source": [
    "eqe = Eq( m1*(v1xi**2+v1yi**2)/2 + m2*(v2xi**2+v2yi**2)/2, \n",
    "          m1*(v1xf**2+v1yf**2)/2 + m2*(v2xf**2+v2yf**2)/2 )\n",
    "\n",
    "eqe"
   ]
  },
  {
   "cell_type": "markdown",
   "metadata": {},
   "source": [
    "Let's label with \"1\" quantities associated with the smaller, originally stationary block.\n",
    "Let's label with \"2\" quantities associated with the larger, originally moving block (the physicist's block)."
   ]
  },
  {
   "cell_type": "code",
   "execution_count": 212,
   "metadata": {},
   "outputs": [],
   "source": [
    "block1 = { m1:4.5, v1xi:0, v1yi:0 }"
   ]
  },
  {
   "cell_type": "code",
   "execution_count": 213,
   "metadata": {},
   "outputs": [],
   "source": [
    "block2 = { m2:8.2, v2xi:0.3, v2yi:0, v2yf:0.05 }"
   ]
  },
  {
   "cell_type": "code",
   "execution_count": 214,
   "metadata": {},
   "outputs": [
    {
     "data": {
      "image/png": "[encoded data removed]",
      "text/latex": [
       "$$\\left [ \\left \\{ v_{1xf} : \\frac{m_{1}^{2} v_{1xi} + m_{1} m_{2} v_{2xi} - m_{2} \\sqrt{m_{1}^{2} v_{1xi}^{2} - 2 m_{1}^{2} v_{1xi} v_{2xi} + 2 m_{1}^{2} v_{1yi} v_{2yf} - 2 m_{1}^{2} v_{1yi} v_{2yi} + m_{1}^{2} v_{2xi}^{2} - m_{1}^{2} v_{2yf}^{2} + m_{1}^{2} v_{2yi}^{2} + 2 m_{1} m_{2} v_{1yi} v_{2yf} - 2 m_{1} m_{2} v_{1yi} v_{2yi} - 2 m_{1} m_{2} v_{2yf}^{2} + 2 m_{1} m_{2} v_{2yf} v_{2yi} - m_{2}^{2} v_{2yf}^{2} + 2 m_{2}^{2} v_{2yf} v_{2yi} - m_{2}^{2} v_{2yi}^{2}}}{m_{1} \\left(m_{1} + m_{2}\\right)}, \\quad v_{1yf} : \\frac{m_{1} v_{1yi} - m_{2} v_{2yf} + m_{2} v_{2yi}}{m_{1}}, \\quad v_{2xf} : \\frac{m_{1} v_{1xi} + m_{2} v_{2xi}}{m_{1} + m_{2}} + \\frac{\\sqrt{m_{1}^{2} v_{1xi}^{2} - 2 m_{1}^{2} v_{1xi} v_{2xi} + 2 m_{1}^{2} v_{1yi} v_{2yf} - 2 m_{1}^{2} v_{1yi} v_{2yi} + m_{1}^{2} v_{2xi}^{2} - m_{1}^{2} v_{2yf}^{2} + m_{1}^{2} v_{2yi}^{2} + 2 m_{1} m_{2} v_{1yi} v_{2yf} - 2 m_{1} m_{2} v_{1yi} v_{2yi} - 2 m_{1} m_{2} v_{2yf}^{2} + 2 m_{1} m_{2} v_{2yf} v_{2yi} - m_{2}^{2} v_{2yf}^{2} + 2 m_{2}^{2} v_{2yf} v_{2yi} - m_{2}^{2} v_{2yi}^{2}}}{m_{1} + m_{2}}\\right \\}, \\quad \\left \\{ v_{1xf} : \\frac{m_{1}^{2} v_{1xi} + m_{1} m_{2} v_{2xi} + m_{2} \\sqrt{m_{1}^{2} v_{1xi}^{2} - 2 m_{1}^{2} v_{1xi} v_{2xi} + 2 m_{1}^{2} v_{1yi} v_{2yf} - 2 m_{1}^{2} v_{1yi} v_{2yi} + m_{1}^{2} v_{2xi}^{2} - m_{1}^{2} v_{2yf}^{2} + m_{1}^{2} v_{2yi}^{2} + 2 m_{1} m_{2} v_{1yi} v_{2yf} - 2 m_{1} m_{2} v_{1yi} v_{2yi} - 2 m_{1} m_{2} v_{2yf}^{2} + 2 m_{1} m_{2} v_{2yf} v_{2yi} - m_{2}^{2} v_{2yf}^{2} + 2 m_{2}^{2} v_{2yf} v_{2yi} - m_{2}^{2} v_{2yi}^{2}}}{m_{1} \\left(m_{1} + m_{2}\\right)}, \\quad v_{1yf} : \\frac{m_{1} v_{1yi} - m_{2} v_{2yf} + m_{2} v_{2yi}}{m_{1}}, \\quad v_{2xf} : \\frac{m_{1} v_{1xi} + m_{2} v_{2xi}}{m_{1} + m_{2}} - \\frac{\\sqrt{m_{1}^{2} v_{1xi}^{2} - 2 m_{1}^{2} v_{1xi} v_{2xi} + 2 m_{1}^{2} v_{1yi} v_{2yf} - 2 m_{1}^{2} v_{1yi} v_{2yi} + m_{1}^{2} v_{2xi}^{2} - m_{1}^{2} v_{2yf}^{2} + m_{1}^{2} v_{2yi}^{2} + 2 m_{1} m_{2} v_{1yi} v_{2yf} - 2 m_{1} m_{2} v_{1yi} v_{2yi} - 2 m_{1} m_{2} v_{2yf}^{2} + 2 m_{1} m_{2} v_{2yf} v_{2yi} - m_{2}^{2} v_{2yf}^{2} + 2 m_{2}^{2} v_{2yf} v_{2yi} - m_{2}^{2} v_{2yi}^{2}}}{m_{1} + m_{2}}\\right \\}\\right ]$$"
      ],
      "text/plain": [
       "⎡⎧                                     _______________________________________\n",
       "⎢⎪         2                          ╱   2     2       2                 2   \n",
       "⎢⎨       m₁ ⋅v₁ₓᵢ + m₁⋅m₂⋅v₂ₓᵢ - m₂⋅╲╱  m₁ ⋅v₁ₓᵢ  - 2⋅m₁ ⋅v₁ₓᵢ⋅v₂ₓᵢ + 2⋅m₁ ⋅v_\n",
       "⎢⎪v_1xf: ─────────────────────────────────────────────────────────────────────\n",
       "⎣⎩                                                                            \n",
       "\n",
       "______________________________________________________________________________\n",
       "                2                 2     2     2      2     2      2           \n",
       "1yi⋅v_2yf - 2⋅m₁ ⋅v_1yi⋅v_2yi + m₁ ⋅v₂ₓᵢ  - m₁ ⋅v_2yf  + m₁ ⋅v_2yi  + 2⋅m₁⋅m₂⋅\n",
       "──────────────────────────────────────────────────────────────────────────────\n",
       "                                                          m₁⋅(m₁ + m₂)        \n",
       "\n",
       "______________________________________________________________________________\n",
       "                                                 2                           2\n",
       "v_1yi⋅v_2yf - 2⋅m₁⋅m₂⋅v_1yi⋅v_2yi - 2⋅m₁⋅m₂⋅v_2yf  + 2⋅m₁⋅m₂⋅v_2yf⋅v_2yi - m₂ \n",
       "──────────────────────────────────────────────────────────────────────────────\n",
       "                                                                              \n",
       "\n",
       "_________________________________________                                     \n",
       "      2       2                 2      2                                      \n",
       "⋅v_2yf  + 2⋅m₂ ⋅v_2yf⋅v_2yi - m₂ ⋅v_2yi           m₁⋅v_1yi - m₂⋅v_2yf + m₂⋅v_2\n",
       "─────────────────────────────────────────, v_1yf: ────────────────────────────\n",
       "                                                                m₁            \n",
       "\n",
       "                                  ____________________________________________\n",
       "                                 ╱   2     2       2                 2        \n",
       "yi         m₁⋅v₁ₓᵢ + m₂⋅v₂ₓᵢ   ╲╱  m₁ ⋅v₁ₓᵢ  - 2⋅m₁ ⋅v₁ₓᵢ⋅v₂ₓᵢ + 2⋅m₁ ⋅v_1yi⋅v\n",
       "──, v_2xf: ───────────────── + ───────────────────────────────────────────────\n",
       "                m₁ + m₂                                                       \n",
       "\n",
       "______________________________________________________________________________\n",
       "           2                 2     2     2      2     2      2                \n",
       "_2yf - 2⋅m₁ ⋅v_1yi⋅v_2yi + m₁ ⋅v₂ₓᵢ  - m₁ ⋅v_2yf  + m₁ ⋅v_2yi  + 2⋅m₁⋅m₂⋅v_1yi\n",
       "──────────────────────────────────────────────────────────────────────────────\n",
       "                                                                     m₁ + m₂  \n",
       "\n",
       "______________________________________________________________________________\n",
       "                                            2                           2     \n",
       "⋅v_2yf - 2⋅m₁⋅m₂⋅v_1yi⋅v_2yi - 2⋅m₁⋅m₂⋅v_2yf  + 2⋅m₁⋅m₂⋅v_2yf⋅v_2yi - m₂ ⋅v_2y\n",
       "──────────────────────────────────────────────────────────────────────────────\n",
       "                                                                              \n",
       "\n",
       "____________________________________⎫  ⎧                                     _\n",
       " 2       2                 2      2 ⎪  ⎪         2                          ╱ \n",
       "f  + 2⋅m₂ ⋅v_2yf⋅v_2yi - m₂ ⋅v_2yi  ⎬  ⎨       m₁ ⋅v₁ₓᵢ + m₁⋅m₂⋅v₂ₓᵢ + m₂⋅╲╱  \n",
       "────────────────────────────────────⎪, ⎪v_1xf: ───────────────────────────────\n",
       "                                    ⎭  ⎩                                      \n",
       "\n",
       "______________________________________________________________________________\n",
       "  2     2       2                 2                   2                 2     \n",
       "m₁ ⋅v₁ₓᵢ  - 2⋅m₁ ⋅v₁ₓᵢ⋅v₂ₓᵢ + 2⋅m₁ ⋅v_1yi⋅v_2yf - 2⋅m₁ ⋅v_1yi⋅v_2yi + m₁ ⋅v₂ₓᵢ\n",
       "──────────────────────────────────────────────────────────────────────────────\n",
       "                                                                              \n",
       "\n",
       "______________________________________________________________________________\n",
       "2     2      2     2      2                                                   \n",
       "  - m₁ ⋅v_2yf  + m₁ ⋅v_2yi  + 2⋅m₁⋅m₂⋅v_1yi⋅v_2yf - 2⋅m₁⋅m₂⋅v_1yi⋅v_2yi - 2⋅m₁\n",
       "──────────────────────────────────────────────────────────────────────────────\n",
       "                  m₁⋅(m₁ + m₂)                                                \n",
       "\n",
       "______________________________________________________________________________\n",
       "         2                           2      2       2                 2      2\n",
       "⋅m₂⋅v_2yf  + 2⋅m₁⋅m₂⋅v_2yf⋅v_2yi - m₂ ⋅v_2yf  + 2⋅m₂ ⋅v_2yf⋅v_2yi - m₂ ⋅v_2yi \n",
       "──────────────────────────────────────────────────────────────────────────────\n",
       "                                                                              \n",
       "\n",
       "_                                                                       ______\n",
       "                                                                       ╱   2  \n",
       "          m₁⋅v_1yi - m₂⋅v_2yf + m₂⋅v_2yi         m₁⋅v₁ₓᵢ + m₂⋅v₂ₓᵢ   ╲╱  m₁ ⋅v\n",
       "─, v_1yf: ──────────────────────────────, v_2xf: ───────────────── - ─────────\n",
       "                        m₁                            m₁ + m₂                 \n",
       "\n",
       "______________________________________________________________________________\n",
       "   2       2                 2                   2                 2     2    \n",
       "₁ₓᵢ  - 2⋅m₁ ⋅v₁ₓᵢ⋅v₂ₓᵢ + 2⋅m₁ ⋅v_1yi⋅v_2yf - 2⋅m₁ ⋅v_1yi⋅v_2yi + m₁ ⋅v₂ₓᵢ  - m\n",
       "──────────────────────────────────────────────────────────────────────────────\n",
       "                                                                              \n",
       "\n",
       "______________________________________________________________________________\n",
       " 2      2     2      2                                                        \n",
       "₁ ⋅v_2yf  + m₁ ⋅v_2yi  + 2⋅m₁⋅m₂⋅v_1yi⋅v_2yf - 2⋅m₁⋅m₂⋅v_1yi⋅v_2yi - 2⋅m₁⋅m₂⋅v\n",
       "──────────────────────────────────────────────────────────────────────────────\n",
       "                             m₁ + m₂                                          \n",
       "\n",
       "__________________________________________________________________________⎫⎤\n",
       "    2                           2      2       2                 2      2 ⎪⎥\n",
       "_2yf  + 2⋅m₁⋅m₂⋅v_2yf⋅v_2yi - m₂ ⋅v_2yf  + 2⋅m₂ ⋅v_2yf⋅v_2yi - m₂ ⋅v_2yi  ⎬⎥\n",
       "──────────────────────────────────────────────────────────────────────────⎪⎥\n",
       "                                                                          ⎭⎦"
      ]
     },
     "execution_count": 214,
     "metadata": {},
     "output_type": "execute_result"
    }
   ],
   "source": [
    "sol = solve( [eqpx,eqpy,eqe], [v1xf,v1yf,v2xf], dict=True )\n",
    "sol"
   ]
  },
  {
   "cell_type": "code",
   "execution_count": 215,
   "metadata": {},
   "outputs": [
    {
     "data": {
      "image/png": "[encoded data removed]",
      "text/latex": [
       "$$2$$"
      ],
      "text/plain": [
       "2"
      ]
     },
     "execution_count": 215,
     "metadata": {},
     "output_type": "execute_result"
    }
   ],
   "source": [
    "len(sol)"
   ]
  },
  {
   "cell_type": "code",
   "execution_count": 216,
   "metadata": {},
   "outputs": [
    {
     "data": {
      "image/png": "[encoded data removed]",
      "text/latex": [
       "$$\\left ( 0.287506558007893, \\quad \\left \\{ m_{2} : 8.2, \\quad v_{2xi} : 0.3, \\quad v_{2yf} : 0.05, \\quad v_{2yi} : 0\\right \\}\\right )$$"
      ],
      "text/plain": [
       "(0.287506558007893, {m₂: 8.2, v₂ₓᵢ: 0.3, v_2yf: 0.05, v_2yi: 0})"
      ]
     },
     "execution_count": 216,
     "metadata": {},
     "output_type": "execute_result"
    }
   ],
   "source": [
    "sol[0][v2xf].subs(block1).subs(block2), block2"
   ]
  },
  {
   "cell_type": "code",
   "execution_count": 217,
   "metadata": {},
   "outputs": [
    {
     "data": {
      "image/png": "[encoded data removed]",
      "text/latex": [
       "$$\\left ( 0.0998950167952566, \\quad \\left \\{ m_{2} : 8.2, \\quad v_{2xi} : 0.3, \\quad v_{2yf} : 0.05, \\quad v_{2yi} : 0\\right \\}\\right )$$"
      ],
      "text/plain": [
       "(0.0998950167952566, {m₂: 8.2, v₂ₓᵢ: 0.3, v_2yf: 0.05, v_2yi: 0})"
      ]
     },
     "execution_count": 217,
     "metadata": {},
     "output_type": "execute_result"
    }
   ],
   "source": [
    "sol[1][v2xf].subs(block1).subs(block2), block2"
   ]
  },
  {
   "cell_type": "markdown",
   "metadata": {},
   "source": [
    "The first solution is the one we want as v2xf ~ v2xi ."
   ]
  },
  {
   "cell_type": "code",
   "execution_count": 218,
   "metadata": {},
   "outputs": [
    {
     "data": {
      "image/png": "[encoded data removed]",
      "text/latex": [
       "$$0.023$$"
      ],
      "text/plain": [
       "0.023"
      ]
     },
     "execution_count": 218,
     "metadata": {},
     "output_type": "execute_result"
    }
   ],
   "source": [
    "sol[0][v1xf].subs(block1).subs(block2).evalf(2)"
   ]
  },
  {
   "cell_type": "code",
   "execution_count": 219,
   "metadata": {},
   "outputs": [
    {
     "data": {
      "image/png": "[encoded data removed]",
      "text/latex": [
       "$$-0.091$$"
      ],
      "text/plain": [
       "-0.091"
      ]
     },
     "execution_count": 219,
     "metadata": {},
     "output_type": "execute_result"
    }
   ],
   "source": [
    "sol[0][v1yf].subs(block1).subs(block2).evalf(2)"
   ]
  },
  {
   "cell_type": "markdown",
   "metadata": {},
   "source": [
    "Therefore, the velocity of the originally stationary block is 0.023 m/s in the x direction and 0.091 in the negative y direction."
   ]
  },
  {
   "cell_type": "markdown",
   "metadata": {},
   "source": [
    "## 10. Falling rope"
   ]
  },
  {
   "cell_type": "markdown",
   "metadata": {},
   "source": [
    "A long coiled rope rests at the edge of a platform.  One free end is gently placed 10 cm below the edge of the platform and released.  The rope begins to fall, unwinding as it goes over the edge.  The rope has uniform mass per unit length of 2 kg/m, and $g$ = 9.8 m/s$^2$.  If the height of the platform is 4 m, find how long it takes for the end of the rope to reach the ground.  Ignore friction."
   ]
  },
  {
   "cell_type": "markdown",
   "metadata": {},
   "source": [
    "**Solution**"
   ]
  },
  {
   "cell_type": "markdown",
   "metadata": {},
   "source": [
    "Here we must use the more general form of Newton's 2nd Law\n",
    "\n",
    "$$ F = \\frac {dp} {dt} = m(t)  y''(t) + m'(t) y'(t) $$"
   ]
  },
  {
   "cell_type": "code",
   "execution_count": 229,
   "metadata": {},
   "outputs": [],
   "source": [
    "t, r, g, H = symbols('t, r, g, H')\n",
    "m, y, v = symbols('m, y, v', cls=Function)"
   ]
  },
  {
   "cell_type": "code",
   "execution_count": 230,
   "metadata": {},
   "outputs": [
    {
     "data": {
      "image/png": "[encoded data removed]",
      "text/latex": [
       "$$m{\\left (t \\right )} \\frac{d^{2}}{d t^{2}} y{\\left (t \\right )} + \\frac{d}{d t} m{\\left (t \\right )} \\frac{d}{d t} y{\\left (t \\right )}$$"
      ],
      "text/plain": [
       "       2                          \n",
       "      d          d        d       \n",
       "m(t)⋅───(y(t)) + ──(m(t))⋅──(y(t))\n",
       "       2         dt       dt      \n",
       "     dt                           "
      ]
     },
     "execution_count": 230,
     "metadata": {},
     "output_type": "execute_result"
    }
   ],
   "source": [
    "dpdt = m(t) * diff(y(t), t, t) + diff(m(t), t) * diff(y(t), t)\n",
    "dpdt"
   ]
  },
  {
   "cell_type": "markdown",
   "metadata": {},
   "source": [
    "Newton's 2nd Law"
   ]
  },
  {
   "cell_type": "code",
   "execution_count": 231,
   "metadata": {},
   "outputs": [
    {
     "data": {
      "image/png": "[encoded data removed]",
      "text/latex": [
       "$$m{\\left (t \\right )} \\frac{d^{2}}{d t^{2}} y{\\left (t \\right )} + \\frac{d}{d t} m{\\left (t \\right )} \\frac{d}{d t} y{\\left (t \\right )} = - g m{\\left (t \\right )}$$"
      ],
      "text/plain": [
       "       2                                    \n",
       "      d          d        d                 \n",
       "m(t)⋅───(y(t)) + ──(m(t))⋅──(y(t)) = -g⋅m(t)\n",
       "       2         dt       dt                \n",
       "     dt                                     "
      ]
     },
     "execution_count": 231,
     "metadata": {},
     "output_type": "execute_result"
    }
   ],
   "source": [
    "eqN = Eq(dpdt, -g*m(t))\n",
    "eqN"
   ]
  },
  {
   "cell_type": "markdown",
   "metadata": {},
   "source": [
    "If the length of the rope's end is $y=y(t)$, then the length of rope dangling over the edge is $h-y(t)$, and the mass of the rope is"
   ]
  },
  {
   "cell_type": "code",
   "execution_count": 232,
   "metadata": {},
   "outputs": [
    {
     "data": {
      "image/png": "[encoded data removed]",
      "text/latex": [
       "$$r \\left(H - y{\\left (t \\right )}\\right) \\frac{d^{2}}{d t^{2}} y{\\left (t \\right )} + \\frac{\\partial}{\\partial t} r \\left(H - y{\\left (t \\right )}\\right) \\frac{d}{d t} y{\\left (t \\right )} = - g r \\left(H - y{\\left (t \\right )}\\right)$$"
      ],
      "text/plain": [
       "               2                                                    \n",
       "              d          ∂                d                         \n",
       "r⋅(H - y(t))⋅───(y(t)) + ──(r⋅(H - y(t)))⋅──(y(t)) = -g⋅r⋅(H - y(t))\n",
       "               2         ∂t               dt                        \n",
       "             dt                                                     "
      ]
     },
     "execution_count": 232,
     "metadata": {},
     "output_type": "execute_result"
    }
   ],
   "source": [
    "eq = eqN.subs( m(t), r*(H - y(t)))\n",
    "eq"
   ]
  },
  {
   "cell_type": "markdown",
   "metadata": {},
   "source": [
    "SymPy has done the substitution but not evaluated the derivatives."
   ]
  },
  {
   "cell_type": "code",
   "execution_count": 233,
   "metadata": {},
   "outputs": [
    {
     "data": {
      "image/png": "[encoded data removed]",
      "text/latex": [
       "$$r \\left(H - y{\\left (t \\right )}\\right) \\frac{d^{2}}{d t^{2}} y{\\left (t \\right )} - r \\left(\\frac{d}{d t} y{\\left (t \\right )}\\right)^{2} = - g r \\left(H - y{\\left (t \\right )}\\right)$$"
      ],
      "text/plain": [
       "               2                     2                  \n",
       "              d            ⎛d       ⎞                   \n",
       "r⋅(H - y(t))⋅───(y(t)) - r⋅⎜──(y(t))⎟  = -g⋅r⋅(H - y(t))\n",
       "               2           ⎝dt      ⎠                   \n",
       "             dt                                         "
      ]
     },
     "execution_count": 233,
     "metadata": {},
     "output_type": "execute_result"
    }
   ],
   "source": [
    "eq2 = eq.doit()\n",
    "eq2"
   ]
  },
  {
   "cell_type": "markdown",
   "metadata": {},
   "source": [
    "Let’s try to see if SymPy can find a general solution to the problem"
   ]
  },
  {
   "cell_type": "code",
   "execution_count": 234,
   "metadata": {},
   "outputs": [
    {
     "ename": "NotImplementedError",
     "evalue": "solve: Cannot solve g*r*(H - y(t)) + r*(H - y(t))*Derivative(y(t), (t, 2)) - r*Derivative(y(t), t)**2",
     "output_type": "error",
     "traceback": [
      "\u001b[0;31m---------------------------------------------------------------------------\u001b[0m",
      "\u001b[0;31mNotImplementedError\u001b[0m                       Traceback (most recent call last)",
      "\u001b[0;32m<ipython-input-234-3680f49a856d>\u001b[0m in \u001b[0;36m<module>\u001b[0;34m()\u001b[0m\n\u001b[0;32m----> 1\u001b[0;31m \u001b[0mdsolve\u001b[0m\u001b[0;34m(\u001b[0m\u001b[0meq2\u001b[0m\u001b[0;34m,\u001b[0m \u001b[0my\u001b[0m\u001b[0;34m(\u001b[0m\u001b[0mt\u001b[0m\u001b[0;34m)\u001b[0m\u001b[0;34m)\u001b[0m\u001b[0;34m\u001b[0m\u001b[0m\n\u001b[0m",
      "\u001b[0;32m~/miniconda3/lib/python3.6/site-packages/sympy/solvers/ode.py\u001b[0m in \u001b[0;36mdsolve\u001b[0;34m(eq, func, hint, simplify, ics, xi, eta, x0, n, **kwargs)\u001b[0m\n\u001b[1;32m    628\u001b[0m         hints = _desolve(eq, func=func,\n\u001b[1;32m    629\u001b[0m             \u001b[0mhint\u001b[0m\u001b[0;34m=\u001b[0m\u001b[0mhint\u001b[0m\u001b[0;34m,\u001b[0m \u001b[0msimplify\u001b[0m\u001b[0;34m=\u001b[0m\u001b[0;32mTrue\u001b[0m\u001b[0;34m,\u001b[0m \u001b[0mxi\u001b[0m\u001b[0;34m=\u001b[0m\u001b[0mxi\u001b[0m\u001b[0;34m,\u001b[0m \u001b[0meta\u001b[0m\u001b[0;34m=\u001b[0m\u001b[0meta\u001b[0m\u001b[0;34m,\u001b[0m \u001b[0mtype\u001b[0m\u001b[0;34m=\u001b[0m\u001b[0;34m'ode'\u001b[0m\u001b[0;34m,\u001b[0m \u001b[0mics\u001b[0m\u001b[0;34m=\u001b[0m\u001b[0mics\u001b[0m\u001b[0;34m,\u001b[0m\u001b[0;34m\u001b[0m\u001b[0m\n\u001b[0;32m--> 630\u001b[0;31m             x0=x0, n=n, **kwargs)\n\u001b[0m\u001b[1;32m    631\u001b[0m \u001b[0;34m\u001b[0m\u001b[0m\n\u001b[1;32m    632\u001b[0m         \u001b[0meq\u001b[0m \u001b[0;34m=\u001b[0m \u001b[0mhints\u001b[0m\u001b[0;34m.\u001b[0m\u001b[0mpop\u001b[0m\u001b[0;34m(\u001b[0m\u001b[0;34m'eq'\u001b[0m\u001b[0;34m,\u001b[0m \u001b[0meq\u001b[0m\u001b[0;34m)\u001b[0m\u001b[0;34m\u001b[0m\u001b[0m\n",
      "\u001b[0;32m~/miniconda3/lib/python3.6/site-packages/sympy/solvers/deutils.py\u001b[0m in \u001b[0;36m_desolve\u001b[0;34m(eq, func, hint, ics, simplify, **kwargs)\u001b[0m\n\u001b[1;32m    233\u001b[0m             \u001b[0;32mraise\u001b[0m \u001b[0mValueError\u001b[0m\u001b[0;34m(\u001b[0m\u001b[0mstring\u001b[0m \u001b[0;34m+\u001b[0m \u001b[0mstr\u001b[0m\u001b[0;34m(\u001b[0m\u001b[0meq\u001b[0m\u001b[0;34m)\u001b[0m \u001b[0;34m+\u001b[0m \u001b[0;34m\" does not match hint \"\u001b[0m \u001b[0;34m+\u001b[0m \u001b[0mhint\u001b[0m\u001b[0;34m)\u001b[0m\u001b[0;34m\u001b[0m\u001b[0m\n\u001b[1;32m    234\u001b[0m         \u001b[0;32melse\u001b[0m\u001b[0;34m:\u001b[0m\u001b[0;34m\u001b[0m\u001b[0m\n\u001b[0;32m--> 235\u001b[0;31m             \u001b[0;32mraise\u001b[0m \u001b[0mNotImplementedError\u001b[0m\u001b[0;34m(\u001b[0m\u001b[0mdummy\u001b[0m \u001b[0;34m+\u001b[0m \u001b[0;34m\"solve\"\u001b[0m \u001b[0;34m+\u001b[0m \u001b[0;34m\": Cannot solve \"\u001b[0m \u001b[0;34m+\u001b[0m \u001b[0mstr\u001b[0m\u001b[0;34m(\u001b[0m\u001b[0meq\u001b[0m\u001b[0;34m)\u001b[0m\u001b[0;34m)\u001b[0m\u001b[0;34m\u001b[0m\u001b[0m\n\u001b[0m\u001b[1;32m    236\u001b[0m     \u001b[0;32mif\u001b[0m \u001b[0mhint\u001b[0m \u001b[0;34m==\u001b[0m \u001b[0;34m'default'\u001b[0m\u001b[0;34m:\u001b[0m\u001b[0;34m\u001b[0m\u001b[0m\n\u001b[1;32m    237\u001b[0m         return _desolve(eq, func, ics=ics, hint=hints['default'], simplify=simplify,\n",
      "\u001b[0;31mNotImplementedError\u001b[0m: solve: Cannot solve g*r*(H - y(t)) + r*(H - y(t))*Derivative(y(t), (t, 2)) - r*Derivative(y(t), t)**2"
     ]
    }
   ],
   "source": [
    "dsolve(eq2, y(t))"
   ]
  },
  {
   "cell_type": "code",
   "execution_count": 235,
   "metadata": {},
   "outputs": [
    {
     "data": {
      "image/png": "[encoded data removed]",
      "text/latex": [
       "$$H r \\frac{d}{d t} v{\\left (t \\right )} - r v^{2}{\\left (t \\right )} - r y{\\left (t \\right )} \\frac{d}{d t} v{\\left (t \\right )} = - H g r + g r y{\\left (t \\right )}$$"
      ],
      "text/plain": [
       "    d             2             d                           \n",
       "H⋅r⋅──(v(t)) - r⋅v (t) - r⋅y(t)⋅──(v(t)) = -H⋅g⋅r + g⋅r⋅y(t)\n",
       "    dt                          dt                          "
      ]
     },
     "execution_count": 235,
     "metadata": {},
     "output_type": "execute_result"
    }
   ],
   "source": [
    "# replace derivative of y(t) with v(t)\n",
    "eq3 = eq2.subs(    diff(y(t), t),   v(t)  )\n",
    "expand(eq3)"
   ]
  },
  {
   "cell_type": "code",
   "execution_count": 236,
   "metadata": {},
   "outputs": [
    {
     "data": {
      "image/png": "[encoded data removed]",
      "text/latex": [
       "$$\\left [ \\frac{- H g + g y{\\left (t \\right )} + v^{2}{\\left (t \\right )}}{H - y{\\left (t \\right )}}\\right ]$$"
      ],
      "text/plain": [
       "⎡                 2   ⎤\n",
       "⎢-H⋅g + g⋅y(t) + v (t)⎥\n",
       "⎢─────────────────────⎥\n",
       "⎣       H - y(t)      ⎦"
      ]
     },
     "execution_count": 236,
     "metadata": {},
     "output_type": "execute_result"
    }
   ],
   "source": [
    "soln = solve(eq3, diff(v(t),t)  )\n",
    "soln"
   ]
  },
  {
   "cell_type": "code",
   "execution_count": 237,
   "metadata": {},
   "outputs": [],
   "source": [
    "dvdt = soln[0]"
   ]
  },
  {
   "cell_type": "markdown",
   "metadata": {},
   "source": [
    "So we worked out the derivative of v(t). Let's turn that in to a function"
   ]
  },
  {
   "cell_type": "code",
   "execution_count": 238,
   "metadata": {},
   "outputs": [
    {
     "data": {
      "image/png": "[encoded data removed]",
      "text/latex": [
       "$$-9.6$$"
      ],
      "text/plain": [
       "-9.6"
      ]
     },
     "execution_count": 238,
     "metadata": {},
     "output_type": "execute_result"
    }
   ],
   "source": [
    "F = lambdify([y(t), v(t), H, g], dvdt)\n",
    "F(0, 1, 5, 9.8)"
   ]
  },
  {
   "cell_type": "markdown",
   "metadata": {},
   "source": [
    "Now we can numerically solve our problem:"
   ]
  },
  {
   "cell_type": "code",
   "execution_count": 239,
   "metadata": {},
   "outputs": [],
   "source": [
    "# define initial values\n",
    "r = 2\n",
    "H = 4 # m\n",
    "g = 9.8\n",
    "yi = H - 0.1 # m\n",
    "vi = 0.0 # m/s\n",
    "\n",
    "# Solve the system of ODEs\n",
    "q0 = [yi, vi]\n",
    "\n",
    "def RHS(q, t):\n",
    "    y, v = q\n",
    "    return [v,\n",
    "            F(y, v, H, g)]\n",
    "\n",
    "tf = 2\n",
    "t = np.arange(0, tf, 0.1)\n",
    "\n",
    "soln = odeint(RHS, q0, t)\n",
    "y, v = soln.T"
   ]
  },
  {
   "cell_type": "code",
   "execution_count": 240,
   "metadata": {},
   "outputs": [
    {
     "data": {
      "text/plain": [
       "<matplotlib.legend.Legend at 0x10de14cf8>"
      ]
     },
     "execution_count": 240,
     "metadata": {},
     "output_type": "execute_result"
    },
    {
     "data": {
      "image/png": "[encoded data removed]",
      "text/plain": [
       "<Figure size 432x288 with 1 Axes>"
      ]
     },
     "metadata": {},
     "output_type": "display_data"
    }
   ],
   "source": [
    "plt.plot(t, y, label='rope')\n",
    "plt.plot(t, yi - 0.5*g*t**2, label='freefall')\n",
    "plt.xlabel('t (s)')\n",
    "plt.ylabel('y (m)')\n",
    "plt.ylim(ymin = 0)\n",
    "plt.legend()"
   ]
  },
  {
   "cell_type": "markdown",
   "metadata": {},
   "source": [
    "Also plotted in the graph is the height of an object falling freely initially alongside the rope end.  The rope falls more slowly."
   ]
  },
  {
   "cell_type": "markdown",
   "metadata": {},
   "source": [
    "## 11. Atwood's machine"
   ]
  },
  {
   "cell_type": "markdown",
   "metadata": {},
   "source": [
    "Atwood's machine, a familiar construct to budding physicists, consists of two masses hanging by a non-elastic rope of negligible mass running over a small, massless and frictionless pulley.  Find the height of mass 1 as a function of time in terms of relevant parameters of the system."
   ]
  },
  {
   "cell_type": "markdown",
   "metadata": {},
   "source": [
    "***Solution***"
   ]
  },
  {
   "cell_type": "code",
   "execution_count": 241,
   "metadata": {},
   "outputs": [],
   "source": [
    "a1, a2, m1, m2, t, C = symbols('a1, a2, m1, m2, t, C')\n",
    "g, T = symbols('g, T')\n",
    "y1, y2 = symbols('y1, y2', cls=Function)"
   ]
  },
  {
   "cell_type": "markdown",
   "metadata": {},
   "source": [
    "Because of the geometrical setup of the system, the accelerations of the masses are equal in magnitude and opposite in direction.  Let's write the length of the string in terms of y1 and y2 (which we take to be negative)."
   ]
  },
  {
   "cell_type": "code",
   "execution_count": 242,
   "metadata": {},
   "outputs": [],
   "source": [
    "L = -y1(t) - y2(t) + C"
   ]
  },
  {
   "cell_type": "markdown",
   "metadata": {},
   "source": [
    "To get the relationship between the accelerations of mass 1 and 2, we use the constraint that L does not change in time.  Indeed, its second derivative wrt t is also 0"
   ]
  },
  {
   "cell_type": "code",
   "execution_count": 243,
   "metadata": {},
   "outputs": [
    {
     "data": {
      "image/png": "[encoded data removed]",
      "text/latex": [
       "$$- (\\frac{d^{2}}{d t^{2}} \\operatorname{y_{1}}{\\left (t \\right )} + \\frac{d^{2}}{d t^{2}} \\operatorname{y_{2}}{\\left (t \\right )})$$"
      ],
      "text/plain": [
       " ⎛  2            2       ⎞\n",
       " ⎜ d            d        ⎟\n",
       "-⎜───(y₁(t)) + ───(y₂(t))⎟\n",
       " ⎜  2            2       ⎟\n",
       " ⎝dt           dt        ⎠"
      ]
     },
     "execution_count": 243,
     "metadata": {},
     "output_type": "execute_result"
    }
   ],
   "source": [
    "diff(L, t, t)  "
   ]
  },
  {
   "cell_type": "code",
   "execution_count": 244,
   "metadata": {},
   "outputs": [
    {
     "data": {
      "image/png": "[encoded data removed]",
      "text/latex": [
       "$$- \\frac{d^{2}}{d t^{2}} \\operatorname{y_{1}}{\\left (t \\right )} - \\frac{d^{2}}{d t^{2}} \\operatorname{y_{2}}{\\left (t \\right )}$$"
      ],
      "text/plain": [
       "    2            2       \n",
       "   d            d        \n",
       "- ───(y₁(t)) - ───(y₂(t))\n",
       "    2            2       \n",
       "  dt           dt        "
      ]
     },
     "execution_count": 244,
     "metadata": {},
     "output_type": "execute_result"
    }
   ],
   "source": [
    "diff(diff(L, t), t)"
   ]
  },
  {
   "cell_type": "code",
   "execution_count": 246,
   "metadata": {},
   "outputs": [
    {
     "data": {
      "image/png": "[encoded data removed]",
      "text/latex": [
       "$$- \\frac{d^{2}}{d t^{2}} \\operatorname{y_{1}}{\\left (t \\right )} - \\frac{d^{2}}{d t^{2}} \\operatorname{y_{2}}{\\left (t \\right )} = 0$$"
      ],
      "text/plain": [
       "    2            2           \n",
       "   d            d            \n",
       "- ───(y₁(t)) - ───(y₂(t)) = 0\n",
       "    2            2           \n",
       "  dt           dt            "
      ]
     },
     "execution_count": 246,
     "metadata": {},
     "output_type": "execute_result"
    }
   ],
   "source": [
    "eqc = Eq( diff(diff(L, t), t), 0)\n",
    "eqc"
   ]
  },
  {
   "cell_type": "markdown",
   "metadata": {},
   "source": [
    "Forces on mass 1"
   ]
  },
  {
   "cell_type": "code",
   "execution_count": 247,
   "metadata": {},
   "outputs": [
    {
     "data": {
      "image/png": "[encoded data removed]",
      "text/latex": [
       "$$m_{1} \\frac{d^{2}}{d t^{2}} \\operatorname{y_{1}}{\\left (t \\right )} = T - g m_{1}$$"
      ],
      "text/plain": [
       "     2                  \n",
       "    d                   \n",
       "m₁⋅───(y₁(t)) = T - g⋅m₁\n",
       "     2                  \n",
       "   dt                   "
      ]
     },
     "execution_count": 247,
     "metadata": {},
     "output_type": "execute_result"
    }
   ],
   "source": [
    "eq1 = Eq( m1 * diff(y1(t), t, t) , - m1 * g + T)\n",
    "eq1"
   ]
  },
  {
   "cell_type": "markdown",
   "metadata": {},
   "source": [
    "Forces on mass 2"
   ]
  },
  {
   "cell_type": "code",
   "execution_count": 248,
   "metadata": {},
   "outputs": [
    {
     "data": {
      "image/png": "[encoded data removed]",
      "text/latex": [
       "$$m_{2} \\frac{d^{2}}{d t^{2}} \\operatorname{y_{2}}{\\left (t \\right )} = T - g m_{2}$$"
      ],
      "text/plain": [
       "     2                  \n",
       "    d                   \n",
       "m₂⋅───(y₂(t)) = T - g⋅m₂\n",
       "     2                  \n",
       "   dt                   "
      ]
     },
     "execution_count": 248,
     "metadata": {},
     "output_type": "execute_result"
    }
   ],
   "source": [
    "eq2 = Eq( m2 * diff(y2(t), t, t) , - m2 * g + T)\n",
    "eq2"
   ]
  },
  {
   "cell_type": "markdown",
   "metadata": {},
   "source": [
    "Let's solve for $y_1''(t)$, eliminating $T$ and $y_2''(t)$ from the equations"
   ]
  },
  {
   "cell_type": "code",
   "execution_count": 249,
   "metadata": {},
   "outputs": [
    {
     "data": {
      "image/png": "[encoded data removed]",
      "text/latex": [
       "$$\\left [ \\right ]$$"
      ],
      "text/plain": [
       "[]"
      ]
     },
     "execution_count": 249,
     "metadata": {},
     "output_type": "execute_result"
    }
   ],
   "source": [
    "solve([eq1, eq2, eqc], diff(y1(t),t,t)) ## WHY DOESN'T THIS WORK???"
   ]
  },
  {
   "cell_type": "markdown",
   "metadata": {},
   "source": [
    "Write our equation in terms of accelerations."
   ]
  },
  {
   "cell_type": "code",
   "execution_count": 250,
   "metadata": {},
   "outputs": [
    {
     "data": {
      "image/png": "[encoded data removed]",
      "text/latex": [
       "$$\\left [ \\left \\{ T : \\frac{2 g m_{1} m_{2}}{m_{1} + m_{2}}, \\quad a_{1} : - \\frac{g \\left(m_{1} - m_{2}\\right)}{m_{1} + m_{2}}, \\quad a_{2} : \\frac{g \\left(m_{1} - m_{2}\\right)}{m_{1} + m_{2}}\\right \\}\\right ]$$"
      ],
      "text/plain": [
       "⎡⎧   2⋅g⋅m₁⋅m₂      -g⋅(m₁ - m₂)       g⋅(m₁ - m₂)⎫⎤\n",
       "⎢⎨T: ─────────, a₁: ─────────────, a₂: ───────────⎬⎥\n",
       "⎣⎩    m₁ + m₂          m₁ + m₂           m₁ + m₂  ⎭⎦"
      ]
     },
     "execution_count": 250,
     "metadata": {},
     "output_type": "execute_result"
    }
   ],
   "source": [
    "eq1 = Eq(m1 * a1, -m1 * g + T)\n",
    "eq2 = Eq(m2 * a2, -m2 * g + T)\n",
    "eqc = Eq(a1, -a2)\n",
    "\n",
    "soln = solve([eq1, eq2, eqc])\n",
    "soln"
   ]
  },
  {
   "cell_type": "markdown",
   "metadata": {},
   "source": [
    "Construct a differential equation for $y_1(t)$"
   ]
  },
  {
   "cell_type": "code",
   "execution_count": 251,
   "metadata": {},
   "outputs": [
    {
     "data": {
      "image/png": "[encoded data removed]",
      "text/latex": [
       "$$\\frac{d^{2}}{d t^{2}} \\operatorname{y_{1}}{\\left (t \\right )} = - \\frac{g \\left(m_{1} - m_{2}\\right)}{m_{1} + m_{2}}$$"
      ],
      "text/plain": [
       "  2                       \n",
       " d           -g⋅(m₁ - m₂) \n",
       "───(y₁(t)) = ─────────────\n",
       "  2             m₁ + m₂   \n",
       "dt                        "
      ]
     },
     "execution_count": 251,
     "metadata": {},
     "output_type": "execute_result"
    }
   ],
   "source": [
    "eqD = Eq( diff(y1(t), t, t), soln[0][a1])\n",
    "eqD"
   ]
  },
  {
   "cell_type": "code",
   "execution_count": 252,
   "metadata": {},
   "outputs": [
    {
     "data": {
      "image/png": "[encoded data removed]",
      "text/latex": [
       "$$\\operatorname{y_{1}}{\\left (t \\right )} = C_{1} + C_{2} t + \\frac{g t^{2} \\left(- m_{1} + m_{2}\\right)}{2 \\left(m_{1} + m_{2}\\right)}$$"
      ],
      "text/plain": [
       "                       2           \n",
       "                    g⋅t ⋅(-m₁ + m₂)\n",
       "y₁(t) = C₁ + C₂⋅t + ───────────────\n",
       "                      2⋅(m₁ + m₂)  "
      ]
     },
     "metadata": {},
     "output_type": "display_data"
    }
   ],
   "source": [
    "sol = dsolve( eqD )\n",
    "display(sol)\n",
    "\n",
    "y1_sol = sol.rhs"
   ]
  },
  {
   "cell_type": "markdown",
   "metadata": {},
   "source": [
    "Solve for the coefficients"
   ]
  },
  {
   "cell_type": "code",
   "execution_count": 253,
   "metadata": {},
   "outputs": [
    {
     "data": {
      "image/png": "[encoded data removed]",
      "text/latex": [
       "$$\\frac{g t^{2} \\left(- m_{1} + m_{2}\\right)}{2 \\left(m_{1} + m_{2}\\right)}$$"
      ],
      "text/plain": [
       "   2           \n",
       "g⋅t ⋅(-m₁ + m₂)\n",
       "───────────────\n",
       "  2⋅(m₁ + m₂)  "
      ]
     },
     "execution_count": 253,
     "metadata": {},
     "output_type": "execute_result"
    }
   ],
   "source": [
    "coeffs = solve (  [  Eq(y1_sol.subs(t,0), 0),  # y1(0) =0\n",
    "                     Eq(diff(y1_sol, t).subs(t,0), 0) # y1'(0) = 0\n",
    "                  ] )\n",
    "y1_sol.subs(coeffs)"
   ]
  },
  {
   "cell_type": "markdown",
   "metadata": {},
   "source": [
    "Before we could plot this function, we would have to provide numbers for the various parameters."
   ]
  },
  {
   "cell_type": "markdown",
   "metadata": {},
   "source": [
    "This problem has an analytical solution.  If it did not, then we would need to solve it with the numerical solver NDSolve, which requires a time interval over which to solve for the function.  We also have to make sure that all parameters have numerical values."
   ]
  },
  {
   "cell_type": "code",
   "execution_count": 254,
   "metadata": {},
   "outputs": [],
   "source": [
    "q0 = [0, 0] # initial condition\n",
    "params = {m1:3.2, m2:3, g:9.8}\n",
    "F = lambdify( [t], soln[0][a1].subs(params) )\n",
    "             \n",
    "def RHS(q, t):\n",
    "    y, v = q\n",
    "    return [v, F(t)]\n",
    "t_num = np.arange(0, 2, 0.1)\n",
    "sol = odeint(RHS, q0, t_num)\n",
    "y1_soln_num, v1_soln_num = sol.T"
   ]
  },
  {
   "cell_type": "code",
   "execution_count": 255,
   "metadata": {},
   "outputs": [
    {
     "data": {
      "text/plain": [
       "Text(0,0.5,'y')"
      ]
     },
     "execution_count": 255,
     "metadata": {},
     "output_type": "execute_result"
    },
    {
     "data": {
      "image/png": "[encoded data removed]",
      "text/plain": [
       "<Figure size 432x288 with 1 Axes>"
      ]
     },
     "metadata": {},
     "output_type": "display_data"
    }
   ],
   "source": [
    "plt.plot(t_num, y1_soln_num)\n",
    "plt.plot(t_num, lambdify( [t], y1_sol.subs(coeffs).subs(params) )(t_num) )\n",
    "plt.xlabel('t')\n",
    "plt.ylabel('y')"
   ]
  },
  {
   "cell_type": "markdown",
   "metadata": {},
   "source": [
    "## 12. Atwood's machine swinging"
   ]
  },
  {
   "cell_type": "markdown",
   "metadata": {},
   "source": [
    "Now consider the case where one of the masses, m1=1 kg, of an Atwood Machine is free to swing.  The system is constructed in such a way that the swinging mass won't collide with the other mass or the string.  Consider this as a 2D problem with the pulley at the origin.  $m_2$ = 1 kg.  Initially $x_1$=-0.5 m, $y_1$=-4 and $y_2$=-8.  Show an animation of the motion of the two masses for the first 20 s.\n"
   ]
  },
  {
   "cell_type": "markdown",
   "metadata": {},
   "source": [
    "## 13. Atwood's machine over a table"
   ]
  },
  {
   "cell_type": "markdown",
   "metadata": {},
   "source": [
    "Block 1 of mass $m_1$=5 kg lies on a frictionless table, and is connected by a non-elastic string running parallel to the table through a pulley to a second block of mass $m_2$= 1 kg hanging vertically.  Solve.\n"
   ]
  },
  {
   "cell_type": "markdown",
   "metadata": {},
   "source": [
    "## 14. Atwood's machine over a table with an angle"
   ]
  },
  {
   "cell_type": "markdown",
   "metadata": {},
   "source": [
    "Block 1 of mass m1=5kg lies on a frictionless table, and is connected by a non-elastic string running through a pulley to a second block of mass m2=1kg hanging vertically.  The pulley is a height h above the origin (technically at y=-h).  Thus the string forms an angle θ with the horizontal.  θ changes as the blocks move, resulting in a non-constant tension.  Furthermore, the accelerations of the blocks are not equal in magnitude in general.  We can assume that block 1 stays on the table and doesn't lift off.  For initial conditions x(0) = 4 and x'(0)=0, and h = 4, plot the position of block 1 for the first 4 seconds along with the corresponding solution from 2.12.\n"
   ]
  }
 ],
 "metadata": {
  "anaconda-cloud": {},
  "kernelspec": {
   "display_name": "Python 3",
   "language": "python",
   "name": "python3"
  },
  "language_info": {
   "codemirror_mode": {
    "name": "ipython",
    "version": 3
   },
   "file_extension": ".py",
   "mimetype": "text/x-python",
   "name": "python",
   "nbconvert_exporter": "python",
   "pygments_lexer": "ipython3",
   "version": "3.6.4"
  }
 },
 "nbformat": 4,
 "nbformat_minor": 2
}
