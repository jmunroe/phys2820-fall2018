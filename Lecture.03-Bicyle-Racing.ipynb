{
 "cells": [
  {
   "cell_type": "markdown",
   "metadata": {},
   "source": [
    "<!--NAVIGATION-->\n",
    "< [Numerical Programming](Lecture.02-Numerical-Programming.ipynb) | [Contents](Index.ipynb) | [Projectile Motion: The Trajectory of a Cannon Shell](Lecture.04-Projectile-Motion.ipynb) >"
   ]
  },
  {
   "cell_type": "markdown",
   "metadata": {},
   "source": [
    "From this point on, notebooks will include some default modules and configuration at the beginning. Make sure to execute this cell before any others in a notebook."
   ]
  },
  {
   "cell_type": "code",
   "execution_count": null,
   "metadata": {
    "slideshow": {
     "slide_type": "skip"
    }
   },
   "outputs": [],
   "source": [
    "import numpy as np\n",
    "import matplotlib.pyplot as plt\n",
    "plt.style.use('default')"
   ]
  },
  {
   "cell_type": "markdown",
   "metadata": {
    "slideshow": {
     "slide_type": "slide"
    }
   },
   "source": [
    "# Bicycle Racing: The Effect of Air Resistance\n",
    "## Lecture 3"
   ]
  },
  {
   "cell_type": "markdown",
   "metadata": {
    "slideshow": {
     "slide_type": "subslide"
    }
   },
   "source": [
    "# Realistic Projectile Motion\n",
    "\n",
    "(The next four lectures follow closely Chapter 2 of Giordano. The text of this\n",
    "chapter is available on BrightSpace/D2L.  Please read along before or after the lectures. )\n",
    "\n",
    "In this section of the course we will study objects moving through the air under gravity and air resistance. Numerically, we will solve all our problems using the Euler method that we have already introduced."
   ]
  },
  {
   "cell_type": "markdown",
   "metadata": {
    "slideshow": {
     "slide_type": "slide"
    }
   },
   "source": [
    "## 2.1 Bicycle Racing and Air Resistance\n",
    "\n",
    "![](https://upload.wikimedia.org/wikipedia/commons/thumb/3/3b/Alexander_Vinokourov_2%2C_London_2012_Time_Trial_-_Aug_2012.jpg/640px-Alexander_Vinokourov_2%2C_London_2012_Time_Trial_-_Aug_2012.jpg)\n",
    "\n",
    "<center> Photo by DAVID ILIFF. License: CC-BY-SA 3.0 </center>"
   ]
  },
  {
   "cell_type": "markdown",
   "metadata": {
    "slideshow": {
     "slide_type": "fragment"
    }
   },
   "source": [
    "### Objective\n",
    "Understand the factors that determine the ultimate speed of a bicycle and to estimate this speed for a realistic case."
   ]
  },
  {
   "cell_type": "markdown",
   "metadata": {
    "slideshow": {
     "slide_type": "slide"
    }
   },
   "source": [
    "Newton's Second Law is\n",
    "\n",
    "\\begin{align}\n",
    "\\frac{dv}{dt} = \\frac{F}{m}\n",
    "\\end{align}\n",
    "\n",
    "where $F$ is the total force acting on a mass $m$ tells us how the velocity $v$ will change with time $t$."
   ]
  },
  {
   "cell_type": "markdown",
   "metadata": {
    "slideshow": {
     "slide_type": "fragment"
    }
   },
   "source": [
    "Even if we first ignore air resistance, to accurately predict the speed of a bicycle over time would require a careful consideration of all of the forces involved and the mechanical aspects of the bike which is very complicated."
   ]
  },
  {
   "cell_type": "markdown",
   "metadata": {
    "slideshow": {
     "slide_type": "subslide"
    }
   },
   "source": [
    "Physiological studies have shown that elite racing cyclists are able to produce approximately 400 watts over an extended period of time (~1 hr).  So, another way to approach the problem is to use work-energy ideas. That is,\n",
    "\n",
    "$$ \\frac{d E}{dt} = P $$ \n",
    "where $E$ is the energy of the bicycle-rider system and $P$ is the power output of the rider.  For a flat road, all energy is kinetic. Since $E = 1/2 mv^2$ we can derive\n",
    "\n",
    "$$\\frac{dv}{dt} = \\frac{P}{mv}.$$"
   ]
  },
  {
   "cell_type": "markdown",
   "metadata": {
    "slideshow": {
     "slide_type": "subslide"
    }
   },
   "source": [
    "#### Analytical solution\n",
    "\n",
    "Assuming $P$ is constant we can symbolically integrate this differential equation and show that\n",
    "\n",
    "$$ v = \\sqrt{v_0^2 + 2 P t /m } $$\n",
    "\n",
    "where $v_0$ is the velocity at time $t=0$."
   ]
  },
  {
   "cell_type": "markdown",
   "metadata": {
    "slideshow": {
     "slide_type": "fragment"
    }
   },
   "source": [
    "This analytical solution predicts that the velocity will grow forever.  This is of course not physical because we do not, yet, include the effect of air resistance."
   ]
  },
  {
   "cell_type": "markdown",
   "metadata": {
    "slideshow": {
     "slide_type": "subslide"
    }
   },
   "source": [
    "#### Numerical solution\n",
    "\n",
    "We can also solve this problem numerically by first discretizing the derivative\n",
    "\n",
    "$$ \\frac{dv}{dt} \\approx \\frac{v_{i+1} - v_i}{\\Delta t} $$\n",
    "\n",
    "where  $v_i$ is the velocity at time $t_i = i \\Delta t$."
   ]
  },
  {
   "cell_type": "markdown",
   "metadata": {
    "slideshow": {
     "slide_type": "fragment"
    }
   },
   "source": [
    "With this approximation of the derivative, we can rewrite our equation\n",
    "$$ v_{i+1} = v_i + \\frac{P}{m v_i} \\Delta t$$\n",
    "\n",
    "This is the same algorithm we used in Lecture 1 and 2.  We call this approach *Euler's method*. This is not the only way to discretize a derivative. In fact, later in this course we will investigate several other methods and investigate the numerical details carefully.  For now, let us continue to focus on the physics of the problem."
   ]
  },
  {
   "cell_type": "markdown",
   "metadata": {
    "slideshow": {
     "slide_type": "slide"
    }
   },
   "source": [
    "### No air resistance\n",
    "\n",
    "To compute our numerical solution, let's start by assuming a value of velocity of $v_0 = 4$ m/s at $t = 0$ and take $P=400$ W as our value for a well-trained athelete. We'll also need the mass 70 kg for the bicycle-rider combination."
   ]
  },
  {
   "cell_type": "code",
   "execution_count": null,
   "metadata": {
    "slideshow": {
     "slide_type": "fragment"
    }
   },
   "outputs": [],
   "source": [
    "v0 = 4.0\n",
    "P = 400\n",
    "m = 70"
   ]
  },
  {
   "cell_type": "markdown",
   "metadata": {
    "slideshow": {
     "slide_type": "subslide"
    }
   },
   "source": [
    "Suppose we want to compute how the velocity changes up to 100 s. We also need to choose a small enough time step.  It turns out that choosing $\\Delta t =$ 1.0 s is sufficient. In general, we should come back to this step and verify that that the solution does not change much (relative error) with even smaller time steps. "
   ]
  },
  {
   "cell_type": "markdown",
   "metadata": {
    "slideshow": {
     "slide_type": "fragment"
    }
   },
   "source": [
    "We next need to create an array for our time values\n",
    "\n",
    "$$ [t_0, t_1, t_2, \\ldots, t_{N-1} ] $$\n",
    "\n",
    "which gives us a total of $N$ values of velocity to compute. Recall that in Python we count starting from 0."
   ]
  },
  {
   "cell_type": "code",
   "execution_count": null,
   "metadata": {
    "slideshow": {
     "slide_type": "fragment"
    }
   },
   "outputs": [],
   "source": [
    "tmax = 20\n",
    "dt = 1"
   ]
  },
  {
   "cell_type": "code",
   "execution_count": null,
   "metadata": {
    "slideshow": {
     "slide_type": "subslide"
    }
   },
   "outputs": [],
   "source": [
    "t = np.arange(0, tmax, dt)\n",
    "N = len(t)\n",
    "print(t)"
   ]
  },
  {
   "cell_type": "markdown",
   "metadata": {
    "slideshow": {
     "slide_type": "fragment"
    }
   },
   "source": [
    "Next, we allocate memory in the computer for velocity array of length $N$ and initialize the first element in the array to being our initial velocity.  The allocation step reserves the memory we will use to store our solution.  "
   ]
  },
  {
   "cell_type": "code",
   "execution_count": null,
   "metadata": {
    "slideshow": {
     "slide_type": "fragment"
    }
   },
   "outputs": [],
   "source": [
    "v = np.zeros(N)\n",
    "v[0] = v0"
   ]
  },
  {
   "cell_type": "markdown",
   "metadata": {
    "slideshow": {
     "slide_type": "subslide"
    }
   },
   "source": [
    "The actual computation can now be done.  We want to loop through time while calculating all the values of velocity at each discrete time step:"
   ]
  },
  {
   "cell_type": "code",
   "execution_count": null,
   "metadata": {
    "slideshow": {
     "slide_type": "fragment"
    }
   },
   "outputs": [],
   "source": [
    "for i in range(N-1):\n",
    "    v[i+1] = v[i] + P / (m*v[i]) * dt"
   ]
  },
  {
   "cell_type": "markdown",
   "metadata": {
    "slideshow": {
     "slide_type": "fragment"
    }
   },
   "source": [
    "You'll notice that in our loop, we go from i = 0 up to i = N-2. This is because in each iteration of the loop, we are actually calculating $v_{i+1}$."
   ]
  },
  {
   "cell_type": "markdown",
   "metadata": {
    "slideshow": {
     "slide_type": "subslide"
    }
   },
   "source": [
    "We can print out the velocities values we have found,"
   ]
  },
  {
   "cell_type": "code",
   "execution_count": null,
   "metadata": {
    "slideshow": {
     "slide_type": "fragment"
    }
   },
   "outputs": [],
   "source": [
    "print(v)"
   ]
  },
  {
   "cell_type": "markdown",
   "metadata": {
    "slideshow": {
     "slide_type": "subslide"
    }
   },
   "source": [
    "It is much more descriptive to make a plot of our result."
   ]
  },
  {
   "cell_type": "code",
   "execution_count": null,
   "metadata": {
    "slideshow": {
     "slide_type": "fragment"
    }
   },
   "outputs": [],
   "source": [
    "fig, axes = plt.subplots()\n",
    "\n",
    "plt.plot(t, v)\n",
    "plt.xlabel('t (s)')\n",
    "plt.ylabel('v (m/s)')\n",
    "plt.title('Bicyling without air resistance')\n",
    "\n",
    "plt.show()"
   ]
  },
  {
   "cell_type": "markdown",
   "metadata": {
    "slideshow": {
     "slide_type": "slide"
    }
   },
   "source": [
    "#### EXERCISE\n",
    "\n",
    "> 1. Go back an rerun the simulation for 200 s.\n",
    "> 2. Modify the plot so that the velocity is in km/hr and the time is measured in minutes.\n",
    "> 3. Use the plot to estimate the predicted velocity at t = 3 minutes."
   ]
  },
  {
   "cell_type": "markdown",
   "metadata": {
    "slideshow": {
     "slide_type": "subslide"
    }
   },
   "source": [
    "The plot show the velocity steadily increasing with time. After 3 minutes our model is predicting a speed faster than many cars travel.  This is clearly **unphysical** but it is happening because we have not considered air resistance."
   ]
  },
  {
   "cell_type": "markdown",
   "metadata": {
    "slideshow": {
     "slide_type": "fragment"
    }
   },
   "source": [
    "Before proceeding, let's make copy of our result with a more descriptive name."
   ]
  },
  {
   "cell_type": "code",
   "execution_count": null,
   "metadata": {
    "slideshow": {
     "slide_type": "fragment"
    }
   },
   "outputs": [],
   "source": [
    "v_no_air = v"
   ]
  },
  {
   "cell_type": "markdown",
   "metadata": {
    "slideshow": {
     "slide_type": "slide"
    }
   },
   "source": [
    "### With air resistance\n",
    "\n",
    " One way of modelling air resistance is to assume a drag force of the general form\n",
    "\n",
    "$$ F_{drag} \\approx - B_1 v - B_2 v^2.$$\n",
    "\n",
    "Unlike kinetic friction between two sliding surfaces which depends only on the normal force, drag friction depends on the velocity of the object."
   ]
  },
  {
   "cell_type": "markdown",
   "metadata": {
    "slideshow": {
     "slide_type": "subslide"
    }
   },
   "source": [
    "At very low velocities, the behaviour is essentially linear (this is called **Stokes's Law**) and is represented by the $B_1$ term.  At more reasonable velocities the behaviour is quadratic as given by the $B_2$ term.  Unfortunately, the exact value of $B_2$ can not be calculated for complicated objects like bicyles and riders.  Approximately, however, we estimate the drag force as\n",
    "\n",
    " $$ F_{drag} \\approx - \\frac{1}{2} C \\rho A v^2$$\n",
    "\n",
    " where $\\rho$ is the density of air, $A$ is the frontal cross-sectional area of the bicycle, and $C$ is called the **drag coefficient**.  Although $C$ depends on the aerodynamics of an object, it is typically around 1.0 in value."
   ]
  },
  {
   "cell_type": "markdown",
   "metadata": {
    "slideshow": {
     "slide_type": "subslide"
    }
   },
   "source": [
    "We can understand why the air friction has this particular mathematical form by considering the block of air that is being pushed out of the way by the bicycle and the rider.  The mass of air moved in time $dt$ is\n",
    "$$m_{\\mbox{air}} \\sim \\rho A v dt. $$"
   ]
  },
  {
   "cell_type": "markdown",
   "metadata": {
    "slideshow": {
     "slide_type": "fragment"
    }
   },
   "source": [
    "The air is given a velocity of order $v$, and hence a kinetic energy of\n",
    "$$E_\\mbox{air} \\sim \\frac{1}{2} m_\\mbox{air} v^2 .$$"
   ]
  },
  {
   "cell_type": "markdown",
   "metadata": {
    "slideshow": {
     "slide_type": "subslide"
    }
   },
   "source": [
    "Because of conservation of energy, this is also the work done by the drag force (the force of the object due to air resistance, work is force times displacement) in time $dt$, \n",
    "$$ F_{\\mbox{drag}} v dt = E_\\mbox{air}.$$"
   ]
  },
  {
   "cell_type": "markdown",
   "metadata": {
    "slideshow": {
     "slide_type": "fragment"
    }
   },
   "source": [
    "Putting these three equations together we find\n",
    "\n",
    "$$F_\\mbox{drag} \\propto \\frac{1}{2} \\rho A v^2.$$\n",
    "\n",
    "The constant of proportionality, $C$, is determined by experiment."
   ]
  },
  {
   "cell_type": "markdown",
   "metadata": {
    "slideshow": {
     "slide_type": "slide"
    }
   },
   "source": [
    " We can add this new force to our equation of motion as another term on the right hand side and get\n",
    "\n",
    "$$ v_{i+1} = v_i + \\frac{P}{m v_i} \\Delta t - \\frac{ C \\rho A}{2 m} v^2 \\Delta t$$"
   ]
  },
  {
   "cell_type": "markdown",
   "metadata": {
    "slideshow": {
     "slide_type": "fragment"
    }
   },
   "source": [
    "To investigate this new model numerically, we first define some additional parameters that are physically realistic."
   ]
  },
  {
   "cell_type": "code",
   "execution_count": null,
   "metadata": {
    "slideshow": {
     "slide_type": "fragment"
    }
   },
   "outputs": [],
   "source": [
    "C = 0.70 # drag coefficient\n",
    "rho = 1.29 # kg / m^3, density of air\n",
    "A = 0.33 # m s^2, cross-sectional area"
   ]
  },
  {
   "cell_type": "markdown",
   "metadata": {
    "slideshow": {
     "slide_type": "subslide"
    }
   },
   "source": [
    "We can now compute the velocity again with this additional drag force."
   ]
  },
  {
   "cell_type": "code",
   "execution_count": null,
   "metadata": {
    "slideshow": {
     "slide_type": "fragment"
    }
   },
   "outputs": [],
   "source": [
    "v = np.zeros(N)\n",
    "v[0] = v0\n",
    "\n",
    "for i in range(N-1):\n",
    "    v[i+1] = v[i] + P/(m*v[i])*dt -  C*rho*A/(2*m)*v[i]**2*dt"
   ]
  },
  {
   "cell_type": "markdown",
   "metadata": {
    "slideshow": {
     "slide_type": "subslide"
    }
   },
   "source": [
    "Finally, we plot the result also with a comparison with the original computation with no air resistance."
   ]
  },
  {
   "cell_type": "code",
   "execution_count": null,
   "metadata": {
    "slideshow": {
     "slide_type": "fragment"
    }
   },
   "outputs": [],
   "source": [
    "fig, axes = plt.subplots()\n",
    "\n",
    "plt.plot(t, v_no_air, label = 'No air resistance')\n",
    "plt.plot(t, v, label = 'With air resistance')\n",
    "plt.xlabel('t (s)')\n",
    "plt.ylabel('v (m/s)')\n",
    "plt.legend()\n",
    "plt.title('Bicyle simulation: velocity vs. time')\n",
    "\n",
    "plt.show()"
   ]
  },
  {
   "cell_type": "markdown",
   "metadata": {
    "slideshow": {
     "slide_type": "subslide"
    }
   },
   "source": [
    "We can we can see that including air resistance leads to a prediction of an eventual constant speed of around 14 m/s."
   ]
  },
  {
   "cell_type": "code",
   "execution_count": null,
   "metadata": {
    "slideshow": {
     "slide_type": "fragment"
    }
   },
   "outputs": [],
   "source": [
    "# we could also get this information using code\n",
    "v_km_hr = v / 1000 * 60 * 60\n",
    "v_eventual = v_km_hr[-1]\n",
    "\n",
    "print('The predicted eventual constant speed, including air resistance, is {:.1f} km/hr.'.format(v_eventual))"
   ]
  },
  {
   "cell_type": "markdown",
   "metadata": {
    "slideshow": {
     "slide_type": "fragment"
    }
   },
   "source": [
    " This model demonstrates the importance of both reducing the frontal cross-sectional areas and drag coefficient of an elite bicyclist."
   ]
  },
  {
   "cell_type": "markdown",
   "metadata": {
    "slideshow": {
     "slide_type": "slide"
    }
   },
   "source": [
    "### Maximum speed as function of frontal cross-sectional area\n",
    "\n",
    "Our model suggests the imporance of minimizing the frontal cross-sectional area in order to achieve a higher maximum speed. Let's try to generalize our model answer the following\n",
    "\n",
    "> How does maximum speed depend on cross-sectional area?\n"
   ]
  },
  {
   "cell_type": "markdown",
   "metadata": {
    "slideshow": {
     "slide_type": "fragment"
    }
   },
   "source": [
    "First, here is the model reorganized into separate blocks of code:"
   ]
  },
  {
   "cell_type": "markdown",
   "metadata": {
    "slideshow": {
     "slide_type": "subslide"
    }
   },
   "source": [
    "#### Initialization and constant parameters"
   ]
  },
  {
   "cell_type": "code",
   "execution_count": null,
   "metadata": {
    "slideshow": {
     "slide_type": "fragment"
    }
   },
   "outputs": [],
   "source": [
    "# time step\n",
    "dt = 1.0\n",
    "# max time\n",
    "tmax = 100\n",
    "# constant power\n",
    "power = 400\n",
    "# initial velocity\n",
    "v0 = 4.00 "
   ]
  },
  {
   "cell_type": "markdown",
   "metadata": {
    "slideshow": {
     "slide_type": "subslide"
    }
   },
   "source": [
    "#### Computation routine"
   ]
  },
  {
   "cell_type": "code",
   "execution_count": null,
   "metadata": {
    "slideshow": {
     "slide_type": "fragment"
    }
   },
   "outputs": [],
   "source": [
    "def compute(A=0.33, C=0.7, m=70, rho=1.29):\n",
    "    \n",
    "    # Initialize arrays to zero\n",
    "    N = round(tmax / dt)\n",
    "    t = np.zeros(N)\n",
    "    v = np.zeros(N)\n",
    "\n",
    "    # initialize velocity\n",
    "    v[0] = v0\n",
    "\n",
    "    # initialize time\n",
    "    t[0] = 0\n",
    "\n",
    "    # Calculate the solution\n",
    "    for i in range(N-1):\n",
    "        v[i+1] = v[i] + P/(m*v[i])*dt -  C*rho*A/(2*m)*v[i]**2*dt\n",
    "        t[i+1] = t[i] + dt\n",
    "        \n",
    "    return t, v"
   ]
  },
  {
   "cell_type": "markdown",
   "metadata": {
    "slideshow": {
     "slide_type": "subslide"
    }
   },
   "source": [
    "#### Plotting routine"
   ]
  },
  {
   "cell_type": "code",
   "execution_count": null,
   "metadata": {
    "slideshow": {
     "slide_type": "fragment"
    }
   },
   "outputs": [],
   "source": [
    "def plot(t, v):\n",
    "    # plot the solution\n",
    "    plt.plot(t, v)\n",
    "    plt.xlabel('t (s)')\n",
    "    plt.ylabel('v (m/s)')\n",
    "    plt.title('Bicyle simulation: velocity vs. time')"
   ]
  },
  {
   "cell_type": "markdown",
   "metadata": {
    "slideshow": {
     "slide_type": "subslide"
    }
   },
   "source": [
    "#### Main driver code "
   ]
  },
  {
   "cell_type": "code",
   "execution_count": null,
   "metadata": {
    "slideshow": {
     "slide_type": "fragment"
    }
   },
   "outputs": [],
   "source": [
    "t, v = compute()\n",
    "fig, axes = plt.subplots()\n",
    "\n",
    "plot(t, v)\n",
    "\n",
    "plt.show()"
   ]
  },
  {
   "cell_type": "markdown",
   "metadata": {
    "slideshow": {
     "slide_type": "subslide"
    }
   },
   "source": [
    "Now we can compute the solution for many possible values of cross-sectional area and plot the results."
   ]
  },
  {
   "cell_type": "code",
   "execution_count": null,
   "metadata": {
    "slideshow": {
     "slide_type": "fragment"
    }
   },
   "outputs": [],
   "source": [
    "areas = np.arange(0.20, 0.50, 0.01)\n",
    "max_v = np.zeros_like(areas)\n",
    "N = len(areas)\n",
    "\n",
    "fig, axes = plt.subplots()\n",
    "\n",
    "for n in range(N):\n",
    "    t, v = compute(A=areas[n])\n",
    "    max_v[n] = v[-1]\n",
    "    plot(t, v)\n",
    "\n",
    "fig, axes = plt.subplots()\n",
    "plt.plot(areas, max_v, 'o-')\n",
    "plt.title('Maximum velocity vs cross-sectional area')\n",
    "plt.xlabel('A (m$^2$)')\n",
    "plt.ylabel('vmax (m/s)')\n",
    "\n",
    "plt.show()"
   ]
  },
  {
   "cell_type": "markdown",
   "metadata": {
    "slideshow": {
     "slide_type": "subslide"
    }
   },
   "source": [
    "Our results might be useful to a performance bicycle team trying to predict the benefit in reducing the cross-sectional area by a few square centimetres."
   ]
  },
  {
   "cell_type": "markdown",
   "metadata": {
    "slideshow": {
     "slide_type": "slide"
    }
   },
   "source": [
    "#### Exercise\n",
    "> 1. Modify the code below to investigate the impact of relative humidity on the maximum velocity.\n",
    "> 2. The formulae found on [here](http://physics.holsoft.nl/physics/ocmain.htm#densair) may be useful. I've code this up below as the function `calc_air_density()`\n",
    "> 3. Considering only the impact of humidity on the drag force, what does the model predict about the change in maximum velocity?\n",
    "> 4. How does your model compare with your intuition on the impact of humidity on maximum velocity? "
   ]
  },
  {
   "cell_type": "code",
   "execution_count": null,
   "metadata": {},
   "outputs": [],
   "source": [
    "def calc_air_density(RH=0, T=20, B=101325):\n",
    "    \"\"\"\n",
    "    Calculate the density of humid air given\n",
    "        relative humidiy, RH (0.00 - 1.00)\n",
    "        temperature, T (Celsius)\n",
    "        barometric pressure, B (Pa)\n",
    "    \"\"\"\n",
    "    # temperature\n",
    "    T_kelvin = T + 273.15\n",
    "    # saturated vapour pressure\n",
    "    p_sat = 610.7 * np.power(10, 7.5*T/(237.3+T))\n",
    "    # partial vapour pressure\n",
    "    p_v = RH * p_sat\n",
    "    # apply formula for density of humid air\n",
    "    rho_air = 1.2929 * 273.15/T_kelvin * (B - 0.3783 * p_v) / 1.013e5\n",
    "    \n",
    "    return rho_air"
   ]
  },
  {
   "cell_type": "code",
   "execution_count": null,
   "metadata": {},
   "outputs": [],
   "source": [
    "# THIS IS A COPY OF THE DRIVER CODE GIVEN ABOVE. \n",
    "# MODIFY IT TO EXPLORE HOW RELATIVE HUMIDITY\n",
    "# AFFECTS MAXIMUM SPEED\n",
    "\n",
    "areas = np.arange(0.20, 0.50, 0.01)\n",
    "max_v = np.zeros_like(areas)\n",
    "N = len(areas)\n",
    "\n",
    "for n in range(N):\n",
    "    t, v = compute(A=areas[n])\n",
    "    max_v[n] = v[-1]\n",
    "\n",
    "fig, axes = plt.subplots()\n",
    "plt.plot(areas, max_v, 'o-')\n",
    "plt.title('Maximum velocity vs cross-sectional area')\n",
    "plt.xlabel('A (m$^2$)')\n",
    "plt.ylabel('vmax (m/s)')\n",
    "\n",
    "plt.show()"
   ]
  },
  {
   "cell_type": "markdown",
   "metadata": {},
   "source": [
    "<!--NAVIGATION-->\n",
    "< [Numerical Programming](Lecture.02-Numerical-Programming.ipynb) | [Contents](Index.ipynb) | [Projectile Motion: The Trajectory of a Cannon Shell](Lecture.04-Projectile-Motion.ipynb) >"
   ]
  }
 ],
 "metadata": {
  "anaconda-cloud": {},
  "kernelspec": {
   "display_name": "Python 3",
   "language": "python",
   "name": "python3"
  },
  "language_info": {
   "codemirror_mode": {
    "name": "ipython",
    "version": 3
   },
   "file_extension": ".py",
   "mimetype": "text/x-python",
   "name": "python",
   "nbconvert_exporter": "python",
   "pygments_lexer": "ipython3",
   "version": "3.6.3"
  }
 },
 "nbformat": 4,
 "nbformat_minor": 1
}
