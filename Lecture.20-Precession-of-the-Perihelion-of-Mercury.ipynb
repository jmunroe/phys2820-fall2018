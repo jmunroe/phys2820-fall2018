{
 "cells": [
  {
   "cell_type": "code",
   "execution_count": null,
   "metadata": {},
   "outputs": [],
   "source": [
    "%matplotlib inline\n",
    "import numpy as np\n",
    "import matplotlib.pyplot as plt"
   ]
  },
  {
   "cell_type": "markdown",
   "metadata": {},
   "source": [
    "# Precession of the Perihelion of Mercury\n",
    "## Lecture 20"
   ]
  },
  {
   "cell_type": "markdown",
   "metadata": {},
   "source": [
    "**Follows Giordano 4.3: Precession of the Perihelion of Mercury**"
   ]
  },
  {
   "cell_type": "markdown",
   "metadata": {},
   "source": [
    "### Intro Video\n",
    "\n",
    "https://www.youtube.com/watch?v=hSXNE0pNtr8\n"
   ]
  },
  {
   "cell_type": "markdown",
   "metadata": {},
   "source": [
    "Kepler's First Law that says planets move in elliptical orbits with the Sun at one focus is a direct result of the inverse square law of Newton's Law of Gravitation:\n",
    "\n",
    "$$ F_G = \\frac{G M_s M_e}{r^2} $$\n",
    "\n",
    "If the law was of some other form, such as\n",
    "\n",
    "$$ F_G = \\frac{G M_s M_e}{r^\\beta} $$\n",
    "\n",
    "for same value of $\\beta$ different from 2, then the orbits of the planets would not be stable ellipses.  Section 4.2 of Giordano explores this stability.  It shows that even for value of $\\beta$ close 2, (like $\\beta = 2.01$) the orbits would not be stable and the orbit itself would tend to rotate over time."
   ]
  },
  {
   "cell_type": "markdown",
   "metadata": {},
   "source": [
    "The solar-system itself can be thought of as an experiment to test the accuracy of the inverse-square law.  In reality, the solar system is more than the Sun and single planet -- the perturbative effects of all the other planets need to be taken into account to correctly the expected deviations from Kepler's Laws.   One such deviation is that planets with eccentric orbits will *precess* over time. That is, the axes of the elliptical orbit itself rotate. We can be specific about this by discussing the rate at which the perihelion (nearest point to the Sun) precesses around the Sun.\n",
    "\n",
    "By the middle of 19th century, the corrections to the orbits had been calculated using perturbation theory to estimate the precession rate.  If all of the planets are included in the calculation, the precession rate of Mercury's orbit was estimated as **523 arcseconds/century**. This mostly due to Jupiter. We'll try and calculate this in our next lecture."
   ]
  },
  {
   "cell_type": "markdown",
   "metadata": {},
   "source": [
    "However, astronomy is a precise science can careful observations measured the actual precession of the perihelion of Mercury was **566 arcseconds/century**. The perihelion rotates around once every 230,000 years.  Those are precise measurements!\n",
    "\n",
    "The difference between theory and experiment, a mere 43 arcseconds/century, was a mystery to 19th century physics. As mentioned in the video, the solution came with Einstein's theory of general relativity (GR) in 1917."
   ]
  },
  {
   "cell_type": "markdown",
   "metadata": {},
   "source": [
    "As you may know, GR describes gravity not as force but as a curvature in space-time.  Provided that objects are not too close or too massive, GR makes a similar prediction for the force of gravity that of Newton's law.  But, if the objects are close enough, GR predicts deviations from the inverse-square law.  \n",
    "\n",
    "The Sun and Mercury are close enough for those deviations to be significant and can be used to explain the discrepancy of 43 arcseconds/century.  This was one of the first major successes of the theory of general relativity."
   ]
  },
  {
   "cell_type": "markdown",
   "metadata": {},
   "source": [
    "Our goal in  this lecture is calculate this 43 arcseconds/century deviation.  While it can be done analytical using GR, we can also do it numerically by extending our model for the calculation of an orbiting planet.  \n",
    "\n"
   ]
  },
  {
   "cell_type": "markdown",
   "metadata": {},
   "source": [
    "The magnitude of the force law predicted by GR is\n",
    "\n",
    "$$F_G \\approx \\frac{G M_S M_M}{r^2}\\left(1+\\frac{\\alpha}{r^2}\\right) $$\n",
    "\n",
    "where $M_M$ is the mass of Mercury and $\\alpha = 1.1 \\times 10^{-8}\\;\\mathrm{AU}^2$.  This value comes from a the first  perturbation expansion in powers of $r^{-1}$.  This deviation from an inverse-square law is what leads to the precession of the perihelion."
   ]
  },
  {
   "cell_type": "markdown",
   "metadata": {},
   "source": [
    "One complication is that the precession rate for Mercury is so a naive simulation would need to be computed for 230,000 years or so to be able to directly measure the precession rate.  We would never want to wait for such a model to finish running! \n",
    "\n",
    "One strategy is use much larger values of $\\alpha$ and then predict the precession rate as a function of $\\alpha$.  We can then estimate the rate of precession for $\\alpha = 1.1 \\times 10^{-8}\\;\\mathrm{AU}^2$."
   ]
  },
  {
   "cell_type": "markdown",
   "metadata": {},
   "source": [
    "## Equations of Motion"
   ]
  },
  {
   "cell_type": "markdown",
   "metadata": {},
   "source": [
    "As before, we start with Newton's Second Law:\n",
    "\\begin{align}\n",
    "\\frac{\\mathrm{d}^2x}{\\mathrm{d}t^2} &= \\frac{F_{G,x}}{M_M}  \\\\\n",
    "\\frac{\\mathrm{d}^2y}{\\mathrm{d}t^2} &= \\frac{F_{G,y}}{M_M}\n",
    "\\end{align}\n",
    "\n",
    "which can be rewritten as a system of four first order differential equations:\n",
    "\n",
    "\\begin{align}\n",
    "\\frac{\\mathrm{d}v_x}{\\mathrm{d}t} &= -\\frac{G M_s x}{r^3}\\left(1+\\frac{\\alpha}{r^2}\\right) \\\\\n",
    "\\frac{\\mathrm{d}x}{\\mathrm{d}t} &= v_x \\\\\n",
    "\\frac{\\mathrm{d}v_y}{\\mathrm{d}t} &= -\\frac{G M_s y}{r^3}\\left(1+\\frac{\\alpha}{r^2}\\right) \\\\\n",
    "\\frac{\\mathrm{d}y}{\\mathrm{d}t} &= v_y \n",
    "\\end{align}"
   ]
  },
  {
   "cell_type": "markdown",
   "metadata": {},
   "source": [
    "## Numerical method"
   ]
  },
  {
   "cell_type": "markdown",
   "metadata": {},
   "source": [
    "The numerical equations using the Euler Cromer method are\n",
    " \n",
    "\\begin{align}\n",
    "v_{x,i+1} &= v_{x,i} - \\frac{4\\pi^2x_i}{r^3_i}\\Delta t\\left(1+\\frac{\\alpha}{r^2_i}\\right) \\\\\n",
    "x_{i+1} &= x_i + v_{x,i+1} \\Delta t  \\\\\n",
    "v_{y,i+1} &= v_{y,i} - \\frac{4\\pi^2y_i}{r^3_i}\\Delta t\\left(1+\\frac{\\alpha}{r^2_i}\\right) \\\\\n",
    "y_{i+1} &= y_i + v_{y,i+1} \\Delta t  \\\\\n",
    "\\end{align}\n",
    "\n",
    "Recall that we are measuring distance in astronomical units (AU) and time in years (yr)."
   ]
  },
  {
   "cell_type": "markdown",
   "metadata": {},
   "source": [
    " We could go ahead and code this, but what about if we chose to attack the problem using the Runge-Kutta 4 method. "
   ]
  },
  {
   "cell_type": "code",
   "execution_count": 33,
   "metadata": {},
   "outputs": [],
   "source": [
    "π = np.pi\n",
    "\n",
    "def orbit(tmax = 1.0, dt = 0.001, α = 0.0, v0 = 2*π, x0 = 1):\n",
    "    \"\"\"\n",
    "    Calculate the orbit of planet\n",
    "    α is the correction due to general relativity.\n",
    "    \"\"\"\n",
    "\n",
    "    # number of timesteps\n",
    "    N = round(tmax/dt)\n",
    "\n",
    "    # allocate arrays\n",
    "    x = np.zeros(N)\n",
    "    y = np.zeros(N)\n",
    "    vx = np.zeros(N)\n",
    "    vy = np.zeros(N)\n",
    "    t = np.zeros(N)\n",
    "    \n",
    "    # initialise position of planet in AU\n",
    "    x[0] = x0\n",
    "    y[0] = 0\n",
    "\n",
    "    # initialise velocity of planet in AU/yr\n",
    "    vx[0] = 0\n",
    "    vy[0] = v0\n",
    "\n",
    "    def f(x, y, vx, vy):\n",
    "        r = np.sqrt(x**2+y**2)\n",
    "        dxdt = vx\n",
    "        dydt = vy\n",
    "        dvxdt = - (4*π**2*x)/(r**3)*(1+α/r**2)\n",
    "        dvydt = - (4*π**2*y)/(r**3)*(1+α/r**2)\n",
    "        \n",
    "        return [dxdt, dydt, dvxdt, dvydt]\n",
    "        \n",
    "    # loop over the timesteps\n",
    "    for i in range(N-1):\n",
    "        t[i+1] = t[i] + dt\n",
    "        \n",
    "        # estimate slope at initial point\n",
    "        sx1, sy1, svx1, svy1 = f(x[i], y[i], vx[i], vy[i])\n",
    "        \n",
    "        # estimate slope at mid point\n",
    "        x1  = x[i]   + sx1  * dt/2\n",
    "        y1  = y[i]   + sy1  * dt/2\n",
    "        vx1 = vx[i]  + svx1 * dt/2\n",
    "        vy1 = vy[i]  + svy1 * dt/2\n",
    "        sx2, sy2, svx2, svy2 = f(x1, y1, vx1, vy1)\n",
    "        \n",
    "        # improved estimate slope at mid point\n",
    "        x2 = x[i] + sx2 * dt/2\n",
    "        y2 = y[i] + sy2 * dt/2\n",
    "        vx2 = vx[i] + svx2 * dt/2\n",
    "        vy2 = vy[i] + svy2 * dt/2\n",
    "        sx3, sy3, svx3, svy3 = f(x2, y2, vx2, vy2)\n",
    "        \n",
    "        # estimate slope at final point\n",
    "        x3 = x[i] + sx3 * dt\n",
    "        y3 = y[i] + sy3 * dt\n",
    "        vx3 = vx[i] + svx3 * dt\n",
    "        vy3 = vy[i] + svy3 * dt\n",
    "        sx4, sy4, svx4, svy4 = f(x3, y3, vx3, vy3)    \n",
    "        \n",
    "        # estimate final point\n",
    "        x[i+1] = x[i] + (sx1 + 2*sx2 + 2*sx3 + sx4)/6 * dt\n",
    "        y[i+1] = y[i] + (sy1 + 2*sy2 + 2*sy3 + sy4)/6 * dt\n",
    "        vx[i+1] = vx[i] + (svx1 + 2*svx2 + 2*svx3 + svx4)/6 * dt\n",
    "        vy[i+1] = vy[i] + (svy1 + 2*svy2 + 2*svy3 + svy4)/6 * dt\n",
    "        \n",
    "    return x, y, vx, vy, t"
   ]
  },
  {
   "cell_type": "markdown",
   "metadata": {},
   "source": [
    "### Planetary Data\n"
   ]
  },
  {
   "cell_type": "code",
   "execution_count": null,
   "metadata": {},
   "outputs": [],
   "source": [
    "data = { 'Mercury' : {'m':2.4e23, 'a':0.39,  'e':0.206},\n",
    "         'Venus'   : {'m':4.9e24, 'a':0.72,  'e':0.007},   \n",
    "         'Earth'   : {'m':6.0e24, 'a':1.00,  'e':0.017},  \n",
    "         'Mars'    : {'m':6.6e23, 'a':1.52,  'e':0.093},\n",
    "         'Jupiter' : {'m':1.9e27, 'a':5.20,  'e':0.048},\n",
    "         'Saturn'  : {'m':5.7e26, 'a':9.54,  'e':0.056},\n",
    "         'Uranus'  : {'m':8.8e25, 'a':19.19, 'e':0.046},\n",
    "         'Neptune' : {'m':1.03e26,'a':30.06, 'e':0.010},\n",
    "         'Pluto'   : {'m':1.3e22, 'a':39.53, 'e':0.248},\n",
    "        }"
   ]
  },
  {
   "cell_type": "markdown",
   "metadata": {},
   "source": [
    "To compute the orbit of Mercury we need to know the correct velocity to use as an initial condition "
   ]
  },
  {
   "cell_type": "markdown",
   "metadata": {},
   "source": [
    "Here are some of the helper functions we introduced in [Lecture 19]()."
   ]
  },
  {
   "cell_type": "code",
   "execution_count": 34,
   "metadata": {},
   "outputs": [],
   "source": [
    "def plot_orbit(x, y):\n",
    "    \"Make a plot of planet showing the Sun\"\n",
    "    \n",
    "    plt.plot(x, y, 'k-', linewidth=0.5)\n",
    "\n",
    "    # Plot the Sun at the origin\n",
    "    plt.plot(0, 0, '.',color=\"yellow\", markersize=40, markeredgecolor='black')\n",
    "    # Plot the Earth at the final position\n",
    "    plt.plot(x[-1], y[-1], '.', color= 'k', markersize=15)\n",
    "\n",
    "    plt.xlabel('x (AU)')\n",
    "    plt.ylabel('y (AU)')\n",
    "    plt.axis('equal')\n",
    "    \n",
    "def calc_eccentricity(x, y, t):\n",
    "    \"Calculate the eccentricity of an orbit\"\n",
    "    \n",
    "    # major semiaxis\n",
    "    a = (max(x)-min(x))/2\n",
    "    # minor semiaxis\n",
    "    b = (max(y)-min(y))/2\n",
    "    \n",
    "    #if b > a:\n",
    "    #    a, b = b, a\n",
    "\n",
    "    # compute eccentricity\n",
    "    e = np.sqrt(1 - b**2/a**2)\n",
    "    \n",
    "    return e"
   ]
  },
  {
   "cell_type": "code",
   "execution_count": 36,
   "metadata": {},
   "outputs": [
    {
     "data": {
      "application/vnd.jupyter.widget-view+json": {
       "model_id": "e72120869f3949c1bd2e11f4a4098c13",
       "version_major": 2,
       "version_minor": 0
      },
      "text/html": [
       "<p>Failed to display Jupyter Widget of type <code>interactive</code>.</p>\n",
       "<p>\n",
       "  If you're reading this message in the Jupyter Notebook or JupyterLab Notebook, it may mean\n",
       "  that the widgets JavaScript is still loading. If this message persists, it\n",
       "  likely means that the widgets JavaScript library is either not installed or\n",
       "  not enabled. See the <a href=\"https://ipywidgets.readthedocs.io/en/stable/user_install.html\">Jupyter\n",
       "  Widgets Documentation</a> for setup instructions.\n",
       "</p>\n",
       "<p>\n",
       "  If you're reading this message in another frontend (for example, a static\n",
       "  rendering on GitHub or <a href=\"https://nbviewer.jupyter.org/\">NBViewer</a>),\n",
       "  it may mean that your frontend doesn't currently support widgets.\n",
       "</p>\n"
      ],
      "text/plain": [
       "interactive(children=(FloatSlider(value=8.2, description='v0', max=11.0, min=6.0, step=0.01), Output()), _dom_classes=('widget-interact',))"
      ]
     },
     "metadata": {},
     "output_type": "display_data"
    }
   ],
   "source": [
    "from ipywidgets import interact\n",
    "\n",
    "@interact(v0=(6, 11, 0.01))\n",
    "def investigate_orbit(v0=8.2):\n",
    "    planetname = 'Mercury'\n",
    "    planet = data[planetname]\n",
    "    \n",
    "    fig, axes = plt.subplots(1, 2, figsize=(12, 4))\n",
    "    \n",
    "    x0 = (1+planet['e'])*planet['a']\n",
    "    x, y, vx, vy, t = orbit(v0=v0, tmax = 1, x0 = x0)\n",
    "    e = calc_eccentricity(x, y, t)\n",
    "\n",
    "    plt.sca(axes[0])\n",
    "    plot_orbit(x, y)\n",
    "\n",
    "    plt.sca(axes[1])\n",
    "    plt.plot(t, x)\n",
    "    plt.plot(t, y)\n",
    "    plt.xlabel('t (yr)')\n",
    "    plt.ylabel('x or y (AU)')\n",
    "    \n",
    "    plt.suptitle('{}: v0 = {:.2f}, e = {:.3f}, e_obs = {:.3f}'.format(planetname, v0, e, planet['e']), fontsize=14)"
   ]
  },
  {
   "cell_type": "code",
   "execution_count": 37,
   "metadata": {},
   "outputs": [],
   "source": [
    "def eccentricity_error(v0, planetname='Mercury'):\n",
    "    planet = data[planetname]\n",
    "    \n",
    "    x0 = (1+planet['e'])*planet['a']\n",
    "    x, y, vx, vy, t = orbit(v0=v0, tmax = 1, x0 = x0)\n",
    "    e = calc_eccentricity(x, y, t)\n",
    "    \n",
    "    return abs(e-planet['e'])"
   ]
  },
  {
   "cell_type": "code",
   "execution_count": 38,
   "metadata": {},
   "outputs": [
    {
     "data": {
      "text/plain": [
       "8.163734256538973"
      ]
     },
     "execution_count": 38,
     "metadata": {},
     "output_type": "execute_result"
    }
   ],
   "source": [
    "from scipy import optimize\n",
    "optimize.brent(eccentricity_error, brack=(7, 11))"
   ]
  },
  {
   "cell_type": "markdown",
   "metadata": {},
   "source": [
    "Why the difference?  Plot error vs initial velocity:"
   ]
  },
  {
   "cell_type": "code",
   "execution_count": 39,
   "metadata": {},
   "outputs": [
    {
     "data": {
      "text/plain": [
       "Text(0,0.5,'error')"
      ]
     },
     "execution_count": 39,
     "metadata": {},
     "output_type": "execute_result"
    },
    {
     "data": {
      "image/png": "[encoded data removed]",
      "text/plain": [
       "<matplotlib.figure.Figure at 0x12076bdd8>"
      ]
     },
     "metadata": {},
     "output_type": "display_data"
    }
   ],
   "source": [
    "for v0 in np.arange(7, 11, 0.1):\n",
    "    err = eccentricity_error(v0)\n",
    "    plt.plot(v0, err, 'k.')\n",
    "plt.xlabel('v0')\n",
    "plt.ylabel('error')"
   ]
  },
  {
   "cell_type": "markdown",
   "metadata": {},
   "source": [
    "For comparison, the book shows a completely analytical way of determining the initial velocity of Mercury. In any case, we can now look at the precession of Mercury's orbit over longer times if we include the effects of general relativity."
   ]
  },
  {
   "cell_type": "code",
   "execution_count": 40,
   "metadata": {},
   "outputs": [
    {
     "data": {
      "application/vnd.jupyter.widget-view+json": {
       "model_id": "1d963b4fbf15463daaa28582aa3d6642",
       "version_major": 2,
       "version_minor": 0
      },
      "text/html": [
       "<p>Failed to display Jupyter Widget of type <code>interactive</code>.</p>\n",
       "<p>\n",
       "  If you're reading this message in the Jupyter Notebook or JupyterLab Notebook, it may mean\n",
       "  that the widgets JavaScript is still loading. If this message persists, it\n",
       "  likely means that the widgets JavaScript library is either not installed or\n",
       "  not enabled. See the <a href=\"https://ipywidgets.readthedocs.io/en/stable/user_install.html\">Jupyter\n",
       "  Widgets Documentation</a> for setup instructions.\n",
       "</p>\n",
       "<p>\n",
       "  If you're reading this message in another frontend (for example, a static\n",
       "  rendering on GitHub or <a href=\"https://nbviewer.jupyter.org/\">NBViewer</a>),\n",
       "  it may mean that your frontend doesn't currently support widgets.\n",
       "</p>\n"
      ],
      "text/plain": [
       "interactive(children=(FloatSlider(value=0.0, description='α', max=0.02, step=0.0001), Output()), _dom_classes=('widget-interact',))"
      ]
     },
     "metadata": {},
     "output_type": "display_data"
    }
   ],
   "source": [
    "@interact(α=(0, 0.02, 0.0001))\n",
    "def investigate_precession(α = 0):\n",
    "    planet = data['Mercury']\n",
    "    x0 = (1+planet['e'])*planet['a']\n",
    "    v0 = 8.2 # AU/yr\n",
    "    \n",
    "    x, y, vx, vy, t = orbit(v0=v0, tmax = 1, x0=x0, α=α)\n",
    "\n",
    "    fig, axes = plt.subplots(1, 2, figsize=(12, 4))\n",
    "    \n",
    "    plt.sca(axes[0])\n",
    "    plot_orbit(x, y)\n",
    "\n",
    "    plt.sca(axes[1])\n",
    "    r = np.sqrt(x**2 + y**2) \n",
    "    plt.plot(t, r)\n",
    "    plt.xlabel('t (yr)')\n",
    "    plt.ylabel('r (AU)')\n",
    "    \n",
    "    plt.suptitle('Simulation of the precession of Mercury\\nα = {:.4f}'.format(α))"
   ]
  },
  {
   "cell_type": "markdown",
   "metadata": {},
   "source": [
    "## Calculate the derivative of the distance from Mercury to the Sun and look for where the derivative goes from positive to negative."
   ]
  },
  {
   "cell_type": "code",
   "execution_count": 41,
   "metadata": {},
   "outputs": [
    {
     "data": {
      "application/vnd.jupyter.widget-view+json": {
       "model_id": "4c2471665a70454490151dffcb745608",
       "version_major": 2,
       "version_minor": 0
      },
      "text/html": [
       "<p>Failed to display Jupyter Widget of type <code>interactive</code>.</p>\n",
       "<p>\n",
       "  If you're reading this message in the Jupyter Notebook or JupyterLab Notebook, it may mean\n",
       "  that the widgets JavaScript is still loading. If this message persists, it\n",
       "  likely means that the widgets JavaScript library is either not installed or\n",
       "  not enabled. See the <a href=\"https://ipywidgets.readthedocs.io/en/stable/user_install.html\">Jupyter\n",
       "  Widgets Documentation</a> for setup instructions.\n",
       "</p>\n",
       "<p>\n",
       "  If you're reading this message in another frontend (for example, a static\n",
       "  rendering on GitHub or <a href=\"https://nbviewer.jupyter.org/\">NBViewer</a>),\n",
       "  it may mean that your frontend doesn't currently support widgets.\n",
       "</p>\n"
      ],
      "text/plain": [
       "interactive(children=(FloatSlider(value=0.0, description='α', max=0.02, step=0.001), Output()), _dom_classes=('widget-interact',))"
      ]
     },
     "metadata": {},
     "output_type": "display_data"
    }
   ],
   "source": [
    "@interact(α=(0, 0.02, 0.001))\n",
    "def investigate_precession(α = 0):\n",
    "    planet = data['Mercury']\n",
    "    x0 = (1+planet['e'])*planet['a']\n",
    "    v0 = 8.2 # AU/yr\n",
    "    \n",
    "    x, y, vx, vy, t = orbit(v0=v0, tmax = 1, x0=x0, α=α)\n",
    "\n",
    "    fig, axes = plt.subplots(1, 2, figsize=(12, 4))\n",
    "    \n",
    "    plt.sca(axes[0])\n",
    "    plot_orbit(x, y)\n",
    "\n",
    "    plt.sca(axes[1])\n",
    "    r = np.sqrt(x**2 + y**2)\n",
    "    \n",
    "    drdt = np.zeros(len(t)-2)\n",
    "    for i in range(1,len(t)-2):\n",
    "        drdt[i] = (r[i+1] - r[i-1]) / (t[i+1] - t[i-1])\n",
    "    plt.plot(t[1:-1], drdt)\n",
    "    plt.xlabel('t (yr)')\n",
    "    plt.ylabel('dr/dt (AU/yr)')\n",
    "    \n",
    "    for i in range(1, len(t)-2):\n",
    "        if drdt[i-1] < 0 and drdt[i] > 0:\n",
    "            # at the perihelion\n",
    "            plt.sca(axes[0])\n",
    "            plt.plot([0, x[i]], [0, y[i]], \"g-\" )\n",
    "            plt.sca(axes[1])\n",
    "            plt.axvline(t[i], color='green')\n",
    "            \n",
    "    plt.suptitle('Simulation of the precession of Mercury\\nα = {:.4f}'.format(α))"
   ]
  },
  {
   "cell_type": "markdown",
   "metadata": {},
   "source": [
    "## Estimate the rate of change of position of the perihelion / apihelion,"
   ]
  },
  {
   "cell_type": "code",
   "execution_count": 42,
   "metadata": {},
   "outputs": [
    {
     "data": {
      "application/vnd.jupyter.widget-view+json": {
       "model_id": "af6dac094c714fd8b22b976b857e95f4",
       "version_major": 2,
       "version_minor": 0
      },
      "text/html": [
       "<p>Failed to display Jupyter Widget of type <code>interactive</code>.</p>\n",
       "<p>\n",
       "  If you're reading this message in the Jupyter Notebook or JupyterLab Notebook, it may mean\n",
       "  that the widgets JavaScript is still loading. If this message persists, it\n",
       "  likely means that the widgets JavaScript library is either not installed or\n",
       "  not enabled. See the <a href=\"https://ipywidgets.readthedocs.io/en/stable/user_install.html\">Jupyter\n",
       "  Widgets Documentation</a> for setup instructions.\n",
       "</p>\n",
       "<p>\n",
       "  If you're reading this message in another frontend (for example, a static\n",
       "  rendering on GitHub or <a href=\"https://nbviewer.jupyter.org/\">NBViewer</a>),\n",
       "  it may mean that your frontend doesn't currently support widgets.\n",
       "</p>\n"
      ],
      "text/plain": [
       "interactive(children=(FloatSlider(value=0.001, description='α', max=0.01, step=0.0001), Output()), _dom_classes=('widget-interact',))"
      ]
     },
     "metadata": {},
     "output_type": "display_data"
    }
   ],
   "source": [
    "@interact(α=(0, 0.01, 0.0001))\n",
    "def investigate_precession(α = 0.001):\n",
    "    planet = data['Mercury']\n",
    "    x0 = (1+planet['e'])*planet['a']\n",
    "    v0 = 8.2 # AU/yr\n",
    "    \n",
    "    x, y, vx, vy, t = orbit(v0=v0, tmax = 2, x0=x0, α=α)\n",
    "\n",
    "    fig, axes = plt.subplots(1, 2, figsize=(12, 4))\n",
    "    \n",
    "    plt.sca(axes[0])\n",
    "    plot_orbit(x, y)\n",
    "\n",
    "    r = np.sqrt(x**2 + y**2) \n",
    "    drdt = np.zeros(len(t)-2)\n",
    "    for i in range(1,len(t)-2):\n",
    "        drdt[i] = (r[i+1] - r[i-1]) / (t[i+1] - t[i-1])\n",
    "\n",
    "    for i in range(1, len(t)-2):\n",
    "        if drdt[i-1] < 0 and drdt[i] > 0:\n",
    "            # at perihelion\n",
    "            plt.sca(axes[0])\n",
    "            plt.plot([0, x[i]], [0, y[i]], \"g-\" )\n",
    "            \n",
    "            plt.sca(axes[1])\n",
    "            # calculate degrees\n",
    "            θ = np.degrees(np.arctan2(y[i], x[i]))\n",
    "            plt.plot(t[i], θ, 'go')\n",
    "            \n",
    "    plt.sca(axes[1])\n",
    "    plt.xlabel('t (yr)')\n",
    "    plt.ylabel(r'$\\theta$ (deg)')\n",
    "            \n",
    "    plt.suptitle('Simulation of the precession of Mercury\\nα = {:.4f}'.format(α))"
   ]
  },
  {
   "cell_type": "markdown",
   "metadata": {},
   "source": [
    "## Fit a best fit curve to estimate the rate of precession"
   ]
  },
  {
   "cell_type": "code",
   "execution_count": 43,
   "metadata": {},
   "outputs": [
    {
     "data": {
      "application/vnd.jupyter.widget-view+json": {
       "model_id": "fa15f3376eea4bf689f6f3073aaa2ebe",
       "version_major": 2,
       "version_minor": 0
      },
      "text/html": [
       "<p>Failed to display Jupyter Widget of type <code>interactive</code>.</p>\n",
       "<p>\n",
       "  If you're reading this message in the Jupyter Notebook or JupyterLab Notebook, it may mean\n",
       "  that the widgets JavaScript is still loading. If this message persists, it\n",
       "  likely means that the widgets JavaScript library is either not installed or\n",
       "  not enabled. See the <a href=\"https://ipywidgets.readthedocs.io/en/stable/user_install.html\">Jupyter\n",
       "  Widgets Documentation</a> for setup instructions.\n",
       "</p>\n",
       "<p>\n",
       "  If you're reading this message in another frontend (for example, a static\n",
       "  rendering on GitHub or <a href=\"https://nbviewer.jupyter.org/\">NBViewer</a>),\n",
       "  it may mean that your frontend doesn't currently support widgets.\n",
       "</p>\n"
      ],
      "text/plain": [
       "interactive(children=(FloatSlider(value=0.001, description='α', max=0.005, step=0.0001), Output()), _dom_classes=('widget-interact',))"
      ]
     },
     "metadata": {},
     "output_type": "display_data"
    }
   ],
   "source": [
    "@interact(α=(0, 0.005, 0.0001))\n",
    "def investigate_precession(α = 0.001):\n",
    "    planet = data['Mercury']\n",
    "    x0 = (1+planet['e'])*planet['a']\n",
    "    v0 = 8.2 # AU/yr\n",
    "    \n",
    "    x, y, vx, vy, t = orbit(v0=v0, tmax = 2, x0=x0, α=α)\n",
    "\n",
    "    fig, axes = plt.subplots(1, 2, figsize=(12, 4))\n",
    "    \n",
    "    plt.sca(axes[0])\n",
    "    plot_orbit(x, y)\n",
    "    plt.title(r'$\\alpha$ = {:.4}'.format(α))\n",
    "\n",
    "    r = np.sqrt(x**2 + y**2) \n",
    "    drdt = np.zeros(len(t)-2)\n",
    "    for i in range(1,len(t)-2):\n",
    "        drdt[i] = (r[i+1] - r[i-1]) / (t[i+1] - t[i-1])\n",
    "\n",
    "    t_vals = []\n",
    "    θ_vals = []\n",
    "    for i in range(1, len(t)-2):\n",
    "        if drdt[i-1] < 0 and drdt[i] > 0:\n",
    "            # at perihelion\n",
    "            plt.sca(axes[0])\n",
    "            plt.plot([0, x[i]], [0, y[i]], \"g-\" )\n",
    "            \n",
    "            plt.sca(axes[1])\n",
    "            # calculate degrees\n",
    "            θ = np.degrees(np.arctan2(y[i], x[i]))\n",
    "            plt.plot(t[i], θ, 'go')\n",
    "            \n",
    "            t_vals.append(t[i])\n",
    "            θ_vals.append(θ)\n",
    "    \n",
    "    p = np.polyfit(t_vals, θ_vals, 1)\n",
    "    plt.sca(axes[1])\n",
    "    plt.plot(t_vals, np.polyval(p, t_vals), 'r-')\n",
    "    plt.xlabel('t (yr)')\n",
    "    plt.ylabel(r'$\\theta$ (deg)')\n",
    "\n",
    "    plt.xlim(0, max(t))\n",
    "    plt.title('slope = {:.4}'.format(p[0]))\n",
    "            \n",
    "    plt.suptitle('Simulation of the precession of Mercury')"
   ]
  },
  {
   "cell_type": "markdown",
   "metadata": {},
   "source": [
    "## Now that we have the algorithm worked out, let's rewrite the code without any of the graphics:"
   ]
  },
  {
   "cell_type": "code",
   "execution_count": 45,
   "metadata": {},
   "outputs": [
    {
     "data": {
      "text/plain": [
       "1.1962447195946893"
      ]
     },
     "execution_count": 45,
     "metadata": {},
     "output_type": "execute_result"
    }
   ],
   "source": [
    "def compute_precession(α = 0):\n",
    "    planet = data['Mercury']\n",
    "    x0 = (1+planet['e'])*planet['a']\n",
    "    v0 = 8.2 # AU/yr\n",
    "    \n",
    "    x, y, vx, vy, t = orbit(v0=v0, tmax = 2, x0=x0, α=α)\n",
    "\n",
    "    r = np.sqrt(x**2 + y**2) \n",
    "    drdt = np.zeros(len(t)-2)\n",
    "    for i in range(1,len(t)-2):\n",
    "        drdt[i] = (r[i+1] - r[i-1]) / (t[i+1] - t[i-1])\n",
    "\n",
    "    t_vals = []\n",
    "    θ_vals = []\n",
    "    for i in range(1, len(t)-3):\n",
    "        if drdt[i-1] < 0 and drdt[i] > 0:\n",
    "\n",
    "            # calculate degrees\n",
    "            θ = np.degrees(np.arctan2(y[i], x[i]))\n",
    "           \n",
    "            t_vals.append(t[i])\n",
    "            θ_vals.append(θ)\n",
    "    \n",
    "    p = np.polyfit(t_vals, θ_vals, 1)\n",
    "\n",
    "    return p[0]\n",
    "\n",
    "compute_precession(0.0001)"
   ]
  },
  {
   "cell_type": "markdown",
   "metadata": {},
   "source": [
    "Recall that from general relativity,\n",
    "\n",
    "$$\\alpha = 1.1 \\times 10^{-8}\\;\\mathrm{AU}^2$$"
   ]
  },
  {
   "cell_type": "markdown",
   "metadata": {},
   "source": [
    "This is too small a value of $\\alpha$ to use directly:"
   ]
  },
  {
   "cell_type": "code",
   "execution_count": 46,
   "metadata": {},
   "outputs": [
    {
     "data": {
      "text/plain": [
       "0.077577246715755402"
      ]
     },
     "execution_count": 46,
     "metadata": {},
     "output_type": "execute_result"
    }
   ],
   "source": [
    "compute_precession(1.1e-8) ## GIVES AN INCORRECT VALUE"
   ]
  },
  {
   "cell_type": "markdown",
   "metadata": {},
   "source": [
    "## Explore how the rate of precession depends on $\\alpha$"
   ]
  },
  {
   "cell_type": "code",
   "execution_count": 47,
   "metadata": {},
   "outputs": [
    {
     "data": {
      "image/png": "[encoded data removed]",
      "text/plain": [
       "<matplotlib.figure.Figure at 0x12075b828>"
      ]
     },
     "metadata": {},
     "output_type": "display_data"
    }
   ],
   "source": [
    "α_vals = []\n",
    "dθdt_vals = []\n",
    "\n",
    "for α in np.arange(0.0001, 0.003, 0.0002):\n",
    "    dθdt = compute_precession(α)\n",
    "    α_vals.append(α)\n",
    "    dθdt_vals.append(dθdt)\n",
    "\n",
    "# make a linear best fit\n",
    "p = np.polyfit(α_vals, dθdt_vals, 1)\n",
    "\n",
    "fig, axes = plt.subplots(figsize=(8,6))\n",
    "plt.plot(α_vals, np.polyval(p, α_vals), 'r-')\n",
    "plt.plot(α_vals, dθdt_vals, 'ko')\n",
    "plt.xlabel(r'$\\alpha$', fontsize=14)\n",
    "plt.ylabel(r'd$\\theta$/dt (deg/yr)', fontsize=14)\n",
    "#plt.ylim(ymin=0)\n",
    "plt.title(r'$d\\theta/dt = C \\alpha + b$', fontsize=16)\n",
    "\n",
    "plt.text(0.0005, 30, '$C$ = {:.2e}'.format(p[0]), fontsize=16)\n",
    "plt.text(0.0005, 26, '$b$ = {:.2e}'.format(p[1]), fontsize=16)\n",
    "\n",
    "C = p[0]"
   ]
  },
  {
   "cell_type": "markdown",
   "metadata": {},
   "source": [
    "So, if this is going to work out, then need to calculate\n",
    "\n",
    "$$ \\frac{\\mathrm{d}\\theta}{\\mathrm{d}t} = C \\alpha $$\n",
    "\n",
    "where $$\\alpha = 1.1 \\times 10^{-8}\\;\\mathrm{AU}^2$$ is the value from general relativity."
   ]
  },
  {
   "cell_type": "code",
   "execution_count": 48,
   "metadata": {},
   "outputs": [
    {
     "name": "stdout",
     "output_type": "stream",
     "text": [
      "0.000122397563007\n"
     ]
    }
   ],
   "source": [
    "α = 1.1e-8\n",
    "dθdt = C * α\n",
    "print (dθdt)"
   ]
  },
  {
   "cell_type": "markdown",
   "metadata": {},
   "source": [
    "This is units of degrees / year. In arcseconds / century we have:"
   ]
  },
  {
   "cell_type": "code",
   "execution_count": 49,
   "metadata": {},
   "outputs": [
    {
     "name": "stdout",
     "output_type": "stream",
     "text": [
      "Precesion of rate due to general relativity is 44.1 arcseconds/century\n"
     ]
    }
   ],
   "source": [
    "print ('Precesion of rate due to general relativity is {:.1f} arcseconds/century'.format(dθdt * 3600 * 100))"
   ]
  },
  {
   "cell_type": "markdown",
   "metadata": {},
   "source": [
    "as expected."
   ]
  }
 ],
 "metadata": {
  "anaconda-cloud": {},
  "kernelspec": {
   "display_name": "Python 3",
   "language": "python",
   "name": "python3"
  },
  "language_info": {
   "codemirror_mode": {
    "name": "ipython",
    "version": 3
   },
   "file_extension": ".py",
   "mimetype": "text/x-python",
   "name": "python",
   "nbconvert_exporter": "python",
   "pygments_lexer": "ipython3",
   "version": "3.6.4"
  }
 },
 "nbformat": 4,
 "nbformat_minor": 2
}
