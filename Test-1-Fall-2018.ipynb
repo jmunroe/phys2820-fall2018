{
 "cells": [
  {
   "cell_type": "markdown",
   "metadata": {},
   "source": [
    "## PHYS 2820\n",
    "# Test 1 - Fall 2018"
   ]
  },
  {
   "cell_type": "markdown",
   "metadata": {},
   "source": [
    "### Name:\n",
    "### Student ID:"
   ]
  },
  {
   "cell_type": "markdown",
   "metadata": {},
   "source": [
    "### Instructions\n",
    "1. The exam is for 80 minutes starting at 2:00pm.\n",
    "2. Your completed Jupyter notebook (.ipynb file) should be submitted via Brightspace (D2L) dropbox. \n",
    "3. The exam is open book and you may use lecture notes, the labs, your assignments, assigned readings, and Internet access is permitted.\n",
    "4. Electronic communication with another student or any other person is not allowed during the test.\n",
    "5. Scrap paper is available upon request.\n",
    "6. The test is out for 40 points in total.\n",
    "7. **Read carefully and answer the questions exactly as asked**"
   ]
  },
  {
   "cell_type": "markdown",
   "metadata": {},
   "source": [
    " *Remember to run this cell **first**:*"
   ]
  },
  {
   "cell_type": "code",
   "execution_count": null,
   "metadata": {},
   "outputs": [],
   "source": [
    "%matplotlib inline\n",
    "import numpy as np\n",
    "import matplotlib.pyplot as plt"
   ]
  },
  {
   "cell_type": "markdown",
   "metadata": {},
   "source": [
    "## Question 1: Helium Balloon"
   ]
  },
  {
   "cell_type": "markdown",
   "metadata": {},
   "source": [
    "This question builds up a successively more complicated example about a helium balloon tied to the ground by a (stretchy) string.\n",
    "\n",
    "The equation of motion of a balloon is given by Newton's Second Law,\n",
    "$$ \\Sigma F = ma $$\n",
    "\n",
    "where $ a = \\frac{d^2 y}{d t^2}$ is the acceleration and $\\Sigma F$ is the sum of **all** of the forces acting on the balloon of mass $m$. This can be written as a second order differential equation:\n",
    "$$ \\frac{d^2 y}{d t^2} = \\frac{1}{m} \\Sigma F $$\n",
    "\n",
    "We have learned to solve this type of (one-dimensional) problem by rewriting the equation of motion as a system of 1st order differential equations:\n",
    "\n",
    "\\begin{align}\n",
    "\\frac{dy}{dt} &= v \\\\\n",
    "\\frac{dv}{dt} &= \\frac{1}{m} \\Sigma F\n",
    "\\end{align}\n",
    "\n",
    "where $y$ is the vertical position (in metres), $v$ is the vertical velocity (in metres/second).\n"
   ]
  },
  {
   "cell_type": "markdown",
   "metadata": {},
   "source": [
    "### Parameters and constants\n",
    "\n",
    "These should be all of the constants and parameters you need for this problem. \n",
    "\n",
    "*Please use these variables as they are given. No changes here are necessary.*"
   ]
  },
  {
   "cell_type": "code",
   "execution_count": null,
   "metadata": {},
   "outputs": [],
   "source": [
    "g = 9.81     # acceleration due to gravity, m/s^2\n",
    "m = 0.01     # mass of balloon, kg\n",
    "r = 0.14     # radius of balloon, m\n",
    "ρ_air = 1.29 # density of air, kg/m^3\n",
    "k = 9.0      # spring constant for string, N/m\n",
    "L = 6.0      # length of string, m\n",
    "V_wind = 120 # wind speed, blowing left to right, m/s\n",
    "y0 = 2.5     # initial height of balloon, m\n",
    "C = 0.44     # drag coefficient\n",
    "V = 4/3*np.pi*r**3 # balloon volume, m^3\n",
    "A = np.pi*r**2     # cross-sectional area, m^2"
   ]
  },
  {
   "cell_type": "markdown",
   "metadata": {},
   "source": [
    "To plot the solution, we will use the plotting function given below.\n",
    "\n",
    "*This function can be used as it is given and no changes are needed.*"
   ]
  },
  {
   "cell_type": "code",
   "execution_count": null,
   "metadata": {},
   "outputs": [],
   "source": [
    "def plot_1(t, y, v, label=' '):\n",
    "    \"\"\"Plot the solution for question 1\"\"\"\n",
    "    \n",
    "    fig, ax = plt.subplots(1, 2, figsize=(16, 4))\n",
    "    ax[0].plot(t, y, label=label)\n",
    "    ax[0].set_xlabel('t (s)')\n",
    "    ax[0].set_ylabel('y (m)')\n",
    "    ax[0].set_ylim(ymin=0, ymax=8)\n",
    "    ax[0].set_xlim(xmin=0, xmax=4)\n",
    "    \n",
    "    ax[1].plot(t, v, label=label)\n",
    "    ax[1].set_xlabel('t (s)')\n",
    "    ax[1].set_ylabel('v (m/s)')\n",
    "    ax[1].set_ylim(ymin=-3, ymax=3)\n",
    "    ax[1].set_xlim(xmin=0, xmax=4)\n",
    "\n",
    "    ax[0].legend()"
   ]
  },
  {
   "cell_type": "markdown",
   "metadata": {},
   "source": [
    "We can solve this problem by first setting up an array of times and allocating space for the solution."
   ]
  },
  {
   "cell_type": "code",
   "execution_count": null,
   "metadata": {},
   "outputs": [],
   "source": [
    "dt = 0.01\n",
    "t0 = 0\n",
    "tmax = 4.0\n",
    "t = np.arange(t0, tmax, dt)\n",
    "N = len(t)\n",
    "y = np.zeros(N)\n",
    "v = np.zeros(N)\n",
    "\n",
    "y[0] = y0\n",
    "v[0] = 0"
   ]
  },
  {
   "cell_type": "markdown",
   "metadata": {},
   "source": [
    "### 1a) Falling with Gravity [4 pts]\n",
    "\n",
    "To begin, assume the only force acting on the balloon is the force of gravity. That is, let\n",
    "\n",
    "$$ \\Sigma F = -m g$$\n",
    "\n",
    "Complete the code so that the motion of balloon falling under gravity is solved using Euler's method. The balloon has a mass of $m = 0.01$ kg."
   ]
  },
  {
   "cell_type": "code",
   "execution_count": null,
   "metadata": {
    "scrolled": true
   },
   "outputs": [],
   "source": [
    "for i in range(N-1):\n",
    "    y[i+1] =      # <--\n",
    "    v[i+1] =      # <--\n",
    "\n",
    "plot_1(t, y, v, label='Balloon falling under gravity')"
   ]
  },
  {
   "cell_type": "markdown",
   "metadata": {},
   "source": [
    "### 1b) Rising with Buoyancy [4 pts]\n",
    "\n",
    "Since this is a helium balloon, it is lighter than air and can rise due to a buoyancy force.  Modify the code below so that the net force is given by\n",
    "\n",
    "$$ \\Sigma F = -m g + \\rho_{air} V g$$\n",
    "\n",
    "where $V$ is the volume of the balloon and $\\rho_{air}$ is the density of air. You may assume that the balloon is a sphere and therefore has a volume of $ V = \\frac{4}{3}\\pi r^3$.\n"
   ]
  },
  {
   "cell_type": "code",
   "execution_count": null,
   "metadata": {
    "scrolled": true
   },
   "outputs": [],
   "source": [
    "for i in range(N-1):\n",
    "    y[i+1] =      # <--\n",
    "    v[i+1] =      # <--\n",
    "\n",
    "plot_1(t, y, v, label='Balloon rising with buoyancy')"
   ]
  },
  {
   "cell_type": "markdown",
   "metadata": {},
   "source": [
    "### 1c) Air Resistance [4 pts] \n",
    "\n",
    "A ballon will experience air resistance in the form of an drag force. Make your model more realistic by including this in the net force:\n",
    "\n",
    "$$ \\Sigma F = -m g + \\rho_{air} V g - \\frac{1}{2}C\\rho_{air} A\\left|v\\right|v$$.\n",
    "\n",
    "where the drag coefficient is $C = 0.44$. The cross-sectional area $A = \\pi r^2$ and remember that the notation $\\left| \\cdot \\right|$ means the absolute value.\n",
    "\n",
    "The balloon will now reach a maximum terminal velocity. Determine and print this value."
   ]
  },
  {
   "cell_type": "code",
   "execution_count": null,
   "metadata": {},
   "outputs": [],
   "source": [
    "for i in range(N-1):\n",
    "    y[i+1] =      # <--\n",
    "    v[i+1] =      # <--\n",
    "\n",
    "plot_1(t, y, v, label='Balloon with air resistance')\n",
    "\n",
    "v_terminal =      # <--\n",
    "print('The terminal velocity is %.2f m/s' % v_terminal)"
   ]
  },
  {
   "cell_type": "markdown",
   "metadata": {},
   "source": [
    "### 1d) Tied with a String [4 pts]\n",
    "To prevent the balloon from drifting away, a string of unstretched length $L=6$ m is tied to the balloon and anchored to the ground. We can model this string as being elastic with a spring constant of $k = 9$ N/m.\n",
    "\n",
    "If the balloon goes too high, the string will pull it back down. But, unlike a spring, there is no pushing force when the string is slack. We can model this 'string force' as follows:\n",
    "$$ F_{string} = \\left\\{\n",
    "\\begin{array}{ll}\n",
    "   -k(y - L) & y \\gt L \\\\\n",
    "   0 & y \\leq L \\\\\n",
    "\\end{array} \n",
    "\\right. $$\n",
    "\n",
    "Add in this new force so that the net force becomes:\n",
    "$$ \\Sigma F = F_{gravity} + F_{buoyancy} + F_{drag} + F_{string}$$\n",
    "\n",
    "Do this by defining a new Python function `Fstring(y)` that calculates and returns the string force given the position, $y$."
   ]
  },
  {
   "cell_type": "code",
   "execution_count": null,
   "metadata": {},
   "outputs": [],
   "source": [
    "def Fstring(y):\n",
    "    # Write the code needed to calculate\n",
    "    # and return the string force\n",
    "\n",
    "         # <--\n",
    "\n",
    "for i in range(N-1):\n",
    "    y[i+1] =      # <--\n",
    "    v[i+1] =      # <--\n",
    "\n",
    "plot_1(t, y, v, label='Balloon on a string')"
   ]
  },
  {
   "cell_type": "markdown",
   "metadata": {},
   "source": [
    "### 1e) Oscillations and Euler-Crommer [4 pts]\n",
    "\n",
    "The balloon oscillates up and downon the end of the string.  We learned in class that the Euler method doesn't work well for oscilliatory solutions like you should see in part d). \n",
    "\n",
    "Change the code so that your are using the Euler-Cromer numerical method (also known as the modified Euler method)."
   ]
  },
  {
   "cell_type": "code",
   "execution_count": null,
   "metadata": {},
   "outputs": [],
   "source": [
    "for i in range(N-1):\n",
    "    # Solution goes here\n",
    "    \n",
    "         # <--\n",
    "\n",
    "plot_1(t, y, v, label='Oscillating balloon')"
   ]
  },
  {
   "cell_type": "markdown",
   "metadata": {},
   "source": [
    "## Question 2: Ocean Drifter"
   ]
  },
  {
   "cell_type": "markdown",
   "metadata": {},
   "source": [
    "Objects floating in the ocean are often observed to have paths such as\n",
    "\n",
    "![](https://marine.rutgers.edu/dmcs/ms501/2004/NotesWilkin/LectureNotesWilkin2004_files/image121.jpg)\n",
    "\n",
    "These paths are due to the winds, currents, and the fact that our planet is rotating. When viewed within a rotating reference frame (such as the spinning planet Earth) there are Coriolis forces that cause these *inertial currents*.\n",
    "\n",
    "Assuming there are no winds blowing, the following equations of motion describes an object drifting in the ocean.\n",
    "\n",
    "\\begin{align}\n",
    "\\frac{d^2x}{dt^2} &= - B v_x + f v_y \\\\\n",
    "\\frac{d^2y}{dt^2} &= - B v_y - f v_x  \\\\\n",
    "\\;\n",
    "\\end{align}\n",
    "\n",
    "where the constants $f=4$ and  $B=0.3$ are related to the rotation rate of the Earth and the drag force, respectively. Assume that the drifter has an initial horizontal (eastward) velocity of $v_0 = 1$ m/s."
   ]
  },
  {
   "cell_type": "markdown",
   "metadata": {},
   "source": [
    "### 2a. Rewrite the equations of motion as four first-order equations [4 pts]\n",
    "By introducing equations relating velocity to the derivative of position, rewrite the equations of motion as a system of four first-order differential equations:\n",
    "\n",
    "*2a. You'll need to edit the Markdown cell below appropriately. *"
   ]
  },
  {
   "cell_type": "markdown",
   "metadata": {},
   "source": [
    "\\begin{align}\n",
    "\\frac{dv_x}{dt} &=     \\\\\n",
    "\\frac{dv_y}{dt} &=     \\\\\n",
    "\\frac{dx}{dt}   &=     \\\\\n",
    "\\frac{dy}{dt}   &=     \\\\\n",
    "\\end{align}"
   ]
  },
  {
   "cell_type": "markdown",
   "metadata": {},
   "source": [
    "### 2b. Complete following code using Euler's method [4 pts]\n",
    "\n",
    "The code below will calculate the trajectory in terms of x, y, and t for an object drifting in an inertial current using *Euler's method.*\n",
    "\n",
    "Appropriate default values for initial speed and the parameters $B$ and $f$ have been given.  These values are set as defaults with keyword arguments. \n",
    "\n",
    "Your task is to fill in the details to implement Euler's method to solve the four equations you determined in part 2a)."
   ]
  },
  {
   "cell_type": "code",
   "execution_count": null,
   "metadata": {},
   "outputs": [],
   "source": [
    "def solve_2(v0 = 1,    # initial horizontal velocity, m/s\n",
    "            B = 0.3,   # drag parameter\n",
    "            f = 4,     # rotation (Coriolis) parameter\n",
    "            tmax = 10, # length of simulation, s\n",
    "            dt = 0.01, # time step, s\n",
    "         ):  \n",
    "    \"\"\"\n",
    "    Calculates the trajectory of a drifting object\n",
    "    in the ocean using Euler's method\n",
    "    \n",
    "    Returns x, y, t\n",
    "    \"\"\"\n",
    "    \n",
    "    # Allocate memory for arrays and set to zero\n",
    "    t = np.arange(0, tmax, dt)\n",
    "    N = len(t)\n",
    "    \n",
    "    x  = np.zeros(N)\n",
    "    y  = np.zeros(N)\n",
    "    vx = np.zeros(N)\n",
    "    vy = np.zeros(N)\n",
    "\n",
    "    # Initial values\n",
    "    x[0]  = 0\n",
    "    y[0]  = 0\n",
    "    vx[0] = v0\n",
    "    vy[0] = 0\n",
    "    \n",
    "    # Calculate the solution\n",
    "    for i in range(N-1):\n",
    "        # fill in the lines below for 2b\n",
    "        vx[i+1] =   # <--\n",
    "        vy[i+1] =   # <--\n",
    "        x[i+1]  =   # <--\n",
    "        y[i+1]  =   # <--\n",
    "\n",
    "    return x, y, t"
   ]
  },
  {
   "cell_type": "markdown",
   "metadata": {},
   "source": [
    "### 2c. Plot the solution [4 pts]\n",
    "Make a plot of the trajectory ($x$ vs $y$) showing path of the drifting object.  Be sure to add approriate axis labels with units and a title. \n",
    "\n",
    "*For this question part, no arguments need to be passed to the solve_2() function. The default values are just fine.*"
   ]
  },
  {
   "cell_type": "code",
   "execution_count": null,
   "metadata": {
    "scrolled": false
   },
   "outputs": [],
   "source": [
    "fig, axes = plt.subplots(figsize=(7,7))\n",
    "x, y, t = solve_2()\n",
    "\n",
    "## write your code here for 2c\n",
    "\n",
    "  # <--"
   ]
  },
  {
   "cell_type": "markdown",
   "metadata": {},
   "source": [
    "### 2d. Effect of different values of $f$ [4 pts]"
   ]
  },
  {
   "cell_type": "markdown",
   "metadata": {},
   "source": [
    "Use a `for` loop to test effect of different values of $f$ on your solution. Consider each of the following values:\n",
    "\n",
    "$$ f = \\{-4, -2, 0, +2, 4\\} $$\n",
    "\n",
    "Plot the trajectories of all five of these solutions on the same plot. Include a legend that identifies the value of $f$ for each trajectory. Adjust the axis limits so that the aspect ratio is 1:1. The inertial currents should more like *circles* than like ovals."
   ]
  },
  {
   "cell_type": "code",
   "execution_count": null,
   "metadata": {},
   "outputs": [],
   "source": [
    "# write your code here for 2d\n",
    "\n",
    "  # <--"
   ]
  }
 ],
 "metadata": {
  "anaconda-cloud": {},
  "kernelspec": {
   "display_name": "Python 3",
   "language": "python",
   "name": "python3"
  },
  "language_info": {
   "codemirror_mode": {
    "name": "ipython",
    "version": 3
   },
   "file_extension": ".py",
   "mimetype": "text/x-python",
   "name": "python",
   "nbconvert_exporter": "python",
   "pygments_lexer": "ipython3",
   "version": "3.6.4"
  }
 },
 "nbformat": 4,
 "nbformat_minor": 1
}
