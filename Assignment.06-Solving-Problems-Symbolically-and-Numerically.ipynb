{
 "cells": [
  {
   "cell_type": "code",
   "execution_count": null,
   "metadata": {},
   "outputs": [],
   "source": [
    "%matplotlib inline\n",
    "import numpy as np\n",
    "import matplotlib.pyplot as plt\n",
    "import sympy as sp\n",
    "sp.init_printing()"
   ]
  },
  {
   "cell_type": "markdown",
   "metadata": {},
   "source": [
    "# Solving problems symbolically and numerically\n",
    "## Assignment 6"
   ]
  },
  {
   "cell_type": "markdown",
   "metadata": {},
   "source": [
    "### Name:\n",
    "### Student ID:"
   ]
  },
  {
   "cell_type": "markdown",
   "metadata": {},
   "source": [
    "## Question 1\n"
   ]
  },
  {
   "cell_type": "markdown",
   "metadata": {},
   "source": [
    "## Numerical Integration of a Continuous Function "
   ]
  },
  {
   "cell_type": "markdown",
   "metadata": {},
   "source": [
    "#### a) Plot the following function between x=-100 and x=100,\n",
    "\n",
    "   $$f(x)=A \\; \\mathrm{exp}(-(x/\\lambda)^2) \\qquad \\qquad (1)$$\n",
    "   \n",
    "where\n",
    "\n",
    "   $$A=8, \\lambda=12$$\n",
    "\n",
    "Use SymPy to both define the function and plot the function. \n",
    "\n",
    "Evaluate the integral $$\\int_{-\\infty}^{\\infty} f(x) dx $$ **exactly** using `sympy`.\n"
   ]
  },
  {
   "cell_type": "markdown",
   "metadata": {},
   "source": [
    "#### Answer [4 points]"
   ]
  },
  {
   "cell_type": "code",
   "execution_count": null,
   "metadata": {},
   "outputs": [],
   "source": []
  },
  {
   "cell_type": "markdown",
   "metadata": {},
   "source": [
    "#### b) Examine and compare the convergence properties of the rectangle, trapezoid and Simpson's rule applied to the following integral,\n",
    "\n",
    "$$\\int_a^b f(x)\\,dx$$\n",
    "\n",
    "where $a = 0$ and $b = 40$.\n",
    "\n",
    "This is best achieved by plotting on a single figure the relative error of each rule as a function of the number of elements n used to perform the numerical integration (say with n ranging rom 4 to 100). However, the absolute relative error (as defined in the laboratory on numerical integration and differentiation) associated with applying one rule can be many orders of magnitude different than the error associated with applying another rule. This makes visual comparison unclear.\n",
    "\n",
    "A simple way around this problem is to examine the error in the logarithmic space by defining the error as, \n",
    "\n",
    "$$\\mathrm{Error} = \\log_{10}\\left|\\frac{\\mathrm{Numerical Solution - Exact Solution}}{\\mathrm{Exact Solution}}\\right| \\qquad \\qquad (2)$$\n",
    "\n",
    "Include a legend in your plot.  \n"
   ]
  },
  {
   "cell_type": "markdown",
   "metadata": {},
   "source": [
    "#### Answer [12 points]"
   ]
  },
  {
   "cell_type": "code",
   "execution_count": null,
   "metadata": {},
   "outputs": [],
   "source": []
  },
  {
   "cell_type": "markdown",
   "metadata": {},
   "source": [
    "#### c) Discuss the results of your analysis done in b). Which numerical method is the most accurate?"
   ]
  },
  {
   "cell_type": "markdown",
   "metadata": {},
   "source": [
    "#### Answer [4 points]"
   ]
  },
  {
   "cell_type": "markdown",
   "metadata": {},
   "source": []
  },
  {
   "cell_type": "markdown",
   "metadata": {},
   "source": [
    "## Question 2\n",
    "\n",
    "Consider particles interacting with the pair potential \n",
    "\n",
    "$V(r) = 4 \\epsilon((\\sigma/r)^{12}-(\\sigma/r)^4)$\n",
    "\n",
    "where r is the distance between the particles. Take $\\epsilon$ and $\\sigma$ as unity. At time $t = 0$, there are three masses $m_1 = 1$, $m_2 = 20$, and $m_3 = 2$ with positions $r_1 = (-3,1)$, $r_2 = (0,0)$ and $r_3 = (3,-2)$, and velocities $v_1 = (2,0)$, $v_2 = (0,0)$ and $v_3 = (-2,2)$. Plot the trajectory of the particles on one graph up to $t_f = 10$. Note that in the problem, all motion is confined to the x-y plane."
   ]
  },
  {
   "cell_type": "markdown",
   "metadata": {},
   "source": [
    "*Hint: see **Lab 7** for something similar*"
   ]
  },
  {
   "cell_type": "markdown",
   "metadata": {},
   "source": [
    "#### Solution [20 points]"
   ]
  },
  {
   "cell_type": "code",
   "execution_count": null,
   "metadata": {},
   "outputs": [],
   "source": []
  }
 ],
 "metadata": {
  "anaconda-cloud": {},
  "kernelspec": {
   "display_name": "Python 3",
   "language": "python",
   "name": "python3"
  },
  "language_info": {
   "codemirror_mode": {
    "name": "ipython",
    "version": 3
   },
   "file_extension": ".py",
   "mimetype": "text/x-python",
   "name": "python",
   "nbconvert_exporter": "python",
   "pygments_lexer": "ipython3",
   "version": "3.6.4"
  }
 },
 "nbformat": 4,
 "nbformat_minor": 2
}
